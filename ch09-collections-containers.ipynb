{
 "cells": [
  {
   "cell_type": "markdown",
   "metadata": {},
   "source": [
    "## Collections & containers (Chap 9)"
   ]
  },
  {
   "cell_type": "markdown",
   "metadata": {},
   "source": [
    "#### Arrays vs hashes\n",
    "- arrays = _ordered_.\n",
    "- hashes, aka dictionaries = key:value pairs"
   ]
  },
  {
   "cell_type": "markdown",
   "metadata": {},
   "source": [
    "#### Arrays & collection handling"
   ]
  },
  {
   "cell_type": "code",
   "execution_count": 3,
   "metadata": {},
   "outputs": [
    {
     "name": "stdout",
     "output_type": "stream",
     "text": [
      "[nil, nil, nil]\n",
      "[\"howdy\", \"howdy\", \"howdy\"]\n",
      "[0, 10, 20]\n"
     ]
    }
   ],
   "source": [
    "# creating (9.2.1)\n",
    "puts Array.new(3)\n",
    "puts Array.new(3, \"howdy\")\n",
    "puts Array.new(3) {|i| i*10}"
   ]
  },
  {
   "cell_type": "code",
   "execution_count": 4,
   "metadata": {},
   "outputs": [
    {
     "name": "stdout",
     "output_type": "stream",
     "text": [
      "[1, 2, \"three\", 4, []]\n"
     ]
    }
   ],
   "source": [
    "puts [1,2,\"three\",4,[]]"
   ]
  },
  {
   "cell_type": "code",
   "execution_count": 5,
   "metadata": {},
   "outputs": [
    {
     "name": "stdout",
     "output_type": "stream",
     "text": [
      "[\"this is a string.\"]\n",
      "[\"t\", \"h\", \"i\", \"s\", \" \", \"i\", \"s\", \" \", \"a\", \" \", \"s\", \"t\", \"r\", \"i\", \"n\", \"g\", \".\"]\n"
     ]
    }
   ],
   "source": [
    "str = \"this is a string.\"\n",
    "puts Array(str)\n",
    "def str.to_a\n",
    "    split(//)\n",
    "end\n",
    "puts Array(str)"
   ]
  },
  {
   "cell_type": "code",
   "execution_count": 7,
   "metadata": {},
   "outputs": [
    {
     "name": "stdout",
     "output_type": "stream",
     "text": [
      "[\"larry\", \"moe\", \"curly\", \"shemp\"]\n",
      "[:larry, :moe, :curly, :shemp]\n"
     ]
    }
   ],
   "source": [
    "puts %w{larry moe curly shemp}\n",
    "puts %i(larry moe curly shemp)"
   ]
  },
  {
   "cell_type": "markdown",
   "metadata": {},
   "source": [
    "insert, retrieve, remove (9.2.2)\n",
    "![table](px/Selection_162.png)"
   ]
  },
  {
   "cell_type": "code",
   "execution_count": 24,
   "metadata": {},
   "outputs": [
    {
     "name": "stdout",
     "output_type": "stream",
     "text": [
      "curly\n",
      "[\"curly\", \"shemp\"]\n",
      "[\"larry\", \"moe\", :able, :baker]\n",
      "[\"moe\", :able, :baker]\n",
      "[\"larry\", \"shemp\"]\n",
      "4\n"
     ]
    }
   ],
   "source": [
    "a = %w[larry moe curly shemp]\n",
    "puts a[2]\n",
    "puts a[2,2]\n",
    "a[2,2] = :able, :baker; puts a\n",
    "puts a[1..3]\n",
    "\n",
    "# values_at\n",
    "a = %w[larry moe curly shemp]; puts a.values_at(0,3)\n",
    "\n",
    "# dig\n",
    "a = [[1], 2, 3, [4,5]]\n",
    "puts a.dig(3,0)"
   ]
  },
  {
   "cell_type": "code",
   "execution_count": 25,
   "metadata": {},
   "outputs": [
    {
     "name": "stdout",
     "output_type": "stream",
     "text": [
      "[1, 2, 3, 4, 5]\n",
      "[0, -1, -2, 1, 2, 3, 4]\n",
      "[1, 2, 3, 4, 0]\n",
      "1\n",
      "4\n"
     ]
    }
   ],
   "source": [
    "a = [1,2,3,4]; puts a<<5 # add to start of array\n",
    "a = [1,2,3,4]; puts a.unshift(0,-1,-2) \n",
    "a = [1,2,3,4]; puts a.push(0) # add to end of array\n",
    "\n",
    "a = [1,2,3,4]; puts a.shift # remove one item from start of array\n",
    "a = [1,2,3,4]; puts a.pop # remove one item from end of array"
   ]
  },
  {
   "cell_type": "code",
   "execution_count": 27,
   "metadata": {},
   "outputs": [
    {
     "name": "stdout",
     "output_type": "stream",
     "text": [
      "[1, 2, 3, 4, 5, 6]\n",
      "[4, 5, 6]\n"
     ]
    }
   ],
   "source": [
    "# combining (9.2.3)\n",
    "puts [1,2,3].concat([4,5,6])\n",
    "a = [1,2,3]; puts a.replace([4,5,6])"
   ]
  },
  {
   "cell_type": "code",
   "execution_count": 33,
   "metadata": {},
   "outputs": [
    {
     "name": "stdout",
     "output_type": "stream",
     "text": [
      "[1, 2, 3, 4, 5, 6, 7, 8]\n",
      "[1, 2, 3, 4, [5], [6, [7, 8]]]\n",
      "[[3, 4, [5], [6, [7, 8]]], 2, 1]\n",
      "abcdef123\n",
      "one-two-three\n",
      "[\"06511\", \"08902\", \"08902\", \"10027\", \"08902\", \"06511\"]\n"
     ]
    }
   ],
   "source": [
    "# transforms (9.2.4)\n",
    "array = [1,2,[3,4,[5],[6,[7,8]]]]\n",
    "puts array.flatten\n",
    "puts array.flatten(1) # flatten by one level\n",
    "puts array.reverse\n",
    "puts [\"abc\", \"def\", 123].join # string join\n",
    "\n",
    "a = %w(one two three); puts a * \"-\"\n",
    "\n",
    "# remove multi occurences\n",
    "zip_codes = [\"06511\", \"08902\", \"08902\", nil, \"10027\", \"08902\", nil, \"06511\"]\n",
    "puts zip_codes.compact"
   ]
  },
  {
   "cell_type": "code",
   "execution_count": 40,
   "metadata": {},
   "outputs": [
    {
     "name": "stdout",
     "output_type": "stream",
     "text": [
      "5\n",
      "true\n",
      "5\n",
      "[:a, :b]\n",
      "[[:d, :e], :f]\n",
      "[:b, :c]\n"
     ]
    }
   ],
   "source": [
    "# queries (9.2.5)\n",
    "a = [:a, :b, :c, [:d,:e], :f]\n",
    "puts a.size # aka length, count\n",
    "puts a.include?(:c)\n",
    "puts a.count\n",
    "puts a.first(2)\n",
    "puts a.last(2)\n",
    "puts a.sample(2)"
   ]
  },
  {
   "cell_type": "markdown",
   "metadata": {},
   "source": [
    "#### Hashes"
   ]
  },
  {
   "cell_type": "code",
   "execution_count": 45,
   "metadata": {},
   "outputs": [
    {
     "name": "stdout",
     "output_type": "stream",
     "text": [
      "\n",
      "{}\n",
      "{:a=>100, :b=>200, :c=>300}\n"
     ]
    }
   ],
   "source": [
    "# creating (9.3.1)\n",
    "puts {}\n",
    "puts Hash.new\n",
    "puts Hash[:a, 100, :b, 200, :c, 300]"
   ]
  },
  {
   "cell_type": "code",
   "execution_count": 51,
   "metadata": {},
   "outputs": [
    {
     "name": "stdout",
     "output_type": "stream",
     "text": [
      "{:a=>100, :b=>200, :c=>400}\n",
      "{:a=>100, :b=>300, :c=>400}\n",
      "400\n",
      "can't do that.\n",
      "[100, 300]\n"
     ]
    }
   ],
   "source": [
    "# insert, retrieve, remove (9.3.2)\n",
    "h = Hash[:a, 100, :b, 200, :c, 300]\n",
    "h[:c] = 400; puts h\n",
    "h.store(:b,300); puts h\n",
    "puts h[:c]\n",
    "\n",
    "begin\n",
    "    h.fetch(:bogus_key)\n",
    "rescue\n",
    "    puts \"can't do that.\"\n",
    "end\n",
    "h.fetch(:bogus_key, :bogus_value)\n",
    "\n",
    "puts h.values_at(:a,:b)"
   ]
  },
  {
   "cell_type": "code",
   "execution_count": 52,
   "metadata": {},
   "outputs": [
    {
     "name": "stdout",
     "output_type": "stream",
     "text": [
      "abc@ghi.com\n"
     ]
    }
   ],
   "source": [
    "# nested values\n",
    "h = {a: {phone: \"1234\", email: \"abc@ghi.com\"},\n",
    "     b: {phone: \"5678\", email: \"def@zyz.com\"}}\n",
    "puts h.dig(:a, :email)"
   ]
  },
  {
   "cell_type": "code",
   "execution_count": 53,
   "metadata": {},
   "outputs": [
    {
     "name": "stdout",
     "output_type": "stream",
     "text": [
      "1234\n"
     ]
    }
   ],
   "source": [
    "# default values (9.3.3)\n",
    "h = Hash.new(1234); puts h[:bogus_key]"
   ]
  },
  {
   "cell_type": "code",
   "execution_count": 57,
   "metadata": {},
   "outputs": [
    {
     "name": "stdout",
     "output_type": "stream",
     "text": [
      "III\n",
      "{:first=>\"Joe\", :last=>\"Leo\", :suffix=>\"Jr.\"}\n"
     ]
    }
   ],
   "source": [
    "# combining (9.3.4)\n",
    "h1 = { first: \"Joe\", last: \"Leo\", suffix: \"III\" }\n",
    "h2 = { suffix: \"Jr.\" }\n",
    "h3 = h1.merge(h2) # non-destructive\n",
    "puts h1[:suffix]\n",
    "puts h3"
   ]
  },
  {
   "cell_type": "code",
   "execution_count": 71,
   "metadata": {},
   "outputs": [
    {
     "name": "stdout",
     "output_type": "stream",
     "text": [
      "{3=>4, 5=>6}\n",
      "{1=>2}\n",
      "{:street=>\"127th Street\", :borough=>\"Manhattan\"}\n",
      "{\"127th Street\"=>:street, nil=>:apt, \"Manhattan\"=>:borough}\n",
      "{}\n",
      "{:street=>\"127th Street\", :apt=>nil, :borough=>\"Queens\"}\n"
     ]
    }
   ],
   "source": [
    "# transforms (9.3.5)\n",
    "h = Hash[1,2,3,4,5,6]; \n",
    "puts h.select {|k,v| k > 1 }\n",
    "puts h.reject {|k,v| k > 1 }\n",
    "\n",
    "h= { street: \"127th Street\", apt: nil, borough: \"Manhattan\" }\n",
    "\n",
    "puts h.compact # remove nils\n",
    "puts h.invert # keys<=>values inversions\n",
    "puts h.clear\n",
    "puts h.replace({ street: \"127th Street\", apt: nil, borough: \"Queens\" })"
   ]
  },
  {
   "cell_type": "markdown",
   "metadata": {},
   "source": [
    "![hashops](px/Selection_163.png)"
   ]
  },
  {
   "cell_type": "code",
   "execution_count": 73,
   "metadata": {},
   "outputs": [],
   "source": [
    "# final method args (9.3.7) - TODO"
   ]
  },
  {
   "cell_type": "code",
   "execution_count": 74,
   "metadata": {},
   "outputs": [],
   "source": [
    "# named keyword args (9.3.8) - TODO"
   ]
  },
  {
   "cell_type": "markdown",
   "metadata": {},
   "source": [
    "#### Ranges\n",
    "- start point, end point\n",
    "- key concepts: inclusion, enumeration"
   ]
  },
  {
   "cell_type": "code",
   "execution_count": 77,
   "metadata": {},
   "outputs": [
    {
     "name": "stdout",
     "output_type": "stream",
     "text": [
      "1..100\n",
      "1..100\n",
      "1...100\n"
     ]
    }
   ],
   "source": [
    "# create (9.4.1)\n",
    "puts Range.new(1,100)\n",
    "puts 1..100 # 2 dots = inclusive\n",
    "puts 1...100 # 3 dots = exclusive"
   ]
  },
  {
   "cell_type": "code",
   "execution_count": 81,
   "metadata": {},
   "outputs": [
    {
     "name": "stdout",
     "output_type": "stream",
     "text": [
      "1\n",
      "10\n",
      "false\n",
      "false\n",
      "true\n",
      "false\n"
     ]
    }
   ],
   "source": [
    "# inclusion logic (9.4.2)\n",
    "r = 1..10; r2 = \"a\"..\"z\"\n",
    "puts r.begin, r.end\n",
    "puts r.exclude_end?\n",
    "puts r.cover?(20)\n",
    "\n",
    "puts r2.include?(\"a\")\n",
    "puts r2.include?(\"abc\")"
   ]
  },
  {
   "cell_type": "markdown",
   "metadata": {},
   "source": [
    "#### Sets\n",
    "- Sets aren't a Ruby core class."
   ]
  },
  {
   "cell_type": "code",
   "execution_count": 84,
   "metadata": {},
   "outputs": [
    {
     "name": "stdout",
     "output_type": "stream",
     "text": [
      "#<Set: {1, 2, 3, 4, 5, 6}>\n",
      "#<Set: {10, 20, 30, 40, 50, 60}>\n"
     ]
    }
   ],
   "source": [
    "# creation (9.5.1)\n",
    "a = [1,2,3,4,4,5,5,5,6]\n",
    "puts Set.new(a)\n",
    "puts Set.new(a) {|i| i*10}"
   ]
  },
  {
   "cell_type": "code",
   "execution_count": 88,
   "metadata": {},
   "outputs": [
    {
     "name": "stdout",
     "output_type": "stream",
     "text": [
      "#<Set: {1, 2, 3, 4, 5, 6, 7}>\n",
      "#<Set: {1, 2, 3, 4, 5, 6, 8}>\n",
      "#<Set: {1, 3, 4, 5, 6}>\n"
     ]
    }
   ],
   "source": [
    "# add/remove (9.5.2)\n",
    "a = [1,2,3,4,4,5,5,5,6]\n",
    "puts Set.new(a) << 7\n",
    "puts Set.new(a).add 8\n",
    "puts Set.new(a).delete(2)"
   ]
  },
  {
   "cell_type": "code",
   "execution_count": 94,
   "metadata": {},
   "outputs": [
    {
     "name": "stdout",
     "output_type": "stream",
     "text": [
      "#<Set: {1, 2, 3, 4, 5, 6, 7, 8}>\n",
      "#<Set: {1, 2, 3}>\n",
      "#<Set: {4, 5, 6}>\n"
     ]
    }
   ],
   "source": [
    "# intersection, union (addition), difference\n",
    "a = Set.new([1,2,3,4,4,5,5,5,6])\n",
    "b = Set.new([      4,  5,    6,7,8])\n",
    "\n",
    "puts a+b # union\n",
    "puts a-b # difference\n",
    "puts a&b # intersection"
   ]
  },
  {
   "cell_type": "code",
   "execution_count": 98,
   "metadata": {},
   "outputs": [
    {
     "name": "stdout",
     "output_type": "stream",
     "text": [
      "3260\n",
      "#<Set: {1, 2, 3, 4, 5, 6, 20}>\n",
      "3260\n",
      "#<Set: {\"a\", \"b\", \"c\", \"d\"}>\n"
     ]
    }
   ],
   "source": [
    "# merge into another set\n",
    "a = Set.new([1,2,3,4,4,5,5,5,6]); puts a.object_id\n",
    "puts a.merge([20]);               puts a.object_id\n",
    "\n",
    "# merging just the keys of a hash\n",
    "a = Set.new([\"a\", \"b\"])\n",
    "b =         {\"c\" => 100, \"d\" => 200 }\n",
    "puts a.merge(b.keys)"
   ]
  },
  {
   "cell_type": "code",
   "execution_count": 101,
   "metadata": {},
   "outputs": [
    {
     "name": "stdout",
     "output_type": "stream",
     "text": [
      "true\n",
      "false\n",
      "true\n",
      "false\n"
     ]
    }
   ],
   "source": [
    "# subsets, supersets (9.5.3)\n",
    "a = Set.new([1,2,3,4,5])\n",
    "b = Set.new([  2,3    ])\n",
    "puts b.subset?(a)\n",
    "puts a.subset?(b)\n",
    "puts a.superset?(b)\n",
    "puts b.superset?(a)"
   ]
  }
 ],
 "metadata": {
  "kernelspec": {
   "display_name": "Ruby 2.7.1",
   "language": "ruby",
   "name": "ruby"
  },
  "language_info": {
   "file_extension": ".rb",
   "mimetype": "application/x-ruby",
   "name": "ruby",
   "version": "2.7.1"
  }
 },
 "nbformat": 4,
 "nbformat_minor": 4
}
