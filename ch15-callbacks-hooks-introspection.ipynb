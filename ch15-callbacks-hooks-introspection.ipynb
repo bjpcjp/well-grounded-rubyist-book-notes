{
 "cells": [
  {
   "cell_type": "markdown",
   "metadata": {},
   "source": [
    "## Callbacks, hooks & introspection (Chap 15)"
   ]
  },
  {
   "cell_type": "markdown",
   "metadata": {},
   "source": [
    "#### Callbacks & hooks\n",
    "- The use of callbacks and hooks is a common meta-programming technique. They are called when an event occur during Ruby program execution."
   ]
  },
  {
   "cell_type": "code",
   "execution_count": 4,
   "metadata": {},
   "outputs": [
    {
     "name": "stdout",
     "output_type": "stream",
     "text": [
      "chicken\n"
     ]
    },
    {
     "data": {
      "text/plain": [
       "[#<Recipe:0x000056025fff8770 @main_ingredient=\"chicken\">]"
      ]
     },
     "execution_count": 4,
     "metadata": {},
     "output_type": "execute_result"
    }
   ],
   "source": [
    "# intercepting unknown messages with method_missing\n",
    "# (arguably the most commonly used runtime hook in Ruby)\n",
    "# delegation\n",
    "\n",
    "class Cookbook\n",
    "    attr_accessor :title, :author\n",
    "    def initialize\n",
    "        @recipes=[]\n",
    "    end\n",
    "    def method_missing(m,*args,&block)\n",
    "        @recipes.public_send(m,*args,&block)\n",
    "    end\n",
    "end\n",
    "\n",
    "class Recipe\n",
    "    attr_accessor :main_ingredient\n",
    "    def initialize(main_ingredient)\n",
    "        @main_ingredient=main_ingredient\n",
    "    end\n",
    "end\n",
    "\n",
    "cb = Cookbook.new\n",
    "recipe_for_cake = Recipe.new(\"flour\")\n",
    "recipe_for_chicken = Recipe.new(\"chicken\")\n",
    "\n",
    "<<README\n",
    "cb doesn’t have methods called << and select , so those messages are \n",
    "delegated to @recipes via method_missing.\n",
    "README\n",
    "\n",
    "cb << recipe_for_cake; cb << recipe_for_chicken\n",
    "\n",
    "chicken_dishes = cb.select {|recipe| recipe.main_ingredient == \"chicken\"}\n",
    "chicken_dishes.each {|dish| puts dish.main_ingredient}"
   ]
  },
  {
   "cell_type": "code",
   "execution_count": 5,
   "metadata": {},
   "outputs": [
    {
     "name": "stdout",
     "output_type": "stream",
     "text": [
      "38true"
     ]
    }
   ],
   "source": [
    "# often-cited problem: method_missing doesn't correspond to respond_to.\n",
    "class Person\n",
    "    attr_accessor :name, :age\n",
    "    def initialize(name,age)\n",
    "        @name,@age=name,age\n",
    "    end\n",
    "    \n",
    "    # in this example, intercept messages starting with \"set_\"\n",
    "    # and transform them into setter methods.\n",
    "    \n",
    "    def method_missing(m,*args,&block)\n",
    "        if /set_(.*)/.match(m)\n",
    "            self.public_send(\"#{$1}=\",*args)\n",
    "        else\n",
    "            super\n",
    "        end\n",
    "    end\n",
    "    \n",
    "    # get method_missing & respond_to? to line up with each other \n",
    "    # by defining respond_to_missing?    \n",
    "    def respond_to_missing?(m,include_private=false)\n",
    "        /set_/.match(m) || super \n",
    "    end\n",
    "    \n",
    "end\n",
    "\n",
    "p = Person.new(\"joe\",37)\n",
    "p.set_age(38); print p.age\n",
    "print p.respond_to?(:set_age)"
   ]
  },
  {
   "cell_type": "code",
   "execution_count": 6,
   "metadata": {},
   "outputs": [
    {
     "name": "stdout",
     "output_type": "stream",
     "text": [
      "just mixed into C.\n"
     ]
    },
    {
     "data": {
      "text/plain": [
       "C"
      ]
     },
     "execution_count": 6,
     "metadata": {},
     "output_type": "execute_result"
    }
   ],
   "source": [
    "# trapping include & prepend operations\n",
    "# with \"included\" and \"prepended\"\n",
    "\n",
    "module M\n",
    "    def self.included(c)\n",
    "        puts \"just mixed into #{c}.\"\n",
    "    end\n",
    "end\n",
    "class C\n",
    "    include M\n",
    "end"
   ]
  },
  {
   "cell_type": "code",
   "execution_count": 8,
   "metadata": {},
   "outputs": [
    {
     "name": "stdout",
     "output_type": "stream",
     "text": [
      "Now the class has a new class method.\n",
      "This module supplies this instance method.\n"
     ]
    }
   ],
   "source": [
    "# When should a module intercept its own inclusion? One common case revolves \n",
    "# the difference between instance and class methods. \n",
    "# When you mix a module into a class, you’re ensuring that all the instance\n",
    "# methods defined in the module become available to instances of the class. \n",
    "# But the class object isn’t affected, so what if you want to add class \n",
    "# methods to the class by mixing in the module along with adding the \n",
    "# instance methods?\n",
    "# Courtesy of included, you can trap the include operation and use it to\n",
    "# add class methods to the class that’s doing the including.\n",
    "\n",
    "module M\n",
    "    def self.included(cl)\n",
    "        def cl.a_class_method\n",
    "            puts \"Now the class has a new class method.\"\n",
    "        end\n",
    "    end\n",
    "    def an_inst_method\n",
    "        puts \"This module supplies this instance method.\"\n",
    "    end\n",
    "end\n",
    "\n",
    "class C\n",
    "    include M\n",
    "end\n",
    "\n",
    "# When class C includes module M , two things happen. \n",
    "# 1) an instance method called an_inst_method appears in the lookup path of \n",
    "# its instances (such as c ). \n",
    "# 2) thanks to M ’s included callback, a class method called a_class_method \n",
    "# is defined for C .\n",
    "C.a_class_method\n",
    "c = C.new\n",
    "c.an_inst_method"
   ]
  },
  {
   "cell_type": "code",
   "execution_count": 9,
   "metadata": {},
   "outputs": [
    {
     "name": "stdout",
     "output_type": "stream",
     "text": [
      "Module M is being used by #<Object:0x00005617257b4fc0>.\n",
      "This module supplies this instance method.\n"
     ]
    }
   ],
   "source": [
    "# intercepting extend\n",
    "# extending individual objects with modules is one of Ruby's most powerful \n",
    "# techniques for customizing objects. \n",
    "# It’s also the beneficiary of a runtime hook: using Module#extend,\n",
    "# you can set up a callback that will be triggered whenever an object \n",
    "# performs an extend operation involving the module.\n",
    "\n",
    "module M\n",
    "    def self.extended(obj)\n",
    "        puts \"Module #{self} is being used by #{obj}.\"\n",
    "    end\n",
    "    def an_inst_method\n",
    "        puts \"This module supplies this instance method.\"\n",
    "    end\n",
    "end\n",
    "my_object = Object.new\n",
    "my_object.extend(M)\n",
    "my_object.an_inst_method"
   ]
  },
  {
   "cell_type": "code",
   "execution_count": 10,
   "metadata": {},
   "outputs": [
    {
     "name": "stdout",
     "output_type": "stream",
     "text": [
      "Including M in object's singleton class:\n",
      "M included by #<Class:#<Object:0x00005617255d7220>>.\n",
      "Extending object with M:\n",
      "M extended by #<Object:0x00005617255c59a8>.\n"
     ]
    },
    {
     "data": {
      "text/plain": [
       "#<Object:0x00005617255c59a8>"
      ]
     },
     "execution_count": 10,
     "metadata": {},
     "output_type": "execute_result"
    }
   ],
   "source": [
    "# singleton-class behavior\n",
    "# extending an object with a module is the same as including that module in\n",
    "# the object’s singleton class.\n",
    "# The module is added to the object’s method-lookup path, entering the \n",
    "# chain right after the object’s singleton class.\n",
    "# But the two operations trigger different callbacks: extended and included .\n",
    "\n",
    "module M\n",
    "    def self.included(c)\n",
    "        puts \"#{self} included by #{c}.\"\n",
    "    end\n",
    "    def self.extended(obj)\n",
    "        puts \"#{self} extended by #{obj}.\"\n",
    "    end\n",
    "end\n",
    "\n",
    "obj = Object.new\n",
    "puts \"Including M in object's singleton class:\"\n",
    "\n",
    "class << obj\n",
    "    include M\n",
    "end\n",
    "\n",
    "obj = Object.new\n",
    "puts \"Extending object with M:\"\n",
    "obj.extend(M)"
   ]
  },
  {
   "cell_type": "code",
   "execution_count": 11,
   "metadata": {},
   "outputs": [
    {
     "name": "stdout",
     "output_type": "stream",
     "text": [
      "C just got subclassed by D.\n"
     ]
    }
   ],
   "source": [
    "# intercepting inheritance with Class#inherited\n",
    "# You can hook into the subclassing of a class by defining a special class \n",
    "# method called inherited for that class. \n",
    "# If inherited is defined for a given class, then when you subclass the class, \n",
    "# inherited is called with the name of the new class as its single argument.\n",
    "\n",
    "class C\n",
    "    def self.inherited(subclass)\n",
    "        puts \"#{self} just got subclassed by #{subclass}.\"\n",
    "    end\n",
    "end\n",
    "class D < C\n",
    "end"
   ]
  },
  {
   "cell_type": "code",
   "execution_count": 1,
   "metadata": {},
   "outputs": [
    {
     "name": "stdout",
     "output_type": "stream",
     "text": [
      "A is undefined—setting it to 1.\n",
      "1\n",
      "1\n"
     ]
    }
   ],
   "source": [
    "# Module#const_missing\n",
    "# used whenever an unknown constant is referred to inside a module or class.\n",
    "\n",
    "class C\n",
    "    def self.const_missing(const)\n",
    "        puts \"#{const} is undefined—setting it to 1.\"\n",
    "        const_set(const,1)\n",
    "    end\n",
    "end\n",
    "puts C::A\n",
    "puts C::A # 2nd call: A already defined, so const_missing isn't needed."
   ]
  },
  {
   "cell_type": "code",
   "execution_count": 2,
   "metadata": {},
   "outputs": [
    {
     "name": "stdout",
     "output_type": "stream",
     "text": [
      "Method a_new_method was just defined.\n"
     ]
    },
    {
     "data": {
      "text/plain": [
       ":a_new_method"
      ]
     },
     "execution_count": 2,
     "metadata": {},
     "output_type": "execute_result"
    }
   ],
   "source": [
    "# method_added \n",
    "# if you define \"method_added\" as a class method, it's called when any\n",
    "# instance method is defined or redefined.\n",
    "class C\n",
    "    def self.method_added(m)\n",
    "        puts \"Method #{m} was just defined.\"\n",
    "    end\n",
    "    def a_new_method\n",
    "    end\n",
    "end"
   ]
  },
  {
   "cell_type": "code",
   "execution_count": 3,
   "metadata": {},
   "outputs": [
    {
     "name": "stdout",
     "output_type": "stream",
     "text": [
      "Method singleton_method_added was just defined.\n"
     ]
    },
    {
     "data": {
      "text/plain": [
       ":singleton_method_added"
      ]
     },
     "execution_count": 3,
     "metadata": {},
     "output_type": "execute_result"
    }
   ],
   "source": [
    "# singleton_method_added\n",
    "# same as \"method_added\", but for singletons.\n",
    "class C\n",
    "    def self.singleton_method_added(m)\n",
    "        puts \"Method #{m} was just defined.\"\n",
    "    end\n",
    "end"
   ]
  },
  {
   "cell_type": "code",
   "execution_count": 4,
   "metadata": {},
   "outputs": [
    {
     "name": "stdout",
     "output_type": "stream",
     "text": [
      "Method singleton_method_added was just defined.\n",
      "Method new_class_method was just defined.\n"
     ]
    },
    {
     "data": {
      "text/plain": [
       ":new_class_method"
      ]
     },
     "execution_count": 4,
     "metadata": {},
     "output_type": "execute_result"
    }
   ],
   "source": [
    "# singleton_method_added - also triggered by defining another singleton\n",
    "# (class) method.\n",
    "class C\n",
    "    def self.singleton_method_added(m)\n",
    "        puts \"Method #{m} was just defined.\"\n",
    "    end\n",
    "    def self.new_class_method\n",
    "    end\n",
    "end"
   ]
  },
  {
   "cell_type": "code",
   "execution_count": 5,
   "metadata": {},
   "outputs": [
    {
     "name": "stdout",
     "output_type": "stream",
     "text": [
      "Singleton method singleton_method_added was just defined.\n",
      "Singleton method a_new_singleton_method was just defined.\n"
     ]
    },
    {
     "data": {
      "text/plain": [
       ":a_new_singleton_method"
      ]
     },
     "execution_count": 5,
     "metadata": {},
     "output_type": "execute_result"
    }
   ],
   "source": [
    "# usually you should use singleton_method_added with objects other than\n",
    "# class objects.\n",
    "obj = Object.new\n",
    "def obj.singleton_method_added(m)\n",
    "    puts \"Singleton method #{m} was just defined.\"\n",
    "end\n",
    "def obj.a_new_singleton_method\n",
    "end"
   ]
  },
  {
   "cell_type": "code",
   "execution_count": 6,
   "metadata": {},
   "outputs": [
    {
     "name": "stdout",
     "output_type": "stream",
     "text": [
      "Singleton method singleton_method_added was just defined.\n",
      "Singleton method a_new_singleton_method was just defined.\n"
     ]
    },
    {
     "data": {
      "text/plain": [
       ":a_new_singleton_method"
      ]
     },
     "execution_count": 6,
     "metadata": {},
     "output_type": "execute_result"
    }
   ],
   "source": [
    "# combining class- & object-based techniques\n",
    "# to get object-specific effects ty defining relevant methods\n",
    "# in object's singleton class:\n",
    "\n",
    "obj = Object.new\n",
    "class << obj\n",
    "    def singleton_method_added(m)\n",
    "        puts \"Singleton method #{m} was just defined.\"\n",
    "    end\n",
    "    def a_new_singleton_method\n",
    "    end\n",
    "end"
   ]
  },
  {
   "cell_type": "code",
   "execution_count": 7,
   "metadata": {},
   "outputs": [
    {
     "name": "stdout",
     "output_type": "stream",
     "text": [
      "Method singleton_method_added was just defined.\n",
      "Singleton method a_singleton_method was just defined.\n"
     ]
    },
    {
     "data": {
      "text/plain": [
       ":a_singleton_method"
      ]
     },
     "execution_count": 7,
     "metadata": {},
     "output_type": "execute_result"
    }
   ],
   "source": [
    "# defining singleton_method_added as a regular instance method of a class\n",
    "# - every instance of that class will trigger a callback with the creation\n",
    "# of a singleton method:\n",
    "\n",
    "class C\n",
    "    def singleton_method_added(m)\n",
    "        puts \"Singleton method #{m} was just defined.\"\n",
    "    end\n",
    "end\n",
    "c = C.new\n",
    "def c.a_singleton_method\n",
    "C\n",
    "end"
   ]
  },
  {
   "cell_type": "markdown",
   "metadata": {},
   "source": [
    "#### interpreting object capability queries"
   ]
  },
  {
   "cell_type": "code",
   "execution_count": 8,
   "metadata": {},
   "outputs": [
    {
     "data": {
      "text/plain": [
       "[:casecmp, :casecmp?, :downcase, :downcase!, :swapcase, :swapcase!, :upcase, :upcase!]"
      ]
     },
     "execution_count": 8,
     "metadata": {},
     "output_type": "execute_result"
    }
   ],
   "source": [
    "# non-private (public or protected) methods\n",
    "s = \"test string\"\n",
    "\n",
    "# grep filters any symbol that doesn't contain \"case\".\n",
    "s.methods.grep(/case/).sort"
   ]
  },
  {
   "cell_type": "code",
   "execution_count": 10,
   "metadata": {},
   "outputs": [
    {
     "data": {
      "text/plain": [
       "[:capitalize!, :chomp!, :chop!, :delete!, :delete_prefix!, :delete_suffix!, :downcase!, :encode!, :gsub!, :lstrip!, :next!, :reverse!, :rstrip!, :scrub!, :slice!, :squeeze!, :strip!, :sub!, :succ!, :swapcase!, :tr!, :tr_s!, :unicode_normalize!, :upcase!]"
      ]
     },
     "execution_count": 10,
     "metadata": {},
     "output_type": "execute_result"
    }
   ],
   "source": [
    "# looking for bang (!) methods\n",
    "s.methods.grep(/.!/).sort"
   ]
  },
  {
   "cell_type": "code",
   "execution_count": 13,
   "metadata": {},
   "outputs": [
    {
     "name": "stdout",
     "output_type": "stream",
     "text": [
      "here's some bang methods without non-bang matches\n",
      "[:surprise!]\n"
     ]
    }
   ],
   "source": [
    "# look for string bang methods that don't have corresponding non-bang methods\n",
    "s = \"test string\"\n",
    "def s.surprise!; end\n",
    "m = s.methods\n",
    "bangs = s.methods.grep(/.!/)\n",
    "unmatched = bangs.reject do |b|\n",
    "    m.include?(b[0..-2].to_sym)\n",
    "end\n",
    "if unmatched.empty?\n",
    "    puts \"all bang methods have non-bang matches\"\n",
    "else\n",
    "    puts \"here's some bang methods without non-bang matches\"\n",
    "    puts unmatched\n",
    "end"
   ]
  },
  {
   "cell_type": "code",
   "execution_count": 15,
   "metadata": {},
   "outputs": [
    {
     "name": "stdout",
     "output_type": "stream",
     "text": [
      "80\n",
      "0\n"
     ]
    }
   ],
   "source": [
    "# private & protected methods\n",
    "# new objects have several private methods, no protected methods.\n",
    "o = Object.new\n",
    "puts o.private_methods.size\n",
    "puts o.protected_methods.size"
   ]
  },
  {
   "cell_type": "code",
   "execution_count": 17,
   "metadata": {},
   "outputs": [
    {
     "name": "stdout",
     "output_type": "stream",
     "text": [
      "[:initialize, :method_missing, :singleton_method_added, :singleton_method_removed, :singleton_method_undefined]\n",
      "[:sprintf, :format, :Integer, :Float, :String, :Array, :Hash, :local_variables, :rand, :srand, :readlines, :p, :trap, :warn, :system, :raise, :fail, :global_variables, :__method__, :__callee__, :__dir__, :require, :require_relative, :autoload, :autoload?, :binding, :eval, :iterator?, :block_given?, :catch, :throw, :loop, :exit!, :abort, :exec, :JSON, :spawn, :URI, :trace_var, :untrace_var, :at_exit, :gem, :`, :select, :j, :Rational, :Complex, :respond_to_missing?, :caller_locations, :caller, :test, :Pathname, :gets, :proc, :lambda, :fork, :initialize_copy, :initialize_clone, :initialize_dup, :exit, :set_trace_func, :jj, :sleep, :gem_original_require, :pp, :load, :syscall, :open, :printf, :print, :putc, :puts, :readline]\n"
     ]
    }
   ],
   "source": [
    "# those private methods are mostly defined in Kernel (module) and\n",
    "# BasicObject (class).\n",
    "puts BasicObject.private_instance_methods(false)\n",
    "puts      Kernel.private_instance_methods(false)"
   ]
  },
  {
   "cell_type": "code",
   "execution_count": 19,
   "metadata": {},
   "outputs": [
    {
     "data": {
      "text/plain": [
       "[:instance_methods, :methods, :private_instance_methods, :private_methods, :protected_instance_methods, :protected_methods, :public_instance_methods, :public_methods, :singleton_methods]"
      ]
     },
     "execution_count": 19,
     "metadata": {},
     "output_type": "execute_result"
    }
   ],
   "source": [
    "# class & module instance methods\n",
    "String.methods.grep(/methods/).sort"
   ]
  },
  {
   "cell_type": "code",
   "execution_count": 21,
   "metadata": {},
   "outputs": [
    {
     "name": "stdout",
     "output_type": "stream",
     "text": [
      "[:%, :==, :===, :begin, :bsearch, :count, :cover?, :each, :end, :entries, :eql?, :exclude_end?, :first, :hash, :include?, :inspect, :last, :max, :member?, :min, :minmax, :pretty_print, :size, :step, :to_a, :to_s]\n",
      "\n",
      "[:to_a, :entries, :count, :include?, :max, :min, :first, :minmax, :member?]\n"
     ]
    }
   ],
   "source": [
    "# when calling these methods with an argument:\n",
    "# False = returns methods defined in the class/module being queried\n",
    "# Boolean truth = returns (above) plus ancestor classes/modules\n",
    "puts Range.instance_methods(false).sort\n",
    "puts\n",
    "puts Range.instance_methods(false) & Enumerable.instance_methods(false)"
   ]
  },
  {
   "cell_type": "code",
   "execution_count": 24,
   "metadata": {},
   "outputs": [
    {
     "name": "stdout",
     "output_type": "stream",
     "text": [
      "Singleton method x was just defined.\n",
      "Singleton method y was just defined.\n",
      "Singleton method z was just defined.\n",
      "[:!, :!=, :!~, :<=>, :==, :===, :=~, :__binding__, :__id__, :__send__, :a_new_method, :class, :clone, :define_singleton_method, :display, :dup, :enum_for, :eql?, :equal?, :extend, :freeze, :frozen?, :hash, :inspect, :instance_eval, :instance_exec, :instance_of?, :instance_variable_defined?, :instance_variable_get, :instance_variable_set, :instance_variables, :is_a?, :itself, :kind_of?, :method, :methods, :nil?, :object_id, :pretty_inspect, :pretty_print, :pretty_print_cycle, :pretty_print_inspect, :pretty_print_instance_variables, :private_methods, :protected_methods, :pry, :public_method, :public_methods, :public_send, :remove_instance_variable, :respond_to?, :send, :singleton_class, :singleton_method, :singleton_method_added, :singleton_methods, :taint, :tainted?, :tap, :then, :to_enum, :to_json, :to_s, :trust, :untaint, :untrust, :untrusted?, :x, :y, :yield_self]\n",
      "[:x, :y]\n"
     ]
    }
   ],
   "source": [
    "# object singleton methods\n",
    "# (recall: singleton methods are defined for sole use of a particular object)\n",
    "class C\n",
    "end\n",
    "c = C.new\n",
    "class << c\n",
    "    def x; end\n",
    "    def y; end\n",
    "    def z; end\n",
    "    protected :y\n",
    "    private :z\n",
    "end\n",
    "puts c.methods.sort\n",
    "puts c.singleton_methods.sort\n",
    "\n",
    "# z not returned, b/c singleton_methods doesn't return private methods."
   ]
  },
  {
   "cell_type": "code",
   "execution_count": 25,
   "metadata": {},
   "outputs": [
    {
     "name": "stdout",
     "output_type": "stream",
     "text": [
      "[:readlines, :new, :select, :write, :read, :sysopen, :for_fd, :popen, :foreach, :binread, :binwrite, :pipe, :copy_stream, :try_convert, :open]\n"
     ]
    }
   ],
   "source": [
    "# find class methods File inherits from ancestors (not defined by File)\n",
    "puts File.singleton_methods - File.singleton_methods(false)"
   ]
  },
  {
   "cell_type": "markdown",
   "metadata": {},
   "source": [
    "#### introspection: variables & constants"
   ]
  },
  {
   "cell_type": "code",
   "execution_count": 27,
   "metadata": {},
   "outputs": [
    {
     "name": "stdout",
     "output_type": "stream",
     "text": [
      "[:_i24, :_24, :x, :_i23, :_23, :_i22, :_22, :_i21, :_21, :_i20, :_20, :overrides, :enum_classes, :_i19, :_19, :_i18, :_18, :_i17, :_17, :_i16, :_16, :_i15, :_15, :_i14, :_14, :_i13, :_13, :_i12, :_12, :o, :_i11, :_11, :_i10, :_10, :m, :bangs, :unmatched, :_i9, :_9, :_i8, :_8, :s, :_i7, :_7, :c, :_i6, :_6, :_i5, :_5, :obj, :_i4, :_4, :_i3, :_3, :_i2, :_2, :_i, :_ii, :_iii, :___, :_i1, :_1, :__, :_, :_dir_, :_file_, :_ex_, :pry_instance, :_out_, :_in_, :_oh, :_ih, :version, :str]\n",
      "[:$!, :$\", :$$, :$&, :$', :$*, :$+, :$,, :$-0, :$-F, :$-I, :$-K, :$-W, :$-a, :$-d, :$-i, :$-l, :$-p, :$-v, :$-w, :$., :$/, :$0, :$:, :$;, :$<, :$=, :$>, :$?, :$@, :$ARGV, :$CHILD_STATUS, :$CODERAY_DEBUG, :$DEBUG, :$DEFAULT_INPUT, :$DEFAULT_OUTPUT, :$ERROR_INFO, :$ERROR_POSITION, :$FIELD_SEPARATOR, :$FILENAME, :$FS, :$IGNORECASE, :$INPUT_LINE_NUMBER, :$INPUT_RECORD_SEPARATOR, :$KCODE, :$LAST_MATCH_INFO, :$LAST_PAREN_MATCH, :$LAST_READ_LINE, :$LOADED_FEATURES, :$LOAD_PATH, :$MATCH, :$NR, :$OFS, :$ORS, :$OUTPUT_FIELD_SEPARATOR, :$OUTPUT_RECORD_SEPARATOR, :$PID, :$POSTMATCH, :$PREMATCH, :$PROCESS_ID, :$PROGRAM_NAME, :$RS, :$SAFE, :$VERBOSE, :$\\, :$_, :$`, :$stderr, :$stdin, :$stdout, :$~]\n"
     ]
    }
   ],
   "source": [
    "# local & global variables\n",
    "x=1\n",
    "puts local_variables\n",
    "puts global_variables.sort"
   ]
  },
  {
   "cell_type": "code",
   "execution_count": 28,
   "metadata": {},
   "outputs": [
    {
     "name": "stdout",
     "output_type": "stream",
     "text": [
      "[:@name]\n",
      "[:@name, :@age]\n"
     ]
    }
   ],
   "source": [
    "# instance variables\n",
    "class Person\n",
    "    attr_accessor :name,:age\n",
    "    def initialize(name)\n",
    "        @name=name\n",
    "    end\n",
    "end\n",
    "joe = Person.new(\"joe\"); puts joe.instance_variables\n",
    "joe.age = 37;            puts joe.instance_variables"
   ]
  },
  {
   "cell_type": "markdown",
   "metadata": {},
   "source": [
    "#### tracing execution"
   ]
  },
  {
   "cell_type": "code",
   "execution_count": 47,
   "metadata": {},
   "outputs": [
    {
     "name": "stdout",
     "output_type": "stream",
     "text": [
      "stacktrace: \n",
      "[\"stacktrace.rb:5:in `y'\", \"stacktrace.rb:2:in `x'\", \"stacktrace.rb:11:in `<top (required)>'\", \"(pry):352:in `load'\", \"(pry):352:in `<main>'\", \"/usr/local/lib/ruby/gems/2.7.0/gems/pry-0.13.1/lib/pry/pry_instance.rb:290:in `eval'\", \"/usr/local/lib/ruby/gems/2.7.0/gems/pry-0.13.1/lib/pry/pry_instance.rb:290:in `evaluate_ruby'\", \"/usr/local/lib/ruby/gems/2.7.0/gems/pry-0.13.1/lib/pry/pry_instance.rb:659:in `handle_line'\", \"/usr/local/lib/ruby/gems/2.7.0/gems/pry-0.13.1/lib/pry/pry_instance.rb:261:in `block (2 levels) in eval'\", \"/usr/local/lib/ruby/gems/2.7.0/gems/pry-0.13.1/lib/pry/pry_instance.rb:260:in `catch'\", \"/usr/local/lib/ruby/gems/2.7.0/gems/pry-0.13.1/lib/pry/pry_instance.rb:260:in `block in eval'\", \"/usr/local/lib/ruby/gems/2.7.0/gems/pry-0.13.1/lib/pry/pry_instance.rb:259:in `catch'\", \"/usr/local/lib/ruby/gems/2.7.0/gems/pry-0.13.1/lib/pry/pry_instance.rb:259:in `eval'\", \"/home/bjpcjp/.gem/ruby/2.7.0/gems/iruby-0.4.0/lib/iruby/backend.rb:66:in `eval'\", \"/home/bjpcjp/.gem/ruby/2.7.0/gems/iruby-0.4.0/lib/iruby/backend.rb:12:in `eval'\", \"/home/bjpcjp/.gem/ruby/2.7.0/gems/iruby-0.4.0/lib/iruby/kernel.rb:90:in `execute_request'\", \"/home/bjpcjp/.gem/ruby/2.7.0/gems/iruby-0.4.0/lib/iruby/kernel.rb:49:in `dispatch'\", \"/home/bjpcjp/.gem/ruby/2.7.0/gems/iruby-0.4.0/lib/iruby/kernel.rb:38:in `run'\", \"/home/bjpcjp/.gem/ruby/2.7.0/gems/iruby-0.4.0/lib/iruby/command.rb:110:in `run_kernel'\", \"/home/bjpcjp/.gem/ruby/2.7.0/gems/iruby-0.4.0/lib/iruby/command.rb:40:in `run'\", \"/home/bjpcjp/.gem/ruby/2.7.0/gems/iruby-0.4.0/bin/iruby:5:in `<top (required)>'\", \"/usr/local/bin/iruby:23:in `load'\", \"/usr/local/bin/iruby:23:in `<main>'\"]\n"
     ]
    },
    {
     "data": {
      "text/plain": [
       "true"
      ]
     },
     "execution_count": 47,
     "metadata": {},
     "output_type": "execute_result"
    }
   ],
   "source": [
    "# caller - provides an array of strings. \n",
    "# Each string represents one step in the stack trace: \n",
    "# The strings contain information about the file or program where the method\n",
    "# call was made, the line where the method call occurred, and the method from\n",
    "#which the current method was called, if any.\n",
    "\n",
    "load \"stacktrace.rb\""
   ]
  },
  {
   "cell_type": "code",
   "execution_count": 48,
   "metadata": {},
   "outputs": [
    {
     "name": "stderr",
     "output_type": "stream",
     "text": [
      "(pry):361: warning: already initialized constant CallerTools::Call::CALL_RE\n",
      "(pry):310: warning: previous definition of CALL_RE was here\n"
     ]
    },
    {
     "data": {
      "text/plain": [
       ":find"
      ]
     },
     "execution_count": 48,
     "metadata": {},
     "output_type": "execute_result"
    }
   ],
   "source": [
    "# writing a stack trace parsing tool\n",
    "\n",
    "# Given a stack trace, generate an array of objects, each of which has \n",
    "# knowledge of a program or filename, a line number, and a method name\n",
    "# (or <main> ).\n",
    "\n",
    "module CallerTools\n",
    "    class Call\n",
    "        CALL_RE = /(.*):(\\d+):in `(.*)'/\n",
    "        attr_reader :program, :line, :meth\n",
    "        def initialize(string)\n",
    "            @program,@line,@meth = CALL_RE.match(string).captures\n",
    "        end\n",
    "        def to_s\n",
    "            \"%30s%5s%15s\" % [program, line, meth]\n",
    "        end\n",
    "    end\n",
    "    \n",
    "    class Stack\n",
    "        def initialize\n",
    "            stack = caller\n",
    "            stack.shift\n",
    "            @backtrace = stack.map do |call|\n",
    "                Call.new(call)\n",
    "            end\n",
    "        end\n",
    "        def report\n",
    "            @backtrace.map do |call|\n",
    "                call.to_s\n",
    "            end\n",
    "        end\n",
    "        def find(&block)\n",
    "            @backtrace.find(&block)\n",
    "        end\n",
    "    end\n",
    "end"
   ]
  },
  {
   "cell_type": "code",
   "execution_count": 4,
   "metadata": {},
   "outputs": [
    {
     "data": {
      "text/plain": [
       "\"\""
      ]
     },
     "execution_count": 4,
     "metadata": {},
     "output_type": "execute_result"
    }
   ],
   "source": [
    "%x(\"callertest.rb\")"
   ]
  },
  {
   "cell_type": "markdown",
   "metadata": {},
   "source": [
    "#### callbacks & method inspection in practice"
   ]
  },
  {
   "cell_type": "code",
   "execution_count": 50,
   "metadata": {},
   "outputs": [
    {
     "data": {
      "text/plain": [
       ":size"
      ]
     },
     "execution_count": 50,
     "metadata": {},
     "output_type": "execute_result"
    }
   ],
   "source": [
    "# minitest -- Ruby std testing framework\n",
    "\n",
    "module PlayingCards\n",
    "    RANKS = %w{ 2 3 4 5 6 7 8 9 10 J Q K A }\n",
    "    SUITS = %w{ clubs diamonds hearts spades }\n",
    "    class Deck\n",
    "        def initialize\n",
    "            @cards = []\n",
    "            RANKS.each do |r|\n",
    "                SUITS.each do |s|\n",
    "                    @cards << \"#{r} of #{s}\"\n",
    "                end\n",
    "            end\n",
    "            @cards.shuffle!\n",
    "        end\n",
    "        def deal(n=1)\n",
    "            @cards.pop(n)\n",
    "        end\n",
    "        def size\n",
    "            @cards.size\n",
    "        end\n",
    "    end\n",
    "end"
   ]
  },
  {
   "cell_type": "code",
   "execution_count": 3,
   "metadata": {},
   "outputs": [
    {
     "data": {
      "text/plain": [
       ":test_deal_many"
      ]
     },
     "execution_count": 3,
     "metadata": {},
     "output_type": "execute_result"
    }
   ],
   "source": [
    "# NOT YET RUNNING \n",
    "require 'minitest/autorun'\n",
    "#require_relative \"cards\"\n",
    "class CardTest < MiniTest::Test\n",
    "    def setup\n",
    "        @deck = PlayingCards::Deck.new\n",
    "    end\n",
    "    def test_deal_one\n",
    "        @deck.deal\n",
    "        assert_equal(51,@deck.size)\n",
    "    end\n",
    "    def test_deal_many\n",
    "        @deck.deal(5)\n",
    "        assert_equal(47,@deck.size)\n",
    "    end\n",
    "end"
   ]
  },
  {
   "cell_type": "code",
   "execution_count": null,
   "metadata": {},
   "outputs": [],
   "source": [
    "# minitest - specifying & implementing"
   ]
  }
 ],
 "metadata": {
  "kernelspec": {
   "display_name": "Ruby 2.7.1",
   "language": "ruby",
   "name": "ruby"
  },
  "language_info": {
   "file_extension": ".rb",
   "mimetype": "application/x-ruby",
   "name": "ruby",
   "version": "2.7.1"
  }
 },
 "nbformat": 4,
 "nbformat_minor": 4
}
