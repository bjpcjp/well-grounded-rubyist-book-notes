{
 "cells": [
  {
   "cell_type": "markdown",
   "metadata": {},
   "source": [
    "## Strings, symbols & other scalar objects (Chap 8)"
   ]
  },
  {
   "cell_type": "markdown",
   "metadata": {},
   "source": [
    "#### Working with strings"
   ]
  },
  {
   "cell_type": "code",
   "execution_count": 84,
   "metadata": {},
   "outputs": [
    {
     "name": "stdout",
     "output_type": "stream",
     "text": [
      "this is a doublequoted string.\n",
      "this is a singlequoted string.\n",
      "doublequoted strings do interpolation: 4\n",
      "singlequoted with escapes: \\\"#{2+2}\\\"\n"
     ]
    }
   ],
   "source": [
    "# notation (8.1.1)\n",
    "puts \"this is a doublequoted string.\"\n",
    "puts 'this is a singlequoted string.'\n",
    "puts \"doublequoted strings do interpolation: #{2+2}\"\n",
    "puts 'singlequoted with escapes: \\\"#{2+2}\\\"'"
   ]
  },
  {
   "cell_type": "code",
   "execution_count": 87,
   "metadata": {},
   "outputs": [
    {
     "name": "stdout",
     "output_type": "stream",
     "text": [
      "no need for apostrophes or quote marks (','',\",\"\")\n"
     ]
    }
   ],
   "source": [
    "puts %q(no need for apostrophes or quote marks (','',\",\"\"))"
   ]
  },
  {
   "cell_type": "code",
   "execution_count": 88,
   "metadata": {},
   "outputs": [
    {
     "data": {
      "text/plain": [
       "\"this is a line.\\n    this is another line.\\n\""
      ]
     },
     "execution_count": 88,
     "metadata": {},
     "output_type": "execute_result"
    }
   ],
   "source": [
    "# heredoc example\n",
    "text = <<EOM\n",
    "this is a line.\n",
    "    this is another line.\n",
    "EOM"
   ]
  },
  {
   "cell_type": "code",
   "execution_count": 89,
   "metadata": {},
   "outputs": [
    {
     "data": {
      "text/plain": [
       "\"SELECT count (DISTINCT users.id)\\nFROM users\\nWHERE user.first_name='joe';\\n\""
      ]
     },
     "execution_count": 89,
     "metadata": {},
     "output_type": "execute_result"
    }
   ],
   "source": [
    "query = <<SQL\n",
    "SELECT count (DISTINCT users.id)\n",
    "FROM users\n",
    "WHERE user.first_name='joe';\n",
    "SQL"
   ]
  },
  {
   "cell_type": "code",
   "execution_count": 90,
   "metadata": {},
   "outputs": [
    {
     "data": {
      "text/plain": [
       "\"howdy\\npardner.\\n\""
      ]
     },
     "execution_count": 90,
     "metadata": {},
     "output_type": "execute_result"
    }
   ],
   "source": [
    "# squiggly heredoc - strips leading whitespace\n",
    "<<~EOM\n",
    "       howdy\n",
    "       pardner.\n",
    "EOM"
   ]
  },
  {
   "cell_type": "code",
   "execution_count": 102,
   "metadata": {},
   "outputs": [
    {
     "name": "stdout",
     "output_type": "stream",
     "text": [
      "s\n",
      "i\n",
      "was a dark\n",
      "was a da\n",
      "dark and\n",
      "\n",
      "dark and \n",
      "it was a stormy night.\n"
     ]
    }
   ],
   "source": [
    "# substrings (8.1.2)\n",
    "str = \"it was a dark and stormy night.\"\n",
    "puts str[5]\n",
    "puts str[-5]\n",
    "puts str[3,10]\n",
    "puts str[3..10]\n",
    "puts str[\"dark and\"]\n",
    "puts str[\"dark and clear\"]\n",
    "puts str.slice!(\"dark and \")\n",
    "puts str"
   ]
  },
  {
   "cell_type": "code",
   "execution_count": 104,
   "metadata": {},
   "outputs": [
    {
     "name": "stdout",
     "output_type": "stream",
     "text": [
      "ab\n",
      "howdy there.\n"
     ]
    }
   ],
   "source": [
    "# combining strings\n",
    "puts \"a\"+\"b\"\n",
    "str = \"howdy\"; puts \"#{str} there.\""
   ]
  },
  {
   "cell_type": "code",
   "execution_count": 110,
   "metadata": {},
   "outputs": [
    {
     "name": "stdout",
     "output_type": "stream",
     "text": [
      "true\n",
      "true\n",
      "true\n",
      "false\n",
      "true\n",
      "2\n",
      "3\n",
      "9\n",
      "3\n"
     ]
    }
   ],
   "source": [
    "# querying strings (8.1.3)\n",
    "str = \"howdy there.\"\n",
    "puts str.include?(\"howdy\")\n",
    "puts str.start_with?(\"howdy\")\n",
    "puts str.end_with?(\"there.\")\n",
    "puts str.empty?\n",
    "puts \"\".empty?\n",
    "puts str.count(\"e\")\n",
    "puts str.count(\"a-e\")\n",
    "puts str.count(\"^a-e\") #negates count\n",
    "puts str.index(\"dy\")"
   ]
  },
  {
   "cell_type": "code",
   "execution_count": 111,
   "metadata": {},
   "outputs": [
    {
     "name": "stdout",
     "output_type": "stream",
     "text": [
      "97\n",
      "97\n"
     ]
    }
   ],
   "source": [
    "# ordinal (character) values\n",
    "puts \"a\".ord\n",
    "puts \"abc\".ord"
   ]
  },
  {
   "cell_type": "code",
   "execution_count": 112,
   "metadata": {},
   "outputs": [
    {
     "name": "stdout",
     "output_type": "stream",
     "text": [
      "-1\n",
      "true\n",
      "true\n",
      "true\n"
     ]
    }
   ],
   "source": [
    "# string compare/order (8.1.4)\n",
    "puts \"a\" <=> \"b\"\n",
    "puts \"b\" > \"a\"\n",
    "puts \"a\" > \"A\"\n",
    "puts \".\" > \",\""
   ]
  },
  {
   "cell_type": "code",
   "execution_count": 113,
   "metadata": {},
   "outputs": [
    {
     "name": "stdout",
     "output_type": "stream",
     "text": [
      "JOHN Q. PUBLIC\n",
      "john q. public\n",
      "jOHN q. pUBLIC\n",
      "John q. public\n"
     ]
    }
   ],
   "source": [
    "# string transforms (8.1.5)\n",
    "str = \"John Q. Public\"\n",
    "puts str.upcase\n",
    "puts str.downcase\n",
    "puts str.swapcase \n",
    "puts str.capitalize"
   ]
  },
  {
   "cell_type": "code",
   "execution_count": 116,
   "metadata": {},
   "outputs": [
    {
     "name": "stdout",
     "output_type": "stream",
     "text": [
      "...........John Q. Public\n",
      "***John Q. Public***\n",
      "big empty\n",
      "big empty           \n",
      "         big empty\n"
     ]
    }
   ],
   "source": [
    "puts str.rjust(25,\".\")\n",
    "puts str.center(20,\"*\")\n",
    "str = \"         big empty           \"\n",
    "puts str.strip\n",
    "puts str.lstrip\n",
    "puts str.rstrip"
   ]
  },
  {
   "cell_type": "code",
   "execution_count": 120,
   "metadata": {},
   "outputs": [
    {
     "name": "stdout",
     "output_type": "stream",
     "text": [
      "John Q. Publi\n",
      "John Q. Public\n",
      "John Q. Publ\n",
      "Jane\n",
      "JohnPublic\n"
     ]
    }
   ],
   "source": [
    "str = \"John Q. Public\"\n",
    "puts str.chop # unconditional char removal from end of string\n",
    "puts str.chomp # removes substring if found at end of string (default is \\n)\n",
    "puts str.chomp(\"ic\")\n",
    "puts str.replace(\"Jane\")\n",
    "str = \"John Q. Public\"\n",
    "puts str.delete(\"Q. \")"
   ]
  },
  {
   "cell_type": "code",
   "execution_count": 121,
   "metadata": {},
   "outputs": [
    {
     "name": "stdout",
     "output_type": "stream",
     "text": [
      "34oc3naDaZIoI\n"
     ]
    }
   ],
   "source": [
    "# DES encryption with salt value\n",
    "puts str.crypt(\"34\")"
   ]
  },
  {
   "cell_type": "code",
   "execution_count": 122,
   "metadata": {},
   "outputs": [
    {
     "name": "stdout",
     "output_type": "stream",
     "text": [
      "b\n",
      "abd\n",
      "baa\n"
     ]
    }
   ],
   "source": [
    "# succession\n",
    "puts \"a\".succ\n",
    "puts \"abc\".succ\n",
    "puts \"azz\".succ"
   ]
  },
  {
   "cell_type": "code",
   "execution_count": 125,
   "metadata": {},
   "outputs": [
    {
     "name": "stdout",
     "output_type": "stream",
     "text": [
      "64\n",
      "256\n",
      "289\n",
      "abcde\n"
     ]
    }
   ],
   "source": [
    "# string conversions (8.1.6)\n",
    "puts \"100\".oct\n",
    "puts \"100\".hex\n",
    "puts \"100\".to_i(17) # base 17 conversion\n",
    "puts \"abcde\".to_sym"
   ]
  },
  {
   "cell_type": "code",
   "execution_count": 127,
   "metadata": {},
   "outputs": [
    {
     "name": "stdout",
     "output_type": "stream",
     "text": [
      "UTF-8\n",
      "UTF-8\n"
     ]
    }
   ],
   "source": [
    "# string encoding (8.1.7)\n",
    "puts __ENCODING__\n",
    "str = \"John Q. Public\"; puts str.encoding"
   ]
  },
  {
   "cell_type": "markdown",
   "metadata": {},
   "source": [
    "#### Symbols\n",
    "- literal constructor is a leading \":\".\n",
    "- also by using \"to_sym\" method."
   ]
  },
  {
   "cell_type": "code",
   "execution_count": 129,
   "metadata": {},
   "outputs": [
    {
     "name": "stdout",
     "output_type": "stream",
     "text": [
      "4084828\n",
      "4084828\n"
     ]
    }
   ],
   "source": [
    "# characteristics (8.2.1)\n",
    "# - immutability\n",
    "# - uniqueness\n",
    "puts :xyz.object_id\n",
    "puts :xyz.object_id"
   ]
  },
  {
   "cell_type": "code",
   "execution_count": 133,
   "metadata": {},
   "outputs": [
    {
     "name": "stdout",
     "output_type": "stream",
     "text": [
      "12832\n",
      "[:!, :\"\\\"\", :\"#\", :\"$\", :%, :&, :\"'\", :\"(\", :\")\", :*, :+, :\",\", :-, :\".\", :/, :\":\", :\";\", :<, :\"=\", :>]\n"
     ]
    }
   ],
   "source": [
    "# identifiers (8.2.2)\n",
    "puts Symbol.all_symbols.size\n",
    "puts Symbol.all_symbols[0..19]"
   ]
  },
  {
   "cell_type": "code",
   "execution_count": 137,
   "metadata": {},
   "outputs": [
    {
     "name": "stdout",
     "output_type": "stream",
     "text": [
      "ABC\n",
      "35\n"
     ]
    }
   ],
   "source": [
    "# in practice (8.2.3)\n",
    "puts \"abc\".send(:upcase) # as method args\n",
    "myhash = {:name => \"joe\", :age => 35 } # as hash keys\n",
    "puts myhash[:age]"
   ]
  },
  {
   "cell_type": "code",
   "execution_count": 138,
   "metadata": {},
   "outputs": [
    {
     "data": {
      "text/plain": [
       "[:<=>, :==, :===, :=~, :[], :capitalize, :casecmp, :casecmp?, :downcase, :empty?, :encoding, :end_with?, :id2name, :inspect, :intern, :length, :match, :match?, :next, :pretty_print_cycle, :size, :slice, :start_with?, :succ, :swapcase, :to_proc, :to_s, :to_sym, :upcase]"
      ]
     },
     "execution_count": 138,
     "metadata": {},
     "output_type": "execute_result"
    }
   ],
   "source": [
    "# strings vs symbols (8.2.4)\n",
    "# ruby has many instance methods that symbols share with strings\n",
    "Symbol.instance_methods(false).sort"
   ]
  },
  {
   "cell_type": "code",
   "execution_count": 139,
   "metadata": {},
   "outputs": [
    {
     "name": "stdout",
     "output_type": "stream",
     "text": [
      "DAVID\n",
      "davie\n",
      "dav\n"
     ]
    }
   ],
   "source": [
    "sym = :david; puts sym.upcase\n",
    "puts sym.succ\n",
    "puts sym[0..2]"
   ]
  },
  {
   "cell_type": "markdown",
   "metadata": {},
   "source": [
    "#### Number are objects"
   ]
  },
  {
   "cell_type": "code",
   "execution_count": 141,
   "metadata": {},
   "outputs": [
    {
     "name": "stdout",
     "output_type": "stream",
     "text": [
      "[:!, :!=, :!~, :<, :<=, :<=>, :==, :===, :=~, :>, :>=, :__binding__, :__id__, :__send__, :alias_method, :allocate, :ancestors, :attr, :attr_accessor, :attr_reader, :attr_writer, :autoload, :autoload?, :class, :class_eval, :class_exec, :class_variable_defined?, :class_variable_get, :class_variable_set, :class_variables, :clone, :const_defined?, :const_get, :const_missing, :const_set, :const_source_location, :constants, :define_method, :define_singleton_method, :deprecate_constant, :display, :dup, :enum_for, :eql?, :equal?, :extend, :freeze, :frozen?, :hash, :include, :include?, :included_modules, :inspect, :instance_eval, :instance_exec, :instance_method, :instance_methods, :instance_of?, :instance_variable_defined?, :instance_variable_get, :instance_variable_set, :instance_variables, :is_a?, :itself, :json_creatable?, :kind_of?, :method, :method_defined?, :methods, :module_eval, :module_exec, :name, :new, :nil?, :object_id, :prepend, :pretty_inspect, :pretty_print, :pretty_print_cycle, :pretty_print_inspect, :pretty_print_instance_variables, :private_class_method, :private_constant, :private_instance_methods, :private_method_defined?, :private_methods, :protected_instance_methods, :protected_method_defined?, :protected_methods, :pry, :public_class_method, :public_constant, :public_instance_method, :public_instance_methods, :public_method, :public_method_defined?, :public_methods, :public_send, :remove_class_variable, :remove_instance_variable, :remove_method, :respond_to?, :send, :singleton_class, :singleton_class?, :singleton_method, :singleton_methods, :superclass, :taint, :tainted?, :tap, :then, :to_enum, :to_json, :to_s, :trust, :undef_method, :untaint, :untrust, :untrusted?, :yield_self]\n"
     ]
    }
   ],
   "source": [
    "# numeric classes (8.3.1)\n",
    "puts Numeric.methods.sort"
   ]
  },
  {
   "cell_type": "code",
   "execution_count": 142,
   "metadata": {},
   "outputs": [
    {
     "name": "stdout",
     "output_type": "stream",
     "text": [
      "18\n",
      "10\n"
     ]
    }
   ],
   "source": [
    "# numeric ops (8.3.2)\n",
    "# - all the usual ones, plus:\n",
    "puts 0x12 # hex\n",
    "puts 012  # octal"
   ]
  },
  {
   "cell_type": "markdown",
   "metadata": {},
   "source": [
    "#### Times & dates\n",
    "- uses three classes: Time, Date, DateTime"
   ]
  },
  {
   "cell_type": "code",
   "execution_count": 157,
   "metadata": {},
   "outputs": [
    {
     "name": "stdout",
     "output_type": "stream",
     "text": [
      "2020-09-08\n",
      "2010-09-01\n",
      "2010-09-01\n",
      "2020-09-08 20:38:50 -0500\n",
      "2001-09-08 20:46:40 -0500\n",
      "2010-09-01 12:00:00 -0500\n",
      "2010-09-01T12:15:00+00:00\n"
     ]
    }
   ],
   "source": [
    "# creating date/time objects (8.4.1)\n",
    "require 'date'\n",
    "puts Date.today\n",
    "puts Date.new(2010,9,1)\n",
    "puts Date.parse(\"2010/09/01\")\n",
    "\n",
    "require 'time'\n",
    "puts Time.new\n",
    "puts Time.at(1000000000)\n",
    "puts Time.mktime(2010,9,1,12,0,0)\n",
    "\n",
    "puts DateTime.new(2010,9,1,12,15,0)"
   ]
  },
  {
   "cell_type": "code",
   "execution_count": 161,
   "metadata": {},
   "outputs": [
    {
     "name": "stdout",
     "output_type": "stream",
     "text": [
      "2020\n",
      "20\n",
      "40\n",
      "42\n",
      "false\n",
      "true\n"
     ]
    }
   ],
   "source": [
    "# date/time queries (8.4.2)\n",
    "dt = DateTime.now\n",
    "puts dt.year; puts dt.hour; puts dt.minute; puts dt.second\n",
    "puts dt.sunday?\n",
    "puts dt.tuesday?"
   ]
  },
  {
   "cell_type": "code",
   "execution_count": 163,
   "metadata": {},
   "outputs": [
    {
     "name": "stdout",
     "output_type": "stream",
     "text": [
      "09-08-20, Sep:09:1599615723\n"
     ]
    }
   ],
   "source": [
    "# date/time formatting (8.4.3)\n",
    "dt = DateTime.now\n",
    "puts dt.strftime(\"%m-%d-%y, %h:%m:%s\")"
   ]
  },
  {
   "cell_type": "code",
   "execution_count": 165,
   "metadata": {},
   "outputs": [
    {
     "name": "stdout",
     "output_type": "stream",
     "text": [
      "2020-09-08 20:43:48 -0500\n",
      "2020-09-08 20:43:28 -0500\n",
      "2020-09-08 20:44:08 -0500\n",
      "2020-09-08T20:43:48-05:00\n",
      "2020-12-17T20:43:48-05:00\n",
      "2020-05-31T20:43:48-05:00\n"
     ]
    }
   ],
   "source": [
    "# date/time conversions (8.4.4)\n",
    "t = Time.now; puts t\n",
    "puts t-20 #second-wise ops\n",
    "puts t+20\n",
    "dt = DateTime.now; puts dt\n",
    "puts dt+100 #day-wise ops\n",
    "puts dt-100"
   ]
  },
  {
   "cell_type": "code",
   "execution_count": 167,
   "metadata": {},
   "outputs": [
    {
     "name": "stdout",
     "output_type": "stream",
     "text": [
      "2020-09-08\n",
      "2020-09-09\n",
      "2021-09-08\n",
      "2020-12-08\n",
      "2020-08-29\n"
     ]
    }
   ],
   "source": [
    "d = Date.today; puts d\n",
    "puts d.next\n",
    "puts d.next_year\n",
    "puts d.next_month(3)\n",
    "puts d.prev_day(10)"
   ]
  }
 ],
 "metadata": {
  "kernelspec": {
   "display_name": "Ruby 2.7.1",
   "language": "ruby",
   "name": "ruby"
  },
  "language_info": {
   "file_extension": ".rb",
   "mimetype": "application/x-ruby",
   "name": "ruby",
   "version": "2.7.1"
  }
 },
 "nbformat": 4,
 "nbformat_minor": 4
}
