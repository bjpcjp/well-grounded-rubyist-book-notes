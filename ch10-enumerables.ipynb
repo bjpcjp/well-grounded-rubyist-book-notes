{
 "cells": [
  {
   "cell_type": "markdown",
   "metadata": {},
   "source": [
    "## Enumerable & enumerators (Chap 10)"
   ]
  },
  {
   "cell_type": "markdown",
   "metadata": {},
   "source": [
    "#### each"
   ]
  },
  {
   "cell_type": "code",
   "execution_count": 105,
   "metadata": {},
   "outputs": [
    {
     "name": "stdout",
     "output_type": "stream",
     "text": [
      "red\n",
      "yellow\n",
      "green\n",
      "blue\n"
     ]
    },
    {
     "data": {
      "text/plain": [
       "\"yellow\""
      ]
     },
     "execution_count": 105,
     "metadata": {},
     "output_type": "execute_result"
    }
   ],
   "source": [
    "class Rainbow\n",
    "    include Enumerable\n",
    "    def each\n",
    "        yield \"red\"; yield \"yellow\"; yield \"green\"; yield \"blue\"\n",
    "    end\n",
    "end\n",
    "Rainbow.new.each do |c| puts \"#{c}\" end\n",
    "Rainbow.new.find {|c| c.start_with?('y')}"
   ]
  },
  {
   "cell_type": "code",
   "execution_count": 106,
   "metadata": {},
   "outputs": [
    {
     "data": {
      "text/plain": [
       "[:all?, :any?, :chain, :chunk, :chunk_while, :collect, :collect_concat, :count, :cycle, :detect, :drop, :drop_while, :each_cons, :each_entry, :each_slice, :each_with_index, :each_with_object, :entries, :filter, :filter_map, :find, :find_all, :find_index, :first, :flat_map, :grep, :grep_v, :group_by, :include?, :inject, :lazy, :map, :max, :max_by, :member?, :min, :min_by, :minmax, :minmax_by, :none?, :one?, :partition, :reduce, :reject, :reverse_each, :select, :slice_after, :slice_before, :slice_when, :sort, :sort_by, :sum, :take, :take_while, :tally, :to_a, :to_h, :to_set, :uniq, :zip]"
      ]
     },
     "execution_count": 106,
     "metadata": {},
     "output_type": "execute_result"
    }
   ],
   "source": [
    "Enumerable.instance_methods(false).sort"
   ]
  },
  {
   "cell_type": "markdown",
   "metadata": {},
   "source": [
    "#### Boolean queries"
   ]
  },
  {
   "cell_type": "code",
   "execution_count": 113,
   "metadata": {},
   "outputs": [
    {
     "name": "stdout",
     "output_type": "stream",
     "text": [
      "true\n",
      "false\n",
      "can't do that.\n"
     ]
    },
    {
     "data": {
      "text/plain": [
       "true"
      ]
     },
     "execution_count": 113,
     "metadata": {},
     "output_type": "execute_result"
    }
   ],
   "source": [
    "r  = Range.new(1,   20)\n",
    "r2 = Range.new(1.0, 20.0)\n",
    "r3 = Range.new(1,   20.0)\n",
    "\n",
    "puts r.one? {|n| n==5}\n",
    "puts r.none? {|n| n==5}\n",
    "\n",
    "# floats don't work as well\n",
    "begin\n",
    "    rf.one?{|n| n==5}\n",
    "rescue\n",
    "    puts \"can't do that.\"\n",
    "end\n",
    "\n",
    "r3.any? {|n| n==5}"
   ]
  },
  {
   "cell_type": "markdown",
   "metadata": {},
   "source": [
    "#### Searches & indexes"
   ]
  },
  {
   "cell_type": "code",
   "execution_count": 114,
   "metadata": {},
   "outputs": [
    {
     "name": "stdout",
     "output_type": "stream",
     "text": [
      "6\n"
     ]
    }
   ],
   "source": [
    "# first match (10.3.1)\n",
    "puts [1,2,3,4,5,6,7,8,9,10].find {|n| n > 5 }"
   ]
  },
  {
   "cell_type": "code",
   "execution_count": 116,
   "metadata": {},
   "outputs": [
    {
     "name": "stdout",
     "output_type": "stream",
     "text": [
      "[6, 7, 8, 9, 10]\n",
      "[1, 2, 3, 4, 5]\n"
     ]
    }
   ],
   "source": [
    "# all matches (10.3.2)\n",
    "puts [1,2,3,4,5,6,7,8,9,10].find_all {|n| n > 5 }\n",
    "puts [1,2,3,4,5,6,7,8,9,10].reject   {|n| n > 5 }"
   ]
  },
  {
   "cell_type": "code",
   "execution_count": 117,
   "metadata": {},
   "outputs": [
    {
     "name": "stdout",
     "output_type": "stream",
     "text": [
      "[\"orange\", \"yellow\", \"indigo\", \"violet\"]\n",
      "[\"hello\", \"goodbye\"]\n",
      "[75]\n"
     ]
    }
   ],
   "source": [
    "# grep (10.3.3)\n",
    "colors = %w(red orange yellow green blue indigo violet)\n",
    "puts colors.grep(/o/)\n",
    "\n",
    "miscellany = [75, \"hello\", 10...20, \"goodbye\"]\n",
    "puts miscellany.grep(String)\n",
    "puts miscellany.grep(50..100)"
   ]
  },
  {
   "cell_type": "code",
   "execution_count": 118,
   "metadata": {},
   "outputs": [
    {
     "name": "stdout",
     "output_type": "stream",
     "text": [
      "{3=>[\"red\"], 6=>[\"orange\", \"yellow\", \"indigo\", \"violet\"], 5=>[\"green\"], 4=>[\"blue\"]}\n"
     ]
    }
   ],
   "source": [
    "# group_by (10.3.4)\n",
    "colors = %w(red orange yellow green blue indigo violet)\n",
    "puts colors.group_by {|color| color.size }"
   ]
  },
  {
   "cell_type": "code",
   "execution_count": 3,
   "metadata": {},
   "outputs": [
    {
     "name": "stdout",
     "output_type": "stream",
     "text": [
      "[#<Person:0x0000557c094a5580 @age=10>, #<Person:0x0000557c094a5508 @age=13>, #<Person:0x0000557c094a5490 @age=16>, #<Person:0x0000557c094a5418 @age=19>, #<Person:0x0000557c094a53a0 @age=22>, #<Person:0x0000557c094a5328 @age=25>]\n",
      "[[#<Person:0x0000557c094a5508 @age=13>, #<Person:0x0000557c094a5490 @age=16>, #<Person:0x0000557c094a5418 @age=19>], [#<Person:0x0000557c094a5580 @age=10>, #<Person:0x0000557c094a53a0 @age=22>, #<Person:0x0000557c094a5328 @age=25>]]\n",
      "3 teens; 3 non-teens\n"
     ]
    }
   ],
   "source": [
    "# partition\n",
    "class Person\n",
    "    attr_accessor :age\n",
    "    def initialize(options)\n",
    "        self.age = options[:age]\n",
    "    end\n",
    "    def teenager?\n",
    "        (13..19) === age\n",
    "    end\n",
    "end\n",
    "\n",
    "people = 10.step(25,3).map {|i| Person.new(:age => i) }; puts people\n",
    "teens = people.partition {|person| person.teenager? };   puts teens\n",
    "puts \"#{teens[0].size} teens; #{teens[1].size} non-teens\""
   ]
  },
  {
   "cell_type": "markdown",
   "metadata": {},
   "source": [
    "#### Element-wise operations"
   ]
  },
  {
   "cell_type": "code",
   "execution_count": 6,
   "metadata": {},
   "outputs": [
    {
     "name": "stdout",
     "output_type": "stream",
     "text": [
      "1\n",
      "1\n"
     ]
    }
   ],
   "source": [
    "# first (10.4.1) -- note: no \"last\" method\n",
    "puts [1,2,3,4].first\n",
    "puts (1..10).first"
   ]
  },
  {
   "cell_type": "code",
   "execution_count": 8,
   "metadata": {},
   "outputs": [
    {
     "name": "stdout",
     "output_type": "stream",
     "text": [
      "[\"NJ\", \"NY\"]\n",
      "[\"CT\", \"MA\", \"VT\", \"FL\"]\n",
      "[\"NE\", \"NJ\"]\n"
     ]
    }
   ],
   "source": [
    "# take, drop (10.4.2)\n",
    "states = %w(NJ NY CT MA VT FL)\n",
    "puts states.take(2)\n",
    "puts states.drop(2)\n",
    "\n",
    "states.unshift(\"NE\") # add to beginning of array\n",
    "puts states.take(2) { |s| /N/.match(s) }"
   ]
  },
  {
   "cell_type": "code",
   "execution_count": 10,
   "metadata": {},
   "outputs": [
    {
     "name": "stdout",
     "output_type": "stream",
     "text": [
      "5\n",
      "APL\n",
      "C\n",
      "C\n",
      "[\"APL\", \"Smalltalk\"]\n",
      "[\"C\", \"Smalltalk\"]\n"
     ]
    }
   ],
   "source": [
    "# min, max (10.4.3)\n",
    "puts [1,3,5,4,2].max\n",
    "puts %w(Ruby C APL Perl Smalltalk).min\n",
    "puts %w(Ruby C APL Perl Smalltalk).min {|a,b| a.size <=> b.size }\n",
    "puts %w{ Ruby C APL Perl Smalltalk }.min_by {|lang| lang.size }\n",
    "\n",
    "# minmax - returns min and max values\n",
    "puts %w{ Ruby C APL Perl Smalltalk }.minmax\n",
    "puts %w{ Ruby C APL Perl Smalltalk }.minmax_by {|lang| lang.size }"
   ]
  },
  {
   "cell_type": "markdown",
   "metadata": {},
   "source": [
    "#### Each variants"
   ]
  },
  {
   "cell_type": "code",
   "execution_count": 11,
   "metadata": {},
   "outputs": [
    {
     "name": "stdout",
     "output_type": "stream",
     "text": [
      "1. Washington\n",
      "2. Adams\n",
      "3. Jefferson\n",
      "4. Madison\n"
     ]
    },
    {
     "data": {
      "text/plain": [
       "[\"Washington\", \"Adams\", \"Jefferson\", \"Madison\"]"
      ]
     },
     "execution_count": 11,
     "metadata": {},
     "output_type": "execute_result"
    }
   ],
   "source": [
    "# each_with_index (10.5.2)\n",
    "names = [\"Washington\", \"Adams\", \"Jefferson\", \"Madison\"]\n",
    "names.each_with_index do |pres, i|\n",
    "    puts \"#{i+1}. #{pres}\" # add 1 to 0th list entry\n",
    "end"
   ]
  },
  {
   "cell_type": "code",
   "execution_count": 13,
   "metadata": {},
   "outputs": [
    {
     "name": "stdout",
     "output_type": "stream",
     "text": [
      "1. Washington\n",
      "2. Adams\n",
      "3. Jefferson\n",
      "4. Madison\n"
     ]
    },
    {
     "data": {
      "text/plain": [
       "[\"Washington\", \"Adams\", \"Jefferson\", \"Madison\"]"
      ]
     },
     "execution_count": 13,
     "metadata": {},
     "output_type": "execute_result"
    }
   ],
   "source": [
    "# each_index\n",
    "names.each.with_index do |pres, i|\n",
    "    puts \"#{i+1}. #{pres}\" # add 1 to 0th list entry\n",
    "end"
   ]
  },
  {
   "cell_type": "code",
   "execution_count": 16,
   "metadata": {},
   "outputs": [
    {
     "name": "stdout",
     "output_type": "stream",
     "text": [
      "[1, 2, 3]\n",
      "[4, 5, 6]\n",
      "[7, 8, 9]\n",
      "[10]\n",
      "[1, 2, 3, 4]\n",
      "[2, 3, 4, 5]\n",
      "[3, 4, 5, 6]\n",
      "[4, 5, 6, 7]\n",
      "[5, 6, 7, 8]\n",
      "[6, 7, 8, 9]\n",
      "[7, 8, 9, 10]\n"
     ]
    }
   ],
   "source": [
    "# each_slice, each_cons (10.5.3)\n",
    "array = [1,2,3,4,5,6,7,8,9,10]\n",
    "array.each_slice(3) {|slice| p slice }\n",
    "array.each_cons(4) {|cons| p cons }"
   ]
  },
  {
   "cell_type": "code",
   "execution_count": 17,
   "metadata": {},
   "outputs": [
    {
     "name": "stdout",
     "output_type": "stream",
     "text": [
      "[[\"Top Secret Report\", \"Eyes Only\"], [\"=====\", \"Title: The Meaning of Life\"]]\n"
     ]
    }
   ],
   "source": [
    "# slice_ (10.5.4)\n",
    "parsed_report = [\"Top Secret Report\", \n",
    "                \"Eyes Only\", \n",
    "                \"=====\", \n",
    "                \"Title: The Meaning of Life\"]\n",
    "puts parsed_report.slice_before(/=/).to_a #parse header from contents"
   ]
  },
  {
   "cell_type": "code",
   "execution_count": 19,
   "metadata": {},
   "outputs": [
    {
     "name": "stdout",
     "output_type": "stream",
     "text": [
      "[[\"Top Secret Report\", \"Eyes Only\", \"=====\"], [\"Title: The\\nMeaning of Life\", \"Author: [REDACTED]\", \"Date: 2018-01-01\", \"=====\"], [\"Abstract:\\n\"]]\n",
      "[[1], [2, 3], [4, 5], [6, 7], [8, 9], [10]]\n"
     ]
    }
   ],
   "source": [
    "# slice_after\n",
    "parsed_report = [\"Top Secret Report\", \"Eyes Only\", \"=====\", \"Title: The\n",
    "Meaning of Life\", \"Author: [REDACTED]\", \"Date: 2018-01-01\", \"=====\",\n",
    "\"Abstract:\\n\"]\n",
    "\n",
    "puts parsed_report.slice_after(/=/).to_a\n",
    "puts (1..10).slice_before { |num| num % 2 == 0 }.to_a"
   ]
  },
  {
   "cell_type": "code",
   "execution_count": 25,
   "metadata": {},
   "outputs": [
    {
     "name": "stderr",
     "output_type": "stream",
     "text": [
      "(pry):184: warning: already initialized constant Card::SUITS\n",
      "(pry):167: warning: previous definition of SUITS was here\n",
      "(pry):185: warning: already initialized constant Card::RANKS\n",
      "(pry):168: warning: previous definition of RANKS was here\n"
     ]
    },
    {
     "name": "stdout",
     "output_type": "stream",
     "text": [
      "52\n",
      "104\n"
     ]
    }
   ],
   "source": [
    "# cycle (10.5.5) - yields all elements continuously in a loop\n",
    "class Card\n",
    "    SUITS = %w(clubs diamonds hearts, spades)\n",
    "    RANKS = %w(2 3 4 5 6 7 8 9 10 J Q K A)\n",
    "    class Deck\n",
    "        attr_reader :cards\n",
    "        def initialize(n=1)\n",
    "            @cards=[]\n",
    "            SUITS.cycle(n) do |s|\n",
    "                RANKS.cycle(1) do |r|\n",
    "                    @cards << \"#{r} of #{s}\"\n",
    "                end\n",
    "            end\n",
    "        end\n",
    "    end\n",
    "end\n",
    "d = Card::Deck.new(1); puts d.cards.size\n",
    "d = Card::Deck.new(2); puts d.cards.size"
   ]
  },
  {
   "cell_type": "code",
   "execution_count": 27,
   "metadata": {},
   "outputs": [
    {
     "name": "stdout",
     "output_type": "stream",
     "text": [
      "10\n",
      "10\n"
     ]
    }
   ],
   "source": [
    "# inject (10.5.6)\n",
    "puts [1,2,3,4].inject(0) {|acc,n| acc + n }\n",
    "puts [1,2,3,4].inject(:+) #simpler syntax"
   ]
  },
  {
   "cell_type": "markdown",
   "metadata": {},
   "source": [
    "#### Map (aka collect)\n",
    "- Whatever enumerable it starts with, map always returns an array.\n",
    "- The difference between map and each is a good reminder that each exists purely for the side effects from the execution of the block. The value returned by the block each time through is discarded. That’s why each returns its receiver; it doesn’t have anything else to return, because it hasn’t saved anything. map , on the other hand, maintains an accumulator array of the results from the block."
   ]
  },
  {
   "cell_type": "code",
   "execution_count": 28,
   "metadata": {},
   "outputs": [
    {
     "name": "stdout",
     "output_type": "stream",
     "text": [
      "100\n",
      "200\n",
      "300\n",
      "400\n",
      "500\n"
     ]
    },
    {
     "data": {
      "text/plain": [
       "[nil, nil, nil, nil, nil]"
      ]
     },
     "execution_count": 28,
     "metadata": {},
     "output_type": "execute_result"
    }
   ],
   "source": [
    "# return values (10.6.1)\n",
    "array = [1,2,3,4,5]\n",
    "result = array.map {|n| puts n * 100 } # because puts always returns nil"
   ]
  },
  {
   "cell_type": "code",
   "execution_count": 29,
   "metadata": {},
   "outputs": [
    {
     "data": {
      "text/plain": [
       "[\"DAVID\", \"YUKIHIRO\", \"CHAD\", \"AMY\"]"
      ]
     },
     "execution_count": 29,
     "metadata": {},
     "output_type": "execute_result"
    }
   ],
   "source": [
    "# in-place mapping (10.6.2)\n",
    "names = %w(David Yukihiro Chad Amy)\n",
    "names.map!(&:upcase) # uses symbol argument as a block"
   ]
  },
  {
   "cell_type": "markdown",
   "metadata": {},
   "source": [
    "#### Strings as quasi-enumerables"
   ]
  },
  {
   "cell_type": "code",
   "execution_count": 31,
   "metadata": {},
   "outputs": [
    {
     "name": "stdout",
     "output_type": "stream",
     "text": [
      "97\n",
      "98\n",
      "99\n",
      "100\n",
      "101\n",
      "abcde\n",
      "\"a\"\n",
      "\"b\"\n",
      "\"c\"\n",
      "\"d\"\n",
      "\"e\"\n"
     ]
    },
    {
     "data": {
      "text/plain": [
       "\"abcde\""
      ]
     },
     "execution_count": 31,
     "metadata": {},
     "output_type": "execute_result"
    }
   ],
   "source": [
    "# iterating through characters (bytes)\n",
    "# Due to encoding, the #bytes > #code points (or the number of characters, \n",
    "# which in this case is equal to the number of code points).\n",
    "str = \"abcde\"\n",
    "puts str.each_byte {|b| p b }\n",
    "str.each_char      {|c| p c }"
   ]
  },
  {
   "cell_type": "code",
   "execution_count": 32,
   "metadata": {},
   "outputs": [
    {
     "name": "stdout",
     "output_type": "stream",
     "text": [
      "49\n",
      "48\n",
      "48\n",
      "8364\n"
     ]
    },
    {
     "data": {
      "text/plain": [
       "\"100€\""
      ]
     },
     "execution_count": 32,
     "metadata": {},
     "output_type": "execute_result"
    }
   ],
   "source": [
    "\"100\\u20ac\".each_codepoint {|cp| p cp } # character codes"
   ]
  },
  {
   "cell_type": "code",
   "execution_count": 33,
   "metadata": {},
   "outputs": [
    {
     "name": "stdout",
     "output_type": "stream",
     "text": [
      "Next line: This string\n",
      "\n",
      "Next line: has three\n",
      "\n",
      "Next line: lines\n"
     ]
    },
    {
     "data": {
      "text/plain": [
       "\"This string\\nhas three\\nlines\""
      ]
     },
     "execution_count": 33,
     "metadata": {},
     "output_type": "execute_result"
    }
   ],
   "source": [
    "# line-wise\n",
    "\"This string\\nhas three\\nlines\".each_line {|l| puts \"Next line: #{l}\" }"
   ]
  },
  {
   "cell_type": "markdown",
   "metadata": {},
   "source": [
    "#### Sorting\n",
    "- If you have a class, and you want to be able to arrange multiple instances of it in order, you need to do the following:\n",
    "    - 1 Define a comparison method for the class ( <=> ).\n",
    "    - 2 Place the multiple instances in a container, probably an array.\n",
    "    - 3 Sort the container."
   ]
  },
  {
   "cell_type": "code",
   "execution_count": 52,
   "metadata": {},
   "outputs": [
    {
     "name": "stdout",
     "output_type": "stream",
     "text": [
      "5 randomly generated Painting prices:\n",
      "[#<Painting:0x0000557c093e6590 @price=390>, #<Painting:0x0000557c093e6568 @price=128>, #<Painting:0x0000557c093e6518 @price=546>, #<Painting:0x0000557c093e64f0 @price=307>, #<Painting:0x0000557c093e64a0 @price=883>]\n",
      "Same Paintings, sorted:\n",
      "[#<Painting:0x0000557c093e6568 @price=128>, #<Painting:0x0000557c093e64f0 @price=307>, #<Painting:0x0000557c093e6590 @price=390>, #<Painting:0x0000557c093e6518 @price=546>, #<Painting:0x0000557c093e64a0 @price=883>]\n"
     ]
    }
   ],
   "source": [
    "class Painting\n",
    "    attr_reader :price\n",
    "    def initialize(price)\n",
    "        @price=price\n",
    "    end\n",
    "    def to_s\n",
    "        \"price: #{price}\"\n",
    "    end\n",
    "    def <=>(other)\n",
    "        self.price<=>other.price\n",
    "    end\n",
    "end\n",
    "\n",
    "pa1 = Painting.new(100)\n",
    "pa2 = Painting.new(200)\n",
    "\n",
    "paintings = 5.times.map { |pa| Painting.new(rand(100..900)) }\n",
    "puts \"5 randomly generated Painting prices:\"\n",
    "puts paintings\n",
    "puts \"Same Paintings, sorted:\"\n",
    "puts paintings.sort\n"
   ]
  },
  {
   "cell_type": "code",
   "execution_count": 53,
   "metadata": {},
   "outputs": [
    {
     "data": {
      "text/plain": [
       "[1, \"2\", \"3\", 4, 5, \"6\"]"
      ]
     },
     "execution_count": 53,
     "metadata": {},
     "output_type": "execute_result"
    }
   ],
   "source": [
    "# defined sort-order logic (10.8.1)\n",
    "[\"2\",1,5,\"3\",4,\"6\"].sort {|a,b| a.to_i <=> b.to_i }"
   ]
  },
  {
   "cell_type": "code",
   "execution_count": 54,
   "metadata": {},
   "outputs": [
    {
     "data": {
      "text/plain": [
       "[1, \"2\", \"3\", 4, 5, \"6\"]"
      ]
     },
     "execution_count": 54,
     "metadata": {},
     "output_type": "execute_result"
    }
   ],
   "source": [
    "# sort_by (10.8.2)\n",
    "[\"2\",1,5,\"3\",4,\"6\"].sort_by {|a| a.to_i }"
   ]
  },
  {
   "cell_type": "code",
   "execution_count": 57,
   "metadata": {},
   "outputs": [
    {
     "name": "stdout",
     "output_type": "stream",
     "text": [
      "false\n",
      "true\n",
      "true\n"
     ]
    }
   ],
   "source": [
    "# sorting enumerables & Comparable (10.8.3)\n",
    "class Painting\n",
    "    include Comparable\n",
    "    attr_reader :price\n",
    "    def initialize(price)\n",
    "        @price = price\n",
    "    end\n",
    "    def to_s\n",
    "        \"My price is #{price}.\"\n",
    "    end\n",
    "    def <=>(other_painting)\n",
    "        self.price <=> other_painting.price\n",
    "    end\n",
    "end\n",
    "pa1 = Painting.new(100)\n",
    "pa2 = Painting.new(200)\n",
    "pa3 = Painting.new(300)\n",
    "puts pa1 > pa2\n",
    "puts pa1 < pa2\n",
    "puts pa2.between?(pa1, pa3)"
   ]
  },
  {
   "cell_type": "code",
   "execution_count": 58,
   "metadata": {},
   "outputs": [
    {
     "data": {
      "text/plain": [
       "true"
      ]
     },
     "execution_count": 58,
     "metadata": {},
     "output_type": "execute_result"
    }
   ],
   "source": [
    "# pick one in our price range with clamp\n",
    "cheapest, priciest = [pa1, pa2, pa3].minmax\n",
    "Painting.new(1000).clamp(cheapest, priciest).object_id ==\n",
    "priciest.object_id"
   ]
  },
  {
   "cell_type": "markdown",
   "metadata": {},
   "source": [
    "#### Enumerators\n",
    "- Enumerators are closely related to iterators, but they aren’t the same thing. An iterator is a method that yields one or more values to a code block. An enumerator is an object, not a method."
   ]
  },
  {
   "cell_type": "code",
   "execution_count": 60,
   "metadata": {},
   "outputs": [
    {
     "name": "stdout",
     "output_type": "stream",
     "text": [
      "[1, 2, 3]\n",
      "[10, 20, 30]\n",
      "[2, 3]\n",
      "[1, 2]\n"
     ]
    }
   ],
   "source": [
    "# creating with a code block (10.9.1)\n",
    "e = Enumerator.new do |y| # y is a \"yielder\"\n",
    "    y << 1\n",
    "    y << 2\n",
    "    y << 3\n",
    "end\n",
    "puts e.to_a\n",
    "puts e.map {|x| x * 10 }\n",
    "puts e.select {|x| x > 1 }\n",
    "puts e.take(2)"
   ]
  },
  {
   "cell_type": "code",
   "execution_count": 61,
   "metadata": {},
   "outputs": [
    {
     "name": "stdout",
     "output_type": "stream",
     "text": [
      "[1, 2, 3]\n",
      "[3]\n"
     ]
    }
   ],
   "source": [
    "# rewrite of above\n",
    "e = Enumerator.new do |y|\n",
    "    (1..3).each {|i| y << i }\n",
    "end\n",
    "puts e.to_a\n",
    "puts e.select {|x| x > 2 }"
   ]
  },
  {
   "cell_type": "code",
   "execution_count": 63,
   "metadata": {},
   "outputs": [
    {
     "name": "stdout",
     "output_type": "stream",
     "text": [
      "[5, 9]\n",
      "[1, 2, 3]\n",
      "[3, 5, 6]\n",
      "[]\n"
     ]
    }
   ],
   "source": [
    "a = [1,2,3,4,5]\n",
    "e = Enumerator.new do |y|\n",
    "    total=0\n",
    "    until a.empty?\n",
    "        total += a.pop\n",
    "        y<<total\n",
    "    end\n",
    "end\n",
    "puts e.take(2)\n",
    "puts a\n",
    "puts e.to_a\n",
    "puts a"
   ]
  },
  {
   "cell_type": "code",
   "execution_count": 65,
   "metadata": {},
   "outputs": [
    {
     "name": "stdout",
     "output_type": "stream",
     "text": [
      "[\"David\", \"Black\", \"Matsumoto\"]\n"
     ]
    }
   ],
   "source": [
    "# enum_for: attaching enumerators to other objects (10.9.2)\n",
    "names = %w(David Black Yukihiro Matsumoto)\n",
    "e = names.enum_for(:select)\n",
    "puts e.each {|n| n.include?('a') }"
   ]
  },
  {
   "cell_type": "code",
   "execution_count": 66,
   "metadata": {},
   "outputs": [
    {
     "name": "stdout",
     "output_type": "stream",
     "text": [
      "72\n",
      "101\n",
      "108\n",
      "108\n",
      "111\n"
     ]
    },
    {
     "data": {
      "text/plain": [
       "#<Enumerator: \"Hello\":each_byte>"
      ]
     },
     "execution_count": 66,
     "metadata": {},
     "output_type": "execute_result"
    }
   ],
   "source": [
    "# implicit enumerator creation with blockless iterator calls (10.9.3)\n",
    "str = \"Hello\"\n",
    "str.each_byte {|b| puts b } # classic usage\n",
    "str.each_byte"
   ]
  },
  {
   "cell_type": "markdown",
   "metadata": {},
   "source": [
    "#### Semantics & uses \n",
    "- An enumerator’s each method is hooked up to a method on another object, possibly a method other than each . If you use it directly, it behaves like that other method, including with respect to its return value. This can produce some odd-looking results where calls to each return filtered, sorted, or mapped collections:"
   ]
  },
  {
   "cell_type": "code",
   "execution_count": 74,
   "metadata": {},
   "outputs": [
    {
     "name": "stdout",
     "output_type": "stream",
     "text": [
      "#<Enumerator:0x0000557c0940afa8>\n",
      "[\"Cat\", \"Dog\", \"Rabbit\"]\n"
     ]
    }
   ],
   "source": [
    "# (10.10.1)\n",
    "array = %w(cat dog rabbit)\n",
    "puts e = array.map\n",
    "puts e.each {|animal| animal.capitalize }"
   ]
  },
  {
   "cell_type": "code",
   "execution_count": 73,
   "metadata": {},
   "outputs": [
    {
     "name": "stdout",
     "output_type": "stream",
     "text": [
      "{:cat=>\"feline\", :cow=>\"bovine\"}\n",
      "{:cat=>\"feline\", :cow=>\"bovine\"}\n",
      "{:cat=>\"feline\", :dog=>\"canine\", :cow=>\"bovine\"}\n",
      "{:cat=>\"feline\", :dog=>\"canine\", :cow=>\"bovine\"}\n",
      "[[:cat, \"feline\"], [:cow, \"bovine\"]]\n"
     ]
    }
   ],
   "source": [
    "# un-overriding\n",
    "h = { cat: \"feline\", dog: \"canine\", cow: \"bovine\" }\n",
    "puts h.select {|key,value| key =~ /c/ }\n",
    "\n",
    "e = h.enum_for(:select)\n",
    "puts e.each {|key,value| key =~ /c/ }\n",
    "\n",
    "e = h.to_enum\n",
    "puts h.each {}\n",
    "puts e.each {}\n",
    "\n",
    "puts e.select {|key,value| key =~ /c/ } # returns array"
   ]
  },
  {
   "cell_type": "code",
   "execution_count": 77,
   "metadata": {},
   "outputs": [
    {
     "name": "stderr",
     "output_type": "stream",
     "text": [
      "(pry):729: warning: already initialized constant PlayingCard::SUITS\n",
      "(pry):703: warning: previous definition of SUITS was here\n",
      "(pry):730: warning: already initialized constant PlayingCard::RANKS\n",
      "(pry):704: warning: previous definition of RANKS was here\n"
     ]
    },
    {
     "data": {
      "text/plain": [
       "#<PlayingCard::Deck:0x0000557c0918d4b0 @cards=[\"2 of clubs\", \"3 of clubs\", \"4 of clubs\", \"5 of clubs\", \"6 of clubs\", \"7 of clubs\", \"8 of clubs\", \"9 of clubs\", \"10 of clubs\", \"J of clubs\", \"Q of clubs\", \"K of clubs\", \"A of clubs\", \"2 of diamonds\", \"3 of diamonds\", \"4 of diamonds\", \"5 of diamonds\", \"6 of diamonds\", \"7 of diamonds\", \"8 of diamonds\", \"9 of diamonds\", \"10 of diamonds\", \"J of diamonds\", \"Q of diamonds\", \"K of diamonds\", \"A of diamonds\", \"2 of hearts\", \"3 of hearts\", \"4 of hearts\", \"5 of hearts\", \"6 of hearts\", \"7 of hearts\", \"8 of hearts\", \"9 of hearts\", \"10 of hearts\", \"J of hearts\", \"Q of hearts\", \"K of hearts\", \"A of hearts\", \"2 of spades\", \"3 of spades\", \"4 of spades\", \"5 of spades\", \"6 of spades\", \"7 of spades\", \"8 of spades\", \"9 of spades\", \"10 of spades\", \"J of spades\", \"Q of spades\", \"K of spades\", \"A of spades\"]>"
      ]
     },
     "execution_count": 77,
     "metadata": {},
     "output_type": "execute_result"
    }
   ],
   "source": [
    "# protecting objects (10.10.2)\n",
    "# Consider a method that expects, say, an array as its argument. \n",
    "# If you pass an array object to this method, the method can alter that object.\n",
    "# If you want to protect the original array, you can duplicate it and pass\n",
    "# along the duplicate—or you can pass along an enumerator instead.\n",
    "# Enumerators allow iterations through the array, but won’t absorb changes.\n",
    "\n",
    "class PlayingCard\n",
    "    SUITS = %w{ clubs diamonds hearts spades }\n",
    "    RANKS = %w{ 2 3 4 5 6 7 8 9 10 J Q K A }\n",
    "    class Deck\n",
    "        def cards\n",
    "            @cards.to_enum\n",
    "        end\n",
    "        def initialize(n=1)\n",
    "            @cards = []\n",
    "            SUITS.cycle(n) do |s|\n",
    "                RANKS.cycle(1) do |r|\n",
    "                    @cards << \"#{r} of #{s}\"\n",
    "                end\n",
    "            end\n",
    "        end\n",
    "    end\n",
    "end\n",
    "deck = PlayingCard::Deck.new"
   ]
  },
  {
   "cell_type": "code",
   "execution_count": 78,
   "metadata": {},
   "outputs": [
    {
     "name": "stdout",
     "output_type": "stream",
     "text": [
      "David\n",
      "Yukihiro\n",
      "David\n"
     ]
    }
   ],
   "source": [
    "# fine-tuned iteration (10.10.3)\n",
    "# Enumerators maintain state: \n",
    "# they keep track of where they are in their enumeration.\n",
    "names = %w(David Yukihiro); e = names.to_enum\n",
    "\n",
    "puts e.next; puts e.next\n",
    "e.rewind;    puts e.next"
   ]
  },
  {
   "cell_type": "code",
   "execution_count": 79,
   "metadata": {},
   "outputs": [
    {
     "name": "stdout",
     "output_type": "stream",
     "text": [
      "Next note is c\n",
      "Next note is c#\n",
      "Next note is d\n",
      "Next note is d#\n",
      "Next note is e\n",
      "Next note is f\n",
      "Next note is f#\n",
      "Next note is g\n",
      "Next note is a\n",
      "Next note is a#\n",
      "Next note is b\n"
     ]
    },
    {
     "data": {
      "text/plain": [
       "[\"c\", \"c#\", \"d\", \"d#\", \"e\", \"f\", \"f#\", \"g\", \"a\", \"a#\", \"b\"]"
      ]
     },
     "execution_count": 79,
     "metadata": {},
     "output_type": "execute_result"
    }
   ],
   "source": [
    "# add enumerability (10.10.4)\n",
    "module Music\n",
    "    class Scale\n",
    "        NOTES = %w(c c# d d# e f f# g a a# b)\n",
    "        def play\n",
    "            NOTES.each {|note| yield note}\n",
    "        end\n",
    "    end\n",
    "end\n",
    "scale = Music::Scale.new\n",
    "scale.play {|note| puts \"Next note is #{note}\" }"
   ]
  },
  {
   "cell_type": "code",
   "execution_count": 82,
   "metadata": {},
   "outputs": [
    {
     "name": "stdout",
     "output_type": "stream",
     "text": [
      "[\"C\", \"C#\", \"D\", \"D#\", \"E\", \"F\", \"F#\", \"G\", \"A\", \"A#\", \"B\"]\n",
      "[\"f\", \"f#\"]\n"
     ]
    },
    {
     "data": {
      "text/plain": [
       "[\"f\", \"f#\"]"
      ]
     },
     "execution_count": 82,
     "metadata": {},
     "output_type": "execute_result"
    }
   ],
   "source": [
    "# create an enumerator for the scale object, tied into the play method\n",
    "enum = scale.enum_for(:play)\n",
    "\n",
    "<<READ\n",
    "The enumerator, enum , has an each method; that method performs the same iteration\n",
    "that the scale’s play method performs. Furthermore, unlike the scale, the enumera-\n",
    "tor is an enumerable object; it has map , select , inject , and all the other standard\n",
    "methods from Enumerable . If you use the enumerator, you get enumerable operations\n",
    "on a fundamentally non-enumerable object\n",
    "READ\n",
    "\n",
    "p enum.map {|note| note.upcase }\n",
    "p enum.select {|note| note.include?('f') }"
   ]
  },
  {
   "cell_type": "code",
   "execution_count": null,
   "metadata": {},
   "outputs": [],
   "source": [
    "# enumerator method chains (10.11.1)"
   ]
  },
  {
   "cell_type": "code",
   "execution_count": 85,
   "metadata": {},
   "outputs": [
    {
     "data": {
      "text/plain": [
       "[[\"a\", 0], [\"b\", 1], [\"c\", 2], [\"d\", 3], [\"e\", 4], [\"f\", 5], [\"g\", 6], [\"h\", 7], [\"i\", 8], [\"j\", 9], [\"k\", 10], [\"l\", 11], [\"m\", 12], [\"n\", 13], [\"o\", 14], [\"p\", 15], [\"q\", 16], [\"r\", 17], [\"s\", 18], [\"t\", 19], [\"u\", 20], [\"v\", 21], [\"w\", 22], [\"x\", 23], [\"y\", 24], [\"z\", 25]]"
      ]
     },
     "execution_count": 85,
     "metadata": {},
     "output_type": "execute_result"
    }
   ],
   "source": [
    "# indexing enumerables (10.11.2)\n",
    "\n",
    "<<READ\n",
    "Enumerators have a with_index method that adds numerical indexing, \n",
    "as a second block parameter, to any enumeration. Here’s how you would\n",
    "use with_index to do the letter/number mapping.\n",
    "READ\n",
    "\n",
    "('a'..'z').map.with_index {|letter,i| [letter, i] }"
   ]
  },
  {
   "cell_type": "code",
   "execution_count": 87,
   "metadata": {},
   "outputs": [
    {
     "name": "stdout",
     "output_type": "stream",
     "text": [
      "\u0015K\u0000\u0017E\u0018H\u0007\u0011\u000f\u0017E\u0007U\u0001\f",
      "\n",
      "Nice little string.\n"
     ]
    }
   ],
   "source": [
    "# exclusive-or string ops (10.11.3)\n",
    "<<READ\n",
    "Running an exclusive-or (or XOR) operation on a string means XOR-ing each of its\n",
    "bytes with some value. XOR-ing a byte is a bitwise operation: each byte is \n",
    "represented by an integer, and the result of the XOR operation is an \n",
    "exclusive-or-ing of that integer with another number.\n",
    "READ\n",
    "\n",
    "class String\n",
    "    def ^(key)\n",
    "        kenum = key.each_byte.cycle\n",
    "        each_byte.map {|byte| byte ^ kenum.next}.pack(\"C*\")\n",
    "    end\n",
    "end\n",
    "str = \"Nice little string.\"; key = \"secret!\"\n",
    "puts x = str^key\n",
    "puts orig = x^key"
   ]
  },
  {
   "cell_type": "markdown",
   "metadata": {},
   "source": [
    "#### Lazy enumerators\n",
    "- Lazy enumerators make it easy to enumerate selectively over infinitely large collections. To illustrate what this means, let’s start with a case where an operation tries to enumerate over an infinitely large collection and gets stuck. What if you want to know the first 10 multiples of 3? To use an infinite collection, we’ll create a range that goes from 1 to the special value Float::INFINITY."
   ]
  }
 ],
 "metadata": {
  "kernelspec": {
   "display_name": "Ruby 2.7.1",
   "language": "ruby",
   "name": "ruby"
  },
  "language_info": {
   "file_extension": ".rb",
   "mimetype": "application/x-ruby",
   "name": "ruby",
   "version": "2.7.1"
  }
 },
 "nbformat": 4,
 "nbformat_minor": 4
}
