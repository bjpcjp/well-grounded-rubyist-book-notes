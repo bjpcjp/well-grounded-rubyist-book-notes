{
 "cells": [
  {
   "cell_type": "markdown",
   "metadata": {},
   "source": [
    "## Essential built-in classes & modules (Chap 7)\n",
    "![popular](px/Selection_158.png)"
   ]
  },
  {
   "cell_type": "markdown",
   "metadata": {},
   "source": [
    "#### Literal constructors\n",
    "![literal constructors](px/Selection_159.png)"
   ]
  },
  {
   "cell_type": "markdown",
   "metadata": {},
   "source": [
    "#### Recurrent syntactic sugar"
   ]
  },
  {
   "cell_type": "code",
   "execution_count": 50,
   "metadata": {},
   "outputs": [
    {
     "name": "stdout",
     "output_type": "stream",
     "text": [
      "15\n"
     ]
    }
   ],
   "source": [
    "# operator sugar (7.2.1)\n",
    "class Account\n",
    "    attr_accessor :balance\n",
    "    def initialize(amount=0)\n",
    "        self.balance=amount\n",
    "    end\n",
    "    def +(x)\n",
    "        self.balance += x\n",
    "    end\n",
    "    def -(x)\n",
    "        self.balance -= x\n",
    "    end\n",
    "    def to_s\n",
    "        balance.to_s\n",
    "    end\n",
    "end\n",
    "acc = Account.new(20); acc -= 5; puts acc"
   ]
  },
  {
   "cell_type": "markdown",
   "metadata": {},
   "source": [
    "![operator sugar](px/Selection_160.png)"
   ]
  },
  {
   "cell_type": "code",
   "execution_count": 49,
   "metadata": {},
   "outputs": [
    {
     "name": "stdout",
     "output_type": "stream",
     "text": [
      "eat at Joe's\n",
      "EAT AT JOE'S\n",
      "eat at joe's\n",
      "s'eoJ ta tae\n",
      "s'eoJ ta tae\n"
     ]
    }
   ],
   "source": [
    "# custom unary operators (7.2.2)\n",
    "class Banner\n",
    "    def initialize(text)\n",
    "        @text=text\n",
    "    end\n",
    "    def to_s\n",
    "        @text\n",
    "    end\n",
    "    def +@\n",
    "        @text.upcase\n",
    "    end\n",
    "    def -@\n",
    "        @text.downcase\n",
    "    end\n",
    "    def !\n",
    "        @text.reverse\n",
    "    end\n",
    "end\n",
    "banner = Banner.new(\"eat at Joe's\")\n",
    "puts banner\n",
    "puts +banner\n",
    "puts -banner\n",
    "puts !banner\n",
    "puts (not banner)"
   ]
  },
  {
   "cell_type": "markdown",
   "metadata": {},
   "source": [
    "#### Bang methods"
   ]
  },
  {
   "cell_type": "code",
   "execution_count": 52,
   "metadata": {},
   "outputs": [
    {
     "name": "stdout",
     "output_type": "stream",
     "text": [
      "HELLO\n",
      "HELLO\n"
     ]
    },
    {
     "data": {
      "text/plain": [
       "\"HELLO\""
      ]
     },
     "execution_count": 52,
     "metadata": {},
     "output_type": "execute_result"
    }
   ],
   "source": [
    "# destructive effects (7.3.1)\n",
    "str=\"hello\"\n",
    "puts str.upcase\n",
    "puts str.upcase!\n",
    "str"
   ]
  },
  {
   "cell_type": "code",
   "execution_count": 53,
   "metadata": {},
   "outputs": [],
   "source": [
    "# destructiveness and danger (7.3.2) - TODO"
   ]
  },
  {
   "cell_type": "markdown",
   "metadata": {},
   "source": [
    "#### Built-in and custom to_* methods"
   ]
  },
  {
   "cell_type": "code",
   "execution_count": 56,
   "metadata": {},
   "outputs": [
    {
     "name": "stdout",
     "output_type": "stream",
     "text": [
      "#<Object:0x000055f5b5cfbad8>\n",
      "#<Object:0x000055f5b5cfaef8>\n",
      "#<Object:0x000055f5b5cf9b48>\n"
     ]
    }
   ],
   "source": [
    "# string conversion (7.4.1)\n",
    "puts Object.new.to_s\n",
    "puts Object.new.inspect # a mini screen dump of the object's location\n",
    "puts Object.new.display # less used"
   ]
  },
  {
   "cell_type": "code",
   "execution_count": 57,
   "metadata": {},
   "outputs": [
    {
     "data": {
      "text/plain": [
       "[1, 2, 3, 4, 5, 6, 7]"
      ]
     },
     "execution_count": 57,
     "metadata": {},
     "output_type": "execute_result"
    }
   ],
   "source": [
    "# array conversion (7.4.2)\n",
    "(1...8).to_a"
   ]
  },
  {
   "cell_type": "code",
   "execution_count": 60,
   "metadata": {},
   "outputs": [
    {
     "name": "stdout",
     "output_type": "stream",
     "text": [
      "[1, 2, 3, 4, 5]\n",
      "[[1, 2, 3, 4, 5]]\n"
     ]
    }
   ],
   "source": [
    "# arrays, bare lists and the splat operator\n",
    "# use case: when you have an array of objects that needs to be\n",
    "#           sent to a method that's expecting a list of arguments.\n",
    "\n",
    "ary = [1,2,3,4,5]\n",
    "puts [*ary] # array demoted to bare list\n",
    "puts [ary] "
   ]
  },
  {
   "cell_type": "code",
   "execution_count": 62,
   "metadata": {},
   "outputs": [
    {
     "name": "stdout",
     "output_type": "stream",
     "text": [
      "101\n",
      "202.0\n"
     ]
    }
   ],
   "source": [
    "# numerical conversions (7.4.3)\n",
    "puts \"101\".to_i\n",
    "puts \"202\".to_f"
   ]
  },
  {
   "cell_type": "code",
   "execution_count": 63,
   "metadata": {},
   "outputs": [],
   "source": [
    "# string \"role playing\" (7.4.4) - TODO"
   ]
  },
  {
   "cell_type": "markdown",
   "metadata": {},
   "source": [
    "#### Booleans"
   ]
  },
  {
   "cell_type": "code",
   "execution_count": 67,
   "metadata": {},
   "outputs": [
    {
     "name": "stderr",
     "output_type": "stream",
     "text": [
      "(pry):417: warning: string literal in condition\n"
     ]
    },
    {
     "name": "stdout",
     "output_type": "stream",
     "text": [
      "this one is false.\n",
      "this one is true.\n",
      "true\n",
      "true\n",
      "true\n"
     ]
    }
   ],
   "source": [
    "# true & false as states (7.5.1)\n",
    "# every Ruby expression is either true or false in a Boolean sense.\n",
    "if (class MyClass end)\n",
    "    puts \"this one is true.\"\n",
    "else\n",
    "    puts \"this one is false.\"\n",
    "end\n",
    "\n",
    "if (class MyClass; 1; end)\n",
    "    puts \"this one is true.\"\n",
    "else\n",
    "    puts \"this one is false.\"\n",
    "end\n",
    "\n",
    "if (def m; return false; end)\n",
    "    puts \"true\"\n",
    "else\n",
    "    puts \"false\"\n",
    "end\n",
    "\n",
    "if \"string\"\n",
    "    puts \"true\"\n",
    "else\n",
    "    puts \"false\"\n",
    "end\n",
    "\n",
    "if 100>50\n",
    "    puts \"true\"\n",
    "else\n",
    "    puts \"false\"\n",
    "end"
   ]
  },
  {
   "cell_type": "code",
   "execution_count": 68,
   "metadata": {},
   "outputs": [
    {
     "name": "stdout",
     "output_type": "stream",
     "text": [
      "TrueClass\n",
      "FalseClass\n"
     ]
    }
   ],
   "source": [
    "# true & false as objects (7.5.2)\n",
    "puts true.class; puts false.class"
   ]
  },
  {
   "cell_type": "markdown",
   "metadata": {},
   "source": [
    "![true and false](px/Selection_161.png)"
   ]
  },
  {
   "cell_type": "code",
   "execution_count": 70,
   "metadata": {},
   "outputs": [
    {
     "name": "stdout",
     "output_type": "stream",
     "text": [
      "\n",
      "0\n",
      "8\n"
     ]
    }
   ],
   "source": [
    "# nil (7.5.3)\n",
    "# - nil is an object = only instance of NilClass. denotes absence of anything.\n",
    "# - nil is default value of nonexistent container & collection elements.\n",
    "puts nil.to_s\n",
    "puts nil.to_i\n",
    "puts nil.object_id"
   ]
  },
  {
   "cell_type": "markdown",
   "metadata": {},
   "source": [
    "#### Comparing two objects"
   ]
  },
  {
   "cell_type": "code",
   "execution_count": 71,
   "metadata": {},
   "outputs": [
    {
     "name": "stdout",
     "output_type": "stream",
     "text": [
      "true\n",
      "false\n",
      "true\n",
      "true\n",
      "false\n",
      "true\n",
      "false\n"
     ]
    }
   ],
   "source": [
    "# equality tests (7.6.1)\n",
    "a=Object.new; b=Object.new\n",
    "puts a==a # equal strings?\n",
    "puts a==b\n",
    "puts a!=b\n",
    "puts a.eql?(a) # equal strings?\n",
    "puts a.eql?(b)\n",
    "puts a.equal?(a) # exactly the same object?\n",
    "puts a.equal?(b)"
   ]
  },
  {
   "cell_type": "code",
   "execution_count": 72,
   "metadata": {},
   "outputs": [
    {
     "name": "stdout",
     "output_type": "stream",
     "text": [
      "true\n",
      "false\n"
     ]
    }
   ],
   "source": [
    "puts 5 ==   5.0\n",
    "puts 5.eql? 5.0"
   ]
  },
  {
   "cell_type": "code",
   "execution_count": 73,
   "metadata": {},
   "outputs": [
    {
     "data": {
      "text/plain": [
       "true"
      ]
     },
     "execution_count": 73,
     "metadata": {},
     "output_type": "execute_result"
    }
   ],
   "source": [
    "# comparable Module\n",
    "# >, >=, < <=, ==, !=, between?\n",
    "\n",
    "class Bid\n",
    "    include Comparable\n",
    "    attr_accessor :estimate\n",
    "    def <=>(otherbid) # \"spaceship\" method\n",
    "        if self.estimate < otherbid.estimate\n",
    "            -1\n",
    "        elsif self.estimate > otherbid.estimate\n",
    "            1\n",
    "        else 0\n",
    "        end\n",
    "    end\n",
    "end\n",
    "bid1 = Bid.new;      bid2 = Bid.new\n",
    "bid1.estimate = 100; bid2.estimate = 105\n",
    "bid1<bid2"
   ]
  },
  {
   "cell_type": "markdown",
   "metadata": {},
   "source": [
    "#### Object capabilities"
   ]
  },
  {
   "cell_type": "code",
   "execution_count": 75,
   "metadata": {},
   "outputs": [
    {
     "name": "stdout",
     "output_type": "stream",
     "text": []
    },
    {
     "name": "stdout",
     "output_type": "stream",
     "text": [
      "[:!,\n",
      " :!=,\n",
      " :!~,\n",
      " :%,\n",
      " :*,\n",
      " :+,\n",
      " :+@,\n",
      " :-@,\n",
      " :<,\n",
      " :<<,\n",
      " :<=,\n",
      " :<=>,\n",
      " :==,\n",
      " :===,\n",
      " :=~,\n",
      " :>,\n",
      " :>=,\n",
      " :[],\n",
      " :[]=,\n",
      " :__binding__,\n",
      " :__id__,\n",
      " :__send__,\n",
      " :ascii_only?,\n",
      " :b,\n",
      " :between?,\n",
      " :bytes,\n",
      " :bytesize,\n",
      " :byteslice,\n",
      " :capitalize,\n",
      " :capitalize!,\n",
      " :casecmp,\n",
      " :casecmp?,\n",
      " :center,\n",
      " :chars,\n",
      " :chomp,\n",
      " :chomp!,\n",
      " :chop,\n",
      " :chop!,\n",
      " :chr,\n",
      " :clamp,\n",
      " :class,\n",
      " :clear,\n",
      " :clone,\n",
      " :codepoints,\n",
      " :concat,\n",
      " :count,\n",
      " :crypt,\n",
      " :define_singleton_method,\n",
      " :delete,\n",
      " :delete!,\n",
      " :delete_prefix,\n",
      " :delete_prefix!,\n",
      " :delete_suffix,\n",
      " :delete_suffix!,\n",
      " :display,\n",
      " :downcase,\n",
      " :downcase!,\n",
      " :dump,\n",
      " :dup,\n",
      " :each_byte,\n",
      " :each_char,\n",
      " :each_codepoint,\n",
      " :each_grapheme_cluster,\n",
      " :each_line,\n",
      " :empty?,\n",
      " :encode,\n",
      " :encode!,\n",
      " :encoding,\n",
      " :end_with?,\n",
      " :enum_for,\n",
      " :eql?,\n",
      " :equal?,\n",
      " :extend,\n",
      " :force_encoding,\n",
      " :freeze,\n",
      " :frozen?,\n",
      " :getbyte,\n",
      " :grapheme_clusters,\n",
      " :gsub,\n",
      " :gsub!,\n",
      " :hash,\n",
      " :hex,\n",
      " :include?,\n",
      " :index,\n",
      " :insert,\n",
      " :inspect,\n",
      " :instance_eval,\n",
      " :instance_exec,\n",
      " :instance_of?,\n",
      " :instance_variable_defined?,\n",
      " :instance_variable_get,\n",
      " :instance_variable_set,\n",
      " :instance_variables,\n",
      " :intern,\n",
      " :is_a?,\n",
      " :itself,\n",
      " :kind_of?,\n",
      " :length,\n",
      " :lines,\n",
      " :ljust,\n",
      " :lstrip,\n",
      " :lstrip!,\n",
      " :match,\n",
      " :match?,\n",
      " :method,\n",
      " :methods,\n",
      " :next,\n",
      " :next!,\n",
      " :nil?,\n",
      " :object_id,\n",
      " :oct,\n",
      " :ord,\n",
      " :partition,\n",
      " :prepend,\n",
      " :pretty_inspect,\n",
      " :pretty_print,\n",
      " :pretty_print_cycle,\n",
      " :pretty_print_inspect,\n",
      " :pretty_print_instance_variables,\n",
      " :private_methods,\n",
      " :protected_methods,\n",
      " :pry,\n",
      " :public_method,\n",
      " :public_methods,\n",
      " :public_send,\n",
      " :remove_instance_variable,\n",
      " :replace,\n",
      " :respond_to?,\n",
      " :reverse,\n",
      " :reverse!,\n",
      " :rindex,\n",
      " :rjust,\n",
      " :rpartition,\n",
      " :rstrip,\n",
      " :rstrip!,\n",
      " :scan,\n",
      " :scrub,\n",
      " :scrub!,\n",
      " :send,\n",
      " :setbyte,\n",
      " :shellescape,\n",
      " :shellsplit,\n",
      " :singleton_class,\n",
      " :singleton_method,\n",
      " :singleton_methods,\n",
      " :size,\n",
      " :slice,\n",
      " :slice!,\n",
      " :split,\n",
      " :squeeze,\n",
      " :squeeze!,\n",
      " :start_with?,\n",
      " :strip,\n",
      " :strip!,\n",
      " :sub,\n",
      " :sub!,\n",
      " :succ,\n",
      " :succ!,\n",
      " :sum,\n",
      " :swapcase,\n",
      " :swapcase!,\n",
      " :taint,\n",
      " :tainted?,\n",
      " :tap,\n",
      " :then,\n",
      " :to_c,\n",
      " :to_enum,\n",
      " :to_f,\n",
      " :to_i,\n",
      " :to_json,\n",
      " :to_json_raw,\n",
      " :to_json_raw_object,\n",
      " :to_r,\n",
      " :to_s,\n",
      " :to_str,\n",
      " :to_sym,\n",
      " :tr,\n",
      " :tr!,\n",
      " :tr_s,\n",
      " :tr_s!,\n",
      " :trust,\n",
      " :undump,\n",
      " :unicode_normalize,\n",
      " :unicode_normalize!,\n",
      " :unicode_normalized?,\n",
      " :unpack,\n",
      " :unpack1,\n",
      " :untaint,\n",
      " :untrust,\n",
      " :untrusted?,\n",
      " :upcase,\n",
      " :upcase!,\n",
      " :upto,\n",
      " :valid_encoding?,\n",
      " :yield_self]\n"
     ]
    }
   ],
   "source": [
    "PP.pp \"I am a string\".methods.sort"
   ]
  },
  {
   "cell_type": "code",
   "execution_count": 76,
   "metadata": {},
   "outputs": [
    {
     "name": "stdout",
     "output_type": "stream",
     "text": []
    },
    {
     "name": "stdout",
     "output_type": "stream",
     "text": [
      "[]\n"
     ]
    }
   ],
   "source": [
    "PP.pp \"i am a string\".singleton_methods.sort"
   ]
  },
  {
   "cell_type": "code",
   "execution_count": 78,
   "metadata": {},
   "outputs": [
    {
     "data": {
      "text/plain": [
       "[:!, :!=, :!~, :%, :*, :+, :+@, :-@, :<, :<<, :<=, :<=>, :==, :===, :=~, :>, :>=, :[], :[]=, :__binding__, :__id__, :__send__, :ascii_only?, :b, :between?, :bytes, :bytesize, :byteslice, :capitalize, :capitalize!, :casecmp, :casecmp?, :center, :chars, :chomp, :chomp!, :chop, :chop!, :chr, :clamp, :class, :clear, :clone, :codepoints, :concat, :count, :crypt, :define_singleton_method, :delete, :delete!, :delete_prefix, :delete_prefix!, :delete_suffix, :delete_suffix!, :display, :downcase, :downcase!, :dump, :dup, :each_byte, :each_char, :each_codepoint, :each_grapheme_cluster, :each_line, :empty?, :encode, :encode!, :encoding, :end_with?, :enum_for, :eql?, :equal?, :extend, :force_encoding, :freeze, :frozen?, :getbyte, :grapheme_clusters, :gsub, :gsub!, :hash, :hex, :include?, :index, :insert, :inspect, :instance_eval, :instance_exec, :instance_of?, :instance_variable_defined?, :instance_variable_get, :instance_variable_set, :instance_variables, :intern, :is_a?, :itself, :kind_of?, :length, :lines, :ljust, :lstrip, :lstrip!, :match, :match?, :method, :methods, :next, :next!, :nil?, :object_id, :oct, :ord, :partition, :prepend, :pretty_inspect, :pretty_print, :pretty_print_cycle, :pretty_print_inspect, :pretty_print_instance_variables, :private_methods, :protected_methods, :pry, :public_method, :public_methods, :public_send, :remove_instance_variable, :replace, :respond_to?, :reverse, :reverse!, :rindex, :rjust, :rpartition, :rstrip, :rstrip!, :scan, :scrub, :scrub!, :send, :setbyte, :shellescape, :shellsplit, :singleton_class, :singleton_method, :singleton_methods, :size, :slice, :slice!, :split, :squeeze, :squeeze!, :start_with?, :strip, :strip!, :sub, :sub!, :succ, :succ!, :sum, :swapcase, :swapcase!, :taint, :tainted?, :tap, :then, :to_c, :to_enum, :to_f, :to_i, :to_json, :to_json_raw, :to_json_raw_object, :to_r, :to_s, :to_str, :to_sym, :tr, :tr!, :tr_s, :tr_s!, :trust, :undump, :unicode_normalize, :unicode_normalize!, :unicode_normalized?, :unpack, :unpack1, :untaint, :untrust, :untrusted?, :upcase, :upcase!, :upto, :valid_encoding?, :yield_self]"
      ]
     },
     "execution_count": 78,
     "metadata": {},
     "output_type": "execute_result"
    }
   ],
   "source": [
    "# class & module object methods\n",
    "#PP.pp String.instance_methods.sort\n",
    "String.instance_methods.sort"
   ]
  },
  {
   "cell_type": "code",
   "execution_count": 79,
   "metadata": {},
   "outputs": [
    {
     "data": {
      "text/plain": [
       "[:all?, :any?, :chain, :chunk, :chunk_while, :collect, :collect_concat, :count, :cycle, :detect, :drop, :drop_while, :each_cons, :each_entry, :each_slice, :each_with_index, :each_with_object, :entries, :filter, :filter_map, :find, :find_all, :find_index, :first, :flat_map, :grep, :grep_v, :group_by, :include?, :inject, :lazy, :map, :max, :max_by, :member?, :min, :min_by, :minmax, :minmax_by, :none?, :one?, :partition, :reduce, :reject, :reverse_each, :select, :slice_after, :slice_before, :slice_when, :sort, :sort_by, :sum, :take, :take_while, :tally, :to_a, :to_h, :to_set, :uniq, :zip]"
      ]
     },
     "execution_count": 79,
     "metadata": {},
     "output_type": "execute_result"
    }
   ],
   "source": [
    "Enumerable.instance_methods.sort"
   ]
  },
  {
   "cell_type": "code",
   "execution_count": 81,
   "metadata": {},
   "outputs": [
    {
     "data": {
      "text/plain": [
       "[:%, :*, :+, :+@, :-@, :<<, :<=>, :==, :===, :=~, :[], :[]=, :ascii_only?, :b, :bytes, :bytesize, :byteslice, :capitalize, :capitalize!, :casecmp, :casecmp?, :center, :chars, :chomp, :chomp!, :chop, :chop!, :chr, :clear, :codepoints, :concat, :count, :crypt, :delete, :delete!, :delete_prefix, :delete_prefix!, :delete_suffix, :delete_suffix!, :downcase, :downcase!, :dump, :each_byte, :each_char, :each_codepoint, :each_grapheme_cluster, :each_line, :empty?, :encode, :encode!, :encoding, :end_with?, :eql?, :force_encoding, :freeze, :getbyte, :grapheme_clusters, :gsub, :gsub!, :hash, :hex, :include?, :index, :insert, :inspect, :intern, :length, :lines, :ljust, :lstrip, :lstrip!, :match, :match?, :next, :next!, :oct, :ord, :partition, :prepend, :pretty_print, :replace, :reverse, :reverse!, :rindex, :rjust, :rpartition, :rstrip, :rstrip!, :scan, :scrub, :scrub!, :setbyte, :shellescape, :shellsplit, :size, :slice, :slice!, :split, :squeeze, :squeeze!, :start_with?, :strip, :strip!, :sub, :sub!, :succ, :succ!, :sum, :swapcase, :swapcase!, :to_c, :to_f, :to_i, :to_r, :to_s, :to_str, :to_sym, :tr, :tr!, :tr_s, :tr_s!, :undump, :unicode_normalize, :unicode_normalize!, :unicode_normalized?, :unpack, :unpack1, :upcase, :upcase!, :upto, :valid_encoding?]"
      ]
     },
     "execution_count": 81,
     "metadata": {},
     "output_type": "execute_result"
    }
   ],
   "source": [
    "# filtered & selected method lists\n",
    "String.instance_methods(false).sort\n",
    "\n",
    "# instance level:\n",
    "# obj.private_methods, .public_methods, .protected_methods, .singleton_methods\n",
    "# class level:\n",
    "# MyClass.private_instance_methods\n",
    "# MyClass.protected_instance_methods\n",
    "# MyClass.public_instance_methods"
   ]
  }
 ],
 "metadata": {
  "kernelspec": {
   "display_name": "Ruby 2.7.1",
   "language": "ruby",
   "name": "ruby"
  },
  "language_info": {
   "file_extension": ".rb",
   "mimetype": "application/x-ruby",
   "name": "ruby",
   "version": "2.7.1"
  }
 },
 "nbformat": 4,
 "nbformat_minor": 4
}
