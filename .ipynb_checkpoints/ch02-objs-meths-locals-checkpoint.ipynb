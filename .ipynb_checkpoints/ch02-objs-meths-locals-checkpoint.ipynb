{
 "cells": [
  {
   "cell_type": "markdown",
   "metadata": {},
   "source": [
    "## Objects, methods & local variables (Chap 2)"
   ]
  },
  {
   "cell_type": "markdown",
   "metadata": {},
   "source": [
    "#### Talking to objects"
   ]
  },
  {
   "cell_type": "code",
   "execution_count": 4,
   "metadata": {},
   "outputs": [
    {
     "data": {
      "text/plain": [
       "#<Object:0x000055e6938bfce8>"
      ]
     },
     "execution_count": 4,
     "metadata": {},
     "output_type": "execute_result"
    }
   ],
   "source": [
    "# creating a generic object (2.1.2)\n",
    "obj = Object.new"
   ]
  },
  {
   "cell_type": "code",
   "execution_count": 5,
   "metadata": {},
   "outputs": [
    {
     "name": "stdout",
     "output_type": "stream",
     "text": [
      "howdy\n"
     ]
    }
   ],
   "source": [
    "def obj.talk\n",
    "    puts \"howdy\"\n",
    "end\n",
    "\n",
    "obj.talk"
   ]
  },
  {
   "cell_type": "code",
   "execution_count": 6,
   "metadata": {},
   "outputs": [
    {
     "name": "stdout",
     "output_type": "stream",
     "text": [
      "212.0\n"
     ]
    }
   ],
   "source": [
    "# methods that take arguments (2.1.3)\n",
    "def obj.c2f(c)\n",
    "    c*9.0/5+32\n",
    "end\n",
    "\n",
    "puts obj.c2f(100)"
   ]
  },
  {
   "cell_type": "code",
   "execution_count": 7,
   "metadata": {},
   "outputs": [
    {
     "data": {
      "text/plain": [
       ":c2f"
      ]
     },
     "execution_count": 7,
     "metadata": {},
     "output_type": "execute_result"
    }
   ],
   "source": [
    "# return values (2.1.4)\n",
    "def obj.c2f(c)\n",
    "    return c*9.0/5+32\n",
    "end"
   ]
  },
  {
   "cell_type": "markdown",
   "metadata": {},
   "source": [
    "#### Building an object"
   ]
  },
  {
   "cell_type": "code",
   "execution_count": 8,
   "metadata": {},
   "outputs": [
    {
     "data": {
      "text/plain": [
       ":price"
      ]
     },
     "execution_count": 8,
     "metadata": {},
     "output_type": "execute_result"
    }
   ],
   "source": [
    "# creating (2.2.1)\n",
    "ticket = Object.new\n",
    "\n",
    "def ticket.date\n",
    "    \"1903-01-02\"\n",
    "end\n",
    "def ticket.venue\n",
    "    \"town hall\"\n",
    "end\n",
    "def ticket.price\n",
    "    150.00\n",
    "end"
   ]
  },
  {
   "cell_type": "code",
   "execution_count": 10,
   "metadata": {},
   "outputs": [
    {
     "name": "stdout",
     "output_type": "stream",
     "text": [
      "150.0\n",
      "150.00\n"
     ]
    }
   ],
   "source": [
    "# queries (2.2.2)\n",
    "puts ticket.price\n",
    "puts \"%.2f\" % ticket.price"
   ]
  },
  {
   "cell_type": "code",
   "execution_count": 11,
   "metadata": {},
   "outputs": [
    {
     "name": "stdout",
     "output_type": "stream",
     "text": [
      "ticket price: 150.0\n"
     ]
    }
   ],
   "source": [
    "# string interpolation (2.2.3)\n",
    "puts \"ticket price: #{ticket.price}\""
   ]
  },
  {
   "cell_type": "markdown",
   "metadata": {},
   "source": [
    "#### Object behaviors"
   ]
  },
  {
   "cell_type": "code",
   "execution_count": 13,
   "metadata": {},
   "outputs": [
    {
     "name": "stdout",
     "output_type": "stream",
     "text": [
      "[:!, :!=, :!~, :<=>, :==, :===, :=~, :__binding__, :__id__, :__send__, :class, :clone, :define_singleton_method, :display, :dup, :enum_for, :eql?, :equal?, :extend, :freeze, :frozen?, :hash, :inspect, :instance_eval, :instance_exec, :instance_of?, :instance_variable_defined?, :instance_variable_get, :instance_variable_set, :instance_variables, :is_a?, :itself, :kind_of?, :method, :methods, :nil?, :object_id, :pretty_inspect, :pretty_print, :pretty_print_cycle, :pretty_print_inspect, :pretty_print_instance_variables, :private_methods, :protected_methods, :pry, :public_method, :public_methods, :public_send, :remove_instance_variable, :respond_to?, :send, :singleton_class, :singleton_method, :singleton_methods, :taint, :tainted?, :tap, :then, :to_enum, :to_json, :to_s, :trust, :untaint, :untrust, :untrusted?, :yield_self]\n"
     ]
    }
   ],
   "source": [
    "puts Object.new.methods.sort"
   ]
  },
  {
   "cell_type": "code",
   "execution_count": 14,
   "metadata": {},
   "outputs": [
    {
     "name": "stdout",
     "output_type": "stream",
     "text": [
      "object id: 1240\n",
      "string id: 1260\n"
     ]
    }
   ],
   "source": [
    "# ID'ing unique objects (2.3.1)\n",
    "obj = Object.new\n",
    "str = \"strings are objects too.\"\n",
    "\n",
    "puts \"object id: #{obj.object_id}\"\n",
    "puts \"string id: #{str.object_id}\""
   ]
  },
  {
   "cell_type": "code",
   "execution_count": 15,
   "metadata": {},
   "outputs": [
    {
     "name": "stdout",
     "output_type": "stream",
     "text": [
      "sorry. no method.\n"
     ]
    }
   ],
   "source": [
    "# Finding an object's abilities (2.3.2)\n",
    "obj = Object.new\n",
    "if obj.respond_to?(\"talk\")\n",
    "    obj.talk\n",
    "else\n",
    "    puts \"sorry. no method.\"\n",
    "end\n"
   ]
  },
  {
   "cell_type": "code",
   "execution_count": 17,
   "metadata": {},
   "outputs": [
    {
     "name": "stdout",
     "output_type": "stream",
     "text": [
      "sorry. no info available.\n"
     ]
    }
   ],
   "source": [
    "# sending msgs to objects (2.3.3)\n",
    "\n",
    "request = \"test string with trailing whitespace   \"\n",
    "request = request.chomp # remove whitespace\n",
    "\n",
    "if ticket.respond_to?(request)\n",
    "    puts ticket.send(request)\n",
    "else\n",
    "    puts \"sorry. no info available.\"\n",
    "end\n",
    "\n",
    "# ------------------------------------------------\n",
    "# __send__ = alternative method, helps avoid name\n",
    "#            collisions. also:\n",
    "# public_send = another alternative.\n",
    "#               can't access object's private methods.\n",
    "#               (send) can."
   ]
  },
  {
   "cell_type": "markdown",
   "metadata": {},
   "source": [
    "#### Method arguments"
   ]
  },
  {
   "cell_type": "code",
   "execution_count": 172,
   "metadata": {},
   "outputs": [
    {
     "name": "stdout",
     "output_type": "stream",
     "text": [
      "nope. can't do that.\n"
     ]
    }
   ],
   "source": [
    "# required vs optional args (2.4.1)\n",
    "obj = Object.new\n",
    "def obj.one_arg(x)\n",
    "    puts \"one arg required.\"\n",
    "end\n",
    "begin\n",
    "    obj.one_arg(1,2,3)\n",
    "rescue\n",
    "    puts \"nope. can't do that.\"\n",
    "end"
   ]
  },
  {
   "cell_type": "code",
   "execution_count": 20,
   "metadata": {},
   "outputs": [
    {
     "name": "stdout",
     "output_type": "stream",
     "text": [
      "zero or more args ok.\n"
     ]
    }
   ],
   "source": [
    "def obj.multiargs(*x)\n",
    "    puts \"zero or more args ok.\"\n",
    "end\n",
    "obj.multiargs(1,2,3)"
   ]
  },
  {
   "cell_type": "code",
   "execution_count": 21,
   "metadata": {},
   "outputs": [
    {
     "name": "stdout",
     "output_type": "stream",
     "text": [
      "1\n",
      "2\n",
      "[3, 4, 5]\n"
     ]
    }
   ],
   "source": [
    "def obj.two_or_more(a,b,*c)\n",
    "    puts a,b,c\n",
    "end\n",
    "obj.two_or_more(1,2,3,4,5)"
   ]
  },
  {
   "cell_type": "code",
   "execution_count": 23,
   "metadata": {},
   "outputs": [
    {
     "name": "stdout",
     "output_type": "stream",
     "text": [
      "100\n",
      "200\n",
      "1\n",
      "100\n",
      "200\n",
      "300\n"
     ]
    }
   ],
   "source": [
    "# default args (2.4.2)\n",
    "def default_args(a,b,c=1)\n",
    "    puts a,b,c\n",
    "end\n",
    "default_args(100,200); default_args(100,200,300)"
   ]
  },
  {
   "cell_type": "code",
   "execution_count": 30,
   "metadata": {},
   "outputs": [
    {
     "name": "stdout",
     "output_type": "stream",
     "text": [
      "1\n",
      "2\n",
      "[3, 4, 5]\n",
      "6\n"
     ]
    }
   ],
   "source": [
    "# argument order (2.4.3)\n",
    "def mixed_args(a,b,*c,d)\n",
    "    puts a,b,c,d\n",
    "end\n",
    "mixed_args(1,2,3,4,5,6)"
   ]
  },
  {
   "cell_type": "code",
   "execution_count": 31,
   "metadata": {},
   "outputs": [
    {
     "name": "stdout",
     "output_type": "stream",
     "text": [
      "1\n",
      "2\n",
      "[]\n",
      "3\n"
     ]
    }
   ],
   "source": [
    "mixed_args(1,2,3)"
   ]
  },
  {
   "cell_type": "code",
   "execution_count": 33,
   "metadata": {},
   "outputs": [
    {
     "data": {
      "text/plain": [
       ":all_optional"
      ]
     },
     "execution_count": 33,
     "metadata": {},
     "output_type": "execute_result"
    }
   ],
   "source": [
    "# things you can't do in arg lists (2.4.4)\n",
    "# required args get priority - all opts need to be\n",
    "#   in the middle.\n",
    "def all_optional(*args)\n",
    "end"
   ]
  },
  {
   "cell_type": "code",
   "execution_count": 34,
   "metadata": {},
   "outputs": [
    {
     "name": "stdout",
     "output_type": "stream",
     "text": [
      "SyntaxError: unexpected '=', expecting ')'\n",
      "def broken_args(x,*y,z=1)\n",
      "                      ^\n"
     ]
    }
   ],
   "source": [
    "# can't put argument \"sponge\" to the left of any\n",
    "#   default-valued args.\n",
    "def broken_args(x,*y,z=1)\n",
    "end"
   ]
  },
  {
   "cell_type": "markdown",
   "metadata": {},
   "source": [
    "#### Local variables\n",
    "- start with lowercase letter or underscore.\n",
    "- may contain alphanumerics and/or underscores."
   ]
  },
  {
   "cell_type": "code",
   "execution_count": 35,
   "metadata": {},
   "outputs": [
    {
     "name": "stdout",
     "output_type": "stream",
     "text": [
      "Hello\n"
     ]
    }
   ],
   "source": [
    "# variables, objects, refs (2.5.1)\n",
    "str = \"Hello\"\n",
    "abc = str\n",
    "puts abc"
   ]
  },
  {
   "cell_type": "code",
   "execution_count": 36,
   "metadata": {},
   "outputs": [
    {
     "name": "stdout",
     "output_type": "stream",
     "text": [
      "Goodbye\n",
      "Goodbye\n"
     ]
    }
   ],
   "source": [
    "def say_goodbye\n",
    "    str = \"Hello\"; abc = str\n",
    "    str.replace(\"Goodbye\")\n",
    "    puts str,abc\n",
    "end\n",
    "say_goodbye"
   ]
  },
  {
   "cell_type": "code",
   "execution_count": 37,
   "metadata": {},
   "outputs": [
    {
     "name": "stdout",
     "output_type": "stream",
     "text": [
      "goodbye\n",
      "hello\n"
     ]
    }
   ],
   "source": [
    "# refs in variable assignment/reassignment (2.5.2)\n",
    "str = \"hello\"; abc = str\n",
    "str = \"goodbye\"\n",
    "puts str,abc"
   ]
  },
  {
   "cell_type": "code",
   "execution_count": 38,
   "metadata": {},
   "outputs": [
    {
     "name": "stdout",
     "output_type": "stream",
     "text": [
      "new string\n"
     ]
    }
   ],
   "source": [
    "# refs and method arguments (2.5.3)\n",
    "def change_str(str)\n",
    "    str.replace(\"new string\")\n",
    "end\n",
    "s = \"orig string\"; change_str(s); puts s"
   ]
  },
  {
   "cell_type": "code",
   "execution_count": 39,
   "metadata": {},
   "outputs": [
    {
     "name": "stdout",
     "output_type": "stream",
     "text": [
      "orig string\n"
     ]
    }
   ],
   "source": [
    "# duplicate objects\n",
    "s = \"orig string\"; change_str(s.dup); puts s"
   ]
  },
  {
   "cell_type": "code",
   "execution_count": 41,
   "metadata": {},
   "outputs": [
    {
     "name": "stdout",
     "output_type": "stream",
     "text": [
      "can't do that.\n"
     ]
    }
   ],
   "source": [
    "# freezing objects (no unfreeze option, btw.)\n",
    "begin\n",
    "    s = \"orig string\"; s.freeze; change_str(s)\n",
    "rescue\n",
    "    puts \"can't do that.\"\n",
    "end"
   ]
  },
  {
   "cell_type": "code",
   "execution_count": 44,
   "metadata": {},
   "outputs": [
    {
     "name": "stdout",
     "output_type": "stream",
     "text": [
      "can't do that either.\n"
     ]
    }
   ],
   "source": [
    "# cloning objects\n",
    "begin\n",
    "    s = \"orig string\"; s.freeze\n",
    "    c = s.clone; change_str(c); puts c\n",
    "rescue\n",
    "    puts \"can't do that either.\"\n",
    "end"
   ]
  },
  {
   "cell_type": "code",
   "execution_count": 45,
   "metadata": {},
   "outputs": [],
   "source": [
    "# local variables & things that resemble them (2.5.4)\n",
    "# - plain words can be interpreted as local variables,\n",
    "#   Ruby keywords, or method calls."
   ]
  }
 ],
 "metadata": {
  "kernelspec": {
   "display_name": "Ruby 2.7.1",
   "language": "ruby",
   "name": "ruby"
  },
  "language_info": {
   "file_extension": ".rb",
   "mimetype": "application/x-ruby",
   "name": "ruby",
   "version": "2.7.1"
  }
 },
 "nbformat": 4,
 "nbformat_minor": 4
}
