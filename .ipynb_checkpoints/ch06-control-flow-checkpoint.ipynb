{
 "cells": [
  {
   "cell_type": "markdown",
   "metadata": {},
   "source": [
    "## Foundations - Bootstrapping"
   ]
  },
  {
   "cell_type": "markdown",
   "metadata": {},
   "source": [
    "#### Basic literacy"
   ]
  },
  {
   "cell_type": "markdown",
   "metadata": {},
   "source": [
    "#### Installation (1.1.1)\n",
    "- compiling from source: [http://www.ruby-lang.org](http://www.ruby-lang.org)\n",
    "- version managers:\n",
    "    - [RVM](https://rvm.io)\n",
    "    - [rbenv](https://github.com/rbenv/rbenv)\n",
    "    - [chruby](https://github.com/postmodern/chruby)\n",
    "- Windows users: [Ruby installer](https://rubyinstaller.org/)"
   ]
  },
  {
   "cell_type": "code",
   "execution_count": null,
   "metadata": {},
   "outputs": [],
   "source": [
    "# identifiers (1.1.3)\n",
    "# - variables (local, instance, class, global)\n",
    "# - constants\n",
    "# - keywords\n",
    "# - method names"
   ]
  },
  {
   "cell_type": "markdown",
   "metadata": {},
   "source": [
    "![variables](px/Selection_152.png)"
   ]
  },
  {
   "cell_type": "code",
   "execution_count": null,
   "metadata": {},
   "outputs": [],
   "source": [
    "# method calls, messages, ruby objects (1.1.4)"
   ]
  },
  {
   "cell_type": "code",
   "execution_count": null,
   "metadata": {},
   "outputs": [],
   "source": [
    "# writing & saving a simple program (1.1.5)"
   ]
  },
  {
   "cell_type": "code",
   "execution_count": null,
   "metadata": {},
   "outputs": [],
   "source": [
    "# feeding a program to ruby (1.1.6)"
   ]
  },
  {
   "cell_type": "code",
   "execution_count": null,
   "metadata": {},
   "outputs": [],
   "source": [
    "# keyboard & file i/o (1.1.7)"
   ]
  },
  {
   "cell_type": "markdown",
   "metadata": {},
   "source": [
    "#### Installation anatomy\n",
    "![key directories](px/Selection_153.png)"
   ]
  },
  {
   "cell_type": "code",
   "execution_count": 10,
   "metadata": {},
   "outputs": [],
   "source": [
    "#require 'pp'\n",
    "#PP.pp(RbConfig::CONFIG.sort)"
   ]
  },
  {
   "cell_type": "code",
   "execution_count": 12,
   "metadata": {},
   "outputs": [
    {
     "name": "stdout",
     "output_type": "stream",
     "text": []
    },
    {
     "name": "stdout",
     "output_type": "stream",
     "text": [
      "\"/usr/local/lib/ruby/2.7.0\"\n"
     ]
    }
   ],
   "source": [
    "# ruby standard library (RbConfig::CONFIG[\"rubylibdir\"]) (1.2.1)\n",
    "# example key files:\n",
    "# - uri.rb (uniform URI handling)\n",
    "# - fileutils.rb (file handling)\n",
    "# - tempfile.rb (auto-creation of temp files)\n",
    "# - benchmark.rb (measures system performance)\n",
    "PP.pp(RbConfig::CONFIG[\"rubylibdir\"])"
   ]
  },
  {
   "cell_type": "code",
   "execution_count": 13,
   "metadata": {},
   "outputs": [
    {
     "name": "stdout",
     "output_type": "stream",
     "text": []
    },
    {
     "name": "stdout",
     "output_type": "stream",
     "text": [
      "\"/usr/local/lib/ruby/2.7.0/x86_64-linux\"\n"
     ]
    }
   ],
   "source": [
    "# C extensions (RbConfig::CONFIG[\"archdir\"]) (1.2.2)\n",
    "PP.pp(RbConfig::CONFIG[\"archdir\"])"
   ]
  },
  {
   "cell_type": "code",
   "execution_count": 14,
   "metadata": {},
   "outputs": [
    {
     "name": "stdout",
     "output_type": "stream",
     "text": []
    },
    {
     "name": "stdout",
     "output_type": "stream",
     "text": [
      "\"/usr/local/lib/ruby/site_ruby\"\n",
      "\"/usr/local/lib/ruby/vendor_ruby\"\n"
     ]
    }
   ],
   "source": [
    "# extensions & libraries (RbConfig::CONFIG[\"sitedir\"])\n",
    "# 3rd party extensions   (RbConfig::CONFIG[\"vendirdir\"])\n",
    "\n",
    "PP.pp(RbConfig::CONFIG[\"sitedir\"])\n",
    "PP.pp(RbConfig::CONFIG[\"vendordir\"])"
   ]
  },
  {
   "cell_type": "markdown",
   "metadata": {},
   "source": [
    "#### standard RubyGems (packages) (1.2.4)\n",
    "![files](px/Selection_154.png)"
   ]
  },
  {
   "cell_type": "markdown",
   "metadata": {},
   "source": [
    "#### Extensions & libraries"
   ]
  },
  {
   "cell_type": "code",
   "execution_count": 16,
   "metadata": {},
   "outputs": [
    {
     "name": "stdout",
     "output_type": "stream",
     "text": []
    },
    {
     "name": "stdout",
     "output_type": "stream",
     "text": [
      "[\"/home/bjpcjp/.gem/ruby/2.7.0/gems/iruby-0.4.0/lib\",\n",
      " \"/home/bjpcjp/.gem/ruby/2.7.0/gems/bond-0.5.1/lib\",\n",
      " \"/home/bjpcjp/.gem/ruby/2.7.0/extensions/x86_64-linux/2.7.0-static/bond-0.5.1\",\n",
      " \"/home/bjpcjp/.gem/ruby/2.7.0/gems/multi_json-1.14.1/lib\",\n",
      " \"/usr/local/lib/ruby/gems/2.7.0/gems/mimemagic-0.3.5/lib\",\n",
      " \"/home/bjpcjp/.gem/ruby/2.7.0/gems/data_uri-0.1.0/lib\",\n",
      " \"/home/bjpcjp/.gem/ruby/2.7.0/gems/iruby-0.4.0/lib\",\n",
      " \"/home/bjpcjp/.gem/ruby/2.7.0/gems/czmq-ffi-gen-0.16.1/lib\",\n",
      " \"/home/bjpcjp/.gem/ruby/2.7.0/gems/cztop-0.14.1/lib\",\n",
      " \"/usr/local/lib/ruby/gems/2.7.0/gems/ffi-1.13.1/lib\",\n",
      " \"/usr/local/lib/ruby/gems/2.7.0/extensions/x86_64-linux/2.7.0-static/ffi-1.13.1\",\n",
      " \"/usr/local/lib/ruby/gems/2.7.0/gems/coderay-1.1.2/lib\",\n",
      " \"/usr/local/lib/ruby/gems/2.7.0/gems/method_source-1.0.0/lib\",\n",
      " \"/usr/local/lib/ruby/gems/2.7.0/gems/pry-0.13.1/lib\",\n",
      " \"/usr/local/lib/ruby/site_ruby/2.7.0\",\n",
      " \"/usr/local/lib/ruby/site_ruby/2.7.0/x86_64-linux\",\n",
      " \"/usr/local/lib/ruby/site_ruby\",\n",
      " \"/usr/local/lib/ruby/vendor_ruby/2.7.0\",\n",
      " \"/usr/local/lib/ruby/vendor_ruby/2.7.0/x86_64-linux\",\n",
      " \"/usr/local/lib/ruby/vendor_ruby\",\n",
      " \"/usr/local/lib/ruby/2.7.0\",\n",
      " \"/usr/local/lib/ruby/2.7.0/x86_64-linux\"]\n"
     ]
    }
   ],
   "source": [
    "# loading a file - default load path (1.3.2)\n",
    "PP.pp($:)"
   ]
  },
  {
   "cell_type": "code",
   "execution_count": 18,
   "metadata": {},
   "outputs": [],
   "source": [
    "# requiring a file (1.3.3)\n",
    "# - require, if called more than once, doesn't reload files.\n",
    "# - more abstract than \"load\"; you are requiring a 'feature', not a file.\n",
    "# - this allows you to treat C extensions the same way as Ruby extensions."
   ]
  },
  {
   "cell_type": "code",
   "execution_count": 17,
   "metadata": {},
   "outputs": [],
   "source": [
    "# require_relative (1.3.4)\n",
    "# - loads features by searching directory of the calling file."
   ]
  },
  {
   "cell_type": "markdown",
   "metadata": {},
   "source": [
    "#### Out-of-the-box tools\n",
    "- _ruby_ - interpreter\n",
    "- _irb_ - interactive interpreter\n",
    "- _rdoc_, _ri_ - documentation\n",
    "- _rake_ - task manager\n",
    "- _gem_ - package manager\n",
    "- _erb_ - templating\n",
    "\n",
    "- command line switches:\n",
    "![part1](px/Selection_155.png)\n",
    "![part2](px/Selection_156.png)"
   ]
  },
  {
   "cell_type": "code",
   "execution_count": 21,
   "metadata": {},
   "outputs": [],
   "source": [
    "# irb interactive interpreter (1.4.2)"
   ]
  },
  {
   "cell_type": "code",
   "execution_count": 20,
   "metadata": {},
   "outputs": [],
   "source": [
    "# rake makefile manager (1.4.3)"
   ]
  },
  {
   "cell_type": "code",
   "execution_count": null,
   "metadata": {},
   "outputs": [],
   "source": [
    "# gem package manager (1.4.4)"
   ]
  },
  {
   "cell_type": "markdown",
   "metadata": {},
   "source": [
    "## Objects, methods & local variables (Chap 2)"
   ]
  },
  {
   "cell_type": "markdown",
   "metadata": {},
   "source": [
    "#### Talking to objects"
   ]
  },
  {
   "cell_type": "code",
   "execution_count": 4,
   "metadata": {},
   "outputs": [
    {
     "data": {
      "text/plain": [
       "#<Object:0x000055e6938bfce8>"
      ]
     },
     "execution_count": 4,
     "metadata": {},
     "output_type": "execute_result"
    }
   ],
   "source": [
    "# creating a generic object (2.1.2)\n",
    "obj = Object.new"
   ]
  },
  {
   "cell_type": "code",
   "execution_count": 5,
   "metadata": {},
   "outputs": [
    {
     "name": "stdout",
     "output_type": "stream",
     "text": [
      "howdy\n"
     ]
    }
   ],
   "source": [
    "def obj.talk\n",
    "    puts \"howdy\"\n",
    "end\n",
    "\n",
    "obj.talk"
   ]
  },
  {
   "cell_type": "code",
   "execution_count": 6,
   "metadata": {},
   "outputs": [
    {
     "name": "stdout",
     "output_type": "stream",
     "text": [
      "212.0\n"
     ]
    }
   ],
   "source": [
    "# methods that take arguments (2.1.3)\n",
    "def obj.c2f(c)\n",
    "    c*9.0/5+32\n",
    "end\n",
    "\n",
    "puts obj.c2f(100)"
   ]
  },
  {
   "cell_type": "code",
   "execution_count": 7,
   "metadata": {},
   "outputs": [
    {
     "data": {
      "text/plain": [
       ":c2f"
      ]
     },
     "execution_count": 7,
     "metadata": {},
     "output_type": "execute_result"
    }
   ],
   "source": [
    "# return values (2.1.4)\n",
    "def obj.c2f(c)\n",
    "    return c*9.0/5+32\n",
    "end"
   ]
  },
  {
   "cell_type": "markdown",
   "metadata": {},
   "source": [
    "#### Building an object"
   ]
  },
  {
   "cell_type": "code",
   "execution_count": 8,
   "metadata": {},
   "outputs": [
    {
     "data": {
      "text/plain": [
       ":price"
      ]
     },
     "execution_count": 8,
     "metadata": {},
     "output_type": "execute_result"
    }
   ],
   "source": [
    "# creating (2.2.1)\n",
    "ticket = Object.new\n",
    "\n",
    "def ticket.date\n",
    "    \"1903-01-02\"\n",
    "end\n",
    "def ticket.venue\n",
    "    \"town hall\"\n",
    "end\n",
    "def ticket.price\n",
    "    150.00\n",
    "end"
   ]
  },
  {
   "cell_type": "code",
   "execution_count": 10,
   "metadata": {},
   "outputs": [
    {
     "name": "stdout",
     "output_type": "stream",
     "text": [
      "150.0\n",
      "150.00\n"
     ]
    }
   ],
   "source": [
    "# queries (2.2.2)\n",
    "puts ticket.price\n",
    "puts \"%.2f\" % ticket.price"
   ]
  },
  {
   "cell_type": "code",
   "execution_count": 11,
   "metadata": {},
   "outputs": [
    {
     "name": "stdout",
     "output_type": "stream",
     "text": [
      "ticket price: 150.0\n"
     ]
    }
   ],
   "source": [
    "# string interpolation (2.2.3)\n",
    "puts \"ticket price: #{ticket.price}\""
   ]
  },
  {
   "cell_type": "markdown",
   "metadata": {},
   "source": [
    "#### Object behaviors"
   ]
  },
  {
   "cell_type": "code",
   "execution_count": 13,
   "metadata": {},
   "outputs": [
    {
     "name": "stdout",
     "output_type": "stream",
     "text": [
      "[:!, :!=, :!~, :<=>, :==, :===, :=~, :__binding__, :__id__, :__send__, :class, :clone, :define_singleton_method, :display, :dup, :enum_for, :eql?, :equal?, :extend, :freeze, :frozen?, :hash, :inspect, :instance_eval, :instance_exec, :instance_of?, :instance_variable_defined?, :instance_variable_get, :instance_variable_set, :instance_variables, :is_a?, :itself, :kind_of?, :method, :methods, :nil?, :object_id, :pretty_inspect, :pretty_print, :pretty_print_cycle, :pretty_print_inspect, :pretty_print_instance_variables, :private_methods, :protected_methods, :pry, :public_method, :public_methods, :public_send, :remove_instance_variable, :respond_to?, :send, :singleton_class, :singleton_method, :singleton_methods, :taint, :tainted?, :tap, :then, :to_enum, :to_json, :to_s, :trust, :untaint, :untrust, :untrusted?, :yield_self]\n"
     ]
    }
   ],
   "source": [
    "puts Object.new.methods.sort"
   ]
  },
  {
   "cell_type": "code",
   "execution_count": 14,
   "metadata": {},
   "outputs": [
    {
     "name": "stdout",
     "output_type": "stream",
     "text": [
      "object id: 1240\n",
      "string id: 1260\n"
     ]
    }
   ],
   "source": [
    "# ID'ing unique objects (2.3.1)\n",
    "obj = Object.new\n",
    "str = \"strings are objects too.\"\n",
    "\n",
    "puts \"object id: #{obj.object_id}\"\n",
    "puts \"string id: #{str.object_id}\""
   ]
  },
  {
   "cell_type": "code",
   "execution_count": 15,
   "metadata": {},
   "outputs": [
    {
     "name": "stdout",
     "output_type": "stream",
     "text": [
      "sorry. no method.\n"
     ]
    }
   ],
   "source": [
    "# Finding an object's abilities (2.3.2)\n",
    "obj = Object.new\n",
    "if obj.respond_to?(\"talk\")\n",
    "    obj.talk\n",
    "else\n",
    "    puts \"sorry. no method.\"\n",
    "end\n"
   ]
  },
  {
   "cell_type": "code",
   "execution_count": 17,
   "metadata": {},
   "outputs": [
    {
     "name": "stdout",
     "output_type": "stream",
     "text": [
      "sorry. no info available.\n"
     ]
    }
   ],
   "source": [
    "# sending msgs to objects (2.3.3)\n",
    "\n",
    "request = \"test string with trailing whitespace   \"\n",
    "request = request.chomp # remove whitespace\n",
    "\n",
    "if ticket.respond_to?(request)\n",
    "    puts ticket.send(request)\n",
    "else\n",
    "    puts \"sorry. no info available.\"\n",
    "end\n",
    "\n",
    "# ------------------------------------------------\n",
    "# __send__ = alternative method, helps avoid name\n",
    "#            collisions. also:\n",
    "# public_send = another alternative.\n",
    "#               can't access object's private methods.\n",
    "#               (send) can."
   ]
  },
  {
   "cell_type": "markdown",
   "metadata": {},
   "source": [
    "#### Method arguments"
   ]
  },
  {
   "cell_type": "code",
   "execution_count": 172,
   "metadata": {},
   "outputs": [
    {
     "name": "stdout",
     "output_type": "stream",
     "text": [
      "nope. can't do that.\n"
     ]
    }
   ],
   "source": [
    "# required vs optional args (2.4.1)\n",
    "obj = Object.new\n",
    "def obj.one_arg(x)\n",
    "    puts \"one arg required.\"\n",
    "end\n",
    "begin\n",
    "    obj.one_arg(1,2,3)\n",
    "rescue\n",
    "    puts \"nope. can't do that.\"\n",
    "end"
   ]
  },
  {
   "cell_type": "code",
   "execution_count": 20,
   "metadata": {},
   "outputs": [
    {
     "name": "stdout",
     "output_type": "stream",
     "text": [
      "zero or more args ok.\n"
     ]
    }
   ],
   "source": [
    "def obj.multiargs(*x)\n",
    "    puts \"zero or more args ok.\"\n",
    "end\n",
    "obj.multiargs(1,2,3)"
   ]
  },
  {
   "cell_type": "code",
   "execution_count": 21,
   "metadata": {},
   "outputs": [
    {
     "name": "stdout",
     "output_type": "stream",
     "text": [
      "1\n",
      "2\n",
      "[3, 4, 5]\n"
     ]
    }
   ],
   "source": [
    "def obj.two_or_more(a,b,*c)\n",
    "    puts a,b,c\n",
    "end\n",
    "obj.two_or_more(1,2,3,4,5)"
   ]
  },
  {
   "cell_type": "code",
   "execution_count": 23,
   "metadata": {},
   "outputs": [
    {
     "name": "stdout",
     "output_type": "stream",
     "text": [
      "100\n",
      "200\n",
      "1\n",
      "100\n",
      "200\n",
      "300\n"
     ]
    }
   ],
   "source": [
    "# default args (2.4.2)\n",
    "def default_args(a,b,c=1)\n",
    "    puts a,b,c\n",
    "end\n",
    "default_args(100,200); default_args(100,200,300)"
   ]
  },
  {
   "cell_type": "code",
   "execution_count": 30,
   "metadata": {},
   "outputs": [
    {
     "name": "stdout",
     "output_type": "stream",
     "text": [
      "1\n",
      "2\n",
      "[3, 4, 5]\n",
      "6\n"
     ]
    }
   ],
   "source": [
    "# argument order (2.4.3)\n",
    "def mixed_args(a,b,*c,d)\n",
    "    puts a,b,c,d\n",
    "end\n",
    "mixed_args(1,2,3,4,5,6)"
   ]
  },
  {
   "cell_type": "code",
   "execution_count": 31,
   "metadata": {},
   "outputs": [
    {
     "name": "stdout",
     "output_type": "stream",
     "text": [
      "1\n",
      "2\n",
      "[]\n",
      "3\n"
     ]
    }
   ],
   "source": [
    "mixed_args(1,2,3)"
   ]
  },
  {
   "cell_type": "code",
   "execution_count": 33,
   "metadata": {},
   "outputs": [
    {
     "data": {
      "text/plain": [
       ":all_optional"
      ]
     },
     "execution_count": 33,
     "metadata": {},
     "output_type": "execute_result"
    }
   ],
   "source": [
    "# things you can't do in arg lists (2.4.4)\n",
    "# required args get priority - all opts need to be\n",
    "#   in the middle.\n",
    "def all_optional(*args)\n",
    "end"
   ]
  },
  {
   "cell_type": "code",
   "execution_count": 34,
   "metadata": {},
   "outputs": [
    {
     "name": "stdout",
     "output_type": "stream",
     "text": [
      "SyntaxError: unexpected '=', expecting ')'\n",
      "def broken_args(x,*y,z=1)\n",
      "                      ^\n"
     ]
    }
   ],
   "source": [
    "# can't put argument \"sponge\" to the left of any\n",
    "#   default-valued args.\n",
    "def broken_args(x,*y,z=1)\n",
    "end"
   ]
  },
  {
   "cell_type": "markdown",
   "metadata": {},
   "source": [
    "#### Local variables\n",
    "- start with lowercase letter or underscore.\n",
    "- may contain alphanumerics and/or underscores."
   ]
  },
  {
   "cell_type": "code",
   "execution_count": 35,
   "metadata": {},
   "outputs": [
    {
     "name": "stdout",
     "output_type": "stream",
     "text": [
      "Hello\n"
     ]
    }
   ],
   "source": [
    "# variables, objects, refs (2.5.1)\n",
    "str = \"Hello\"\n",
    "abc = str\n",
    "puts abc"
   ]
  },
  {
   "cell_type": "code",
   "execution_count": 36,
   "metadata": {},
   "outputs": [
    {
     "name": "stdout",
     "output_type": "stream",
     "text": [
      "Goodbye\n",
      "Goodbye\n"
     ]
    }
   ],
   "source": [
    "def say_goodbye\n",
    "    str = \"Hello\"; abc = str\n",
    "    str.replace(\"Goodbye\")\n",
    "    puts str,abc\n",
    "end\n",
    "say_goodbye"
   ]
  },
  {
   "cell_type": "code",
   "execution_count": 37,
   "metadata": {},
   "outputs": [
    {
     "name": "stdout",
     "output_type": "stream",
     "text": [
      "goodbye\n",
      "hello\n"
     ]
    }
   ],
   "source": [
    "# refs in variable assignment/reassignment (2.5.2)\n",
    "str = \"hello\"; abc = str\n",
    "str = \"goodbye\"\n",
    "puts str,abc"
   ]
  },
  {
   "cell_type": "code",
   "execution_count": 38,
   "metadata": {},
   "outputs": [
    {
     "name": "stdout",
     "output_type": "stream",
     "text": [
      "new string\n"
     ]
    }
   ],
   "source": [
    "# refs and method arguments (2.5.3)\n",
    "def change_str(str)\n",
    "    str.replace(\"new string\")\n",
    "end\n",
    "s = \"orig string\"; change_str(s); puts s"
   ]
  },
  {
   "cell_type": "code",
   "execution_count": 39,
   "metadata": {},
   "outputs": [
    {
     "name": "stdout",
     "output_type": "stream",
     "text": [
      "orig string\n"
     ]
    }
   ],
   "source": [
    "# duplicate objects\n",
    "s = \"orig string\"; change_str(s.dup); puts s"
   ]
  },
  {
   "cell_type": "code",
   "execution_count": 41,
   "metadata": {},
   "outputs": [
    {
     "name": "stdout",
     "output_type": "stream",
     "text": [
      "can't do that.\n"
     ]
    }
   ],
   "source": [
    "# freezing objects (no unfreeze option, btw.)\n",
    "begin\n",
    "    s = \"orig string\"; s.freeze; change_str(s)\n",
    "rescue\n",
    "    puts \"can't do that.\"\n",
    "end"
   ]
  },
  {
   "cell_type": "code",
   "execution_count": 44,
   "metadata": {},
   "outputs": [
    {
     "name": "stdout",
     "output_type": "stream",
     "text": [
      "can't do that either.\n"
     ]
    }
   ],
   "source": [
    "# cloning objects\n",
    "begin\n",
    "    s = \"orig string\"; s.freeze\n",
    "    c = s.clone; change_str(c); puts c\n",
    "rescue\n",
    "    puts \"can't do that either.\"\n",
    "end"
   ]
  },
  {
   "cell_type": "code",
   "execution_count": 45,
   "metadata": {},
   "outputs": [],
   "source": [
    "# local variables & things that resemble them (2.5.4)\n",
    "# - plain words can be interpreted as local variables,\n",
    "#   Ruby keywords, or method calls."
   ]
  },
  {
   "cell_type": "markdown",
   "metadata": {},
   "source": [
    "## Classes (Chap 3)"
   ]
  },
  {
   "cell_type": "markdown",
   "metadata": {},
   "source": [
    "#### Classes & instances"
   ]
  },
  {
   "cell_type": "code",
   "execution_count": 46,
   "metadata": {},
   "outputs": [
    {
     "name": "stdout",
     "output_type": "stream",
     "text": [
      "no details yet.\n"
     ]
    }
   ],
   "source": [
    "class Ticket\n",
    "    def event\n",
    "        \"no details yet.\"\n",
    "    end\n",
    "end\n",
    "ticket = Ticket.new; puts ticket.event"
   ]
  },
  {
   "cell_type": "code",
   "execution_count": 47,
   "metadata": {},
   "outputs": [],
   "source": [
    "# instance methods (3.1.1)\n",
    "# \"def event\" = method shared by all tickets \n",
    "#             = an \"instance method\".\n",
    "# \"def ticket.price = methods that you define \n",
    "#                     for one specific object\n",
    "#                   = a \"singleton\" method."
   ]
  },
  {
   "cell_type": "code",
   "execution_count": 48,
   "metadata": {},
   "outputs": [
    {
     "name": "stdout",
     "output_type": "stream",
     "text": [
      "2nd def\n"
     ]
    }
   ],
   "source": [
    "# overriding methods (3.1.2)\n",
    "class C\n",
    "    def m\n",
    "        puts \"1st def\"\n",
    "    end\n",
    "    def m\n",
    "        puts \"2nd def\"\n",
    "    end\n",
    "end\n",
    "C.new.m"
   ]
  },
  {
   "cell_type": "code",
   "execution_count": 49,
   "metadata": {},
   "outputs": [
    {
     "name": "stdout",
     "output_type": "stream",
     "text": [
      "x is defined.\n",
      "y is defined.\n"
     ]
    }
   ],
   "source": [
    "# reopening classes (3.1.3)\n",
    "# often used when spreading class definitions\n",
    "#   across multiple files.\n",
    "class C\n",
    "    def x\n",
    "        puts \"x is defined.\"\n",
    "    end\n",
    "end\n",
    "class C\n",
    "    def y\n",
    "        puts \"y is defined.\"\n",
    "    end\n",
    "end\n",
    "C.new.x; C.new.y"
   ]
  },
  {
   "cell_type": "code",
   "execution_count": 51,
   "metadata": {},
   "outputs": [
    {
     "name": "stdout",
     "output_type": "stream",
     "text": [
      "2020-09-05 10:21:34 -0500\n"
     ]
    },
    {
     "data": {
      "text/plain": [
       "\"2020-09-05T10:21:34-05:00\""
      ]
     },
     "execution_count": 51,
     "metadata": {},
     "output_type": "execute_result"
    }
   ],
   "source": [
    "t = Time.new; puts t\n",
    "\n",
    "begin\n",
    "    t.xmlschema\n",
    "rescue\n",
    "    require 'time'; t.xmlschema\n",
    "end"
   ]
  },
  {
   "cell_type": "markdown",
   "metadata": {},
   "source": [
    "#### Instance variables & object state"
   ]
  },
  {
   "cell_type": "code",
   "execution_count": 52,
   "metadata": {},
   "outputs": [
    {
     "name": "stdout",
     "output_type": "stream",
     "text": [
      "dave\n"
     ]
    }
   ],
   "source": [
    "class Person\n",
    "    def set_name(s)\n",
    "        @name = s\n",
    "    end\n",
    "    def get_name\n",
    "        @name\n",
    "    end\n",
    "end\n",
    "joe = Person.new\n",
    "joe.set_name(\"dave\")\n",
    "puts joe.get_name"
   ]
  },
  {
   "cell_type": "code",
   "execution_count": 56,
   "metadata": {},
   "outputs": [
    {
     "name": "stdout",
     "output_type": "stream",
     "text": [
      "new ticket.\n",
      "new ticket.\n"
     ]
    },
    {
     "data": {
      "text/plain": [
       "#<Ticket:0x000055e69386f040 @venue=\"there\", @date=\"2020-10-01\">"
      ]
     },
     "execution_count": 56,
     "metadata": {},
     "output_type": "execute_result"
    }
   ],
   "source": [
    "# initializing an object with state (3.2.1)\n",
    "class Ticket\n",
    "    def initialize(venue,date)\n",
    "        puts \"new ticket.\"\n",
    "        @venue, @date = venue, date\n",
    "    end\n",
    "    def venue \n",
    "        @venue \n",
    "    end\n",
    "    def date  \n",
    "        @date  \n",
    "    end\n",
    "end\n",
    "t1 = Ticket.new('here', \"2020-09-01\")\n",
    "t2 = Ticket.new('there', \"2020-10-01\")"
   ]
  },
  {
   "cell_type": "markdown",
   "metadata": {},
   "source": [
    "#### Setters"
   ]
  },
  {
   "cell_type": "code",
   "execution_count": 59,
   "metadata": {},
   "outputs": [
    {
     "name": "stdout",
     "output_type": "stream",
     "text": [
      "here\n",
      "2020-09-01\n",
      "63.0\n"
     ]
    }
   ],
   "source": [
    "# Equal signs (\"=\") in method names (3.3.1)\n",
    "class Ticket\n",
    "    def initialize(venue,date)\n",
    "        @venue, @date = venue, date\n",
    "    end\n",
    "    def price\n",
    "        @price\n",
    "    end\n",
    "    def price=(amount)\n",
    "        @price = amount\n",
    "    end\n",
    "end\n",
    "t = Ticket.new('here',\"2020-09-01\")\n",
    "t.price=(63.00)\n",
    "\n",
    "puts t.venue, t.date, t.price"
   ]
  },
  {
   "cell_type": "code",
   "execution_count": 60,
   "metadata": {},
   "outputs": [
    {
     "name": "stdout",
     "output_type": "stream",
     "text": [
      "here\n",
      "2020-09-01\n",
      "75.0\n"
     ]
    }
   ],
   "source": [
    "# Syntactic sugar for assignment methods (3.3.2)\n",
    "t.price = 75.00\n",
    "puts t.venue, t.date, t.price"
   ]
  },
  {
   "cell_type": "code",
   "execution_count": 66,
   "metadata": {},
   "outputs": [
    {
     "data": {
      "text/plain": [
       "2050"
      ]
     },
     "execution_count": 66,
     "metadata": {},
     "output_type": "execute_result"
    }
   ],
   "source": [
    "# setter methods, advanced (3.3.3)\n",
    "class TravelAgentSession\n",
    "    def year=(y)\n",
    "        @year = y.to_i\n",
    "        if @year < 100\n",
    "            @year = @year + 2000 # handling 2 digits\n",
    "        end\n",
    "    end\n",
    "    def year\n",
    "        @year\n",
    "    end\n",
    "end\n",
    "tas = TravelAgentSession.new; tas.year = 50\n",
    "tas.year"
   ]
  },
  {
   "cell_type": "markdown",
   "metadata": {},
   "source": [
    "#### Attributes"
   ]
  },
  {
   "cell_type": "code",
   "execution_count": 69,
   "metadata": {},
   "outputs": [
    {
     "data": {
      "text/plain": [
       "\"here\""
      ]
     },
     "execution_count": 69,
     "metadata": {},
     "output_type": "execute_result"
    }
   ],
   "source": [
    "# automatic attribute creation (3.4.1)\n",
    "class Ticket\n",
    "    attr_reader :venue, :date, :price # ok to read\n",
    "    attr_writer :price                # ok to write\n",
    "    attr_accessor :other              # ok to r/w\n",
    "    def initialize(venue,date)\n",
    "        @venue, @date = venue, date\n",
    "    end\n",
    "end\n",
    "t = Ticket.new('here','2020-09-01')\n",
    "t.venue"
   ]
  },
  {
   "cell_type": "markdown",
   "metadata": {},
   "source": [
    "#### Inheritance"
   ]
  },
  {
   "cell_type": "code",
   "execution_count": 72,
   "metadata": {},
   "outputs": [
    {
     "name": "stdout",
     "output_type": "stream",
     "text": [
      "joe publish; joe edit\n"
     ]
    }
   ],
   "source": [
    "# \"<\": Magazine is a subclass of Publication\n",
    "\n",
    "class Publication\n",
    "    attr_accessor :publisher\n",
    "end\n",
    "class Magazine < Publication\n",
    "    attr_accessor :editor\n",
    "end\n",
    "mag = Magazine.new\n",
    "mag.publisher = \"joe publish\"\n",
    "mag.editor    = \"joe edit\"\n",
    "puts \"#{mag.publisher}; #{mag.editor}\""
   ]
  },
  {
   "cell_type": "code",
   "execution_count": null,
   "metadata": {},
   "outputs": [],
   "source": [
    "# single inheritance (3.5.1)\n",
    "# - some languages allow inheritance from >1 classes\n",
    "# - ruby doesn't allow this - use MODULES instead.\n",
    "# - see chapter 4."
   ]
  },
  {
   "cell_type": "code",
   "execution_count": 74,
   "metadata": {},
   "outputs": [
    {
     "name": "stdout",
     "output_type": "stream",
     "text": [
      "C\n",
      "Object\n"
     ]
    }
   ],
   "source": [
    "# object ancestry (3.5.2)\n",
    "class C\n",
    "end\n",
    "class D<C\n",
    "end\n",
    "puts D.superclass; puts D.superclass.superclass"
   ]
  },
  {
   "cell_type": "code",
   "execution_count": 77,
   "metadata": {},
   "outputs": [
    {
     "name": "stdout",
     "output_type": "stream",
     "text": [
      "BasicObject has very few methods.\n"
     ]
    }
   ],
   "source": [
    "# BasicObject (3.5.3)\n",
    "begin\n",
    "    BasicObject.new.methods\n",
    "rescue\n",
    "    puts \"BasicObject has very few methods.\"\n",
    "end"
   ]
  },
  {
   "cell_type": "markdown",
   "metadata": {},
   "source": [
    "#### Classes as objects and message receivers\n",
    "- classes can spawn new object instances.\n",
    "- classes can be created in multiple ways.\n",
    "- Class & Object are both classes, and both objects."
   ]
  },
  {
   "cell_type": "code",
   "execution_count": 78,
   "metadata": {},
   "outputs": [
    {
     "data": {
      "text/plain": [
       "#<#<Class:0x000055e6938aa5f0>:0x000055e6938aa5a0>"
      ]
     },
     "execution_count": 78,
     "metadata": {},
     "output_type": "execute_result"
    }
   ],
   "source": [
    "# creating class objects - 2 methods (3.6.1)\n",
    "class Ticket\n",
    "    # stuff\n",
    "end\n",
    "\n",
    "myClass = Class.new\n",
    "instance_of_myClass = myClass.new"
   ]
  },
  {
   "cell_type": "code",
   "execution_count": 83,
   "metadata": {},
   "outputs": [],
   "source": [
    "# how class objects call methods (3.6.2)\n",
    "# - from their class\n",
    "# - from their superclass\n",
    "# - from their own set of singleton methods"
   ]
  },
  {
   "cell_type": "code",
   "execution_count": 81,
   "metadata": {},
   "outputs": [
    {
     "name": "stdout",
     "output_type": "stream",
     "text": [
      "[\"A\", \"B\", \"C\"]\n",
      "over there\n"
     ]
    }
   ],
   "source": [
    "# singleton methods (3.6.3)\n",
    "def Ticket.most_expensive(*tickets)\n",
    "    tickets.max_by(&:price)\n",
    "end\n",
    "#\n",
    "# &: = ruby shorthand for iterating over tickets array\n",
    "#\n",
    "puts [\"a\",\"b\",\"c\"].map(&:capitalize)\n",
    "\n",
    "t1 = Ticket.new('here','2020-09-01')\n",
    "t2 = Ticket.new('there','2020-08-01')\n",
    "t3 = Ticket.new('over there','2020-07-01')\n",
    "\n",
    "t1.price, t2.price, t3.price = 25.0, 50.0, 75.0\n",
    "\n",
    "puts Ticket.most_expensive(t1,t2,t3).venue"
   ]
  },
  {
   "cell_type": "code",
   "execution_count": 82,
   "metadata": {},
   "outputs": [],
   "source": [
    "# when/why to write a class method (3.6.4)\n",
    "# - when you need a method to execute on a collection\n",
    "#     of tickets."
   ]
  },
  {
   "cell_type": "code",
   "execution_count": 84,
   "metadata": {},
   "outputs": [
    {
     "data": {
      "text/plain": [
       "\"doesn't work on instances.\""
      ]
     },
     "execution_count": 84,
     "metadata": {},
     "output_type": "execute_result"
    }
   ],
   "source": [
    "# class methods vs instance methods (3.6.5)\n",
    "begin\n",
    "    wrong = t1.most_expensive\n",
    "rescue\n",
    "    \"doesn't work on instances.\"\n",
    "end"
   ]
  },
  {
   "cell_type": "markdown",
   "metadata": {},
   "source": [
    "#### Constants\n",
    "- begin with capital letter"
   ]
  },
  {
   "cell_type": "code",
   "execution_count": 88,
   "metadata": {},
   "outputs": [
    {
     "name": "stdout",
     "output_type": "stream",
     "text": [
      "[\"premium\", \"midrange\", \"cheap\"]\n"
     ]
    }
   ],
   "source": [
    "# basics (3.7.1)\n",
    "class Ticket\n",
    "    SEATING = ['premium','midrange','cheap']\n",
    "end\n",
    "\n",
    "# accessing class constants from outside the def\n",
    "puts Ticket::SEATING"
   ]
  },
  {
   "cell_type": "code",
   "execution_count": 89,
   "metadata": {},
   "outputs": [
    {
     "name": "stdout",
     "output_type": "stream",
     "text": [
      "3.141592653589793\n",
      "2.7.1\n",
      "83\n",
      "2020-03-31\n",
      "a0c7c23c9cec0d0ffcba012279cd652d28ad5bf3\n",
      "ruby - Copyright (C) 1993-2020 Yukihiro Matsumoto\n"
     ]
    }
   ],
   "source": [
    "# Ruby predefined constants (examples)\n",
    "puts Math::PI\n",
    "puts RUBY_VERSION\n",
    "puts RUBY_PATCHLEVEL\n",
    "puts RUBY_RELEASE_DATE\n",
    "puts RUBY_REVISION\n",
    "puts RUBY_COPYRIGHT"
   ]
  },
  {
   "cell_type": "code",
   "execution_count": 90,
   "metadata": {},
   "outputs": [
    {
     "name": "stderr",
     "output_type": "stream",
     "text": [
      "(pry):609: warning: already initialized constant A\n",
      "(pry):609: warning: previous definition of A was here\n"
     ]
    },
    {
     "data": {
      "text/plain": [
       "2"
      ]
     },
     "execution_count": 90,
     "metadata": {},
     "output_type": "execute_result"
    }
   ],
   "source": [
    "# reassignment vs modifying (3.7.2)\n",
    "A = 1; A = 2"
   ]
  },
  {
   "cell_type": "code",
   "execution_count": 91,
   "metadata": {},
   "outputs": [
    {
     "name": "stdout",
     "output_type": "stream",
     "text": [
      "[\"premium\", \"midrange\", \"cheap\", \"extra\"]\n"
     ]
    }
   ],
   "source": [
    "Ticket::SEATING << \"extra\"\n",
    "puts Ticket::SEATING"
   ]
  },
  {
   "cell_type": "markdown",
   "metadata": {},
   "source": [
    "#### Nature vs nurture"
   ]
  },
  {
   "cell_type": "code",
   "execution_count": 92,
   "metadata": {},
   "outputs": [
    {
     "name": "stdout",
     "output_type": "stream",
     "text": [
      "true\n",
      "true\n"
     ]
    }
   ],
   "source": [
    "mag = Magazine.new\n",
    "puts mag.is_a?(Magazine)\n",
    "puts mag.is_a?(Publication)"
   ]
  },
  {
   "cell_type": "code",
   "execution_count": 93,
   "metadata": {},
   "outputs": [
    {
     "name": "stdout",
     "output_type": "stream",
     "text": [
      "i've got wings.\n"
     ]
    }
   ],
   "source": [
    "# object capabilities can deviate from its class.\n",
    "mag = Magazine.new\n",
    "def mag.wings\n",
    "    puts \"i've got wings.\"\n",
    "end\n",
    "mag.wings"
   ]
  },
  {
   "cell_type": "markdown",
   "metadata": {},
   "source": [
    "## Modules (Chap 4)\n",
    "- Bundles of methods & constants.\n",
    "- Modules don't have instances."
   ]
  },
  {
   "cell_type": "markdown",
   "metadata": {},
   "source": [
    "#### Basics\n",
    "- Main diff vs classes is that you can mix in multiple modules. (Classes can inherit from only one class.)"
   ]
  },
  {
   "cell_type": "code",
   "execution_count": 95,
   "metadata": {},
   "outputs": [
    {
     "name": "stdout",
     "output_type": "stream",
     "text": [
      "2.7.1\n"
     ]
    }
   ],
   "source": [
    "module FirstModule\n",
    "    def ruby_version\n",
    "        puts RUBY_VERSION\n",
    "    end\n",
    "end\n",
    "class TestModule\n",
    "    include FirstModule\n",
    "end\n",
    "mt = TestModule.new; mt.ruby_version"
   ]
  },
  {
   "cell_type": "code",
   "execution_count": 101,
   "metadata": {},
   "outputs": [
    {
     "data": {
      "text/plain": [
       ":take"
      ]
     },
     "execution_count": 101,
     "metadata": {},
     "output_type": "execute_result"
    }
   ],
   "source": [
    "# \"stacklikeness\" (4.1.1)\n",
    "module Stacklike\n",
    "    def stack\n",
    "        @stack ||= [] # using or-equals operator\n",
    "    end\n",
    "    def add(obj)\n",
    "        stack.push(obj)\n",
    "    end\n",
    "    def take()\n",
    "        stack.pop\n",
    "    end\n",
    "end\n"
   ]
  },
  {
   "cell_type": "code",
   "execution_count": 102,
   "metadata": {},
   "outputs": [
    {
     "name": "stdout",
     "output_type": "stream",
     "text": [
      "can't do it.\n",
      "[\"1st\", \"2nd\", \"3rd\"]\n",
      "[\"1st\", \"2nd\"]\n"
     ]
    }
   ],
   "source": [
    "# mixing a module into a class (4.1.2)\n",
    "begin\n",
    "    s = Stacklike.new\n",
    "rescue\n",
    "    puts \"can't do it.\"\n",
    "end\n",
    "\n",
    "class Stack\n",
    "    include Stacklike\n",
    "end\n",
    "s = Stack.new\n",
    "s.add(\"1st\"); s.add(\"2nd\"); s.add(\"3rd\"); puts s.stack\n",
    "s.take; puts s.stack"
   ]
  },
  {
   "cell_type": "code",
   "execution_count": null,
   "metadata": {},
   "outputs": [],
   "source": [
    "# Stacklike module saved to \"stack.rb\".\n",
    "# run on cmnd line with \"ruby stack.rb\""
   ]
  },
  {
   "cell_type": "code",
   "execution_count": 106,
   "metadata": {},
   "outputs": [
    {
     "name": "stdout",
     "output_type": "stream",
     "text": [
      "3040\n",
      "3060\n",
      "3080\n",
      "3080\n"
     ]
    }
   ],
   "source": [
    "# more module functionality (4.1.3)\n",
    "require_relative \"stacklike\" # stacklike.rb\n",
    "class Suitcase\n",
    "end\n",
    "\n",
    "class CargoHold\n",
    "    include Stacklike\n",
    "    def load_and_report(obj)\n",
    "        puts obj.object_id\n",
    "        add(obj) # to a stack\n",
    "    end\n",
    "    def unload\n",
    "        take\n",
    "    end\n",
    "end\n",
    "\n",
    "ch  = CargoHold.new\n",
    "sc1 = Suitcase.new\n",
    "sc2 = Suitcase.new \n",
    "sc3 = Suitcase.new\n",
    "ch.load_and_report(sc1)\n",
    "ch.load_and_report(sc2)\n",
    "ch.load_and_report(sc3)\n",
    "\n",
    "first_unloaded = ch.unload\n",
    "puts first_unloaded.object_id"
   ]
  },
  {
   "cell_type": "markdown",
   "metadata": {},
   "source": [
    "#### Modules, classes & method lookup\n",
    "![illustrated](px/Selection_148.png)"
   ]
  },
  {
   "cell_type": "code",
   "execution_count": 107,
   "metadata": {},
   "outputs": [
    {
     "name": "stdout",
     "output_type": "stream",
     "text": [
      "'report' method in module M\n"
     ]
    }
   ],
   "source": [
    "# method lookup basics (4.2.1)\n",
    "module M\n",
    "    def report\n",
    "        puts \"'report' method in module M\"\n",
    "    end\n",
    "end\n",
    "class C\n",
    "    include M\n",
    "end\n",
    "class D<C\n",
    "end\n",
    "obj = D.new\n",
    "obj.report"
   ]
  },
  {
   "cell_type": "code",
   "execution_count": 108,
   "metadata": {},
   "outputs": [
    {
     "data": {
      "text/plain": [
       "Object"
      ]
     },
     "execution_count": 108,
     "metadata": {},
     "output_type": "execute_result"
    }
   ],
   "source": [
    "C.superclass"
   ]
  },
  {
   "cell_type": "code",
   "execution_count": 109,
   "metadata": {},
   "outputs": [
    {
     "name": "stdout",
     "output_type": "stream",
     "text": [
      "another placeholder\n"
     ]
    }
   ],
   "source": [
    "# defining a method more than once (4.2.2)\n",
    "module InterestBearing\n",
    "    def calc_interest\n",
    "        puts \"placeholder\"\n",
    "    end\n",
    "end\n",
    "class BankAccount\n",
    "    include InterestBearing\n",
    "    def calc_interest\n",
    "        puts \"another placeholder\"\n",
    "    end\n",
    "end\n",
    "\n",
    "account = BankAccount.new\n",
    "account.calc_interest"
   ]
  },
  {
   "cell_type": "code",
   "execution_count": 110,
   "metadata": {},
   "outputs": [
    {
     "name": "stdout",
     "output_type": "stream",
     "text": [
      "done. module N.\n"
     ]
    }
   ],
   "source": [
    "# mixing 2 modules with same-name methods (listing 4.8)\n",
    "module M\n",
    "    def report\n",
    "        puts \"done. module M.\"\n",
    "    end\n",
    "end\n",
    "module N\n",
    "    def report\n",
    "        puts \"done. module N.\"\n",
    "    end\n",
    "end\n",
    "class C\n",
    "    include M\n",
    "    include N\n",
    "end\n",
    "c = C.new; c.report"
   ]
  },
  {
   "cell_type": "code",
   "execution_count": 111,
   "metadata": {},
   "outputs": [
    {
     "name": "stdout",
     "output_type": "stream",
     "text": [
      "done. module N.\n"
     ]
    }
   ],
   "source": [
    "class C\n",
    "    include M\n",
    "    include N\n",
    "    include M\n",
    "end\n",
    "c = C.new; c.report"
   ]
  },
  {
   "cell_type": "code",
   "execution_count": 113,
   "metadata": {},
   "outputs": [
    {
     "name": "stdout",
     "output_type": "stream",
     "text": [
      "howdy from module\n"
     ]
    }
   ],
   "source": [
    "# prepend (4.2.3)\n",
    "# - prepending module to a class = object looks in\n",
    "#   the module first.\n",
    "module MeFirst\n",
    "    def report\n",
    "        puts \"howdy from module\"\n",
    "    end\n",
    "end\n",
    "class Person\n",
    "    prepend MeFirst\n",
    "    def report\n",
    "        puts \"howdy from class\"\n",
    "    end\n",
    "end\n",
    "p = Person.new; p.report"
   ]
  },
  {
   "cell_type": "code",
   "execution_count": 114,
   "metadata": {},
   "outputs": [
    {
     "data": {
      "text/plain": [
       "[MeFirst, Person, Object, PP::ObjectMixin, JSON::Ext::Generator::GeneratorMethods::Object, Kernel, BasicObject]"
      ]
     },
     "execution_count": 114,
     "metadata": {},
     "output_type": "execute_result"
    }
   ],
   "source": [
    "Person.ancestors"
   ]
  },
  {
   "cell_type": "code",
   "execution_count": 117,
   "metadata": {},
   "outputs": [
    {
     "name": "stdout",
     "output_type": "stream",
     "text": [
      "212.0\n",
      "100.0\n"
     ]
    }
   ],
   "source": [
    "# extend (4.2.4)\n",
    "# - didn't need to define class methods. This is done\n",
    "#   via the extend keyword.\n",
    "\n",
    "class Temperature\n",
    "    def Temperature.c2f(c)\n",
    "        c*9.0/5+32\n",
    "    end\n",
    "    def Temperature.f2c(f)\n",
    "        (f-32)*5/9.0\n",
    "    end\n",
    "end\n",
    "module Convertible\n",
    "    def c2f(celsius)\n",
    "        celsius*9.0/5+32\n",
    "    end\n",
    "    def f2c(fahrenheit)\n",
    "        (fahrenheit-32)*5/9.0\n",
    "    end\n",
    "end\n",
    "class Thermometer\n",
    "    extend Convertible\n",
    "end\n",
    "puts Temperature.c2f(100)\n",
    "puts Temperature.f2c(212)"
   ]
  },
  {
   "cell_type": "markdown",
   "metadata": {},
   "source": [
    "Rules of method lookup (4.2.5)\n",
    "![viz](px/Selection_149.png)"
   ]
  },
  {
   "cell_type": "code",
   "execution_count": 127,
   "metadata": {},
   "outputs": [
    {
     "name": "stdout",
     "output_type": "stream",
     "text": [
      "available.\n",
      "sold out.\n"
     ]
    }
   ],
   "source": [
    "# super (4.2.6)\n",
    "class Bicycle\n",
    "    attr_reader :gears, :wheels, :seats\n",
    "    def initialize(gears=1)\n",
    "        @wheels=2\n",
    "        @seats=1\n",
    "        @gears=gears\n",
    "    end\n",
    "    def rent\n",
    "        puts \"sold out.\"\n",
    "    end\n",
    "end\n",
    "class Tandem<Bicycle\n",
    "    def initialize(gears)\n",
    "        super # <-- triggers earlier initialize method\n",
    "        @seats=2\n",
    "    end\n",
    "    def rent\n",
    "        puts \"available.\"\n",
    "    end\n",
    "end\n",
    "t = Tandem.new(12)\n",
    "t.method(:rent).call\n",
    "t.method(:rent).super_method.call"
   ]
  },
  {
   "cell_type": "markdown",
   "metadata": {},
   "source": [
    "#### Method_missing\n",
    "- provided by the __Kernel__ module."
   ]
  },
  {
   "cell_type": "code",
   "execution_count": 129,
   "metadata": {},
   "outputs": [
    {
     "name": "stdout",
     "output_type": "stream",
     "text": [
      "nope. missing method.\n"
     ]
    }
   ],
   "source": [
    "o = Object.new\n",
    "def o.method_missing(m,*args)\n",
    "    puts \"nope. missing method.\"\n",
    "end\n",
    "o.blahblah"
   ]
  },
  {
   "cell_type": "code",
   "execution_count": 134,
   "metadata": {},
   "outputs": [
    {
     "data": {
      "text/plain": [
       "#<Student:0x000055e692f227f8>"
      ]
     },
     "execution_count": 134,
     "metadata": {},
     "output_type": "execute_result"
    }
   ],
   "source": [
    "# combining method_missing & super (4.3.1)\n",
    "# - common use case: intercept unknown message,\n",
    "#   and decide whether to handle it, or to pass it\n",
    "#   to original method_missing via super.\n",
    "\n",
    "class Student\n",
    "    def method_missing(m,*args)\n",
    "        if m.to_s.start_with?(\"grade_for_\")\n",
    "            puts \"done. #{m.to_s.split(\"_\").last.capitalize}.\"\n",
    "        else\n",
    "            super\n",
    "        end\n",
    "    end\n",
    "end\n",
    "s = Student.new"
   ]
  },
  {
   "cell_type": "code",
   "execution_count": 139,
   "metadata": {},
   "outputs": [
    {
     "name": "stderr",
     "output_type": "stream",
     "text": [
      "(pry):1236: warning: already initialized constant Person::PEOPLE\n",
      "(pry):1184: warning: previous definition of PEOPLE was here\n"
     ]
    },
    {
     "data": {
      "text/plain": [
       ":method_missing"
      ]
     },
     "execution_count": 139,
     "metadata": {},
     "output_type": "execute_result"
    }
   ],
   "source": [
    "# \n",
    "class Person\n",
    "    PEOPLE=[]\n",
    "    attr_reader :name, :hobbies, :friends\n",
    "    def initialize(name)\n",
    "        @name, @hobbies, @friends = name, [], []\n",
    "        PEOPLE << self\n",
    "    end\n",
    "    def has_hobby(h)\n",
    "        @hobbies << h\n",
    "    end\n",
    "    def has_friend(f)\n",
    "        @friends << f\n",
    "    end\n",
    "end\n",
    "\n",
    "# method name may/may not start with \"all_with_\".\n",
    "# if not, pass it to super - let BasicObject handle it.\n",
    "\n",
    "# method name (msg) is provided to method_missing\n",
    "# as a symbol. convert to string first.\n",
    "\n",
    "# built-in query method: public_method_defined?\n",
    "\n",
    "def Person.method_missing(m,*args)\n",
    "    method=m.to_s\n",
    "    if method.start_with?(\"all_with_\")\n",
    "        attr = method[9..-1] # substring, 9th-last\n",
    "        if Person.public_method_defined?(attr)\n",
    "            PEOPLE.find_all do |p|\n",
    "                p.send(attr).include?(args[0])\n",
    "            end\n",
    "        else\n",
    "            raise ArgumentError, \"can't find #{attr}\"\n",
    "        end\n",
    "    else\n",
    "        super\n",
    "    end\n",
    "end\n"
   ]
  },
  {
   "cell_type": "code",
   "execution_count": null,
   "metadata": {},
   "outputs": [
    {
     "ename": "NameError",
     "evalue": "uninitialized constant PEOPLE",
     "output_type": "error",
     "traceback": [
      "\u001b[31mNameError\u001b[0m: uninitialized constant PEOPLE",
      "(pry):1263:in `method_missing'",
      "(pry):1282:in `<main>'",
      "/usr/local/lib/ruby/gems/2.7.0/gems/pry-0.13.1/lib/pry/pry_instance.rb:290:in `eval'",
      "/usr/local/lib/ruby/gems/2.7.0/gems/pry-0.13.1/lib/pry/pry_instance.rb:290:in `evaluate_ruby'",
      "/usr/local/lib/ruby/gems/2.7.0/gems/pry-0.13.1/lib/pry/pry_instance.rb:659:in `handle_line'",
      "/usr/local/lib/ruby/gems/2.7.0/gems/pry-0.13.1/lib/pry/pry_instance.rb:261:in `block (2 levels) in eval'",
      "/usr/local/lib/ruby/gems/2.7.0/gems/pry-0.13.1/lib/pry/pry_instance.rb:260:in `catch'",
      "/usr/local/lib/ruby/gems/2.7.0/gems/pry-0.13.1/lib/pry/pry_instance.rb:260:in `block in eval'",
      "/usr/local/lib/ruby/gems/2.7.0/gems/pry-0.13.1/lib/pry/pry_instance.rb:259:in `catch'",
      "/usr/local/lib/ruby/gems/2.7.0/gems/pry-0.13.1/lib/pry/pry_instance.rb:259:in `eval'",
      "/home/bjpcjp/.gem/ruby/2.7.0/gems/iruby-0.4.0/lib/iruby/backend.rb:66:in `eval'",
      "/home/bjpcjp/.gem/ruby/2.7.0/gems/iruby-0.4.0/lib/iruby/backend.rb:12:in `eval'",
      "/home/bjpcjp/.gem/ruby/2.7.0/gems/iruby-0.4.0/lib/iruby/kernel.rb:90:in `execute_request'",
      "/home/bjpcjp/.gem/ruby/2.7.0/gems/iruby-0.4.0/lib/iruby/kernel.rb:49:in `dispatch'",
      "/home/bjpcjp/.gem/ruby/2.7.0/gems/iruby-0.4.0/lib/iruby/kernel.rb:38:in `run'",
      "/home/bjpcjp/.gem/ruby/2.7.0/gems/iruby-0.4.0/lib/iruby/command.rb:110:in `run_kernel'",
      "/home/bjpcjp/.gem/ruby/2.7.0/gems/iruby-0.4.0/lib/iruby/command.rb:40:in `run'",
      "/home/bjpcjp/.gem/ruby/2.7.0/gems/iruby-0.4.0/bin/iruby:5:in `<top (required)>'",
      "/usr/local/bin/iruby:23:in `load'",
      "/usr/local/bin/iruby:23:in `<main>'"
     ]
    }
   ],
   "source": [
    "j = Person.new('john')\n",
    "p = Person.new('paul')\n",
    "g = Person.new('george')\n",
    "r = Person.new('ringo')\n",
    "j.has_friend(p)\n",
    "j.has_friend(g)\n",
    "g.has_friend(p)\n",
    "r.has_hobby('rings')\n",
    "\n",
    "Person.all_with_friends(p).each do |person|\n",
    "    puts \"#{person.name} is friends with #{p.name}\"\n",
    "end"
   ]
  },
  {
   "cell_type": "markdown",
   "metadata": {},
   "source": [
    "#### Class & module design/naming"
   ]
  },
  {
   "cell_type": "code",
   "execution_count": null,
   "metadata": {},
   "outputs": [
    {
     "ename": "TypeError",
     "evalue": "superclass mismatch for class CargoHold",
     "output_type": "error",
     "traceback": [
      "\u001b[31mTypeError\u001b[0m: superclass mismatch for class CargoHold",
      "(pry):1303:in `<main>'",
      "/usr/local/lib/ruby/gems/2.7.0/gems/pry-0.13.1/lib/pry/pry_instance.rb:290:in `eval'",
      "/usr/local/lib/ruby/gems/2.7.0/gems/pry-0.13.1/lib/pry/pry_instance.rb:290:in `evaluate_ruby'",
      "/usr/local/lib/ruby/gems/2.7.0/gems/pry-0.13.1/lib/pry/pry_instance.rb:659:in `handle_line'",
      "/usr/local/lib/ruby/gems/2.7.0/gems/pry-0.13.1/lib/pry/pry_instance.rb:261:in `block (2 levels) in eval'",
      "/usr/local/lib/ruby/gems/2.7.0/gems/pry-0.13.1/lib/pry/pry_instance.rb:260:in `catch'",
      "/usr/local/lib/ruby/gems/2.7.0/gems/pry-0.13.1/lib/pry/pry_instance.rb:260:in `block in eval'",
      "/usr/local/lib/ruby/gems/2.7.0/gems/pry-0.13.1/lib/pry/pry_instance.rb:259:in `catch'",
      "/usr/local/lib/ruby/gems/2.7.0/gems/pry-0.13.1/lib/pry/pry_instance.rb:259:in `eval'",
      "/home/bjpcjp/.gem/ruby/2.7.0/gems/iruby-0.4.0/lib/iruby/backend.rb:66:in `eval'",
      "/home/bjpcjp/.gem/ruby/2.7.0/gems/iruby-0.4.0/lib/iruby/backend.rb:12:in `eval'",
      "/home/bjpcjp/.gem/ruby/2.7.0/gems/iruby-0.4.0/lib/iruby/kernel.rb:90:in `execute_request'",
      "/home/bjpcjp/.gem/ruby/2.7.0/gems/iruby-0.4.0/lib/iruby/kernel.rb:49:in `dispatch'",
      "/home/bjpcjp/.gem/ruby/2.7.0/gems/iruby-0.4.0/lib/iruby/kernel.rb:38:in `run'",
      "/home/bjpcjp/.gem/ruby/2.7.0/gems/iruby-0.4.0/lib/iruby/command.rb:110:in `run_kernel'",
      "/home/bjpcjp/.gem/ruby/2.7.0/gems/iruby-0.4.0/lib/iruby/command.rb:40:in `run'",
      "/home/bjpcjp/.gem/ruby/2.7.0/gems/iruby-0.4.0/bin/iruby:5:in `<top (required)>'",
      "/usr/local/bin/iruby:23:in `load'",
      "/usr/local/bin/iruby:23:in `<main>'"
     ]
    }
   ],
   "source": [
    "# mixins and/or inheritance (4.4.1)\n",
    "class Stack\n",
    "    attr_reader :stack\n",
    "    def initialize\n",
    "        @stack=[]\n",
    "    end\n",
    "    def add(obj)\n",
    "        @stack.push(obj)\n",
    "    end\n",
    "    def take\n",
    "        @stack.pop\n",
    "    end\n",
    "end\n",
    "class Suitcase\n",
    "end\n",
    "\n",
    "# this implementation uses the one inheritance\n",
    "# opportunity available to CargoHold.\n",
    "class CargoHold<Stack\n",
    "    def load_and_report(obj)\n",
    "        puts \"loading #{obj.object_id}\"\n",
    "        add(obj)\n",
    "    end\n",
    "    def unload\n",
    "        take\n",
    "    end\n",
    "end"
   ]
  },
  {
   "cell_type": "code",
   "execution_count": 142,
   "metadata": {},
   "outputs": [
    {
     "data": {
      "text/plain": [
       "#<Tools::Hammer:0x000055e69398f560>"
      ]
     },
     "execution_count": 142,
     "metadata": {},
     "output_type": "execute_result"
    }
   ],
   "source": [
    "# nesting modules & classes (4.4.2)\n",
    "# use double-colon to create instance of Hammer\n",
    "#   inside of Tools.\n",
    "\n",
    "module Tools\n",
    "    class Hammer\n",
    "    end\n",
    "end\n",
    "h = Tools::Hammer.new\n",
    "\n",
    "# sometimes uses to create distinct namespaces for\n",
    "# classes, modules, methods."
   ]
  },
  {
   "cell_type": "markdown",
   "metadata": {},
   "source": [
    "## Default object (self), scope & visibility (Chap 5)"
   ]
  },
  {
   "cell_type": "markdown",
   "metadata": {},
   "source": [
    "#### Self (5.1.1)\n",
    "- the default or current object. at every point in a program's execution, there is only one copy of self.\n",
    "![pic](px/Selection_150.png)\n",
    "![pic](px/Selection_151.png)"
   ]
  },
  {
   "cell_type": "code",
   "execution_count": 143,
   "metadata": {},
   "outputs": [
    {
     "data": {
      "text/plain": [
       "main"
      ]
     },
     "execution_count": 143,
     "metadata": {},
     "output_type": "execute_result"
    }
   ],
   "source": [
    "# top-level self (5.1.2)\n",
    "# - refers to code outside any class or module def.\n",
    "# - \"main\" = special term; self refers to itself.\n",
    "m = self"
   ]
  },
  {
   "cell_type": "code",
   "execution_count": 145,
   "metadata": {},
   "outputs": [
    {
     "name": "stdout",
     "output_type": "stream",
     "text": [
      "just started C.\n",
      "C\n",
      "nested module C::M\n",
      "C::M\n",
      "back to C outer level\n",
      "C\n"
     ]
    }
   ],
   "source": [
    "# self inside class, module, method defs (5.1.3)\n",
    "class C\n",
    "    puts \"just started C.\"\n",
    "    puts self\n",
    "    module M\n",
    "        puts \"nested module C::M\"\n",
    "        puts self\n",
    "    end\n",
    "    puts \"back to C outer level\"\n",
    "    puts self\n",
    "end"
   ]
  },
  {
   "cell_type": "code",
   "execution_count": 147,
   "metadata": {},
   "outputs": [
    {
     "name": "stdout",
     "output_type": "stream",
     "text": [
      "class C, method x.\n",
      "#<C:0x000055e69388b830>\n",
      "#<C:0x000055e69388b830>\n"
     ]
    }
   ],
   "source": [
    "class C\n",
    "    def x\n",
    "        puts \"class C, method x.\"\n",
    "        puts self\n",
    "    end\n",
    "end\n",
    "c = C.new; c.x; puts \"#{c}\""
   ]
  },
  {
   "cell_type": "code",
   "execution_count": 148,
   "metadata": {},
   "outputs": [
    {
     "name": "stdout",
     "output_type": "stream",
     "text": [
      "inside singleton method of #<Object:0x000055e693877010>\n"
     ]
    }
   ],
   "source": [
    "# self in singleton & class method defs\n",
    "obj = Object.new\n",
    "def obj.showme\n",
    "    puts \"inside singleton method of #{self}\"\n",
    "end\n",
    "obj.showme"
   ]
  },
  {
   "cell_type": "code",
   "execution_count": 149,
   "metadata": {},
   "outputs": [
    {
     "name": "stdout",
     "output_type": "stream",
     "text": [
      "class method of C.self: C\n"
     ]
    }
   ],
   "source": [
    "class C\n",
    "    def C.x\n",
    "        puts \"class method of C.self: #{self}\"\n",
    "    end\n",
    "end\n",
    "C.x"
   ]
  },
  {
   "cell_type": "code",
   "execution_count": 150,
   "metadata": {},
   "outputs": [
    {
     "data": {
      "text/plain": [
       ":y"
      ]
     },
     "execution_count": 150,
     "metadata": {},
     "output_type": "execute_result"
    }
   ],
   "source": [
    "# using self instead of hard-coded class names\n",
    "class C\n",
    "    def self.x\n",
    "        puts \"class method of C.self: #{self}\"\n",
    "    end\n",
    "end\n",
    "\n",
    "# for multiple class methods:\n",
    "# class << self tells class that following methods\n",
    "#   will be class methods.\n",
    "# if you decide to rename the class, self.x auto-\n",
    "#   adjusts to the new name. \n",
    "class C\n",
    "    class << self\n",
    "        def x\n",
    "            # \n",
    "        end\n",
    "        def y\n",
    "            #\n",
    "        end\n",
    "    end\n",
    "end"
   ]
  },
  {
   "cell_type": "code",
   "execution_count": 151,
   "metadata": {},
   "outputs": [
    {
     "name": "stdout",
     "output_type": "stream",
     "text": [
      "dot not needed.\n",
      "dot not needed.\n"
     ]
    }
   ],
   "source": [
    "# self as default message receiver (5.1.4)\n",
    "# method calls, usual notation: object.method\n",
    "# can omit objec & dot, if receiver is \"self\".\n",
    "class C\n",
    "    def C.nodot\n",
    "        puts \"dot not needed.\"\n",
    "    end\n",
    "    nodot\n",
    "end\n",
    "C.nodot"
   ]
  },
  {
   "cell_type": "code",
   "execution_count": 152,
   "metadata": {},
   "outputs": [
    {
     "name": "stdout",
     "output_type": "stream",
     "text": [
      "y calls x without a dot\n",
      "this is 'x'\n"
     ]
    }
   ],
   "source": [
    "class C\n",
    "    def x\n",
    "        puts \"this is 'x'\"\n",
    "    end\n",
    "    def y\n",
    "        puts \"y calls x without a dot\"\n",
    "        x\n",
    "    end\n",
    "end\n",
    "c = C.new; c.y"
   ]
  },
  {
   "cell_type": "code",
   "execution_count": 154,
   "metadata": {},
   "outputs": [
    {
     "data": {
      "text/plain": [
       "\"problems...\""
      ]
     },
     "execution_count": 154,
     "metadata": {},
     "output_type": "execute_result"
    }
   ],
   "source": [
    "class Person\n",
    "    attr_accessor :first, :middle, :last \n",
    "    def whole\n",
    "        n = first+\" \"\n",
    "        n << \"#{middle}\" if middle\n",
    "        n << last\n",
    "    end\n",
    "end\n",
    "begin\n",
    "    d = Person.new\n",
    "    d.first=\"david\"; d.last=\"black\"\n",
    "    puts \"#{d.whole}\"\n",
    "    d.middle=\"alan\"\n",
    "    puts \"#{d.whole}\"\n",
    "rescue\n",
    "    \"problems...\"\n",
    "end"
   ]
  },
  {
   "cell_type": "code",
   "execution_count": 158,
   "metadata": {},
   "outputs": [
    {
     "name": "stdout",
     "output_type": "stream",
     "text": [
      "instance var; belongs to any C.\n"
     ]
    }
   ],
   "source": [
    "# resolving instance variables through self (5.1.5)\n",
    "class C\n",
    "    def setv\n",
    "        @v = \"instance var; belongs to any C.\"\n",
    "    end\n",
    "    def showv\n",
    "        puts @v\n",
    "    end\n",
    "    def self.setv\n",
    "        @v = \"instance var; belongs to C.\"\n",
    "    end\n",
    "end\n",
    "\n",
    "# every instance variable belongs to the object that\n",
    "# is playing the role of \"self\" at that moment.\n",
    "\n",
    "C.setv\n",
    "c = C.new; c.setv\n",
    "c.showv"
   ]
  },
  {
   "cell_type": "code",
   "execution_count": 159,
   "metadata": {},
   "outputs": [
    {
     "name": "stdout",
     "output_type": "stream",
     "text": [
      "just inside class def. here's self.\n",
      "C\n",
      "instance var, top level of class body. belongs to C\n",
      "#<C:0x000055e693b52258>\n",
      "\n"
     ]
    }
   ],
   "source": [
    "# demo'ing relation between instance vars & self (listing 5.3)\n",
    "class C\n",
    "    puts \"just inside class def. here's self.\"\n",
    "    p self\n",
    "    @v = \"instance var, top level of class body.\"\n",
    "    puts \"#{@v} belongs to #{self}\"\n",
    "    \n",
    "    def showv\n",
    "        puts self; puts @v\n",
    "    end\n",
    "end\n",
    "c = C.new; c.showv"
   ]
  },
  {
   "cell_type": "markdown",
   "metadata": {},
   "source": [
    "#### Scope"
   ]
  },
  {
   "cell_type": "code",
   "execution_count": 160,
   "metadata": {},
   "outputs": [
    {
     "name": "stdout",
     "output_type": "stream",
     "text": [
      "i'm a global.\n"
     ]
    }
   ],
   "source": [
    "# global variables\n",
    "# - denoted by leading \"$\"\n",
    "$gvar = \"i'm a global.\"\n",
    "class C\n",
    "    def seeglobal\n",
    "        puts $gvar\n",
    "    end\n",
    "end\n",
    "c = C.new; c.seeglobal"
   ]
  },
  {
   "cell_type": "code",
   "execution_count": 161,
   "metadata": {},
   "outputs": [
    {
     "name": "stdout",
     "output_type": "stream",
     "text": [
      "/usr/local/bin/iruby\n",
      "[\"/home/bjpcjp/.gem/ruby/2.7.0/gems/iruby-0.4.0/lib\", \"/home/bjpcjp/.gem/ruby/2.7.0/gems/bond-0.5.1/lib\", \"/home/bjpcjp/.gem/ruby/2.7.0/extensions/x86_64-linux/2.7.0-static/bond-0.5.1\", \"/home/bjpcjp/.gem/ruby/2.7.0/gems/multi_json-1.14.1/lib\", \"/usr/local/lib/ruby/gems/2.7.0/gems/mimemagic-0.3.5/lib\", \"/home/bjpcjp/.gem/ruby/2.7.0/gems/data_uri-0.1.0/lib\", \"/home/bjpcjp/.gem/ruby/2.7.0/gems/iruby-0.4.0/lib\", \"/home/bjpcjp/.gem/ruby/2.7.0/gems/czmq-ffi-gen-0.16.1/lib\", \"/home/bjpcjp/.gem/ruby/2.7.0/gems/cztop-0.14.1/lib\", \"/usr/local/lib/ruby/gems/2.7.0/gems/ffi-1.13.1/lib\", \"/usr/local/lib/ruby/gems/2.7.0/extensions/x86_64-linux/2.7.0-static/ffi-1.13.1\", \"/usr/local/lib/ruby/gems/2.7.0/gems/coderay-1.1.2/lib\", \"/usr/local/lib/ruby/gems/2.7.0/gems/method_source-1.0.0/lib\", \"/usr/local/lib/ruby/gems/2.7.0/gems/pry-0.13.1/lib\", \"/usr/local/lib/ruby/site_ruby/2.7.0\", \"/usr/local/lib/ruby/site_ruby/2.7.0/x86_64-linux\", \"/usr/local/lib/ruby/site_ruby\", \"/usr/local/lib/ruby/vendor_ruby/2.7.0\", \"/usr/local/lib/ruby/vendor_ruby/2.7.0/x86_64-linux\", \"/usr/local/lib/ruby/vendor_ruby\", \"/usr/local/lib/ruby/2.7.0\", \"/usr/local/lib/ruby/2.7.0/x86_64-linux\"]\n",
      "5999\n"
     ]
    }
   ],
   "source": [
    "# example built-in Ruby globals\n",
    "puts $0 # startup file\n",
    "puts $: # search paths\n",
    "puts $$ # processs ID\n"
   ]
  },
  {
   "cell_type": "code",
   "execution_count": 162,
   "metadata": {},
   "outputs": [
    {
     "name": "stdout",
     "output_type": "stream",
     "text": [
      "1\n",
      "2\n"
     ]
    }
   ],
   "source": [
    "# local scope (5.2.2)\n",
    "class C\n",
    "    a=1\n",
    "    def local_a\n",
    "        a=2; puts a\n",
    "    end\n",
    "    puts a\n",
    "end\n",
    "c = C.new; c.local_a"
   ]
  },
  {
   "cell_type": "code",
   "execution_count": 163,
   "metadata": {},
   "outputs": [
    {
     "name": "stdout",
     "output_type": "stream",
     "text": [
      "2\n",
      "3\n",
      "4\n",
      "5\n",
      "1\n"
     ]
    }
   ],
   "source": [
    "# var name reuse - nested local scopes (listing 5.4)\n",
    "class C\n",
    "    a=5\n",
    "    module M\n",
    "        a=4\n",
    "        module N\n",
    "            a=3\n",
    "            class D\n",
    "                a=2\n",
    "                def show_a\n",
    "                    a=1; puts a\n",
    "                end\n",
    "                puts a\n",
    "            end\n",
    "            puts a\n",
    "        end\n",
    "        puts a\n",
    "    end\n",
    "    puts a\n",
    "end\n",
    "d = C::M::N::D.new; d.show_a"
   ]
  },
  {
   "cell_type": "code",
   "execution_count": 164,
   "metadata": {},
   "outputs": [
    {
     "name": "stdout",
     "output_type": "stream",
     "text": [
      "#<C:0x000055e6939ff5e0>\n",
      "1st val for a\n",
      "recursion\n",
      "#<C:0x000055e6939ff5e0>\n",
      "2nd val for a\n",
      "1st val for a\n"
     ]
    }
   ],
   "source": [
    "# local scope and self (5.2.3)\n",
    "class C\n",
    "    def x(value_for_a, recurse=false)\n",
    "        a=value_for_a\n",
    "        puts self; puts a\n",
    "        if recurse\n",
    "            puts \"recursion\";\n",
    "            x(\"2nd val for a\"); puts a\n",
    "        end\n",
    "    end\n",
    "end\n",
    "c = C.new; c.x(\"1st val for a\",true)"
   ]
  },
  {
   "cell_type": "code",
   "execution_count": 165,
   "metadata": {},
   "outputs": [
    {
     "name": "stdout",
     "output_type": "stream",
     "text": [
      "1\n",
      "2\n"
     ]
    }
   ],
   "source": [
    "# scope & constant resolution (5.2.4)\n",
    "# stripped of nesting, constants... aren't.\n",
    "module M\n",
    "    class C\n",
    "        X=2\n",
    "        class D\n",
    "            module N\n",
    "                X=1\n",
    "            end\n",
    "        end\n",
    "    end\n",
    "end\n",
    "puts M::C::D::N::X\n",
    "puts M::C::X"
   ]
  },
  {
   "cell_type": "code",
   "execution_count": 167,
   "metadata": {},
   "outputs": [
    {
     "data": {
      "text/plain": [
       ":make_mates"
      ]
     },
     "execution_count": 167,
     "metadata": {},
     "output_type": "execute_result"
    }
   ],
   "source": [
    "# class variable syntax, scope, visibility (5.2.5)\n",
    "class Car\n",
    "    @@makes = [] # array; \"@@\" = class variable\n",
    "    @@cars = {} # hash\n",
    "    @@total_count = 0\n",
    "    attr_reader :make\n",
    "    \n",
    "    def self.total_count\n",
    "        @@total_count\n",
    "    end\n",
    "    def self.add_make(make)\n",
    "        unless @@makes.include?(make)\n",
    "            @@makes<<make\n",
    "            @@cars[make]=0\n",
    "        end\n",
    "    end\n",
    "    def initialize(make)\n",
    "        if @@makes.include?(make)\n",
    "            puts \"new #{make}\"\n",
    "            @make=make\n",
    "            @@cars[make]+=1\n",
    "            @@total_count+=1\n",
    "        else\n",
    "            raise \"no such make: #{make}\"\n",
    "        end\n",
    "    end\n",
    "    def make_mates\n",
    "        @@cars[self.make]\n",
    "    end\n",
    "end"
   ]
  },
  {
   "cell_type": "code",
   "execution_count": 168,
   "metadata": {},
   "outputs": [
    {
     "name": "stdout",
     "output_type": "stream",
     "text": [
      "new honda\n",
      "new ford\n",
      "new honda\n"
     ]
    },
    {
     "data": {
      "text/plain": [
       "#<Car:0x000055e6938c2998 @make=\"honda\">"
      ]
     },
     "execution_count": 168,
     "metadata": {},
     "output_type": "execute_result"
    }
   ],
   "source": [
    "Car.add_make(\"honda\"); Car.add_make(\"ford\")\n",
    "h = Car.new(\"honda\"); f = Car.new(\"ford\")\n",
    "h2 = Car.new(\"honda\")"
   ]
  },
  {
   "cell_type": "code",
   "execution_count": 170,
   "metadata": {},
   "outputs": [
    {
     "name": "stdout",
     "output_type": "stream",
     "text": [
      "no such beast.\n"
     ]
    }
   ],
   "source": [
    "begin\n",
    "    x = Car.new(\"bogus\")\n",
    "rescue\n",
    "    puts \"no such beast.\"\n",
    "end"
   ]
  },
  {
   "cell_type": "code",
   "execution_count": 171,
   "metadata": {},
   "outputs": [
    {
     "name": "stdout",
     "output_type": "stream",
     "text": [
      "200\n"
     ]
    }
   ],
   "source": [
    "# class variables & class hierarchies\n",
    "class Parent\n",
    "    @@value = 100\n",
    "end\n",
    "class Child<Parent\n",
    "    @@value = 200\n",
    "end\n",
    "class Parent\n",
    "    puts @@value\n",
    "end"
   ]
  },
  {
   "cell_type": "markdown",
   "metadata": {},
   "source": [
    "#### Method access rules"
   ]
  },
  {
   "cell_type": "code",
   "execution_count": 173,
   "metadata": {},
   "outputs": [
    {
     "data": {
      "text/plain": [
       ":stir_batter"
      ]
     },
     "execution_count": 173,
     "metadata": {},
     "output_type": "execute_result"
    }
   ],
   "source": [
    "# private methods (5.3.1)\n",
    "# - private methods can't be called with an explicit receiver:\n",
    "# b=Baker.new; b.add_egg <== will fail.\n",
    "\n",
    "class Cake\n",
    "    def initialize(batter)\n",
    "        @batter=batter\n",
    "        @baked=true\n",
    "    end\n",
    "end\n",
    "class Egg\n",
    "end\n",
    "class Flour\n",
    "end\n",
    "class Baker\n",
    "    def bakeit\n",
    "        @batter=[]\n",
    "        # if you don't use an explicit receiver, Ruby assumes you want to\n",
    "        # send the message to self. (Nobody can send this msg to a Baker.)\n",
    "        pour_flour\n",
    "        add_egg\n",
    "        stir_batter\n",
    "        return Cake.new(@batter)\n",
    "    end\n",
    "    private # also valid: private :pour_flour, :add_egg, :stir_batter\n",
    "    def pour_flour\n",
    "        @batter.push(Flour.new)\n",
    "    end\n",
    "    def add_egg\n",
    "        @batter.push(Egg.new)\n",
    "    end\n",
    "    def stir_batter\n",
    "    end\n",
    "end"
   ]
  },
  {
   "cell_type": "code",
   "execution_count": 174,
   "metadata": {},
   "outputs": [
    {
     "data": {
      "text/plain": [
       "Dog"
      ]
     },
     "execution_count": 174,
     "metadata": {},
     "output_type": "execute_result"
    }
   ],
   "source": [
    "# private setter methods\n",
    "# -- Ruby doesn't apply \"no explicit receiver\" rule to setters.\n",
    "#\n",
    "#      dog_years = age*7 <== Ruby thinks dog_years is a local variable.\n",
    "# self.dog_years = age*7 <== legit.\n",
    "\n",
    "class Dog\n",
    "    attr_reader :age, :dog_years\n",
    "    def dog_years=(years)\n",
    "        @dog_years=years\n",
    "    end\n",
    "    def age=(years)\n",
    "        @age=years\n",
    "        self.dog_years=years*7\n",
    "    end\n",
    "    private :dog_years=\n",
    "end"
   ]
  },
  {
   "cell_type": "code",
   "execution_count": 175,
   "metadata": {},
   "outputs": [
    {
     "name": "stdout",
     "output_type": "stream",
     "text": [
      "other object's n is bigger.\n"
     ]
    }
   ],
   "source": [
    "# protected methods (5.3.2)\n",
    "# you can call protected methods on an object, as long as the default\n",
    "# object (self) is an instance of the same class.\n",
    "# use case: when you want an instance of a class to do something with\n",
    "# another instance of the same class.\n",
    "class C\n",
    "    def initialize(n)\n",
    "        @n=n\n",
    "    end\n",
    "    def n\n",
    "        @n\n",
    "    end\n",
    "    def compare(c)\n",
    "        if c.n>n\n",
    "            puts \"other object's n is bigger.\"\n",
    "        else\n",
    "            puts \"other object's n is same or smaller.\"\n",
    "        end\n",
    "    end\n",
    "    protected :n\n",
    "end\n",
    "c1=C.new(100); c2=C.new(200); c1.compare(c2) "
   ]
  },
  {
   "cell_type": "markdown",
   "metadata": {},
   "source": [
    "#### Top-level methods"
   ]
  },
  {
   "cell_type": "code",
   "execution_count": 176,
   "metadata": {},
   "outputs": [
    {
     "name": "stdout",
     "output_type": "stream",
     "text": [
      "howdy\n"
     ]
    },
    {
     "data": {
      "text/plain": [
       "\"nope. can't do that.\""
      ]
     },
     "execution_count": 176,
     "metadata": {},
     "output_type": "execute_result"
    }
   ],
   "source": [
    "# definitions (5.4.1)\n",
    "# methods defined at the top level are stored as private instance methods\n",
    "# of Object. equivalent to:\n",
    "class Object\n",
    "    private\n",
    "    def talk\n",
    "        puts 'howdy'\n",
    "    end\n",
    "end\n",
    "# must be called in \"bareword\" style, 'cause they are private.\n",
    "# can be called anywhere (Object is in lookup path of every class)\n",
    "\n",
    "def talk\n",
    "    puts 'howdy'\n",
    "end\n",
    "talk\n",
    "begin\n",
    "    obj=Object.new\n",
    "    obj.talk\n",
    "rescue\n",
    "    \"nope. can't do that.\"\n",
    "end"
   ]
  },
  {
   "cell_type": "code",
   "execution_count": 177,
   "metadata": {},
   "outputs": [
    {
     "data": {
      "text/plain": [
       "[:Array, :Complex, :Float, :Hash, :Integer, :JSON, :Pathname, :Rational, :String, :URI, :__callee__, :__dir__, :__method__, :`, :abort, :at_exit, :autoload, :autoload?, :binding, :block_given?, :caller, :caller_locations, :catch, :eval, :exec, :exit, :exit!, :fail, :fork, :format, :gem, :gem_original_require, :gets, :global_variables, :initialize_clone, :initialize_copy, :initialize_dup, :iterator?, :j, :jj, :lambda, :load, :local_variables, :loop, :open, :p, :pp, :print, :printf, :proc, :putc, :puts, :raise, :rand, :readline, :readlines, :require, :require_relative, :respond_to_missing?, :select, :set_trace_func, :sleep, :spawn, :sprintf, :srand, :syscall, :system, :test, :throw, :trace_var, :trap, :untrace_var, :warn]"
      ]
     },
     "execution_count": 177,
     "metadata": {},
     "output_type": "execute_result"
    }
   ],
   "source": [
    "# predefined top-level methds (5.4.2)\n",
    "# examples: puts, print (private methods of Kernel.)\n",
    "Kernel.private_instance_methods.sort"
   ]
  },
  {
   "cell_type": "markdown",
   "metadata": {},
   "source": [
    "## Flow control techniques (Chap 6)\n",
    "- conditional execution\n",
    "- looping\n",
    "- iteration\n",
    "- exceptions"
   ]
  },
  {
   "cell_type": "markdown",
   "metadata": {},
   "source": [
    "#### Conditional code execution"
   ]
  },
  {
   "cell_type": "code",
   "execution_count": 181,
   "metadata": {},
   "outputs": [
    {
     "name": "stdout",
     "output_type": "stream",
     "text": [
      "20\n",
      "30\n",
      "GT 10\n",
      "GT/EQ 30\n"
     ]
    }
   ],
   "source": [
    "# if-else-then, and variants (6.1.1)\n",
    "x=20; if x>10 then puts x end\n",
    "x=30; if x>10;     puts x; end\n",
    "\n",
    "if x>10\n",
    "    puts \"GT 10\"\n",
    "else\n",
    "    puts \"LT|EQ 10\"\n",
    "end\n",
    "\n",
    "if x<10\n",
    "    puts \"LT 10\"\n",
    "elsif x<20\n",
    "    puts \"LT 20\"\n",
    "elsif x<30\n",
    "    puts \"LT 30\"\n",
    "else\n",
    "    puts \"GT/EQ 30\"\n",
    "end"
   ]
  },
  {
   "cell_type": "code",
   "execution_count": 186,
   "metadata": {},
   "outputs": [
    {
     "name": "stdout",
     "output_type": "stream",
     "text": [
      "NE 5\n",
      "NE 5\n"
     ]
    }
   ],
   "source": [
    "x=10; \n",
    "if not(x==5)\n",
    "    puts \"NE 5\"\n",
    "end\n",
    "if !(x==5)\n",
    "    puts \"NE 5\"\n",
    "end"
   ]
  },
  {
   "cell_type": "code",
   "execution_count": 187,
   "metadata": {},
   "outputs": [
    {
     "name": "stdout",
     "output_type": "stream",
     "text": [
      "EQ 10\n"
     ]
    }
   ],
   "source": [
    "x=10\n",
    "unless x==10\n",
    "    puts \"NE 10\"\n",
    "else\n",
    "    puts \"EQ 10\"\n",
    "end"
   ]
  },
  {
   "cell_type": "code",
   "execution_count": null,
   "metadata": {},
   "outputs": [],
   "source": [
    "# assignment syntax (6.1.2)\n",
    "# -- local variable assignment in a conditional (todo)\n",
    "# -- assignment in a conditional test (todo)"
   ]
  },
  {
   "cell_type": "code",
   "execution_count": 190,
   "metadata": {},
   "outputs": [
    {
     "name": "stdout",
     "output_type": "stream",
     "text": [
      "goodbye\n",
      "ok, continue\n",
      "dunno\n"
     ]
    }
   ],
   "source": [
    "# case statements (6.1.3)\n",
    "# Ruby uses case equality (\"===\") to determine clause matches\n",
    "def quit_or_not(answer)\n",
    "    case answer\n",
    "        when 'yes','y','si'\n",
    "            puts 'goodbye'\n",
    "        when 'no','n','nyet'\n",
    "            puts 'ok, continue'\n",
    "    else puts \"dunno\"\n",
    "    end\n",
    "end\n",
    "quit_or_not('yes')\n",
    "quit_or_not('no')\n",
    "quit_or_not('whatever')"
   ]
  },
  {
   "cell_type": "code",
   "execution_count": 191,
   "metadata": {},
   "outputs": [
    {
     "name": "stdout",
     "output_type": "stream",
     "text": [
      "same as t3\n"
     ]
    }
   ],
   "source": [
    "# programmable case statement behavior (listing 6.2)\n",
    "class Ticket\n",
    "    attr_accessor :venue, :date\n",
    "    def initialize(venue,date)\n",
    "        self.venue=venue; self.date=date\n",
    "    end\n",
    "    def ===(other_ticket)\n",
    "        self.venue == other_ticket.venue\n",
    "    end\n",
    "end\n",
    "t1 = Ticket.new('here', '7/1/2020')\n",
    "t2 = Ticket.new('there', '7/1/2020')\n",
    "t3 = Ticket.new('here',  '8/1/2020')\n",
    "case t1\n",
    "    when t2\n",
    "        puts \"same as t2\"\n",
    "    when t3\n",
    "        puts \"same as t3\"\n",
    "else puts \"no match\"\n",
    "end"
   ]
  },
  {
   "cell_type": "markdown",
   "metadata": {},
   "source": [
    "#### Loops\n",
    "- you can loop while a condition is true\n",
    "- you can loop until a condition is true\n",
    "- you can break unconditionally from a loop"
   ]
  },
  {
   "cell_type": "code",
   "execution_count": null,
   "metadata": {},
   "outputs": [],
   "source": [
    "# unconditional \n",
    "# loop { puts \"looping forever...\" } <== braces recommended, not required\n",
    "# loop do\n",
    "#     puts \"looping forever...\"\n",
    "# end"
   ]
  },
  {
   "cell_type": "code",
   "execution_count": 192,
   "metadata": {},
   "outputs": [],
   "source": [
    "# controlling loop with break\n",
    "n=1\n",
    "loop do\n",
    "    n=n+1\n",
    "    break if n>9\n",
    "end"
   ]
  },
  {
   "cell_type": "code",
   "execution_count": 193,
   "metadata": {},
   "outputs": [],
   "source": [
    "# controlling loop with break w/o finishing current iteration\n",
    "n=1\n",
    "loop do \n",
    "    n=n+1\n",
    "    next unless n==10\n",
    "    break\n",
    "end"
   ]
  },
  {
   "cell_type": "code",
   "execution_count": 194,
   "metadata": {},
   "outputs": [
    {
     "name": "stdout",
     "output_type": "stream",
     "text": [
      "1\n",
      "2\n",
      "3\n",
      "4\n",
      "5\n",
      "6\n",
      "7\n",
      "8\n",
      "9\n",
      "10\n"
     ]
    }
   ],
   "source": [
    "# while (6.2.2)\n",
    "n=1\n",
    "while n<11\n",
    "    puts n\n",
    "    n=n+1\n",
    "end"
   ]
  },
  {
   "cell_type": "code",
   "execution_count": 23,
   "metadata": {},
   "outputs": [
    {
     "data": {
      "text/plain": [
       "1"
      ]
     },
     "execution_count": 23,
     "metadata": {},
     "output_type": "execute_result"
    }
   ],
   "source": [
    "# until (6.2.2) - a+=1 won't get executed because true is already true.\n",
    "n=1\n",
    "n+=1 until true\n",
    "n"
   ]
  },
  {
   "cell_type": "code",
   "execution_count": 25,
   "metadata": {},
   "outputs": [
    {
     "name": "stderr",
     "output_type": "stream",
     "text": [
      "(pry):68: warning: found `= literal' in conditional, should be ==\n"
     ]
    },
    {
     "name": "stdout",
     "output_type": "stream",
     "text": [
      "3\n",
      "4\n"
     ]
    }
   ],
   "source": [
    "# multiple assignment (6.2.3)\n",
    "if (a,b = [3,4])\n",
    "    puts a; puts b\n",
    "end"
   ]
  },
  {
   "cell_type": "code",
   "execution_count": 26,
   "metadata": {},
   "outputs": [
    {
     "name": "stderr",
     "output_type": "stream",
     "text": [
      "(pry):71: warning: found `= literal' in conditional, should be ==\n"
     ]
    }
   ],
   "source": [
    "while (a,b = nil)\n",
    "    puts \"this line won't execute\"\n",
    "end"
   ]
  },
  {
   "cell_type": "code",
   "execution_count": 30,
   "metadata": {},
   "outputs": [
    {
     "name": "stdout",
     "output_type": "stream",
     "text": [
      "32.0\n",
      "50.0\n",
      "68.0\n",
      "86.0\n",
      "104.0\n",
      "122.0\n"
     ]
    },
    {
     "data": {
      "text/plain": [
       "[0, 10, 20, 30, 40, 50]"
      ]
     },
     "execution_count": 30,
     "metadata": {},
     "output_type": "execute_result"
    }
   ],
   "source": [
    "# looping based on lists (6.2.4)\n",
    "class Temp\n",
    "    def Temp.c2f(c)\n",
    "        c * 9.0 / 5 + 32\n",
    "    end\n",
    "end\n",
    "c = [0,10,20,30,40,50]\n",
    "for n in c\n",
    "    puts Temp.c2f(n)\n",
    "end"
   ]
  },
  {
   "cell_type": "markdown",
   "metadata": {},
   "source": [
    "#### Iterators and code blocks"
   ]
  },
  {
   "cell_type": "code",
   "execution_count": null,
   "metadata": {},
   "outputs": [],
   "source": [
    "# ingredients (6.3.1)"
   ]
  },
  {
   "cell_type": "code",
   "execution_count": null,
   "metadata": {},
   "outputs": [],
   "source": [
    "# homestyle (6.3.2)"
   ]
  },
  {
   "cell_type": "code",
   "execution_count": null,
   "metadata": {},
   "outputs": [],
   "source": [
    "# method calls (6.3.3)"
   ]
  },
  {
   "cell_type": "code",
   "execution_count": null,
   "metadata": {},
   "outputs": [],
   "source": [
    "# curly braces vs do-end (6.3.4)"
   ]
  },
  {
   "cell_type": "code",
   "execution_count": 31,
   "metadata": {},
   "outputs": [
    {
     "name": "stdout",
     "output_type": "stream",
     "text": [
      "howdy\n",
      "howdy\n",
      "howdy\n",
      "howdy\n",
      "howdy\n",
      "iteration 0\n",
      "iteration 1\n",
      "iteration 2\n",
      "iteration 3\n",
      "iteration 4\n"
     ]
    },
    {
     "data": {
      "text/plain": [
       "5"
      ]
     },
     "execution_count": 31,
     "metadata": {},
     "output_type": "execute_result"
    }
   ],
   "source": [
    "# times (6.3.5)\n",
    "5.times { puts \"howdy\" }\n",
    "5.times {|i| puts \"iteration #{i}\"}"
   ]
  },
  {
   "cell_type": "code",
   "execution_count": 32,
   "metadata": {},
   "outputs": [
    {
     "name": "stdout",
     "output_type": "stream",
     "text": [
      "1\n",
      "2\n",
      "3\n",
      "4\n",
      "5\n"
     ]
    },
    {
     "data": {
      "text/plain": [
       "[1, 2, 3, 4, 5]"
      ]
     },
     "execution_count": 32,
     "metadata": {},
     "output_type": "execute_result"
    }
   ],
   "source": [
    "# each (6.3.6)\n",
    "[1,2,3,4,5].each {|n| puts \"#{n}\"}"
   ]
  },
  {
   "cell_type": "code",
   "execution_count": 33,
   "metadata": {},
   "outputs": [
    {
     "data": {
      "text/plain": [
       "[\"JOE\", \"ANDY\", \"GREG\"]"
      ]
     },
     "execution_count": 33,
     "metadata": {},
     "output_type": "execute_result"
    }
   ],
   "source": [
    "# map (6.3.7)\n",
    "[\"joe\",\"andy\",\"greg\"].map {|name| name.upcase}"
   ]
  },
  {
   "cell_type": "code",
   "execution_count": 35,
   "metadata": {},
   "outputs": [
    {
     "name": "stdout",
     "output_type": "stream",
     "text": [
      "1\n",
      "2\n",
      "[3]\n",
      "4\n",
      "5\n"
     ]
    }
   ],
   "source": [
    "# block params & variable scope (6.3.8)\n",
    "def args(a,b=1,*c,d,e)\n",
    "    puts a,b,c,d,e\n",
    "end\n",
    "def block_args\n",
    "    yield(1,2,3,4,5)\n",
    "end\n",
    "block_args do |a,b=1,*c,d,e|\n",
    "    puts a,b,c,d,e\n",
    "end\n"
   ]
  },
  {
   "cell_type": "markdown",
   "metadata": {},
   "source": [
    "#### Error handling\n",
    "![exceptions](px/Selection_157.png)"
   ]
  },
  {
   "cell_type": "code",
   "execution_count": 37,
   "metadata": {},
   "outputs": [
    {
     "data": {
      "text/plain": [
       "\"nope. divide by zero not allowed.\""
      ]
     },
     "execution_count": 37,
     "metadata": {},
     "output_type": "execute_result"
    }
   ],
   "source": [
    "# exceptions (6.4.1)\n",
    "# exceptions interrupt, or stop (abort), normal execution flow.\n",
    "# depends on whether you use a matching rescue clause\n",
    "begin\n",
    "    result = 100/0\n",
    "rescue ZeroDivisionError\n",
    "    \"nope. divide by zero not allowed.\"\n",
    "end"
   ]
  },
  {
   "cell_type": "code",
   "execution_count": null,
   "metadata": {},
   "outputs": [],
   "source": [
    "# debugging with binding.irb (6.4.3)"
   ]
  },
  {
   "cell_type": "code",
   "execution_count": 38,
   "metadata": {},
   "outputs": [
    {
     "data": {
      "text/plain": [
       "[#<Player:0x000055f5b5c3c8e0 @name=\"adam\", @position=\"forward\">, #<Player:0x000055f5b5c3c868 @name=\"bobby\", @position=\"guard\">]"
      ]
     },
     "execution_count": 38,
     "metadata": {},
     "output_type": "execute_result"
    }
   ],
   "source": [
    "# NoMethodError and safe navigation (6.4.4)\n",
    "class Roster\n",
    "    attr_accessor :players\n",
    "end\n",
    "class Player\n",
    "    attr_accessor :name, :position\n",
    "    def initialize(name,position)\n",
    "        @name=name; @position=position\n",
    "    end\n",
    "end\n",
    "a = Player.new(\"adam\",\"forward\")\n",
    "b = Player.new(\"bobby\",\"guard\")\n",
    "r = Roster.new\n",
    "r.players = [a,b]"
   ]
  },
  {
   "cell_type": "code",
   "execution_count": 41,
   "metadata": {},
   "outputs": [],
   "source": [
    "r2 = Roster.new # no players assigned\n",
    "\n",
    "# \"&\" = safe navigation operator, tells Ruby to call next method only\n",
    "# if the receiver isn't nil.\n",
    "\n",
    "if r2.players&.first&.position == \"forward\"\n",
    "    puts \"forward: #{r2.players.first.name}\"\n",
    "end"
   ]
  },
  {
   "cell_type": "code",
   "execution_count": 43,
   "metadata": {},
   "outputs": [
    {
     "data": {
      "text/plain": [
       ":fussy"
      ]
     },
     "execution_count": 43,
     "metadata": {},
     "output_type": "execute_result"
    }
   ],
   "source": [
    "# explicit exception raising (6.4.5)\n",
    "def fussy(x)\n",
    "    raise ArgumentError, \"not big enough\" unless x>9\n",
    "end\n",
    "#fussy(5)"
   ]
  },
  {
   "cell_type": "code",
   "execution_count": 44,
   "metadata": {},
   "outputs": [
    {
     "name": "stdout",
     "output_type": "stream",
     "text": [
      "can't do that.\n",
      "backtrace:\n",
      "[\"(pry):187:in `fussy'\", \"(pry):193:in `<main>'\", \"/usr/local/lib/ruby/gems/2.7.0/gems/pry-0.13.1/lib/pry/pry_instance.rb:290:in `eval'\", \"/usr/local/lib/ruby/gems/2.7.0/gems/pry-0.13.1/lib/pry/pry_instance.rb:290:in `evaluate_ruby'\", \"/usr/local/lib/ruby/gems/2.7.0/gems/pry-0.13.1/lib/pry/pry_instance.rb:659:in `handle_line'\", \"/usr/local/lib/ruby/gems/2.7.0/gems/pry-0.13.1/lib/pry/pry_instance.rb:261:in `block (2 levels) in eval'\", \"/usr/local/lib/ruby/gems/2.7.0/gems/pry-0.13.1/lib/pry/pry_instance.rb:260:in `catch'\", \"/usr/local/lib/ruby/gems/2.7.0/gems/pry-0.13.1/lib/pry/pry_instance.rb:260:in `block in eval'\", \"/usr/local/lib/ruby/gems/2.7.0/gems/pry-0.13.1/lib/pry/pry_instance.rb:259:in `catch'\", \"/usr/local/lib/ruby/gems/2.7.0/gems/pry-0.13.1/lib/pry/pry_instance.rb:259:in `eval'\", \"/home/bjpcjp/.gem/ruby/2.7.0/gems/iruby-0.4.0/lib/iruby/backend.rb:66:in `eval'\", \"/home/bjpcjp/.gem/ruby/2.7.0/gems/iruby-0.4.0/lib/iruby/backend.rb:12:in `eval'\", \"/home/bjpcjp/.gem/ruby/2.7.0/gems/iruby-0.4.0/lib/iruby/kernel.rb:90:in `execute_request'\", \"/home/bjpcjp/.gem/ruby/2.7.0/gems/iruby-0.4.0/lib/iruby/kernel.rb:49:in `dispatch'\", \"/home/bjpcjp/.gem/ruby/2.7.0/gems/iruby-0.4.0/lib/iruby/kernel.rb:38:in `run'\", \"/home/bjpcjp/.gem/ruby/2.7.0/gems/iruby-0.4.0/lib/iruby/command.rb:110:in `run_kernel'\", \"/home/bjpcjp/.gem/ruby/2.7.0/gems/iruby-0.4.0/lib/iruby/command.rb:40:in `run'\", \"/home/bjpcjp/.gem/ruby/2.7.0/gems/iruby-0.4.0/bin/iruby:5:in `<top (required)>'\", \"/usr/local/bin/iruby:23:in `load'\", \"/usr/local/bin/iruby:23:in `<main>'\"]\n",
      "message:\n",
      "not big enough\n"
     ]
    }
   ],
   "source": [
    "# capturing exception in rescue (6.4.6)\n",
    "begin\n",
    "    fussy(5)\n",
    "rescue ArgumentError => e\n",
    "    puts \"can't do that.\"\n",
    "    puts \"backtrace:\", e.backtrace\n",
    "    puts \"message:\", e.message\n",
    "end"
   ]
  },
  {
   "cell_type": "code",
   "execution_count": 45,
   "metadata": {},
   "outputs": [
    {
     "data": {
      "text/plain": [
       ":line_from_file"
      ]
     },
     "execution_count": 45,
     "metadata": {},
     "output_type": "execute_result"
    }
   ],
   "source": [
    "# ensure (6.4.7)\n",
    "# no matter what happens, you want to close the file handle before exiting.\n",
    "def line_from_file(filename,substring)\n",
    "    fh = File.open(filename)\n",
    "    begin\n",
    "        line = fh.gets\n",
    "        raise ArgumentError unless line.include?(substring)\n",
    "    rescue ArgumentError\n",
    "        puts \"invalid line.\"\n",
    "    ensure\n",
    "        fh.close\n",
    "    end\n",
    "    return line\n",
    "end"
   ]
  },
  {
   "cell_type": "code",
   "execution_count": 46,
   "metadata": {},
   "outputs": [
    {
     "name": "stdout",
     "output_type": "stream",
     "text": [
      "about to raise exception\n",
      "just did this: NewException\n"
     ]
    }
   ],
   "source": [
    "# custom exceptions (6.4.8)\n",
    "class NewException<Exception\n",
    "end\n",
    "begin puts \"about to raise exception\"\n",
    "    raise NewException\n",
    "rescue NewException => e\n",
    "    puts \"just did this: #{e}\"\n",
    "end"
   ]
  },
  {
   "cell_type": "markdown",
   "metadata": {},
   "source": [
    "## Essential built-in classes & modules (Chap 7)\n",
    "![popular](px/Selection_158.png)"
   ]
  },
  {
   "cell_type": "markdown",
   "metadata": {},
   "source": [
    "#### Literal constructors\n",
    "![literal constructors](px/Selection_159.png)"
   ]
  },
  {
   "cell_type": "markdown",
   "metadata": {},
   "source": [
    "#### Recurrent syntactic sugar"
   ]
  },
  {
   "cell_type": "code",
   "execution_count": 50,
   "metadata": {},
   "outputs": [
    {
     "name": "stdout",
     "output_type": "stream",
     "text": [
      "15\n"
     ]
    }
   ],
   "source": [
    "# operator sugar (7.2.1)\n",
    "class Account\n",
    "    attr_accessor :balance\n",
    "    def initialize(amount=0)\n",
    "        self.balance=amount\n",
    "    end\n",
    "    def +(x)\n",
    "        self.balance += x\n",
    "    end\n",
    "    def -(x)\n",
    "        self.balance -= x\n",
    "    end\n",
    "    def to_s\n",
    "        balance.to_s\n",
    "    end\n",
    "end\n",
    "acc = Account.new(20); acc -= 5; puts acc"
   ]
  },
  {
   "cell_type": "markdown",
   "metadata": {},
   "source": [
    "![operator sugar](px/Selection_160.png)"
   ]
  },
  {
   "cell_type": "code",
   "execution_count": 49,
   "metadata": {},
   "outputs": [
    {
     "name": "stdout",
     "output_type": "stream",
     "text": [
      "eat at Joe's\n",
      "EAT AT JOE'S\n",
      "eat at joe's\n",
      "s'eoJ ta tae\n",
      "s'eoJ ta tae\n"
     ]
    }
   ],
   "source": [
    "# custom unary operators (7.2.2)\n",
    "class Banner\n",
    "    def initialize(text)\n",
    "        @text=text\n",
    "    end\n",
    "    def to_s\n",
    "        @text\n",
    "    end\n",
    "    def +@\n",
    "        @text.upcase\n",
    "    end\n",
    "    def -@\n",
    "        @text.downcase\n",
    "    end\n",
    "    def !\n",
    "        @text.reverse\n",
    "    end\n",
    "end\n",
    "banner = Banner.new(\"eat at Joe's\")\n",
    "puts banner\n",
    "puts +banner\n",
    "puts -banner\n",
    "puts !banner\n",
    "puts (not banner)"
   ]
  },
  {
   "cell_type": "markdown",
   "metadata": {},
   "source": [
    "#### Bang methods"
   ]
  },
  {
   "cell_type": "code",
   "execution_count": 52,
   "metadata": {},
   "outputs": [
    {
     "name": "stdout",
     "output_type": "stream",
     "text": [
      "HELLO\n",
      "HELLO\n"
     ]
    },
    {
     "data": {
      "text/plain": [
       "\"HELLO\""
      ]
     },
     "execution_count": 52,
     "metadata": {},
     "output_type": "execute_result"
    }
   ],
   "source": [
    "# destructive effects (7.3.1)\n",
    "str=\"hello\"\n",
    "puts str.upcase\n",
    "puts str.upcase!\n",
    "str"
   ]
  },
  {
   "cell_type": "code",
   "execution_count": 53,
   "metadata": {},
   "outputs": [],
   "source": [
    "# destructiveness and danger (7.3.2) - TODO"
   ]
  },
  {
   "cell_type": "markdown",
   "metadata": {},
   "source": [
    "#### Built-in and custom to_* methods"
   ]
  },
  {
   "cell_type": "code",
   "execution_count": 56,
   "metadata": {},
   "outputs": [
    {
     "name": "stdout",
     "output_type": "stream",
     "text": [
      "#<Object:0x000055f5b5cfbad8>\n",
      "#<Object:0x000055f5b5cfaef8>\n",
      "#<Object:0x000055f5b5cf9b48>\n"
     ]
    }
   ],
   "source": [
    "# string conversion (7.4.1)\n",
    "puts Object.new.to_s\n",
    "puts Object.new.inspect # a mini screen dump of the object's location\n",
    "puts Object.new.display # less used"
   ]
  },
  {
   "cell_type": "code",
   "execution_count": 57,
   "metadata": {},
   "outputs": [
    {
     "data": {
      "text/plain": [
       "[1, 2, 3, 4, 5, 6, 7]"
      ]
     },
     "execution_count": 57,
     "metadata": {},
     "output_type": "execute_result"
    }
   ],
   "source": [
    "# array conversion (7.4.2)\n",
    "(1...8).to_a"
   ]
  },
  {
   "cell_type": "code",
   "execution_count": 60,
   "metadata": {},
   "outputs": [
    {
     "name": "stdout",
     "output_type": "stream",
     "text": [
      "[1, 2, 3, 4, 5]\n",
      "[[1, 2, 3, 4, 5]]\n"
     ]
    }
   ],
   "source": [
    "# arrays, bare lists and the splat operator\n",
    "# use case: when you have an array of objects that needs to be\n",
    "#           sent to a method that's expecting a list of arguments.\n",
    "\n",
    "ary = [1,2,3,4,5]\n",
    "puts [*ary] # array demoted to bare list\n",
    "puts [ary] "
   ]
  },
  {
   "cell_type": "code",
   "execution_count": 62,
   "metadata": {},
   "outputs": [
    {
     "name": "stdout",
     "output_type": "stream",
     "text": [
      "101\n",
      "202.0\n"
     ]
    }
   ],
   "source": [
    "# numerical conversions (7.4.3)\n",
    "puts \"101\".to_i\n",
    "puts \"202\".to_f"
   ]
  },
  {
   "cell_type": "code",
   "execution_count": 63,
   "metadata": {},
   "outputs": [],
   "source": [
    "# string \"role playing\" (7.4.4) - TODO"
   ]
  },
  {
   "cell_type": "markdown",
   "metadata": {},
   "source": [
    "#### Booleans"
   ]
  },
  {
   "cell_type": "code",
   "execution_count": 67,
   "metadata": {},
   "outputs": [
    {
     "name": "stderr",
     "output_type": "stream",
     "text": [
      "(pry):417: warning: string literal in condition\n"
     ]
    },
    {
     "name": "stdout",
     "output_type": "stream",
     "text": [
      "this one is false.\n",
      "this one is true.\n",
      "true\n",
      "true\n",
      "true\n"
     ]
    }
   ],
   "source": [
    "# true & false as states (7.5.1)\n",
    "# every Ruby expression is either true or false in a Boolean sense.\n",
    "if (class MyClass end)\n",
    "    puts \"this one is true.\"\n",
    "else\n",
    "    puts \"this one is false.\"\n",
    "end\n",
    "\n",
    "if (class MyClass; 1; end)\n",
    "    puts \"this one is true.\"\n",
    "else\n",
    "    puts \"this one is false.\"\n",
    "end\n",
    "\n",
    "if (def m; return false; end)\n",
    "    puts \"true\"\n",
    "else\n",
    "    puts \"false\"\n",
    "end\n",
    "\n",
    "if \"string\"\n",
    "    puts \"true\"\n",
    "else\n",
    "    puts \"false\"\n",
    "end\n",
    "\n",
    "if 100>50\n",
    "    puts \"true\"\n",
    "else\n",
    "    puts \"false\"\n",
    "end"
   ]
  },
  {
   "cell_type": "code",
   "execution_count": 68,
   "metadata": {},
   "outputs": [
    {
     "name": "stdout",
     "output_type": "stream",
     "text": [
      "TrueClass\n",
      "FalseClass\n"
     ]
    }
   ],
   "source": [
    "# true & false as objects (7.5.2)\n",
    "puts true.class; puts false.class"
   ]
  },
  {
   "cell_type": "markdown",
   "metadata": {},
   "source": [
    "![true and false](px/Selection_161.png)"
   ]
  },
  {
   "cell_type": "code",
   "execution_count": 70,
   "metadata": {},
   "outputs": [
    {
     "name": "stdout",
     "output_type": "stream",
     "text": [
      "\n",
      "0\n",
      "8\n"
     ]
    }
   ],
   "source": [
    "# nil (7.5.3)\n",
    "# - nil is an object = only instance of NilClass. denotes absence of anything.\n",
    "# - nil is default value of nonexistent container & collection elements.\n",
    "puts nil.to_s\n",
    "puts nil.to_i\n",
    "puts nil.object_id"
   ]
  },
  {
   "cell_type": "markdown",
   "metadata": {},
   "source": [
    "#### Comparing two objects"
   ]
  },
  {
   "cell_type": "code",
   "execution_count": 71,
   "metadata": {},
   "outputs": [
    {
     "name": "stdout",
     "output_type": "stream",
     "text": [
      "true\n",
      "false\n",
      "true\n",
      "true\n",
      "false\n",
      "true\n",
      "false\n"
     ]
    }
   ],
   "source": [
    "# equality tests (7.6.1)\n",
    "a=Object.new; b=Object.new\n",
    "puts a==a # equal strings?\n",
    "puts a==b\n",
    "puts a!=b\n",
    "puts a.eql?(a) # equal strings?\n",
    "puts a.eql?(b)\n",
    "puts a.equal?(a) # exactly the same object?\n",
    "puts a.equal?(b)"
   ]
  },
  {
   "cell_type": "code",
   "execution_count": 72,
   "metadata": {},
   "outputs": [
    {
     "name": "stdout",
     "output_type": "stream",
     "text": [
      "true\n",
      "false\n"
     ]
    }
   ],
   "source": [
    "puts 5 ==   5.0\n",
    "puts 5.eql? 5.0"
   ]
  },
  {
   "cell_type": "code",
   "execution_count": 73,
   "metadata": {},
   "outputs": [
    {
     "data": {
      "text/plain": [
       "true"
      ]
     },
     "execution_count": 73,
     "metadata": {},
     "output_type": "execute_result"
    }
   ],
   "source": [
    "# comparable Module\n",
    "# >, >=, < <=, ==, !=, between?\n",
    "\n",
    "class Bid\n",
    "    include Comparable\n",
    "    attr_accessor :estimate\n",
    "    def <=>(otherbid) # \"spaceship\" method\n",
    "        if self.estimate < otherbid.estimate\n",
    "            -1\n",
    "        elsif self.estimate > otherbid.estimate\n",
    "            1\n",
    "        else 0\n",
    "        end\n",
    "    end\n",
    "end\n",
    "bid1 = Bid.new;      bid2 = Bid.new\n",
    "bid1.estimate = 100; bid2.estimate = 105\n",
    "bid1<bid2"
   ]
  },
  {
   "cell_type": "markdown",
   "metadata": {},
   "source": [
    "#### Object capabilities"
   ]
  },
  {
   "cell_type": "code",
   "execution_count": 75,
   "metadata": {},
   "outputs": [
    {
     "name": "stdout",
     "output_type": "stream",
     "text": []
    },
    {
     "name": "stdout",
     "output_type": "stream",
     "text": [
      "[:!,\n",
      " :!=,\n",
      " :!~,\n",
      " :%,\n",
      " :*,\n",
      " :+,\n",
      " :+@,\n",
      " :-@,\n",
      " :<,\n",
      " :<<,\n",
      " :<=,\n",
      " :<=>,\n",
      " :==,\n",
      " :===,\n",
      " :=~,\n",
      " :>,\n",
      " :>=,\n",
      " :[],\n",
      " :[]=,\n",
      " :__binding__,\n",
      " :__id__,\n",
      " :__send__,\n",
      " :ascii_only?,\n",
      " :b,\n",
      " :between?,\n",
      " :bytes,\n",
      " :bytesize,\n",
      " :byteslice,\n",
      " :capitalize,\n",
      " :capitalize!,\n",
      " :casecmp,\n",
      " :casecmp?,\n",
      " :center,\n",
      " :chars,\n",
      " :chomp,\n",
      " :chomp!,\n",
      " :chop,\n",
      " :chop!,\n",
      " :chr,\n",
      " :clamp,\n",
      " :class,\n",
      " :clear,\n",
      " :clone,\n",
      " :codepoints,\n",
      " :concat,\n",
      " :count,\n",
      " :crypt,\n",
      " :define_singleton_method,\n",
      " :delete,\n",
      " :delete!,\n",
      " :delete_prefix,\n",
      " :delete_prefix!,\n",
      " :delete_suffix,\n",
      " :delete_suffix!,\n",
      " :display,\n",
      " :downcase,\n",
      " :downcase!,\n",
      " :dump,\n",
      " :dup,\n",
      " :each_byte,\n",
      " :each_char,\n",
      " :each_codepoint,\n",
      " :each_grapheme_cluster,\n",
      " :each_line,\n",
      " :empty?,\n",
      " :encode,\n",
      " :encode!,\n",
      " :encoding,\n",
      " :end_with?,\n",
      " :enum_for,\n",
      " :eql?,\n",
      " :equal?,\n",
      " :extend,\n",
      " :force_encoding,\n",
      " :freeze,\n",
      " :frozen?,\n",
      " :getbyte,\n",
      " :grapheme_clusters,\n",
      " :gsub,\n",
      " :gsub!,\n",
      " :hash,\n",
      " :hex,\n",
      " :include?,\n",
      " :index,\n",
      " :insert,\n",
      " :inspect,\n",
      " :instance_eval,\n",
      " :instance_exec,\n",
      " :instance_of?,\n",
      " :instance_variable_defined?,\n",
      " :instance_variable_get,\n",
      " :instance_variable_set,\n",
      " :instance_variables,\n",
      " :intern,\n",
      " :is_a?,\n",
      " :itself,\n",
      " :kind_of?,\n",
      " :length,\n",
      " :lines,\n",
      " :ljust,\n",
      " :lstrip,\n",
      " :lstrip!,\n",
      " :match,\n",
      " :match?,\n",
      " :method,\n",
      " :methods,\n",
      " :next,\n",
      " :next!,\n",
      " :nil?,\n",
      " :object_id,\n",
      " :oct,\n",
      " :ord,\n",
      " :partition,\n",
      " :prepend,\n",
      " :pretty_inspect,\n",
      " :pretty_print,\n",
      " :pretty_print_cycle,\n",
      " :pretty_print_inspect,\n",
      " :pretty_print_instance_variables,\n",
      " :private_methods,\n",
      " :protected_methods,\n",
      " :pry,\n",
      " :public_method,\n",
      " :public_methods,\n",
      " :public_send,\n",
      " :remove_instance_variable,\n",
      " :replace,\n",
      " :respond_to?,\n",
      " :reverse,\n",
      " :reverse!,\n",
      " :rindex,\n",
      " :rjust,\n",
      " :rpartition,\n",
      " :rstrip,\n",
      " :rstrip!,\n",
      " :scan,\n",
      " :scrub,\n",
      " :scrub!,\n",
      " :send,\n",
      " :setbyte,\n",
      " :shellescape,\n",
      " :shellsplit,\n",
      " :singleton_class,\n",
      " :singleton_method,\n",
      " :singleton_methods,\n",
      " :size,\n",
      " :slice,\n",
      " :slice!,\n",
      " :split,\n",
      " :squeeze,\n",
      " :squeeze!,\n",
      " :start_with?,\n",
      " :strip,\n",
      " :strip!,\n",
      " :sub,\n",
      " :sub!,\n",
      " :succ,\n",
      " :succ!,\n",
      " :sum,\n",
      " :swapcase,\n",
      " :swapcase!,\n",
      " :taint,\n",
      " :tainted?,\n",
      " :tap,\n",
      " :then,\n",
      " :to_c,\n",
      " :to_enum,\n",
      " :to_f,\n",
      " :to_i,\n",
      " :to_json,\n",
      " :to_json_raw,\n",
      " :to_json_raw_object,\n",
      " :to_r,\n",
      " :to_s,\n",
      " :to_str,\n",
      " :to_sym,\n",
      " :tr,\n",
      " :tr!,\n",
      " :tr_s,\n",
      " :tr_s!,\n",
      " :trust,\n",
      " :undump,\n",
      " :unicode_normalize,\n",
      " :unicode_normalize!,\n",
      " :unicode_normalized?,\n",
      " :unpack,\n",
      " :unpack1,\n",
      " :untaint,\n",
      " :untrust,\n",
      " :untrusted?,\n",
      " :upcase,\n",
      " :upcase!,\n",
      " :upto,\n",
      " :valid_encoding?,\n",
      " :yield_self]\n"
     ]
    }
   ],
   "source": [
    "PP.pp \"I am a string\".methods.sort"
   ]
  },
  {
   "cell_type": "code",
   "execution_count": 76,
   "metadata": {},
   "outputs": [
    {
     "name": "stdout",
     "output_type": "stream",
     "text": []
    },
    {
     "name": "stdout",
     "output_type": "stream",
     "text": [
      "[]\n"
     ]
    }
   ],
   "source": [
    "PP.pp \"i am a string\".singleton_methods.sort"
   ]
  },
  {
   "cell_type": "code",
   "execution_count": 78,
   "metadata": {},
   "outputs": [
    {
     "data": {
      "text/plain": [
       "[:!, :!=, :!~, :%, :*, :+, :+@, :-@, :<, :<<, :<=, :<=>, :==, :===, :=~, :>, :>=, :[], :[]=, :__binding__, :__id__, :__send__, :ascii_only?, :b, :between?, :bytes, :bytesize, :byteslice, :capitalize, :capitalize!, :casecmp, :casecmp?, :center, :chars, :chomp, :chomp!, :chop, :chop!, :chr, :clamp, :class, :clear, :clone, :codepoints, :concat, :count, :crypt, :define_singleton_method, :delete, :delete!, :delete_prefix, :delete_prefix!, :delete_suffix, :delete_suffix!, :display, :downcase, :downcase!, :dump, :dup, :each_byte, :each_char, :each_codepoint, :each_grapheme_cluster, :each_line, :empty?, :encode, :encode!, :encoding, :end_with?, :enum_for, :eql?, :equal?, :extend, :force_encoding, :freeze, :frozen?, :getbyte, :grapheme_clusters, :gsub, :gsub!, :hash, :hex, :include?, :index, :insert, :inspect, :instance_eval, :instance_exec, :instance_of?, :instance_variable_defined?, :instance_variable_get, :instance_variable_set, :instance_variables, :intern, :is_a?, :itself, :kind_of?, :length, :lines, :ljust, :lstrip, :lstrip!, :match, :match?, :method, :methods, :next, :next!, :nil?, :object_id, :oct, :ord, :partition, :prepend, :pretty_inspect, :pretty_print, :pretty_print_cycle, :pretty_print_inspect, :pretty_print_instance_variables, :private_methods, :protected_methods, :pry, :public_method, :public_methods, :public_send, :remove_instance_variable, :replace, :respond_to?, :reverse, :reverse!, :rindex, :rjust, :rpartition, :rstrip, :rstrip!, :scan, :scrub, :scrub!, :send, :setbyte, :shellescape, :shellsplit, :singleton_class, :singleton_method, :singleton_methods, :size, :slice, :slice!, :split, :squeeze, :squeeze!, :start_with?, :strip, :strip!, :sub, :sub!, :succ, :succ!, :sum, :swapcase, :swapcase!, :taint, :tainted?, :tap, :then, :to_c, :to_enum, :to_f, :to_i, :to_json, :to_json_raw, :to_json_raw_object, :to_r, :to_s, :to_str, :to_sym, :tr, :tr!, :tr_s, :tr_s!, :trust, :undump, :unicode_normalize, :unicode_normalize!, :unicode_normalized?, :unpack, :unpack1, :untaint, :untrust, :untrusted?, :upcase, :upcase!, :upto, :valid_encoding?, :yield_self]"
      ]
     },
     "execution_count": 78,
     "metadata": {},
     "output_type": "execute_result"
    }
   ],
   "source": [
    "# class & module object methods\n",
    "#PP.pp String.instance_methods.sort\n",
    "String.instance_methods.sort"
   ]
  },
  {
   "cell_type": "code",
   "execution_count": 79,
   "metadata": {},
   "outputs": [
    {
     "data": {
      "text/plain": [
       "[:all?, :any?, :chain, :chunk, :chunk_while, :collect, :collect_concat, :count, :cycle, :detect, :drop, :drop_while, :each_cons, :each_entry, :each_slice, :each_with_index, :each_with_object, :entries, :filter, :filter_map, :find, :find_all, :find_index, :first, :flat_map, :grep, :grep_v, :group_by, :include?, :inject, :lazy, :map, :max, :max_by, :member?, :min, :min_by, :minmax, :minmax_by, :none?, :one?, :partition, :reduce, :reject, :reverse_each, :select, :slice_after, :slice_before, :slice_when, :sort, :sort_by, :sum, :take, :take_while, :tally, :to_a, :to_h, :to_set, :uniq, :zip]"
      ]
     },
     "execution_count": 79,
     "metadata": {},
     "output_type": "execute_result"
    }
   ],
   "source": [
    "Enumerable.instance_methods.sort"
   ]
  },
  {
   "cell_type": "code",
   "execution_count": 81,
   "metadata": {},
   "outputs": [
    {
     "data": {
      "text/plain": [
       "[:%, :*, :+, :+@, :-@, :<<, :<=>, :==, :===, :=~, :[], :[]=, :ascii_only?, :b, :bytes, :bytesize, :byteslice, :capitalize, :capitalize!, :casecmp, :casecmp?, :center, :chars, :chomp, :chomp!, :chop, :chop!, :chr, :clear, :codepoints, :concat, :count, :crypt, :delete, :delete!, :delete_prefix, :delete_prefix!, :delete_suffix, :delete_suffix!, :downcase, :downcase!, :dump, :each_byte, :each_char, :each_codepoint, :each_grapheme_cluster, :each_line, :empty?, :encode, :encode!, :encoding, :end_with?, :eql?, :force_encoding, :freeze, :getbyte, :grapheme_clusters, :gsub, :gsub!, :hash, :hex, :include?, :index, :insert, :inspect, :intern, :length, :lines, :ljust, :lstrip, :lstrip!, :match, :match?, :next, :next!, :oct, :ord, :partition, :prepend, :pretty_print, :replace, :reverse, :reverse!, :rindex, :rjust, :rpartition, :rstrip, :rstrip!, :scan, :scrub, :scrub!, :setbyte, :shellescape, :shellsplit, :size, :slice, :slice!, :split, :squeeze, :squeeze!, :start_with?, :strip, :strip!, :sub, :sub!, :succ, :succ!, :sum, :swapcase, :swapcase!, :to_c, :to_f, :to_i, :to_r, :to_s, :to_str, :to_sym, :tr, :tr!, :tr_s, :tr_s!, :undump, :unicode_normalize, :unicode_normalize!, :unicode_normalized?, :unpack, :unpack1, :upcase, :upcase!, :upto, :valid_encoding?]"
      ]
     },
     "execution_count": 81,
     "metadata": {},
     "output_type": "execute_result"
    }
   ],
   "source": [
    "# filtered & selected method lists\n",
    "String.instance_methods(false).sort\n",
    "\n",
    "# instance level:\n",
    "# obj.private_methods, .public_methods, .protected_methods, .singleton_methods\n",
    "# class level:\n",
    "# MyClass.private_instance_methods\n",
    "# MyClass.protected_instance_methods\n",
    "# MyClass.public_instance_methods"
   ]
  },
  {
   "cell_type": "markdown",
   "metadata": {},
   "source": [
    "## Strings, symbols & other scalar objects (Chap 8)"
   ]
  },
  {
   "cell_type": "markdown",
   "metadata": {},
   "source": [
    "#### Working with strings"
   ]
  },
  {
   "cell_type": "code",
   "execution_count": 84,
   "metadata": {},
   "outputs": [
    {
     "name": "stdout",
     "output_type": "stream",
     "text": [
      "this is a doublequoted string.\n",
      "this is a singlequoted string.\n",
      "doublequoted strings do interpolation: 4\n",
      "singlequoted with escapes: \\\"#{2+2}\\\"\n"
     ]
    }
   ],
   "source": [
    "# notation (8.1.1)\n",
    "puts \"this is a doublequoted string.\"\n",
    "puts 'this is a singlequoted string.'\n",
    "puts \"doublequoted strings do interpolation: #{2+2}\"\n",
    "puts 'singlequoted with escapes: \\\"#{2+2}\\\"'"
   ]
  },
  {
   "cell_type": "code",
   "execution_count": 87,
   "metadata": {},
   "outputs": [
    {
     "name": "stdout",
     "output_type": "stream",
     "text": [
      "no need for apostrophes or quote marks (','',\",\"\")\n"
     ]
    }
   ],
   "source": [
    "puts %q(no need for apostrophes or quote marks (','',\",\"\"))"
   ]
  },
  {
   "cell_type": "code",
   "execution_count": 88,
   "metadata": {},
   "outputs": [
    {
     "data": {
      "text/plain": [
       "\"this is a line.\\n    this is another line.\\n\""
      ]
     },
     "execution_count": 88,
     "metadata": {},
     "output_type": "execute_result"
    }
   ],
   "source": [
    "# heredoc example\n",
    "text = <<EOM\n",
    "this is a line.\n",
    "    this is another line.\n",
    "EOM"
   ]
  },
  {
   "cell_type": "code",
   "execution_count": 89,
   "metadata": {},
   "outputs": [
    {
     "data": {
      "text/plain": [
       "\"SELECT count (DISTINCT users.id)\\nFROM users\\nWHERE user.first_name='joe';\\n\""
      ]
     },
     "execution_count": 89,
     "metadata": {},
     "output_type": "execute_result"
    }
   ],
   "source": [
    "query = <<SQL\n",
    "SELECT count (DISTINCT users.id)\n",
    "FROM users\n",
    "WHERE user.first_name='joe';\n",
    "SQL"
   ]
  },
  {
   "cell_type": "code",
   "execution_count": 90,
   "metadata": {},
   "outputs": [
    {
     "data": {
      "text/plain": [
       "\"howdy\\npardner.\\n\""
      ]
     },
     "execution_count": 90,
     "metadata": {},
     "output_type": "execute_result"
    }
   ],
   "source": [
    "# squiggly heredoc - strips leading whitespace\n",
    "<<~EOM\n",
    "       howdy\n",
    "       pardner.\n",
    "EOM"
   ]
  },
  {
   "cell_type": "code",
   "execution_count": 102,
   "metadata": {},
   "outputs": [
    {
     "name": "stdout",
     "output_type": "stream",
     "text": [
      "s\n",
      "i\n",
      "was a dark\n",
      "was a da\n",
      "dark and\n",
      "\n",
      "dark and \n",
      "it was a stormy night.\n"
     ]
    }
   ],
   "source": [
    "# substrings (8.1.2)\n",
    "str = \"it was a dark and stormy night.\"\n",
    "puts str[5]\n",
    "puts str[-5]\n",
    "puts str[3,10]\n",
    "puts str[3..10]\n",
    "puts str[\"dark and\"]\n",
    "puts str[\"dark and clear\"]\n",
    "puts str.slice!(\"dark and \")\n",
    "puts str"
   ]
  },
  {
   "cell_type": "code",
   "execution_count": 104,
   "metadata": {},
   "outputs": [
    {
     "name": "stdout",
     "output_type": "stream",
     "text": [
      "ab\n",
      "howdy there.\n"
     ]
    }
   ],
   "source": [
    "# combining strings\n",
    "puts \"a\"+\"b\"\n",
    "str = \"howdy\"; puts \"#{str} there.\""
   ]
  },
  {
   "cell_type": "code",
   "execution_count": 110,
   "metadata": {},
   "outputs": [
    {
     "name": "stdout",
     "output_type": "stream",
     "text": [
      "true\n",
      "true\n",
      "true\n",
      "false\n",
      "true\n",
      "2\n",
      "3\n",
      "9\n",
      "3\n"
     ]
    }
   ],
   "source": [
    "# querying strings (8.1.3)\n",
    "str = \"howdy there.\"\n",
    "puts str.include?(\"howdy\")\n",
    "puts str.start_with?(\"howdy\")\n",
    "puts str.end_with?(\"there.\")\n",
    "puts str.empty?\n",
    "puts \"\".empty?\n",
    "puts str.count(\"e\")\n",
    "puts str.count(\"a-e\")\n",
    "puts str.count(\"^a-e\") #negates count\n",
    "puts str.index(\"dy\")"
   ]
  },
  {
   "cell_type": "code",
   "execution_count": 111,
   "metadata": {},
   "outputs": [
    {
     "name": "stdout",
     "output_type": "stream",
     "text": [
      "97\n",
      "97\n"
     ]
    }
   ],
   "source": [
    "# ordinal (character) values\n",
    "puts \"a\".ord\n",
    "puts \"abc\".ord"
   ]
  },
  {
   "cell_type": "code",
   "execution_count": 112,
   "metadata": {},
   "outputs": [
    {
     "name": "stdout",
     "output_type": "stream",
     "text": [
      "-1\n",
      "true\n",
      "true\n",
      "true\n"
     ]
    }
   ],
   "source": [
    "# string compare/order (8.1.4)\n",
    "puts \"a\" <=> \"b\"\n",
    "puts \"b\" > \"a\"\n",
    "puts \"a\" > \"A\"\n",
    "puts \".\" > \",\""
   ]
  },
  {
   "cell_type": "code",
   "execution_count": 113,
   "metadata": {},
   "outputs": [
    {
     "name": "stdout",
     "output_type": "stream",
     "text": [
      "JOHN Q. PUBLIC\n",
      "john q. public\n",
      "jOHN q. pUBLIC\n",
      "John q. public\n"
     ]
    }
   ],
   "source": [
    "# string transforms (8.1.5)\n",
    "str = \"John Q. Public\"\n",
    "puts str.upcase\n",
    "puts str.downcase\n",
    "puts str.swapcase \n",
    "puts str.capitalize"
   ]
  },
  {
   "cell_type": "code",
   "execution_count": 116,
   "metadata": {},
   "outputs": [
    {
     "name": "stdout",
     "output_type": "stream",
     "text": [
      "...........John Q. Public\n",
      "***John Q. Public***\n",
      "big empty\n",
      "big empty           \n",
      "         big empty\n"
     ]
    }
   ],
   "source": [
    "puts str.rjust(25,\".\")\n",
    "puts str.center(20,\"*\")\n",
    "str = \"         big empty           \"\n",
    "puts str.strip\n",
    "puts str.lstrip\n",
    "puts str.rstrip"
   ]
  },
  {
   "cell_type": "code",
   "execution_count": 120,
   "metadata": {},
   "outputs": [
    {
     "name": "stdout",
     "output_type": "stream",
     "text": [
      "John Q. Publi\n",
      "John Q. Public\n",
      "John Q. Publ\n",
      "Jane\n",
      "JohnPublic\n"
     ]
    }
   ],
   "source": [
    "str = \"John Q. Public\"\n",
    "puts str.chop # unconditional char removal from end of string\n",
    "puts str.chomp # removes substring if found at end of string (default is \\n)\n",
    "puts str.chomp(\"ic\")\n",
    "puts str.replace(\"Jane\")\n",
    "str = \"John Q. Public\"\n",
    "puts str.delete(\"Q. \")"
   ]
  },
  {
   "cell_type": "code",
   "execution_count": 121,
   "metadata": {},
   "outputs": [
    {
     "name": "stdout",
     "output_type": "stream",
     "text": [
      "34oc3naDaZIoI\n"
     ]
    }
   ],
   "source": [
    "# DES encryption with salt value\n",
    "puts str.crypt(\"34\")"
   ]
  },
  {
   "cell_type": "code",
   "execution_count": 122,
   "metadata": {},
   "outputs": [
    {
     "name": "stdout",
     "output_type": "stream",
     "text": [
      "b\n",
      "abd\n",
      "baa\n"
     ]
    }
   ],
   "source": [
    "# succession\n",
    "puts \"a\".succ\n",
    "puts \"abc\".succ\n",
    "puts \"azz\".succ"
   ]
  },
  {
   "cell_type": "code",
   "execution_count": 125,
   "metadata": {},
   "outputs": [
    {
     "name": "stdout",
     "output_type": "stream",
     "text": [
      "64\n",
      "256\n",
      "289\n",
      "abcde\n"
     ]
    }
   ],
   "source": [
    "# string conversions (8.1.6)\n",
    "puts \"100\".oct\n",
    "puts \"100\".hex\n",
    "puts \"100\".to_i(17) # base 17 conversion\n",
    "puts \"abcde\".to_sym"
   ]
  },
  {
   "cell_type": "code",
   "execution_count": 127,
   "metadata": {},
   "outputs": [
    {
     "name": "stdout",
     "output_type": "stream",
     "text": [
      "UTF-8\n",
      "UTF-8\n"
     ]
    }
   ],
   "source": [
    "# string encoding (8.1.7)\n",
    "puts __ENCODING__\n",
    "str = \"John Q. Public\"; puts str.encoding"
   ]
  },
  {
   "cell_type": "markdown",
   "metadata": {},
   "source": [
    "#### Symbols\n",
    "- literal constructor is a leading \":\".\n",
    "- also by using \"to_sym\" method."
   ]
  },
  {
   "cell_type": "code",
   "execution_count": 129,
   "metadata": {},
   "outputs": [
    {
     "name": "stdout",
     "output_type": "stream",
     "text": [
      "4084828\n",
      "4084828\n"
     ]
    }
   ],
   "source": [
    "# characteristics (8.2.1)\n",
    "# - immutability\n",
    "# - uniqueness\n",
    "puts :xyz.object_id\n",
    "puts :xyz.object_id"
   ]
  },
  {
   "cell_type": "code",
   "execution_count": 133,
   "metadata": {},
   "outputs": [
    {
     "name": "stdout",
     "output_type": "stream",
     "text": [
      "12832\n",
      "[:!, :\"\\\"\", :\"#\", :\"$\", :%, :&, :\"'\", :\"(\", :\")\", :*, :+, :\",\", :-, :\".\", :/, :\":\", :\";\", :<, :\"=\", :>]\n"
     ]
    }
   ],
   "source": [
    "# identifiers (8.2.2)\n",
    "puts Symbol.all_symbols.size\n",
    "puts Symbol.all_symbols[0..19]"
   ]
  },
  {
   "cell_type": "code",
   "execution_count": 137,
   "metadata": {},
   "outputs": [
    {
     "name": "stdout",
     "output_type": "stream",
     "text": [
      "ABC\n",
      "35\n"
     ]
    }
   ],
   "source": [
    "# in practice (8.2.3)\n",
    "puts \"abc\".send(:upcase) # as method args\n",
    "myhash = {:name => \"joe\", :age => 35 } # as hash keys\n",
    "puts myhash[:age]"
   ]
  },
  {
   "cell_type": "code",
   "execution_count": 138,
   "metadata": {},
   "outputs": [
    {
     "data": {
      "text/plain": [
       "[:<=>, :==, :===, :=~, :[], :capitalize, :casecmp, :casecmp?, :downcase, :empty?, :encoding, :end_with?, :id2name, :inspect, :intern, :length, :match, :match?, :next, :pretty_print_cycle, :size, :slice, :start_with?, :succ, :swapcase, :to_proc, :to_s, :to_sym, :upcase]"
      ]
     },
     "execution_count": 138,
     "metadata": {},
     "output_type": "execute_result"
    }
   ],
   "source": [
    "# strings vs symbols (8.2.4)\n",
    "# ruby has many instance methods that symbols share with strings\n",
    "Symbol.instance_methods(false).sort"
   ]
  },
  {
   "cell_type": "code",
   "execution_count": 139,
   "metadata": {},
   "outputs": [
    {
     "name": "stdout",
     "output_type": "stream",
     "text": [
      "DAVID\n",
      "davie\n",
      "dav\n"
     ]
    }
   ],
   "source": [
    "sym = :david; puts sym.upcase\n",
    "puts sym.succ\n",
    "puts sym[0..2]"
   ]
  },
  {
   "cell_type": "markdown",
   "metadata": {},
   "source": [
    "#### Number are objects"
   ]
  },
  {
   "cell_type": "code",
   "execution_count": 141,
   "metadata": {},
   "outputs": [
    {
     "name": "stdout",
     "output_type": "stream",
     "text": [
      "[:!, :!=, :!~, :<, :<=, :<=>, :==, :===, :=~, :>, :>=, :__binding__, :__id__, :__send__, :alias_method, :allocate, :ancestors, :attr, :attr_accessor, :attr_reader, :attr_writer, :autoload, :autoload?, :class, :class_eval, :class_exec, :class_variable_defined?, :class_variable_get, :class_variable_set, :class_variables, :clone, :const_defined?, :const_get, :const_missing, :const_set, :const_source_location, :constants, :define_method, :define_singleton_method, :deprecate_constant, :display, :dup, :enum_for, :eql?, :equal?, :extend, :freeze, :frozen?, :hash, :include, :include?, :included_modules, :inspect, :instance_eval, :instance_exec, :instance_method, :instance_methods, :instance_of?, :instance_variable_defined?, :instance_variable_get, :instance_variable_set, :instance_variables, :is_a?, :itself, :json_creatable?, :kind_of?, :method, :method_defined?, :methods, :module_eval, :module_exec, :name, :new, :nil?, :object_id, :prepend, :pretty_inspect, :pretty_print, :pretty_print_cycle, :pretty_print_inspect, :pretty_print_instance_variables, :private_class_method, :private_constant, :private_instance_methods, :private_method_defined?, :private_methods, :protected_instance_methods, :protected_method_defined?, :protected_methods, :pry, :public_class_method, :public_constant, :public_instance_method, :public_instance_methods, :public_method, :public_method_defined?, :public_methods, :public_send, :remove_class_variable, :remove_instance_variable, :remove_method, :respond_to?, :send, :singleton_class, :singleton_class?, :singleton_method, :singleton_methods, :superclass, :taint, :tainted?, :tap, :then, :to_enum, :to_json, :to_s, :trust, :undef_method, :untaint, :untrust, :untrusted?, :yield_self]\n"
     ]
    }
   ],
   "source": [
    "# numeric classes (8.3.1)\n",
    "puts Numeric.methods.sort"
   ]
  },
  {
   "cell_type": "code",
   "execution_count": 142,
   "metadata": {},
   "outputs": [
    {
     "name": "stdout",
     "output_type": "stream",
     "text": [
      "18\n",
      "10\n"
     ]
    }
   ],
   "source": [
    "# numeric ops (8.3.2)\n",
    "# - all the usual ones, plus:\n",
    "puts 0x12 # hex\n",
    "puts 012  # octal"
   ]
  },
  {
   "cell_type": "markdown",
   "metadata": {},
   "source": [
    "#### Times & dates\n",
    "- uses three classes: Time, Date, DateTime"
   ]
  },
  {
   "cell_type": "code",
   "execution_count": 157,
   "metadata": {},
   "outputs": [
    {
     "name": "stdout",
     "output_type": "stream",
     "text": [
      "2020-09-08\n",
      "2010-09-01\n",
      "2010-09-01\n",
      "2020-09-08 20:38:50 -0500\n",
      "2001-09-08 20:46:40 -0500\n",
      "2010-09-01 12:00:00 -0500\n",
      "2010-09-01T12:15:00+00:00\n"
     ]
    }
   ],
   "source": [
    "# creating date/time objects (8.4.1)\n",
    "require 'date'\n",
    "puts Date.today\n",
    "puts Date.new(2010,9,1)\n",
    "puts Date.parse(\"2010/09/01\")\n",
    "\n",
    "require 'time'\n",
    "puts Time.new\n",
    "puts Time.at(1000000000)\n",
    "puts Time.mktime(2010,9,1,12,0,0)\n",
    "\n",
    "puts DateTime.new(2010,9,1,12,15,0)"
   ]
  },
  {
   "cell_type": "code",
   "execution_count": 161,
   "metadata": {},
   "outputs": [
    {
     "name": "stdout",
     "output_type": "stream",
     "text": [
      "2020\n",
      "20\n",
      "40\n",
      "42\n",
      "false\n",
      "true\n"
     ]
    }
   ],
   "source": [
    "# date/time queries (8.4.2)\n",
    "dt = DateTime.now\n",
    "puts dt.year; puts dt.hour; puts dt.minute; puts dt.second\n",
    "puts dt.sunday?\n",
    "puts dt.tuesday?"
   ]
  },
  {
   "cell_type": "code",
   "execution_count": 163,
   "metadata": {},
   "outputs": [
    {
     "name": "stdout",
     "output_type": "stream",
     "text": [
      "09-08-20, Sep:09:1599615723\n"
     ]
    }
   ],
   "source": [
    "# date/time formatting (8.4.3)\n",
    "dt = DateTime.now\n",
    "puts dt.strftime(\"%m-%d-%y, %h:%m:%s\")"
   ]
  },
  {
   "cell_type": "code",
   "execution_count": 165,
   "metadata": {},
   "outputs": [
    {
     "name": "stdout",
     "output_type": "stream",
     "text": [
      "2020-09-08 20:43:48 -0500\n",
      "2020-09-08 20:43:28 -0500\n",
      "2020-09-08 20:44:08 -0500\n",
      "2020-09-08T20:43:48-05:00\n",
      "2020-12-17T20:43:48-05:00\n",
      "2020-05-31T20:43:48-05:00\n"
     ]
    }
   ],
   "source": [
    "# date/time conversions (8.4.4)\n",
    "t = Time.now; puts t\n",
    "puts t-20 #second-wise ops\n",
    "puts t+20\n",
    "dt = DateTime.now; puts dt\n",
    "puts dt+100 #day-wise ops\n",
    "puts dt-100"
   ]
  },
  {
   "cell_type": "code",
   "execution_count": 167,
   "metadata": {},
   "outputs": [
    {
     "name": "stdout",
     "output_type": "stream",
     "text": [
      "2020-09-08\n",
      "2020-09-09\n",
      "2021-09-08\n",
      "2020-12-08\n",
      "2020-08-29\n"
     ]
    }
   ],
   "source": [
    "d = Date.today; puts d\n",
    "puts d.next\n",
    "puts d.next_year\n",
    "puts d.next_month(3)\n",
    "puts d.prev_day(10)"
   ]
  },
  {
   "cell_type": "markdown",
   "metadata": {},
   "source": [
    "## Collections & containers (Chap 9)"
   ]
  },
  {
   "cell_type": "markdown",
   "metadata": {},
   "source": [
    "#### Arrays vs hashes\n",
    "- arrays = _ordered_.\n",
    "- hashes, aka dictionaries = key:value pairs"
   ]
  },
  {
   "cell_type": "markdown",
   "metadata": {},
   "source": [
    "#### Arrays & collection handling"
   ]
  },
  {
   "cell_type": "code",
   "execution_count": 3,
   "metadata": {},
   "outputs": [
    {
     "name": "stdout",
     "output_type": "stream",
     "text": [
      "[nil, nil, nil]\n",
      "[\"howdy\", \"howdy\", \"howdy\"]\n",
      "[0, 10, 20]\n"
     ]
    }
   ],
   "source": [
    "# creating (9.2.1)\n",
    "puts Array.new(3)\n",
    "puts Array.new(3, \"howdy\")\n",
    "puts Array.new(3) {|i| i*10}"
   ]
  },
  {
   "cell_type": "code",
   "execution_count": 4,
   "metadata": {},
   "outputs": [
    {
     "name": "stdout",
     "output_type": "stream",
     "text": [
      "[1, 2, \"three\", 4, []]\n"
     ]
    }
   ],
   "source": [
    "puts [1,2,\"three\",4,[]]"
   ]
  },
  {
   "cell_type": "code",
   "execution_count": 5,
   "metadata": {},
   "outputs": [
    {
     "name": "stdout",
     "output_type": "stream",
     "text": [
      "[\"this is a string.\"]\n",
      "[\"t\", \"h\", \"i\", \"s\", \" \", \"i\", \"s\", \" \", \"a\", \" \", \"s\", \"t\", \"r\", \"i\", \"n\", \"g\", \".\"]\n"
     ]
    }
   ],
   "source": [
    "str = \"this is a string.\"\n",
    "puts Array(str)\n",
    "def str.to_a\n",
    "    split(//)\n",
    "end\n",
    "puts Array(str)"
   ]
  },
  {
   "cell_type": "code",
   "execution_count": 7,
   "metadata": {},
   "outputs": [
    {
     "name": "stdout",
     "output_type": "stream",
     "text": [
      "[\"larry\", \"moe\", \"curly\", \"shemp\"]\n",
      "[:larry, :moe, :curly, :shemp]\n"
     ]
    }
   ],
   "source": [
    "puts %w{larry moe curly shemp}\n",
    "puts %i(larry moe curly shemp)"
   ]
  },
  {
   "cell_type": "markdown",
   "metadata": {},
   "source": [
    "insert, retrieve, remove (9.2.2)\n",
    "![table](px/Selection_162.png)"
   ]
  },
  {
   "cell_type": "code",
   "execution_count": 24,
   "metadata": {},
   "outputs": [
    {
     "name": "stdout",
     "output_type": "stream",
     "text": [
      "curly\n",
      "[\"curly\", \"shemp\"]\n",
      "[\"larry\", \"moe\", :able, :baker]\n",
      "[\"moe\", :able, :baker]\n",
      "[\"larry\", \"shemp\"]\n",
      "4\n"
     ]
    }
   ],
   "source": [
    "a = %w[larry moe curly shemp]\n",
    "puts a[2]\n",
    "puts a[2,2]\n",
    "a[2,2] = :able, :baker; puts a\n",
    "puts a[1..3]\n",
    "\n",
    "# values_at\n",
    "a = %w[larry moe curly shemp]; puts a.values_at(0,3)\n",
    "\n",
    "# dig\n",
    "a = [[1], 2, 3, [4,5]]\n",
    "puts a.dig(3,0)"
   ]
  },
  {
   "cell_type": "code",
   "execution_count": 25,
   "metadata": {},
   "outputs": [
    {
     "name": "stdout",
     "output_type": "stream",
     "text": [
      "[1, 2, 3, 4, 5]\n",
      "[0, -1, -2, 1, 2, 3, 4]\n",
      "[1, 2, 3, 4, 0]\n",
      "1\n",
      "4\n"
     ]
    }
   ],
   "source": [
    "a = [1,2,3,4]; puts a<<5 # add to start of array\n",
    "a = [1,2,3,4]; puts a.unshift(0,-1,-2) \n",
    "a = [1,2,3,4]; puts a.push(0) # add to end of array\n",
    "\n",
    "a = [1,2,3,4]; puts a.shift # remove one item from start of array\n",
    "a = [1,2,3,4]; puts a.pop # remove one item from end of array"
   ]
  },
  {
   "cell_type": "code",
   "execution_count": 27,
   "metadata": {},
   "outputs": [
    {
     "name": "stdout",
     "output_type": "stream",
     "text": [
      "[1, 2, 3, 4, 5, 6]\n",
      "[4, 5, 6]\n"
     ]
    }
   ],
   "source": [
    "# combining (9.2.3)\n",
    "puts [1,2,3].concat([4,5,6])\n",
    "a = [1,2,3]; puts a.replace([4,5,6])"
   ]
  },
  {
   "cell_type": "code",
   "execution_count": 33,
   "metadata": {},
   "outputs": [
    {
     "name": "stdout",
     "output_type": "stream",
     "text": [
      "[1, 2, 3, 4, 5, 6, 7, 8]\n",
      "[1, 2, 3, 4, [5], [6, [7, 8]]]\n",
      "[[3, 4, [5], [6, [7, 8]]], 2, 1]\n",
      "abcdef123\n",
      "one-two-three\n",
      "[\"06511\", \"08902\", \"08902\", \"10027\", \"08902\", \"06511\"]\n"
     ]
    }
   ],
   "source": [
    "# transforms (9.2.4)\n",
    "array = [1,2,[3,4,[5],[6,[7,8]]]]\n",
    "puts array.flatten\n",
    "puts array.flatten(1) # flatten by one level\n",
    "puts array.reverse\n",
    "puts [\"abc\", \"def\", 123].join # string join\n",
    "\n",
    "a = %w(one two three); puts a * \"-\"\n",
    "\n",
    "# remove multi occurences\n",
    "zip_codes = [\"06511\", \"08902\", \"08902\", nil, \"10027\", \"08902\", nil, \"06511\"]\n",
    "puts zip_codes.compact"
   ]
  },
  {
   "cell_type": "code",
   "execution_count": 40,
   "metadata": {},
   "outputs": [
    {
     "name": "stdout",
     "output_type": "stream",
     "text": [
      "5\n",
      "true\n",
      "5\n",
      "[:a, :b]\n",
      "[[:d, :e], :f]\n",
      "[:b, :c]\n"
     ]
    }
   ],
   "source": [
    "# queries (9.2.5)\n",
    "a = [:a, :b, :c, [:d,:e], :f]\n",
    "puts a.size # aka length, count\n",
    "puts a.include?(:c)\n",
    "puts a.count\n",
    "puts a.first(2)\n",
    "puts a.last(2)\n",
    "puts a.sample(2)"
   ]
  },
  {
   "cell_type": "markdown",
   "metadata": {},
   "source": [
    "#### Hashes"
   ]
  },
  {
   "cell_type": "code",
   "execution_count": 45,
   "metadata": {},
   "outputs": [
    {
     "name": "stdout",
     "output_type": "stream",
     "text": [
      "\n",
      "{}\n",
      "{:a=>100, :b=>200, :c=>300}\n"
     ]
    }
   ],
   "source": [
    "# creating (9.3.1)\n",
    "puts {}\n",
    "puts Hash.new\n",
    "puts Hash[:a, 100, :b, 200, :c, 300]"
   ]
  },
  {
   "cell_type": "code",
   "execution_count": 51,
   "metadata": {},
   "outputs": [
    {
     "name": "stdout",
     "output_type": "stream",
     "text": [
      "{:a=>100, :b=>200, :c=>400}\n",
      "{:a=>100, :b=>300, :c=>400}\n",
      "400\n",
      "can't do that.\n",
      "[100, 300]\n"
     ]
    }
   ],
   "source": [
    "# insert, retrieve, remove (9.3.2)\n",
    "h = Hash[:a, 100, :b, 200, :c, 300]\n",
    "h[:c] = 400; puts h\n",
    "h.store(:b,300); puts h\n",
    "puts h[:c]\n",
    "\n",
    "begin\n",
    "    h.fetch(:bogus_key)\n",
    "rescue\n",
    "    puts \"can't do that.\"\n",
    "end\n",
    "h.fetch(:bogus_key, :bogus_value)\n",
    "\n",
    "puts h.values_at(:a,:b)"
   ]
  },
  {
   "cell_type": "code",
   "execution_count": 52,
   "metadata": {},
   "outputs": [
    {
     "name": "stdout",
     "output_type": "stream",
     "text": [
      "abc@ghi.com\n"
     ]
    }
   ],
   "source": [
    "# nested values\n",
    "h = {a: {phone: \"1234\", email: \"abc@ghi.com\"},\n",
    "     b: {phone: \"5678\", email: \"def@zyz.com\"}}\n",
    "puts h.dig(:a, :email)"
   ]
  },
  {
   "cell_type": "code",
   "execution_count": 53,
   "metadata": {},
   "outputs": [
    {
     "name": "stdout",
     "output_type": "stream",
     "text": [
      "1234\n"
     ]
    }
   ],
   "source": [
    "# default values (9.3.3)\n",
    "h = Hash.new(1234); puts h[:bogus_key]"
   ]
  },
  {
   "cell_type": "code",
   "execution_count": 57,
   "metadata": {},
   "outputs": [
    {
     "name": "stdout",
     "output_type": "stream",
     "text": [
      "III\n",
      "{:first=>\"Joe\", :last=>\"Leo\", :suffix=>\"Jr.\"}\n"
     ]
    }
   ],
   "source": [
    "# combining (9.3.4)\n",
    "h1 = { first: \"Joe\", last: \"Leo\", suffix: \"III\" }\n",
    "h2 = { suffix: \"Jr.\" }\n",
    "h3 = h1.merge(h2) # non-destructive\n",
    "puts h1[:suffix]\n",
    "puts h3"
   ]
  },
  {
   "cell_type": "code",
   "execution_count": 71,
   "metadata": {},
   "outputs": [
    {
     "name": "stdout",
     "output_type": "stream",
     "text": [
      "{3=>4, 5=>6}\n",
      "{1=>2}\n",
      "{:street=>\"127th Street\", :borough=>\"Manhattan\"}\n",
      "{\"127th Street\"=>:street, nil=>:apt, \"Manhattan\"=>:borough}\n",
      "{}\n",
      "{:street=>\"127th Street\", :apt=>nil, :borough=>\"Queens\"}\n"
     ]
    }
   ],
   "source": [
    "# transforms (9.3.5)\n",
    "h = Hash[1,2,3,4,5,6]; \n",
    "puts h.select {|k,v| k > 1 }\n",
    "puts h.reject {|k,v| k > 1 }\n",
    "\n",
    "h= { street: \"127th Street\", apt: nil, borough: \"Manhattan\" }\n",
    "\n",
    "puts h.compact # remove nils\n",
    "puts h.invert # keys<=>values inversions\n",
    "puts h.clear\n",
    "puts h.replace({ street: \"127th Street\", apt: nil, borough: \"Queens\" })"
   ]
  },
  {
   "cell_type": "markdown",
   "metadata": {},
   "source": [
    "![hashops](px/Selection_163.png)"
   ]
  },
  {
   "cell_type": "code",
   "execution_count": 73,
   "metadata": {},
   "outputs": [],
   "source": [
    "# final method args (9.3.7) - TODO"
   ]
  },
  {
   "cell_type": "code",
   "execution_count": 74,
   "metadata": {},
   "outputs": [],
   "source": [
    "# named keyword args (9.3.8) - TODO"
   ]
  },
  {
   "cell_type": "markdown",
   "metadata": {},
   "source": [
    "#### Ranges\n",
    "- start point, end point\n",
    "- key concepts: inclusion, enumeration"
   ]
  },
  {
   "cell_type": "code",
   "execution_count": 77,
   "metadata": {},
   "outputs": [
    {
     "name": "stdout",
     "output_type": "stream",
     "text": [
      "1..100\n",
      "1..100\n",
      "1...100\n"
     ]
    }
   ],
   "source": [
    "# create (9.4.1)\n",
    "puts Range.new(1,100)\n",
    "puts 1..100 # 2 dots = inclusive\n",
    "puts 1...100 # 3 dots = exclusive"
   ]
  },
  {
   "cell_type": "code",
   "execution_count": 81,
   "metadata": {},
   "outputs": [
    {
     "name": "stdout",
     "output_type": "stream",
     "text": [
      "1\n",
      "10\n",
      "false\n",
      "false\n",
      "true\n",
      "false\n"
     ]
    }
   ],
   "source": [
    "# inclusion logic (9.4.2)\n",
    "r = 1..10; r2 = \"a\"..\"z\"\n",
    "puts r.begin, r.end\n",
    "puts r.exclude_end?\n",
    "puts r.cover?(20)\n",
    "\n",
    "puts r2.include?(\"a\")\n",
    "puts r2.include?(\"abc\")"
   ]
  },
  {
   "cell_type": "markdown",
   "metadata": {},
   "source": [
    "#### Sets\n",
    "- Sets aren't a Ruby core class."
   ]
  },
  {
   "cell_type": "code",
   "execution_count": 84,
   "metadata": {},
   "outputs": [
    {
     "name": "stdout",
     "output_type": "stream",
     "text": [
      "#<Set: {1, 2, 3, 4, 5, 6}>\n",
      "#<Set: {10, 20, 30, 40, 50, 60}>\n"
     ]
    }
   ],
   "source": [
    "# creation (9.5.1)\n",
    "a = [1,2,3,4,4,5,5,5,6]\n",
    "puts Set.new(a)\n",
    "puts Set.new(a) {|i| i*10}"
   ]
  },
  {
   "cell_type": "code",
   "execution_count": 88,
   "metadata": {},
   "outputs": [
    {
     "name": "stdout",
     "output_type": "stream",
     "text": [
      "#<Set: {1, 2, 3, 4, 5, 6, 7}>\n",
      "#<Set: {1, 2, 3, 4, 5, 6, 8}>\n",
      "#<Set: {1, 3, 4, 5, 6}>\n"
     ]
    }
   ],
   "source": [
    "# add/remove (9.5.2)\n",
    "a = [1,2,3,4,4,5,5,5,6]\n",
    "puts Set.new(a) << 7\n",
    "puts Set.new(a).add 8\n",
    "puts Set.new(a).delete(2)"
   ]
  },
  {
   "cell_type": "code",
   "execution_count": 94,
   "metadata": {},
   "outputs": [
    {
     "name": "stdout",
     "output_type": "stream",
     "text": [
      "#<Set: {1, 2, 3, 4, 5, 6, 7, 8}>\n",
      "#<Set: {1, 2, 3}>\n",
      "#<Set: {4, 5, 6}>\n"
     ]
    }
   ],
   "source": [
    "# intersection, union (addition), difference\n",
    "a = Set.new([1,2,3,4,4,5,5,5,6])\n",
    "b = Set.new([      4,  5,    6,7,8])\n",
    "\n",
    "puts a+b # union\n",
    "puts a-b # difference\n",
    "puts a&b # intersection"
   ]
  },
  {
   "cell_type": "code",
   "execution_count": 98,
   "metadata": {},
   "outputs": [
    {
     "name": "stdout",
     "output_type": "stream",
     "text": [
      "3260\n",
      "#<Set: {1, 2, 3, 4, 5, 6, 20}>\n",
      "3260\n",
      "#<Set: {\"a\", \"b\", \"c\", \"d\"}>\n"
     ]
    }
   ],
   "source": [
    "# merge into another set\n",
    "a = Set.new([1,2,3,4,4,5,5,5,6]); puts a.object_id\n",
    "puts a.merge([20]);               puts a.object_id\n",
    "\n",
    "# merging just the keys of a hash\n",
    "a = Set.new([\"a\", \"b\"])\n",
    "b =         {\"c\" => 100, \"d\" => 200 }\n",
    "puts a.merge(b.keys)"
   ]
  },
  {
   "cell_type": "code",
   "execution_count": 101,
   "metadata": {},
   "outputs": [
    {
     "name": "stdout",
     "output_type": "stream",
     "text": [
      "true\n",
      "false\n",
      "true\n",
      "false\n"
     ]
    }
   ],
   "source": [
    "# subsets, supersets (9.5.3)\n",
    "a = Set.new([1,2,3,4,5])\n",
    "b = Set.new([  2,3    ])\n",
    "puts b.subset?(a)\n",
    "puts a.subset?(b)\n",
    "puts a.superset?(b)\n",
    "puts b.superset?(a)"
   ]
  },
  {
   "cell_type": "markdown",
   "metadata": {},
   "source": [
    "## Enumerable & enumerators"
   ]
  },
  {
   "cell_type": "markdown",
   "metadata": {},
   "source": [
    "#### each"
   ]
  },
  {
   "cell_type": "code",
   "execution_count": 105,
   "metadata": {},
   "outputs": [
    {
     "name": "stdout",
     "output_type": "stream",
     "text": [
      "red\n",
      "yellow\n",
      "green\n",
      "blue\n"
     ]
    },
    {
     "data": {
      "text/plain": [
       "\"yellow\""
      ]
     },
     "execution_count": 105,
     "metadata": {},
     "output_type": "execute_result"
    }
   ],
   "source": [
    "class Rainbow\n",
    "    include Enumerable\n",
    "    def each\n",
    "        yield \"red\"; yield \"yellow\"; yield \"green\"; yield \"blue\"\n",
    "    end\n",
    "end\n",
    "Rainbow.new.each do |c| puts \"#{c}\" end\n",
    "Rainbow.new.find {|c| c.start_with?('y')}"
   ]
  },
  {
   "cell_type": "code",
   "execution_count": 106,
   "metadata": {},
   "outputs": [
    {
     "data": {
      "text/plain": [
       "[:all?, :any?, :chain, :chunk, :chunk_while, :collect, :collect_concat, :count, :cycle, :detect, :drop, :drop_while, :each_cons, :each_entry, :each_slice, :each_with_index, :each_with_object, :entries, :filter, :filter_map, :find, :find_all, :find_index, :first, :flat_map, :grep, :grep_v, :group_by, :include?, :inject, :lazy, :map, :max, :max_by, :member?, :min, :min_by, :minmax, :minmax_by, :none?, :one?, :partition, :reduce, :reject, :reverse_each, :select, :slice_after, :slice_before, :slice_when, :sort, :sort_by, :sum, :take, :take_while, :tally, :to_a, :to_h, :to_set, :uniq, :zip]"
      ]
     },
     "execution_count": 106,
     "metadata": {},
     "output_type": "execute_result"
    }
   ],
   "source": [
    "Enumerable.instance_methods(false).sort"
   ]
  },
  {
   "cell_type": "markdown",
   "metadata": {},
   "source": [
    "#### Boolean queries"
   ]
  },
  {
   "cell_type": "code",
   "execution_count": 113,
   "metadata": {},
   "outputs": [
    {
     "name": "stdout",
     "output_type": "stream",
     "text": [
      "true\n",
      "false\n",
      "can't do that.\n"
     ]
    },
    {
     "data": {
      "text/plain": [
       "true"
      ]
     },
     "execution_count": 113,
     "metadata": {},
     "output_type": "execute_result"
    }
   ],
   "source": [
    "r  = Range.new(1,   20)\n",
    "r2 = Range.new(1.0, 20.0)\n",
    "r3 = Range.new(1,   20.0)\n",
    "\n",
    "puts r.one? {|n| n==5}\n",
    "puts r.none? {|n| n==5}\n",
    "\n",
    "# floats don't work as well\n",
    "begin\n",
    "    rf.one?{|n| n==5}\n",
    "rescue\n",
    "    puts \"can't do that.\"\n",
    "end\n",
    "\n",
    "r3.any? {|n| n==5}"
   ]
  },
  {
   "cell_type": "markdown",
   "metadata": {},
   "source": [
    "#### Searches & indexes"
   ]
  },
  {
   "cell_type": "code",
   "execution_count": 114,
   "metadata": {},
   "outputs": [
    {
     "name": "stdout",
     "output_type": "stream",
     "text": [
      "6\n"
     ]
    }
   ],
   "source": [
    "# first match (10.3.1)\n",
    "puts [1,2,3,4,5,6,7,8,9,10].find {|n| n > 5 }"
   ]
  },
  {
   "cell_type": "code",
   "execution_count": 116,
   "metadata": {},
   "outputs": [
    {
     "name": "stdout",
     "output_type": "stream",
     "text": [
      "[6, 7, 8, 9, 10]\n",
      "[1, 2, 3, 4, 5]\n"
     ]
    }
   ],
   "source": [
    "# all matches (10.3.2)\n",
    "puts [1,2,3,4,5,6,7,8,9,10].find_all {|n| n > 5 }\n",
    "puts [1,2,3,4,5,6,7,8,9,10].reject   {|n| n > 5 }"
   ]
  },
  {
   "cell_type": "code",
   "execution_count": 117,
   "metadata": {},
   "outputs": [
    {
     "name": "stdout",
     "output_type": "stream",
     "text": [
      "[\"orange\", \"yellow\", \"indigo\", \"violet\"]\n",
      "[\"hello\", \"goodbye\"]\n",
      "[75]\n"
     ]
    }
   ],
   "source": [
    "# grep (10.3.3)\n",
    "colors = %w(red orange yellow green blue indigo violet)\n",
    "puts colors.grep(/o/)\n",
    "\n",
    "miscellany = [75, \"hello\", 10...20, \"goodbye\"]\n",
    "puts miscellany.grep(String)\n",
    "puts miscellany.grep(50..100)"
   ]
  },
  {
   "cell_type": "code",
   "execution_count": 118,
   "metadata": {},
   "outputs": [
    {
     "name": "stdout",
     "output_type": "stream",
     "text": [
      "{3=>[\"red\"], 6=>[\"orange\", \"yellow\", \"indigo\", \"violet\"], 5=>[\"green\"], 4=>[\"blue\"]}\n"
     ]
    }
   ],
   "source": [
    "# group_by (10.3.4)\n",
    "colors = %w(red orange yellow green blue indigo violet)\n",
    "puts colors.group_by {|color| color.size }"
   ]
  },
  {
   "cell_type": "code",
   "execution_count": 3,
   "metadata": {},
   "outputs": [
    {
     "name": "stdout",
     "output_type": "stream",
     "text": [
      "[#<Person:0x0000557c094a5580 @age=10>, #<Person:0x0000557c094a5508 @age=13>, #<Person:0x0000557c094a5490 @age=16>, #<Person:0x0000557c094a5418 @age=19>, #<Person:0x0000557c094a53a0 @age=22>, #<Person:0x0000557c094a5328 @age=25>]\n",
      "[[#<Person:0x0000557c094a5508 @age=13>, #<Person:0x0000557c094a5490 @age=16>, #<Person:0x0000557c094a5418 @age=19>], [#<Person:0x0000557c094a5580 @age=10>, #<Person:0x0000557c094a53a0 @age=22>, #<Person:0x0000557c094a5328 @age=25>]]\n",
      "3 teens; 3 non-teens\n"
     ]
    }
   ],
   "source": [
    "# partition\n",
    "class Person\n",
    "    attr_accessor :age\n",
    "    def initialize(options)\n",
    "        self.age = options[:age]\n",
    "    end\n",
    "    def teenager?\n",
    "        (13..19) === age\n",
    "    end\n",
    "end\n",
    "\n",
    "people = 10.step(25,3).map {|i| Person.new(:age => i) }; puts people\n",
    "teens = people.partition {|person| person.teenager? };   puts teens\n",
    "puts \"#{teens[0].size} teens; #{teens[1].size} non-teens\""
   ]
  },
  {
   "cell_type": "markdown",
   "metadata": {},
   "source": [
    "#### Element-wise operations"
   ]
  },
  {
   "cell_type": "code",
   "execution_count": 6,
   "metadata": {},
   "outputs": [
    {
     "name": "stdout",
     "output_type": "stream",
     "text": [
      "1\n",
      "1\n"
     ]
    }
   ],
   "source": [
    "# first (10.4.1) -- note: no \"last\" method\n",
    "puts [1,2,3,4].first\n",
    "puts (1..10).first"
   ]
  },
  {
   "cell_type": "code",
   "execution_count": 8,
   "metadata": {},
   "outputs": [
    {
     "name": "stdout",
     "output_type": "stream",
     "text": [
      "[\"NJ\", \"NY\"]\n",
      "[\"CT\", \"MA\", \"VT\", \"FL\"]\n",
      "[\"NE\", \"NJ\"]\n"
     ]
    }
   ],
   "source": [
    "# take, drop (10.4.2)\n",
    "states = %w(NJ NY CT MA VT FL)\n",
    "puts states.take(2)\n",
    "puts states.drop(2)\n",
    "\n",
    "states.unshift(\"NE\") # add to beginning of array\n",
    "puts states.take(2) { |s| /N/.match(s) }"
   ]
  },
  {
   "cell_type": "code",
   "execution_count": 10,
   "metadata": {},
   "outputs": [
    {
     "name": "stdout",
     "output_type": "stream",
     "text": [
      "5\n",
      "APL\n",
      "C\n",
      "C\n",
      "[\"APL\", \"Smalltalk\"]\n",
      "[\"C\", \"Smalltalk\"]\n"
     ]
    }
   ],
   "source": [
    "# min, max (10.4.3)\n",
    "puts [1,3,5,4,2].max\n",
    "puts %w(Ruby C APL Perl Smalltalk).min\n",
    "puts %w(Ruby C APL Perl Smalltalk).min {|a,b| a.size <=> b.size }\n",
    "puts %w{ Ruby C APL Perl Smalltalk }.min_by {|lang| lang.size }\n",
    "\n",
    "# minmax - returns min and max values\n",
    "puts %w{ Ruby C APL Perl Smalltalk }.minmax\n",
    "puts %w{ Ruby C APL Perl Smalltalk }.minmax_by {|lang| lang.size }"
   ]
  },
  {
   "cell_type": "markdown",
   "metadata": {},
   "source": [
    "#### Each variants"
   ]
  },
  {
   "cell_type": "code",
   "execution_count": 11,
   "metadata": {},
   "outputs": [
    {
     "name": "stdout",
     "output_type": "stream",
     "text": [
      "1. Washington\n",
      "2. Adams\n",
      "3. Jefferson\n",
      "4. Madison\n"
     ]
    },
    {
     "data": {
      "text/plain": [
       "[\"Washington\", \"Adams\", \"Jefferson\", \"Madison\"]"
      ]
     },
     "execution_count": 11,
     "metadata": {},
     "output_type": "execute_result"
    }
   ],
   "source": [
    "# each_with_index (10.5.2)\n",
    "names = [\"Washington\", \"Adams\", \"Jefferson\", \"Madison\"]\n",
    "names.each_with_index do |pres, i|\n",
    "    puts \"#{i+1}. #{pres}\" # add 1 to 0th list entry\n",
    "end"
   ]
  },
  {
   "cell_type": "code",
   "execution_count": 13,
   "metadata": {},
   "outputs": [
    {
     "name": "stdout",
     "output_type": "stream",
     "text": [
      "1. Washington\n",
      "2. Adams\n",
      "3. Jefferson\n",
      "4. Madison\n"
     ]
    },
    {
     "data": {
      "text/plain": [
       "[\"Washington\", \"Adams\", \"Jefferson\", \"Madison\"]"
      ]
     },
     "execution_count": 13,
     "metadata": {},
     "output_type": "execute_result"
    }
   ],
   "source": [
    "# each_index\n",
    "names.each.with_index do |pres, i|\n",
    "    puts \"#{i+1}. #{pres}\" # add 1 to 0th list entry\n",
    "end"
   ]
  },
  {
   "cell_type": "code",
   "execution_count": 16,
   "metadata": {},
   "outputs": [
    {
     "name": "stdout",
     "output_type": "stream",
     "text": [
      "[1, 2, 3]\n",
      "[4, 5, 6]\n",
      "[7, 8, 9]\n",
      "[10]\n",
      "[1, 2, 3, 4]\n",
      "[2, 3, 4, 5]\n",
      "[3, 4, 5, 6]\n",
      "[4, 5, 6, 7]\n",
      "[5, 6, 7, 8]\n",
      "[6, 7, 8, 9]\n",
      "[7, 8, 9, 10]\n"
     ]
    }
   ],
   "source": [
    "# each_slice, each_cons (10.5.3)\n",
    "array = [1,2,3,4,5,6,7,8,9,10]\n",
    "array.each_slice(3) {|slice| p slice }\n",
    "array.each_cons(4) {|cons| p cons }"
   ]
  },
  {
   "cell_type": "code",
   "execution_count": 17,
   "metadata": {},
   "outputs": [
    {
     "name": "stdout",
     "output_type": "stream",
     "text": [
      "[[\"Top Secret Report\", \"Eyes Only\"], [\"=====\", \"Title: The Meaning of Life\"]]\n"
     ]
    }
   ],
   "source": [
    "# slice_ (10.5.4)\n",
    "parsed_report = [\"Top Secret Report\", \n",
    "                \"Eyes Only\", \n",
    "                \"=====\", \n",
    "                \"Title: The Meaning of Life\"]\n",
    "puts parsed_report.slice_before(/=/).to_a #parse header from contents"
   ]
  },
  {
   "cell_type": "code",
   "execution_count": 19,
   "metadata": {},
   "outputs": [
    {
     "name": "stdout",
     "output_type": "stream",
     "text": [
      "[[\"Top Secret Report\", \"Eyes Only\", \"=====\"], [\"Title: The\\nMeaning of Life\", \"Author: [REDACTED]\", \"Date: 2018-01-01\", \"=====\"], [\"Abstract:\\n\"]]\n",
      "[[1], [2, 3], [4, 5], [6, 7], [8, 9], [10]]\n"
     ]
    }
   ],
   "source": [
    "# slice_after\n",
    "parsed_report = [\"Top Secret Report\", \"Eyes Only\", \"=====\", \"Title: The\n",
    "Meaning of Life\", \"Author: [REDACTED]\", \"Date: 2018-01-01\", \"=====\",\n",
    "\"Abstract:\\n\"]\n",
    "\n",
    "puts parsed_report.slice_after(/=/).to_a\n",
    "puts (1..10).slice_before { |num| num % 2 == 0 }.to_a"
   ]
  },
  {
   "cell_type": "code",
   "execution_count": 25,
   "metadata": {},
   "outputs": [
    {
     "name": "stderr",
     "output_type": "stream",
     "text": [
      "(pry):184: warning: already initialized constant Card::SUITS\n",
      "(pry):167: warning: previous definition of SUITS was here\n",
      "(pry):185: warning: already initialized constant Card::RANKS\n",
      "(pry):168: warning: previous definition of RANKS was here\n"
     ]
    },
    {
     "name": "stdout",
     "output_type": "stream",
     "text": [
      "52\n",
      "104\n"
     ]
    }
   ],
   "source": [
    "# cycle (10.5.5) - yields all elements continuously in a loop\n",
    "class Card\n",
    "    SUITS = %w(clubs diamonds hearts, spades)\n",
    "    RANKS = %w(2 3 4 5 6 7 8 9 10 J Q K A)\n",
    "    class Deck\n",
    "        attr_reader :cards\n",
    "        def initialize(n=1)\n",
    "            @cards=[]\n",
    "            SUITS.cycle(n) do |s|\n",
    "                RANKS.cycle(1) do |r|\n",
    "                    @cards << \"#{r} of #{s}\"\n",
    "                end\n",
    "            end\n",
    "        end\n",
    "    end\n",
    "end\n",
    "d = Card::Deck.new(1); puts d.cards.size\n",
    "d = Card::Deck.new(2); puts d.cards.size"
   ]
  },
  {
   "cell_type": "code",
   "execution_count": 27,
   "metadata": {},
   "outputs": [
    {
     "name": "stdout",
     "output_type": "stream",
     "text": [
      "10\n",
      "10\n"
     ]
    }
   ],
   "source": [
    "# inject (10.5.6)\n",
    "puts [1,2,3,4].inject(0) {|acc,n| acc + n }\n",
    "puts [1,2,3,4].inject(:+) #simpler syntax"
   ]
  },
  {
   "cell_type": "markdown",
   "metadata": {},
   "source": [
    "#### Map (aka collect)\n",
    "- Whatever enumerable it starts with, map always returns an array.\n",
    "- The difference between map and each is a good reminder that each exists purely for the side effects from the execution of the block. The value returned by the block each time through is discarded. That’s why each returns its receiver; it doesn’t have anything else to return, because it hasn’t saved anything. map , on the other hand, maintains an accumulator array of the results from the block."
   ]
  },
  {
   "cell_type": "code",
   "execution_count": 28,
   "metadata": {},
   "outputs": [
    {
     "name": "stdout",
     "output_type": "stream",
     "text": [
      "100\n",
      "200\n",
      "300\n",
      "400\n",
      "500\n"
     ]
    },
    {
     "data": {
      "text/plain": [
       "[nil, nil, nil, nil, nil]"
      ]
     },
     "execution_count": 28,
     "metadata": {},
     "output_type": "execute_result"
    }
   ],
   "source": [
    "# return values (10.6.1)\n",
    "array = [1,2,3,4,5]\n",
    "result = array.map {|n| puts n * 100 } # because puts always returns nil"
   ]
  },
  {
   "cell_type": "code",
   "execution_count": 29,
   "metadata": {},
   "outputs": [
    {
     "data": {
      "text/plain": [
       "[\"DAVID\", \"YUKIHIRO\", \"CHAD\", \"AMY\"]"
      ]
     },
     "execution_count": 29,
     "metadata": {},
     "output_type": "execute_result"
    }
   ],
   "source": [
    "# in-place mapping (10.6.2)\n",
    "names = %w(David Yukihiro Chad Amy)\n",
    "names.map!(&:upcase) # uses symbol argument as a block"
   ]
  },
  {
   "cell_type": "markdown",
   "metadata": {},
   "source": [
    "#### Strings as quasi-enumerables"
   ]
  },
  {
   "cell_type": "code",
   "execution_count": 31,
   "metadata": {},
   "outputs": [
    {
     "name": "stdout",
     "output_type": "stream",
     "text": [
      "97\n",
      "98\n",
      "99\n",
      "100\n",
      "101\n",
      "abcde\n",
      "\"a\"\n",
      "\"b\"\n",
      "\"c\"\n",
      "\"d\"\n",
      "\"e\"\n"
     ]
    },
    {
     "data": {
      "text/plain": [
       "\"abcde\""
      ]
     },
     "execution_count": 31,
     "metadata": {},
     "output_type": "execute_result"
    }
   ],
   "source": [
    "# iterating through characters (bytes)\n",
    "# Due to encoding, the #bytes > #code points (or the number of characters, \n",
    "# which in this case is equal to the number of code points).\n",
    "str = \"abcde\"\n",
    "puts str.each_byte {|b| p b }\n",
    "str.each_char      {|c| p c }"
   ]
  },
  {
   "cell_type": "code",
   "execution_count": 32,
   "metadata": {},
   "outputs": [
    {
     "name": "stdout",
     "output_type": "stream",
     "text": [
      "49\n",
      "48\n",
      "48\n",
      "8364\n"
     ]
    },
    {
     "data": {
      "text/plain": [
       "\"100€\""
      ]
     },
     "execution_count": 32,
     "metadata": {},
     "output_type": "execute_result"
    }
   ],
   "source": [
    "\"100\\u20ac\".each_codepoint {|cp| p cp } # character codes"
   ]
  },
  {
   "cell_type": "code",
   "execution_count": 33,
   "metadata": {},
   "outputs": [
    {
     "name": "stdout",
     "output_type": "stream",
     "text": [
      "Next line: This string\n",
      "\n",
      "Next line: has three\n",
      "\n",
      "Next line: lines\n"
     ]
    },
    {
     "data": {
      "text/plain": [
       "\"This string\\nhas three\\nlines\""
      ]
     },
     "execution_count": 33,
     "metadata": {},
     "output_type": "execute_result"
    }
   ],
   "source": [
    "# line-wise\n",
    "\"This string\\nhas three\\nlines\".each_line {|l| puts \"Next line: #{l}\" }"
   ]
  },
  {
   "cell_type": "markdown",
   "metadata": {},
   "source": [
    "#### Sorting\n",
    "- If you have a class, and you want to be able to arrange multiple instances of it in order, you need to do the following:\n",
    "    - 1 Define a comparison method for the class ( <=> ).\n",
    "    - 2 Place the multiple instances in a container, probably an array.\n",
    "    - 3 Sort the container."
   ]
  },
  {
   "cell_type": "code",
   "execution_count": 52,
   "metadata": {},
   "outputs": [
    {
     "name": "stdout",
     "output_type": "stream",
     "text": [
      "5 randomly generated Painting prices:\n",
      "[#<Painting:0x0000557c093e6590 @price=390>, #<Painting:0x0000557c093e6568 @price=128>, #<Painting:0x0000557c093e6518 @price=546>, #<Painting:0x0000557c093e64f0 @price=307>, #<Painting:0x0000557c093e64a0 @price=883>]\n",
      "Same Paintings, sorted:\n",
      "[#<Painting:0x0000557c093e6568 @price=128>, #<Painting:0x0000557c093e64f0 @price=307>, #<Painting:0x0000557c093e6590 @price=390>, #<Painting:0x0000557c093e6518 @price=546>, #<Painting:0x0000557c093e64a0 @price=883>]\n"
     ]
    }
   ],
   "source": [
    "class Painting\n",
    "    attr_reader :price\n",
    "    def initialize(price)\n",
    "        @price=price\n",
    "    end\n",
    "    def to_s\n",
    "        \"price: #{price}\"\n",
    "    end\n",
    "    def <=>(other)\n",
    "        self.price<=>other.price\n",
    "    end\n",
    "end\n",
    "\n",
    "pa1 = Painting.new(100)\n",
    "pa2 = Painting.new(200)\n",
    "\n",
    "paintings = 5.times.map { |pa| Painting.new(rand(100..900)) }\n",
    "puts \"5 randomly generated Painting prices:\"\n",
    "puts paintings\n",
    "puts \"Same Paintings, sorted:\"\n",
    "puts paintings.sort\n"
   ]
  },
  {
   "cell_type": "code",
   "execution_count": 53,
   "metadata": {},
   "outputs": [
    {
     "data": {
      "text/plain": [
       "[1, \"2\", \"3\", 4, 5, \"6\"]"
      ]
     },
     "execution_count": 53,
     "metadata": {},
     "output_type": "execute_result"
    }
   ],
   "source": [
    "# defined sort-order logic (10.8.1)\n",
    "[\"2\",1,5,\"3\",4,\"6\"].sort {|a,b| a.to_i <=> b.to_i }"
   ]
  },
  {
   "cell_type": "code",
   "execution_count": 54,
   "metadata": {},
   "outputs": [
    {
     "data": {
      "text/plain": [
       "[1, \"2\", \"3\", 4, 5, \"6\"]"
      ]
     },
     "execution_count": 54,
     "metadata": {},
     "output_type": "execute_result"
    }
   ],
   "source": [
    "# sort_by (10.8.2)\n",
    "[\"2\",1,5,\"3\",4,\"6\"].sort_by {|a| a.to_i }"
   ]
  },
  {
   "cell_type": "code",
   "execution_count": 57,
   "metadata": {},
   "outputs": [
    {
     "name": "stdout",
     "output_type": "stream",
     "text": [
      "false\n",
      "true\n",
      "true\n"
     ]
    }
   ],
   "source": [
    "# sorting enumerables & Comparable (10.8.3)\n",
    "class Painting\n",
    "    include Comparable\n",
    "    attr_reader :price\n",
    "    def initialize(price)\n",
    "        @price = price\n",
    "    end\n",
    "    def to_s\n",
    "        \"My price is #{price}.\"\n",
    "    end\n",
    "    def <=>(other_painting)\n",
    "        self.price <=> other_painting.price\n",
    "    end\n",
    "end\n",
    "pa1 = Painting.new(100)\n",
    "pa2 = Painting.new(200)\n",
    "pa3 = Painting.new(300)\n",
    "puts pa1 > pa2\n",
    "puts pa1 < pa2\n",
    "puts pa2.between?(pa1, pa3)"
   ]
  },
  {
   "cell_type": "code",
   "execution_count": 58,
   "metadata": {},
   "outputs": [
    {
     "data": {
      "text/plain": [
       "true"
      ]
     },
     "execution_count": 58,
     "metadata": {},
     "output_type": "execute_result"
    }
   ],
   "source": [
    "# pick one in our price range with clamp\n",
    "cheapest, priciest = [pa1, pa2, pa3].minmax\n",
    "Painting.new(1000).clamp(cheapest, priciest).object_id ==\n",
    "priciest.object_id"
   ]
  },
  {
   "cell_type": "markdown",
   "metadata": {},
   "source": [
    "#### Enumerators\n",
    "- Enumerators are closely related to iterators, but they aren’t the same thing. An iterator is a method that yields one or more values to a code block. An enumerator is an object, not a method."
   ]
  },
  {
   "cell_type": "code",
   "execution_count": 60,
   "metadata": {},
   "outputs": [
    {
     "name": "stdout",
     "output_type": "stream",
     "text": [
      "[1, 2, 3]\n",
      "[10, 20, 30]\n",
      "[2, 3]\n",
      "[1, 2]\n"
     ]
    }
   ],
   "source": [
    "# creating with a code block (10.9.1)\n",
    "e = Enumerator.new do |y| # y is a \"yielder\"\n",
    "    y << 1\n",
    "    y << 2\n",
    "    y << 3\n",
    "end\n",
    "puts e.to_a\n",
    "puts e.map {|x| x * 10 }\n",
    "puts e.select {|x| x > 1 }\n",
    "puts e.take(2)"
   ]
  },
  {
   "cell_type": "code",
   "execution_count": 61,
   "metadata": {},
   "outputs": [
    {
     "name": "stdout",
     "output_type": "stream",
     "text": [
      "[1, 2, 3]\n",
      "[3]\n"
     ]
    }
   ],
   "source": [
    "# rewrite of above\n",
    "e = Enumerator.new do |y|\n",
    "    (1..3).each {|i| y << i }\n",
    "end\n",
    "puts e.to_a\n",
    "puts e.select {|x| x > 2 }"
   ]
  },
  {
   "cell_type": "code",
   "execution_count": 63,
   "metadata": {},
   "outputs": [
    {
     "name": "stdout",
     "output_type": "stream",
     "text": [
      "[5, 9]\n",
      "[1, 2, 3]\n",
      "[3, 5, 6]\n",
      "[]\n"
     ]
    }
   ],
   "source": [
    "a = [1,2,3,4,5]\n",
    "e = Enumerator.new do |y|\n",
    "    total=0\n",
    "    until a.empty?\n",
    "        total += a.pop\n",
    "        y<<total\n",
    "    end\n",
    "end\n",
    "puts e.take(2)\n",
    "puts a\n",
    "puts e.to_a\n",
    "puts a"
   ]
  },
  {
   "cell_type": "code",
   "execution_count": 65,
   "metadata": {},
   "outputs": [
    {
     "name": "stdout",
     "output_type": "stream",
     "text": [
      "[\"David\", \"Black\", \"Matsumoto\"]\n"
     ]
    }
   ],
   "source": [
    "# enum_for: attaching enumerators to other objects (10.9.2)\n",
    "names = %w(David Black Yukihiro Matsumoto)\n",
    "e = names.enum_for(:select)\n",
    "puts e.each {|n| n.include?('a') }"
   ]
  },
  {
   "cell_type": "code",
   "execution_count": 66,
   "metadata": {},
   "outputs": [
    {
     "name": "stdout",
     "output_type": "stream",
     "text": [
      "72\n",
      "101\n",
      "108\n",
      "108\n",
      "111\n"
     ]
    },
    {
     "data": {
      "text/plain": [
       "#<Enumerator: \"Hello\":each_byte>"
      ]
     },
     "execution_count": 66,
     "metadata": {},
     "output_type": "execute_result"
    }
   ],
   "source": [
    "# implicit enumerator creation with blockless iterator calls (10.9.3)\n",
    "str = \"Hello\"\n",
    "str.each_byte {|b| puts b } # classic usage\n",
    "str.each_byte"
   ]
  },
  {
   "cell_type": "markdown",
   "metadata": {},
   "source": [
    "#### Semantics & uses \n",
    "- An enumerator’s each method is hooked up to a method on another object, possibly a method other than each . If you use it directly, it behaves like that other method, including with respect to its return value. This can produce some odd-looking results where calls to each return filtered, sorted, or mapped collections:"
   ]
  },
  {
   "cell_type": "code",
   "execution_count": 74,
   "metadata": {},
   "outputs": [
    {
     "name": "stdout",
     "output_type": "stream",
     "text": [
      "#<Enumerator:0x0000557c0940afa8>\n",
      "[\"Cat\", \"Dog\", \"Rabbit\"]\n"
     ]
    }
   ],
   "source": [
    "# (10.10.1)\n",
    "array = %w(cat dog rabbit)\n",
    "puts e = array.map\n",
    "puts e.each {|animal| animal.capitalize }"
   ]
  },
  {
   "cell_type": "code",
   "execution_count": 73,
   "metadata": {},
   "outputs": [
    {
     "name": "stdout",
     "output_type": "stream",
     "text": [
      "{:cat=>\"feline\", :cow=>\"bovine\"}\n",
      "{:cat=>\"feline\", :cow=>\"bovine\"}\n",
      "{:cat=>\"feline\", :dog=>\"canine\", :cow=>\"bovine\"}\n",
      "{:cat=>\"feline\", :dog=>\"canine\", :cow=>\"bovine\"}\n",
      "[[:cat, \"feline\"], [:cow, \"bovine\"]]\n"
     ]
    }
   ],
   "source": [
    "# un-overriding\n",
    "h = { cat: \"feline\", dog: \"canine\", cow: \"bovine\" }\n",
    "puts h.select {|key,value| key =~ /c/ }\n",
    "\n",
    "e = h.enum_for(:select)\n",
    "puts e.each {|key,value| key =~ /c/ }\n",
    "\n",
    "e = h.to_enum\n",
    "puts h.each {}\n",
    "puts e.each {}\n",
    "\n",
    "puts e.select {|key,value| key =~ /c/ } # returns array"
   ]
  },
  {
   "cell_type": "code",
   "execution_count": 77,
   "metadata": {},
   "outputs": [
    {
     "name": "stderr",
     "output_type": "stream",
     "text": [
      "(pry):729: warning: already initialized constant PlayingCard::SUITS\n",
      "(pry):703: warning: previous definition of SUITS was here\n",
      "(pry):730: warning: already initialized constant PlayingCard::RANKS\n",
      "(pry):704: warning: previous definition of RANKS was here\n"
     ]
    },
    {
     "data": {
      "text/plain": [
       "#<PlayingCard::Deck:0x0000557c0918d4b0 @cards=[\"2 of clubs\", \"3 of clubs\", \"4 of clubs\", \"5 of clubs\", \"6 of clubs\", \"7 of clubs\", \"8 of clubs\", \"9 of clubs\", \"10 of clubs\", \"J of clubs\", \"Q of clubs\", \"K of clubs\", \"A of clubs\", \"2 of diamonds\", \"3 of diamonds\", \"4 of diamonds\", \"5 of diamonds\", \"6 of diamonds\", \"7 of diamonds\", \"8 of diamonds\", \"9 of diamonds\", \"10 of diamonds\", \"J of diamonds\", \"Q of diamonds\", \"K of diamonds\", \"A of diamonds\", \"2 of hearts\", \"3 of hearts\", \"4 of hearts\", \"5 of hearts\", \"6 of hearts\", \"7 of hearts\", \"8 of hearts\", \"9 of hearts\", \"10 of hearts\", \"J of hearts\", \"Q of hearts\", \"K of hearts\", \"A of hearts\", \"2 of spades\", \"3 of spades\", \"4 of spades\", \"5 of spades\", \"6 of spades\", \"7 of spades\", \"8 of spades\", \"9 of spades\", \"10 of spades\", \"J of spades\", \"Q of spades\", \"K of spades\", \"A of spades\"]>"
      ]
     },
     "execution_count": 77,
     "metadata": {},
     "output_type": "execute_result"
    }
   ],
   "source": [
    "# protecting objects (10.10.2)\n",
    "# Consider a method that expects, say, an array as its argument. \n",
    "# If you pass an array object to this method, the method can alter that object.\n",
    "# If you want to protect the original array, you can duplicate it and pass\n",
    "# along the duplicate—or you can pass along an enumerator instead.\n",
    "# Enumerators allow iterations through the array, but won’t absorb changes.\n",
    "\n",
    "class PlayingCard\n",
    "    SUITS = %w{ clubs diamonds hearts spades }\n",
    "    RANKS = %w{ 2 3 4 5 6 7 8 9 10 J Q K A }\n",
    "    class Deck\n",
    "        def cards\n",
    "            @cards.to_enum\n",
    "        end\n",
    "        def initialize(n=1)\n",
    "            @cards = []\n",
    "            SUITS.cycle(n) do |s|\n",
    "                RANKS.cycle(1) do |r|\n",
    "                    @cards << \"#{r} of #{s}\"\n",
    "                end\n",
    "            end\n",
    "        end\n",
    "    end\n",
    "end\n",
    "deck = PlayingCard::Deck.new"
   ]
  },
  {
   "cell_type": "code",
   "execution_count": 78,
   "metadata": {},
   "outputs": [
    {
     "name": "stdout",
     "output_type": "stream",
     "text": [
      "David\n",
      "Yukihiro\n",
      "David\n"
     ]
    }
   ],
   "source": [
    "# fine-tuned iteration (10.10.3)\n",
    "# Enumerators maintain state: \n",
    "# they keep track of where they are in their enumeration.\n",
    "names = %w(David Yukihiro); e = names.to_enum\n",
    "\n",
    "puts e.next; puts e.next\n",
    "e.rewind;    puts e.next"
   ]
  },
  {
   "cell_type": "code",
   "execution_count": 79,
   "metadata": {},
   "outputs": [
    {
     "name": "stdout",
     "output_type": "stream",
     "text": [
      "Next note is c\n",
      "Next note is c#\n",
      "Next note is d\n",
      "Next note is d#\n",
      "Next note is e\n",
      "Next note is f\n",
      "Next note is f#\n",
      "Next note is g\n",
      "Next note is a\n",
      "Next note is a#\n",
      "Next note is b\n"
     ]
    },
    {
     "data": {
      "text/plain": [
       "[\"c\", \"c#\", \"d\", \"d#\", \"e\", \"f\", \"f#\", \"g\", \"a\", \"a#\", \"b\"]"
      ]
     },
     "execution_count": 79,
     "metadata": {},
     "output_type": "execute_result"
    }
   ],
   "source": [
    "# add enumerability (10.10.4)\n",
    "module Music\n",
    "    class Scale\n",
    "        NOTES = %w(c c# d d# e f f# g a a# b)\n",
    "        def play\n",
    "            NOTES.each {|note| yield note}\n",
    "        end\n",
    "    end\n",
    "end\n",
    "scale = Music::Scale.new\n",
    "scale.play {|note| puts \"Next note is #{note}\" }"
   ]
  },
  {
   "cell_type": "code",
   "execution_count": 82,
   "metadata": {},
   "outputs": [
    {
     "name": "stdout",
     "output_type": "stream",
     "text": [
      "[\"C\", \"C#\", \"D\", \"D#\", \"E\", \"F\", \"F#\", \"G\", \"A\", \"A#\", \"B\"]\n",
      "[\"f\", \"f#\"]\n"
     ]
    },
    {
     "data": {
      "text/plain": [
       "[\"f\", \"f#\"]"
      ]
     },
     "execution_count": 82,
     "metadata": {},
     "output_type": "execute_result"
    }
   ],
   "source": [
    "# create an enumerator for the scale object, tied into the play method\n",
    "enum = scale.enum_for(:play)\n",
    "\n",
    "<<READ\n",
    "The enumerator, enum , has an each method; that method performs the same iteration\n",
    "that the scale’s play method performs. Furthermore, unlike the scale, the enumera-\n",
    "tor is an enumerable object; it has map , select , inject , and all the other standard\n",
    "methods from Enumerable . If you use the enumerator, you get enumerable operations\n",
    "on a fundamentally non-enumerable object\n",
    "READ\n",
    "\n",
    "p enum.map {|note| note.upcase }\n",
    "p enum.select {|note| note.include?('f') }"
   ]
  },
  {
   "cell_type": "code",
   "execution_count": null,
   "metadata": {},
   "outputs": [],
   "source": [
    "# enumerator method chains (10.11.1)"
   ]
  },
  {
   "cell_type": "code",
   "execution_count": 85,
   "metadata": {},
   "outputs": [
    {
     "data": {
      "text/plain": [
       "[[\"a\", 0], [\"b\", 1], [\"c\", 2], [\"d\", 3], [\"e\", 4], [\"f\", 5], [\"g\", 6], [\"h\", 7], [\"i\", 8], [\"j\", 9], [\"k\", 10], [\"l\", 11], [\"m\", 12], [\"n\", 13], [\"o\", 14], [\"p\", 15], [\"q\", 16], [\"r\", 17], [\"s\", 18], [\"t\", 19], [\"u\", 20], [\"v\", 21], [\"w\", 22], [\"x\", 23], [\"y\", 24], [\"z\", 25]]"
      ]
     },
     "execution_count": 85,
     "metadata": {},
     "output_type": "execute_result"
    }
   ],
   "source": [
    "# indexing enumerables (10.11.2)\n",
    "\n",
    "<<READ\n",
    "Enumerators have a with_index method that adds numerical indexing, \n",
    "as a second block parameter, to any enumeration. Here’s how you would\n",
    "use with_index to do the letter/number mapping.\n",
    "READ\n",
    "\n",
    "('a'..'z').map.with_index {|letter,i| [letter, i] }"
   ]
  },
  {
   "cell_type": "code",
   "execution_count": 87,
   "metadata": {},
   "outputs": [
    {
     "name": "stdout",
     "output_type": "stream",
     "text": [
      "\u0015K\u0000\u0017E\u0018H\u0007\u0011\u000f\u0017E\u0007U\u0001\f",
      "\n",
      "Nice little string.\n"
     ]
    }
   ],
   "source": [
    "# exclusive-or string ops (10.11.3)\n",
    "<<READ\n",
    "Running an exclusive-or (or XOR) operation on a string means XOR-ing each of its\n",
    "bytes with some value. XOR-ing a byte is a bitwise operation: each byte is \n",
    "represented by an integer, and the result of the XOR operation is an \n",
    "exclusive-or-ing of that integer with another number.\n",
    "READ\n",
    "\n",
    "class String\n",
    "    def ^(key)\n",
    "        kenum = key.each_byte.cycle\n",
    "        each_byte.map {|byte| byte ^ kenum.next}.pack(\"C*\")\n",
    "    end\n",
    "end\n",
    "str = \"Nice little string.\"; key = \"secret!\"\n",
    "puts x = str^key\n",
    "puts orig = x^key"
   ]
  },
  {
   "cell_type": "markdown",
   "metadata": {},
   "source": [
    "#### Lazy enumerators\n",
    "- Lazy enumerators make it easy to enumerate selectively over infinitely large collections. To illustrate what this means, let’s start with a case where an operation tries to enumerate over an infinitely large collection and gets stuck. What if you want to know the first 10 multiples of 3? To use an infinite collection, we’ll create a range that goes from 1 to the special value Float::INFINITY."
   ]
  },
  {
   "cell_type": "markdown",
   "metadata": {},
   "source": [
    "## Regular expressions\n",
    "- Regular expressions appear in many programming languages, with minor differences among the incarnations. Their purpose is to specify character patterns that subsequently are determined to match (or not match) strings. Pattern matching, in turn, serves as the basis for operations like parsing log files, testing keyboard input for validity, and isolating substrings—operations, in other words, of frequent and considerable use to anyone who has to process strings and text.\n",
    "\n",
    "- Regular expressions have a weird reputation. Using them is a powerful, concentrated technique; they burn through a large subset of text-processing problems like acid through a padlock. They’re also, in the view of many people (including people who understand them well), difficult to use, difficult to read, opaque,  unmaintainable, and ultimately counterproductive."
   ]
  },
  {
   "cell_type": "markdown",
   "metadata": {},
   "source": [
    "#### Writing"
   ]
  },
  {
   "cell_type": "code",
   "execution_count": null,
   "metadata": {},
   "outputs": [],
   "source": [
    "# seeing patterns (11.2.1)"
   ]
  },
  {
   "cell_type": "code",
   "execution_count": 9,
   "metadata": {},
   "outputs": [
    {
     "name": "stdout",
     "output_type": "stream",
     "text": [
      "Regexp\n",
      "String\n",
      "true\n",
      "true\n",
      "#<MatchData \"abc\">\n",
      "nil\n"
     ]
    }
   ],
   "source": [
    "# simple matches (11.2.2)\n",
    "\n",
    "p //.class # constructor\n",
    "p %{}.class # alias\n",
    "p /abc/.match?(\"The alphabet starts with abc.\")\n",
    "p \"The alphabet starts with abc.\".match?(/abc/)\n",
    "p /abc/.match(\"The alphabet starts with abc.\")\n",
    "p /abc/.match(\"def\")"
   ]
  },
  {
   "cell_type": "code",
   "execution_count": 10,
   "metadata": {},
   "outputs": [
    {
     "name": "stdout",
     "output_type": "stream",
     "text": [
      "25\n"
     ]
    },
    {
     "data": {
      "text/plain": [
       "25"
      ]
     },
     "execution_count": 10,
     "metadata": {},
     "output_type": "execute_result"
    }
   ],
   "source": [
    "# =~ returns index of character in string where match occurred\n",
    "p \"The alphabet starts with abc\" =~ /abc/"
   ]
  },
  {
   "cell_type": "markdown",
   "metadata": {},
   "source": [
    "![regex patterns](px/Selection_164.png)"
   ]
  },
  {
   "cell_type": "markdown",
   "metadata": {},
   "source": [
    "#### Building a pattern"
   ]
  },
  {
   "cell_type": "code",
   "execution_count": 11,
   "metadata": {},
   "outputs": [
    {
     "name": "stdout",
     "output_type": "stream",
     "text": [
      "4\n"
     ]
    },
    {
     "data": {
      "text/plain": [
       "4"
      ]
     },
     "execution_count": 11,
     "metadata": {},
     "output_type": "execute_result"
    }
   ],
   "source": [
    "# literal character patterns (11.3.1)\n",
    "p \"The alphabet starts with abc\" =~ /a/ # 1st match of \"a\""
   ]
  },
  {
   "cell_type": "code",
   "execution_count": 12,
   "metadata": {},
   "outputs": [
    {
     "name": "stdout",
     "output_type": "stream",
     "text": [
      "true\n"
     ]
    },
    {
     "data": {
      "text/plain": [
       "true"
      ]
     },
     "execution_count": 12,
     "metadata": {},
     "output_type": "execute_result"
    }
   ],
   "source": [
    "# wildcards (11.3.2)\n",
    "<<READ\n",
    "Sometimes you’ll want to match any character at some point in your pattern. You do\n",
    "this with the special dot wildcard character (.). A dot matches any character with the\n",
    "exception of a newline.\n",
    "READ\n",
    "    \n",
    "p /.ejected/.match?(\"%ejected\")"
   ]
  },
  {
   "cell_type": "code",
   "execution_count": 20,
   "metadata": {},
   "outputs": [
    {
     "name": "stdout",
     "output_type": "stream",
     "text": [
      "7\n",
      "\" is a hex number.\"\n",
      "\"ABC3934\"\n"
     ]
    },
    {
     "data": {
      "text/plain": [
       "\"ABC3934\""
      ]
     },
     "execution_count": 20,
     "metadata": {},
     "output_type": "execute_result"
    }
   ],
   "source": [
    "# character classes (11.3.3)\n",
    "<<READ \n",
    "A character class is an explicit list of characters placed inside the regexp in square\n",
    "brackets. Example matchers:\n",
    "lowercase letters: /[a-z]/\n",
    "hex digits: /[A-Fa-f0-9]/\n",
    "negative hex digits: [^A-Fa-f0-9]\n",
    "digits: /[0-9]/\n",
    "READ\n",
    "\n",
    "string = \"ABC3934 is a hex number.\"\n",
    "p string =~ %r{[^A-Fa-f0-9]}\n",
    "p string[7..-1]\n",
    "p string[0...7]"
   ]
  },
  {
   "cell_type": "code",
   "execution_count": 21,
   "metadata": {},
   "outputs": [
    {
     "data": {
      "text/plain": [
       "\"  /d/ = any digit\\n  /w/ = any digit, alphanumerical or underscore\\n  / / = any whitespace\\n  /D/ = any non-digit\\n  /W/ = any non-alphanumeric character or underscore\\n  /S/ = non non-whitespace\\n\""
      ]
     },
     "execution_count": 21,
     "metadata": {},
     "output_type": "execute_result"
    }
   ],
   "source": [
    "# escape sequences for common character classes\n",
    "<<READ\n",
    "  /\\d/ = any digit\n",
    "  /\\w/ = any digit, alphanumerical or underscore\n",
    "  /\\s/ = any whitespace\n",
    "  /\\D/ = any non-digit\n",
    "  /\\W/ = any non-alphanumeric character or underscore\n",
    "  /\\S/ = non non-whitespace\n",
    "READ"
   ]
  },
  {
   "cell_type": "markdown",
   "metadata": {},
   "source": [
    "#### Matching, substrings, MatchData"
   ]
  },
  {
   "cell_type": "code",
   "execution_count": 27,
   "metadata": {},
   "outputs": [
    {
     "name": "stdout",
     "output_type": "stream",
     "text": [
      "#<MatchData \"Peel,Emma,Mrs.\" 1:\"Peel\" 2:\"Mrs.\">\n",
      "\"Dear Mrs., Peel,\"\n"
     ]
    },
    {
     "data": {
      "text/plain": [
       "\"Dear Mrs., Peel,\""
      ]
     },
     "execution_count": 27,
     "metadata": {},
     "output_type": "execute_result"
    }
   ],
   "source": [
    "# capturing submatches (11.4.1)\n",
    "\n",
    "<<READ\n",
    "When we perform the match, 1) we get a MatchData object that gives \n",
    "us access to the submatches (discussed in a moment). 2) Ruby \n",
    "automatically populates a series of variables for us, which also \n",
    "give us access to those submatches. The variables are global;\n",
    "their names are based on numbers: $1 , $2 , and so forth. \n",
    "READ\n",
    "\n",
    "s = \"Peel,Emma,Mrs.,talented amateur\"\n",
    "p /([A-Za-z]+),[A-Za-z]+,(Mrs?\\.)/.match(\n",
    "    \"Peel,Emma,Mrs.,talented amateur\")\n",
    "p \"Dear #{$2}, #{$1},\""
   ]
  },
  {
   "cell_type": "code",
   "execution_count": 31,
   "metadata": {},
   "outputs": [
    {
     "name": "stdout",
     "output_type": "stream",
     "text": [
      "nil\n",
      "start: My phone number is (123) 555-1234.\n",
      "entire matching part: (123) 555-1234\n",
      "three captures: \n",
      "123\n",
      "555\n",
      "1234\n"
     ]
    },
    {
     "data": {
      "text/plain": [
       "3"
      ]
     },
     "execution_count": 31,
     "metadata": {},
     "output_type": "execute_result"
    }
   ],
   "source": [
    "# match success & failure (11.4.2)\n",
    "\n",
    "p %r{a}.match(\"b\") # non-matches return nil\n",
    "\n",
    "<<READ\n",
    "The MatchData object returned by a successful match has a \n",
    "Boolean value of true. You must first save it.\n",
    "READ\n",
    "\n",
    "string   = \"My phone number is (123) 555-1234.\"\n",
    "phone_re = %r{\\((\\d{3})\\)\\s+(\\d{3})-(\\d{4})}\n",
    "m        = phone_re.match(string)\n",
    "unless m\n",
    "    puts \"no match. sorry.\"; exit\n",
    "end\n",
    "puts \"start: \"+m.string\n",
    "puts \"entire matching part: \"+m[0]\n",
    "puts \"three captures: \"\n",
    "3.times do |ndx|\n",
    "    puts \"#{m.captures[ndx]}\"\n",
    "end\n",
    "    "
   ]
  },
  {
   "cell_type": "code",
   "execution_count": null,
   "metadata": {},
   "outputs": [],
   "source": [
    "# two ways of getting captures (11.4.3)\n"
   ]
  },
  {
   "cell_type": "code",
   "execution_count": 33,
   "metadata": {},
   "outputs": [
    {
     "name": "stdout",
     "output_type": "stream",
     "text": [
      "David A. Black\n",
      "David\n",
      "{\"first\"=>\"David\", \"middle\"=>\"A.\", \"last\"=>\"Black\"}\n"
     ]
    }
   ],
   "source": [
    "# named captures (in this case, <first>,<middle>,<last>)\n",
    "s = \"David A. Black\"\n",
    "re = %r{(?<first>\\w+)\\s+((?<middle>\\w\\.)\\s+)(?<last>\\w+)}\n",
    "puts m  = re.match(s)\n",
    "puts m[:first]\n",
    "puts m.named_captures"
   ]
  },
  {
   "cell_type": "code",
   "execution_count": 34,
   "metadata": {},
   "outputs": [
    {
     "name": "stdout",
     "output_type": "stream",
     "text": [
      "\n",
      "\n",
      "6\n",
      "14\n"
     ]
    }
   ],
   "source": [
    "# other MatchData info (11.4.4)\n",
    "puts m.pre_match\n",
    "puts m.post_match\n",
    "puts m.begin(2) # 2nd capture, beginning char#\n",
    "puts m.end(3) # 3rd capture, ending char#"
   ]
  },
  {
   "cell_type": "markdown",
   "metadata": {},
   "source": [
    "#### Quantifiers, anchors & modifiers"
   ]
  },
  {
   "cell_type": "code",
   "execution_count": 35,
   "metadata": {},
   "outputs": [
    {
     "name": "stdout",
     "output_type": "stream",
     "text": [
      "(?-mix:Mrs?\\.?)\n"
     ]
    }
   ],
   "source": [
    "# constraining matches with quantifiers (11.5.1)\n",
    "<<READ\n",
    "Regexp syntax gives you ways to specify not only what you want \n",
    "but also how many: exactly one of a particular character, \n",
    "5–10 repetitions of a subpattern, and so forth.\n",
    "READ"
   ]
  },
  {
   "cell_type": "code",
   "execution_count": 38,
   "metadata": {},
   "outputs": [
    {
     "name": "stdout",
     "output_type": "stream",
     "text": [
      "abc!def!ghi!\n",
      "abc!\n"
     ]
    }
   ],
   "source": [
    "# greedy & non-greedy quantifiers (11.5.2)\n",
    "<<READ\n",
    "The * (zero-or-more) and + (one-or-more) quantifiers are greedy. \n",
    "They match as many characters as possible, consistent with \n",
    "allowing the rest of the pattern to match.\n",
    "READ\n",
    "\n",
    "string = \"abc!def!ghi!\"\n",
    "puts /.+!/.match(string)[0]\n",
    "\n",
    "<<READ\n",
    "We’ve asked for one or more characters (using the wildcard dot) \n",
    "followed by an exclamation point. You might expect to get back \n",
    "the substring \"abc!\" , which fits that description.\n",
    "Instead, we get \"abc!def!ghi!\" . The + quantifier greedily eats \n",
    "up as much of the string as it can and only stops at the last \n",
    "exclamation point, not the first.\n",
    "        \n",
    "We can make + as well as * into non-greedy quantifiers by \n",
    "putting a question mark after them.This version says, “Give me one or more wildcard characters, but only as many as you\n",
    "see up to the first exclamation point, which should also be included.” Sure enough,\n",
    "this time we get \"abc!\" .\n",
    "        \n",
    "This version says, “Give me one or more wildcard characters, but \n",
    "only as many as you see up to the first exclamation point, which \n",
    "should also be included.” Sure enough, this time we get \"abc!\" .\n",
    "READ\n",
    "    \n",
    "puts /.+?!/.match(string)[0]"
   ]
  },
  {
   "cell_type": "code",
   "execution_count": null,
   "metadata": {},
   "outputs": [],
   "source": [
    "# regex anchors & assertions (11.5.3)"
   ]
  },
  {
   "cell_type": "code",
   "execution_count": null,
   "metadata": {},
   "outputs": [],
   "source": [
    "# lookahead assertions"
   ]
  },
  {
   "cell_type": "code",
   "execution_count": null,
   "metadata": {},
   "outputs": [],
   "source": [
    "# lookbehind assertions"
   ]
  },
  {
   "cell_type": "code",
   "execution_count": null,
   "metadata": {},
   "outputs": [],
   "source": [
    "# conditional matches"
   ]
  },
  {
   "cell_type": "code",
   "execution_count": null,
   "metadata": {},
   "outputs": [],
   "source": [
    "# modifiers (11.5.4)"
   ]
  },
  {
   "cell_type": "markdown",
   "metadata": {},
   "source": [
    "#### Converting strings to/from regexes"
   ]
  },
  {
   "cell_type": "code",
   "execution_count": null,
   "metadata": {},
   "outputs": [],
   "source": [
    "# string-to-regexp idioms (11.6.1)"
   ]
  },
  {
   "cell_type": "code",
   "execution_count": null,
   "metadata": {},
   "outputs": [],
   "source": [
    "# regex to string (11.6.2)"
   ]
  },
  {
   "cell_type": "markdown",
   "metadata": {},
   "source": [
    "#### Common uses"
   ]
  },
  {
   "cell_type": "code",
   "execution_count": 41,
   "metadata": {},
   "outputs": [
    {
     "name": "stdout",
     "output_type": "stream",
     "text": [
      "[\"1\", \"2\", \"3\", \"4\", \"5\", \"6\"]\n",
      "[[\"Leopold\", \"Auer\"], [\"Jascha\", \"Heifetz\"]]\n",
      "Auer's first name was Leopold.\n",
      "Heifetz's first name was Jascha.\n"
     ]
    },
    {
     "data": {
      "text/plain": [
       "\"Leopold Auer was the teacher of Jascha Heifetz.\""
      ]
     },
     "execution_count": 41,
     "metadata": {},
     "output_type": "execute_result"
    }
   ],
   "source": [
    "# string#scan (11.7.1)\n",
    "<<READ\n",
    "scan goes from left to right, testing repeatedly for a match.\n",
    "the results are returned in an array.\n",
    "READ\n",
    "\n",
    "# harvest all the digits in a string:\n",
    "puts \"testing 1 2 3 testing 4 5 6\".scan(/\\d/)\n",
    "\n",
    "# parenthetical groups\n",
    "str = \"Leopold Auer was the teacher of Jascha Heifetz.\"\n",
    "puts violinists = str.scan(/([A-Z]\\w+)\\s+([A-Z]\\w+)/)\n",
    "    \n",
    "# scan with a code block\n",
    "str.scan(/([A-Z]\\w+)\\s+([A-Z]\\w+)/) do |fname, lname|\n",
    "    puts \"#{lname}'s first name was #{fname}.\"\n",
    "end"
   ]
  },
  {
   "cell_type": "code",
   "execution_count": null,
   "metadata": {},
   "outputs": [],
   "source": [
    "# string#split (11.7.2)"
   ]
  },
  {
   "cell_type": "code",
   "execution_count": null,
   "metadata": {},
   "outputs": [],
   "source": [
    "# sub/sub!, gsub/gsub! (11.7.3)"
   ]
  },
  {
   "cell_type": "code",
   "execution_count": 42,
   "metadata": {},
   "outputs": [],
   "source": [
    "# case equality and grep (11.7.4)"
   ]
  },
  {
   "cell_type": "markdown",
   "metadata": {},
   "source": [
    "## File & i/o operations"
   ]
  },
  {
   "cell_type": "markdown",
   "metadata": {},
   "source": [
    "#### Basics"
   ]
  },
  {
   "cell_type": "code",
   "execution_count": 43,
   "metadata": {},
   "outputs": [
    {
     "name": "stdout",
     "output_type": "stream",
     "text": [
      "IO\n"
     ]
    },
    {
     "data": {
      "text/plain": [
       "6"
      ]
     },
     "execution_count": 43,
     "metadata": {},
     "output_type": "execute_result"
    }
   ],
   "source": [
    "# IO class (12.1.1)\n",
    "puts STDERR.class\n",
    "STDERR.puts(\"oops\")\n",
    "STDERR.write(\"oopsie\")"
   ]
  },
  {
   "cell_type": "code",
   "execution_count": null,
   "metadata": {},
   "outputs": [],
   "source": [
    "# IO objects as enumerables (12.1.2)"
   ]
  },
  {
   "cell_type": "code",
   "execution_count": null,
   "metadata": {},
   "outputs": [],
   "source": [
    "# STDIN, STDOUT, STDERR (12.1.3)"
   ]
  },
  {
   "cell_type": "code",
   "execution_count": null,
   "metadata": {},
   "outputs": [],
   "source": [
    "# keyboard input (12.1.4)"
   ]
  },
  {
   "cell_type": "markdown",
   "metadata": {},
   "source": [
    "#### File operations"
   ]
  },
  {
   "cell_type": "code",
   "execution_count": null,
   "metadata": {},
   "outputs": [],
   "source": [
    "# read (12.2.1)"
   ]
  },
  {
   "cell_type": "code",
   "execution_count": null,
   "metadata": {},
   "outputs": [],
   "source": [
    "# line-based file read (12.2.2)"
   ]
  },
  {
   "cell_type": "code",
   "execution_count": null,
   "metadata": {},
   "outputs": [],
   "source": [
    "# byte-, character-based file read (12.2.3)"
   ]
  },
  {
   "cell_type": "code",
   "execution_count": null,
   "metadata": {},
   "outputs": [],
   "source": [
    "# file position (set, get) (12.2.4)"
   ]
  },
  {
   "cell_type": "code",
   "execution_count": null,
   "metadata": {},
   "outputs": [],
   "source": [
    "# file reads with File class methods (12.2.5)"
   ]
  },
  {
   "cell_type": "code",
   "execution_count": null,
   "metadata": {},
   "outputs": [],
   "source": [
    "# writing (12.2.6)"
   ]
  },
  {
   "cell_type": "code",
   "execution_count": null,
   "metadata": {},
   "outputs": [],
   "source": [
    "# using blocks to scope file ops (12.2.7)"
   ]
  },
  {
   "cell_type": "code",
   "execution_count": null,
   "metadata": {},
   "outputs": [],
   "source": [
    "# file enumerability (12.2.8)"
   ]
  },
  {
   "cell_type": "code",
   "execution_count": null,
   "metadata": {},
   "outputs": [],
   "source": [
    "# file IO exceptions/errors (12.2.9)"
   ]
  },
  {
   "cell_type": "markdown",
   "metadata": {},
   "source": [
    "#### Querying IO & file objects"
   ]
  },
  {
   "cell_type": "code",
   "execution_count": null,
   "metadata": {},
   "outputs": [],
   "source": [
    "# getting info from File class and FileTest module (12.3.1)"
   ]
  },
  {
   "cell_type": "code",
   "execution_count": null,
   "metadata": {},
   "outputs": [],
   "source": [
    "# file info from File::Stat (12.3.2)"
   ]
  },
  {
   "cell_type": "markdown",
   "metadata": {},
   "source": [
    "#### Directories"
   ]
  },
  {
   "cell_type": "code",
   "execution_count": null,
   "metadata": {},
   "outputs": [],
   "source": [
    "# read directory entries (12.4.1)"
   ]
  },
  {
   "cell_type": "code",
   "execution_count": null,
   "metadata": {},
   "outputs": [],
   "source": [
    "# directory manipulation (12.4.2)"
   ]
  },
  {
   "cell_type": "markdown",
   "metadata": {},
   "source": [
    "#### File tools"
   ]
  },
  {
   "cell_type": "code",
   "execution_count": null,
   "metadata": {},
   "outputs": [],
   "source": [
    "# FileUtils module (12.5.1)"
   ]
  },
  {
   "cell_type": "code",
   "execution_count": null,
   "metadata": {},
   "outputs": [],
   "source": [
    "# Pathname class (12.5.2)"
   ]
  },
  {
   "cell_type": "code",
   "execution_count": null,
   "metadata": {},
   "outputs": [],
   "source": [
    "# StringIO class (12.5.3)"
   ]
  },
  {
   "cell_type": "code",
   "execution_count": null,
   "metadata": {},
   "outputs": [],
   "source": [
    "# open-uri library (12.5.4)"
   ]
  },
  {
   "cell_type": "markdown",
   "metadata": {},
   "source": [
    "## Object individualization"
   ]
  },
  {
   "cell_type": "markdown",
   "metadata": {},
   "source": [
    "#### Singletons"
   ]
  },
  {
   "cell_type": "markdown",
   "metadata": {},
   "source": [
    "#### Modifying Ruby core classes & modules"
   ]
  },
  {
   "cell_type": "markdown",
   "metadata": {},
   "source": [
    "#### BasicObject"
   ]
  },
  {
   "cell_type": "markdown",
   "metadata": {},
   "source": [
    "## Callable & runnable objects"
   ]
  },
  {
   "cell_type": "markdown",
   "metadata": {},
   "source": [
    "#### Procs"
   ]
  },
  {
   "cell_type": "markdown",
   "metadata": {},
   "source": [
    "#### Lambda, ->"
   ]
  },
  {
   "cell_type": "markdown",
   "metadata": {},
   "source": [
    "#### Methods as objects"
   ]
  },
  {
   "cell_type": "markdown",
   "metadata": {},
   "source": [
    "#### Eval methods"
   ]
  },
  {
   "cell_type": "markdown",
   "metadata": {},
   "source": [
    "#### Threads"
   ]
  },
  {
   "cell_type": "markdown",
   "metadata": {},
   "source": [
    "#### System commands"
   ]
  },
  {
   "cell_type": "markdown",
   "metadata": {},
   "source": [
    "## Callbacks, hooks & run introspection"
   ]
  },
  {
   "cell_type": "markdown",
   "metadata": {},
   "source": [
    "#### Callbacks & hooks"
   ]
  },
  {
   "cell_type": "markdown",
   "metadata": {},
   "source": [
    "#### Interpreting object capability queries"
   ]
  },
  {
   "cell_type": "markdown",
   "metadata": {},
   "source": [
    "#### Variable & constant introspection"
   ]
  },
  {
   "cell_type": "markdown",
   "metadata": {},
   "source": [
    "#### Tracing exeuction"
   ]
  },
  {
   "cell_type": "markdown",
   "metadata": {},
   "source": [
    "#### Callbacks & method inspection in practice"
   ]
  },
  {
   "cell_type": "markdown",
   "metadata": {},
   "source": [
    "## Functional programming"
   ]
  },
  {
   "cell_type": "markdown",
   "metadata": {},
   "source": [
    "#### Pure functions"
   ]
  },
  {
   "cell_type": "markdown",
   "metadata": {},
   "source": [
    "#### Immutability"
   ]
  },
  {
   "cell_type": "markdown",
   "metadata": {},
   "source": [
    "#### Higher-order functions"
   ]
  },
  {
   "cell_type": "code",
   "execution_count": null,
   "metadata": {},
   "outputs": [],
   "source": [
    "# method chains"
   ]
  },
  {
   "cell_type": "code",
   "execution_count": null,
   "metadata": {},
   "outputs": [],
   "source": [
    "# Kernel#itself, Kernel#yield_self"
   ]
  },
  {
   "cell_type": "code",
   "execution_count": 3,
   "metadata": {},
   "outputs": [
    {
     "name": "stdout",
     "output_type": "stream",
     "text": [
      "120\n"
     ]
    }
   ],
   "source": [
    "# functions that return functions\n",
    "\n",
    "def multiply_by(m)\n",
    "    Proc.new {|x| puts x*m}\n",
    "end\n",
    "\n",
    "mult = multiply_by(10)\n",
    "mult.call(12)"
   ]
  },
  {
   "cell_type": "code",
   "execution_count": 4,
   "metadata": {},
   "outputs": [
    {
     "data": {
      "text/plain": [
       "#<Proc:0x000055db38771578 (pry):15 (lambda)>"
      ]
     },
     "execution_count": 4,
     "metadata": {},
     "output_type": "execute_result"
    }
   ],
   "source": [
    "# currying & partial function application\n",
    "# -- functions are called with #functions less than its arity.\n",
    "# -- function is eval'd; returns new function that takes rest of args.\n",
    "\n",
    "add = -> (a,b) {a+b}"
   ]
  },
  {
   "cell_type": "code",
   "execution_count": 9,
   "metadata": {},
   "outputs": [
    {
     "name": "stdout",
     "output_type": "stream",
     "text": [
      "SyntaxError: unexpected integer literal, expecting ')'\n",
      "add = -> (1, b) { 1 + b }\n",
      "          ^\n"
     ]
    }
   ],
   "source": [
    "add = -> (1, b) { 1 + b }"
   ]
  },
  {
   "cell_type": "code",
   "execution_count": 10,
   "metadata": {},
   "outputs": [
    {
     "data": {
      "text/plain": [
       "#<Proc:0x000055db386f1058 (pry):18 (lambda)>"
      ]
     },
     "execution_count": 10,
     "metadata": {},
     "output_type": "execute_result"
    }
   ],
   "source": [
    "# currying: return series of functions, each taking one argument.\n",
    "add = -> (a,b) { -> (b) {a+b}}"
   ]
  },
  {
   "cell_type": "code",
   "execution_count": 12,
   "metadata": {},
   "outputs": [
    {
     "data": {
      "text/plain": [
       "[-3, 3, 6, 9, 12]"
      ]
     },
     "execution_count": 12,
     "metadata": {},
     "output_type": "execute_result"
    }
   ],
   "source": [
    "# curry does both partial application & currying.\n",
    "# use case: generic, reusable functions\n",
    "\n",
    "def find_multiples_of_3(arr)\n",
    "    arr.select {|e1| e1 % 3 == 0}\n",
    "end\n",
    "\n",
    "def find_multiples_of_5(arr)\n",
    "    arr.select {|e1| e1 % 5 == 0}\n",
    "end\n",
    "\n",
    "find_multiples_of_3([-3,3,4,5,6,8,9,10,12])"
   ]
  },
  {
   "cell_type": "code",
   "execution_count": 13,
   "metadata": {},
   "outputs": [
    {
     "data": {
      "text/plain": [
       "[5, 10]"
      ]
     },
     "execution_count": 13,
     "metadata": {},
     "output_type": "execute_result"
    }
   ],
   "source": [
    "find_multiples_of_5([-3,3,4,5,6,8,9,10,12])"
   ]
  },
  {
   "cell_type": "code",
   "execution_count": 15,
   "metadata": {},
   "outputs": [
    {
     "data": {
      "text/plain": [
       "#<Proc:0x000055db383a7c80 (lambda)>"
      ]
     },
     "execution_count": 15,
     "metadata": {},
     "output_type": "execute_result"
    }
   ],
   "source": [
    "# abstracting out one argument:\n",
    "find_multiples = -> (x,arr) {arr.select {|el| el % x == 0 }}\n",
    "\n",
    "# curried form - pass one arg, return func that takes remaining arg.\n",
    "find_multiples_of = find_multiples.curry\n",
    "\n",
    "find_multiples_of_3 = find_multiples_of.(3)\n",
    "find_multiples_of_5 = find_multiples_of.(5)"
   ]
  },
  {
   "cell_type": "code",
   "execution_count": 16,
   "metadata": {},
   "outputs": [
    {
     "data": {
      "text/plain": [
       "[-3, 3, 6, 9, 12]"
      ]
     },
     "execution_count": 16,
     "metadata": {},
     "output_type": "execute_result"
    }
   ],
   "source": [
    "find_multiples_of_3([-3,3,4,5,6,8,9,10,12])"
   ]
  },
  {
   "cell_type": "code",
   "execution_count": 17,
   "metadata": {},
   "outputs": [
    {
     "data": {
      "text/plain": [
       "[5, 10]"
      ]
     },
     "execution_count": 17,
     "metadata": {},
     "output_type": "execute_result"
    }
   ],
   "source": [
    "find_multiples_of_5([-3,3,4,5,6,8,9,10,12])"
   ]
  },
  {
   "cell_type": "markdown",
   "metadata": {},
   "source": [
    "#### Recursion"
   ]
  },
  {
   "cell_type": "code",
   "execution_count": null,
   "metadata": {},
   "outputs": [],
   "source": []
  },
  {
   "cell_type": "code",
   "execution_count": 1,
   "metadata": {},
   "outputs": [],
   "source": [
    "# lazy evaluation"
   ]
  },
  {
   "cell_type": "code",
   "execution_count": 2,
   "metadata": {},
   "outputs": [],
   "source": [
    "# tail-call optimization"
   ]
  },
  {
   "cell_type": "code",
   "execution_count": 2,
   "metadata": {},
   "outputs": [
    {
     "data": {
      "text/plain": [
       "\"well-grounded-rubyist.ipynb\\n\""
      ]
     },
     "execution_count": 2,
     "metadata": {},
     "output_type": "execute_result"
    }
   ],
   "source": [
    "`ls *.ipynb`"
   ]
  },
  {
   "cell_type": "code",
   "execution_count": null,
   "metadata": {},
   "outputs": [],
   "source": []
  }
 ],
 "metadata": {
  "kernelspec": {
   "display_name": "Ruby 2.7.1",
   "language": "ruby",
   "name": "ruby"
  },
  "language_info": {
   "file_extension": ".rb",
   "mimetype": "application/x-ruby",
   "name": "ruby",
   "version": "2.7.1"
  }
 },
 "nbformat": 4,
 "nbformat_minor": 4
}
