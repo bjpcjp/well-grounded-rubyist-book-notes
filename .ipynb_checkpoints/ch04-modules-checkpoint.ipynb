{
 "cells": [
  {
   "cell_type": "markdown",
   "metadata": {},
   "source": [
    "## Modules (Chap 4)\n",
    "- Bundles of methods & constants.\n",
    "- Modules don't have instances."
   ]
  },
  {
   "cell_type": "markdown",
   "metadata": {},
   "source": [
    "#### Basics\n",
    "- Main diff vs classes is that you can mix in multiple modules. (Classes can inherit from only one class.)"
   ]
  },
  {
   "cell_type": "code",
   "execution_count": 95,
   "metadata": {},
   "outputs": [
    {
     "name": "stdout",
     "output_type": "stream",
     "text": [
      "2.7.1\n"
     ]
    }
   ],
   "source": [
    "module FirstModule\n",
    "    def ruby_version\n",
    "        puts RUBY_VERSION\n",
    "    end\n",
    "end\n",
    "class TestModule\n",
    "    include FirstModule\n",
    "end\n",
    "mt = TestModule.new; mt.ruby_version"
   ]
  },
  {
   "cell_type": "code",
   "execution_count": 101,
   "metadata": {},
   "outputs": [
    {
     "data": {
      "text/plain": [
       ":take"
      ]
     },
     "execution_count": 101,
     "metadata": {},
     "output_type": "execute_result"
    }
   ],
   "source": [
    "# \"stacklikeness\" (4.1.1)\n",
    "module Stacklike\n",
    "    def stack\n",
    "        @stack ||= [] # using or-equals operator\n",
    "    end\n",
    "    def add(obj)\n",
    "        stack.push(obj)\n",
    "    end\n",
    "    def take()\n",
    "        stack.pop\n",
    "    end\n",
    "end\n"
   ]
  },
  {
   "cell_type": "code",
   "execution_count": 102,
   "metadata": {},
   "outputs": [
    {
     "name": "stdout",
     "output_type": "stream",
     "text": [
      "can't do it.\n",
      "[\"1st\", \"2nd\", \"3rd\"]\n",
      "[\"1st\", \"2nd\"]\n"
     ]
    }
   ],
   "source": [
    "# mixing a module into a class (4.1.2)\n",
    "begin\n",
    "    s = Stacklike.new\n",
    "rescue\n",
    "    puts \"can't do it.\"\n",
    "end\n",
    "\n",
    "class Stack\n",
    "    include Stacklike\n",
    "end\n",
    "s = Stack.new\n",
    "s.add(\"1st\"); s.add(\"2nd\"); s.add(\"3rd\"); puts s.stack\n",
    "s.take; puts s.stack"
   ]
  },
  {
   "cell_type": "code",
   "execution_count": null,
   "metadata": {},
   "outputs": [],
   "source": [
    "# Stacklike module saved to \"stack.rb\".\n",
    "# run on cmnd line with \"ruby stack.rb\""
   ]
  },
  {
   "cell_type": "code",
   "execution_count": 106,
   "metadata": {},
   "outputs": [
    {
     "name": "stdout",
     "output_type": "stream",
     "text": [
      "3040\n",
      "3060\n",
      "3080\n",
      "3080\n"
     ]
    }
   ],
   "source": [
    "# more module functionality (4.1.3)\n",
    "require_relative \"stacklike\" # stacklike.rb\n",
    "class Suitcase\n",
    "end\n",
    "\n",
    "class CargoHold\n",
    "    include Stacklike\n",
    "    def load_and_report(obj)\n",
    "        puts obj.object_id\n",
    "        add(obj) # to a stack\n",
    "    end\n",
    "    def unload\n",
    "        take\n",
    "    end\n",
    "end\n",
    "\n",
    "ch  = CargoHold.new\n",
    "sc1 = Suitcase.new\n",
    "sc2 = Suitcase.new \n",
    "sc3 = Suitcase.new\n",
    "ch.load_and_report(sc1)\n",
    "ch.load_and_report(sc2)\n",
    "ch.load_and_report(sc3)\n",
    "\n",
    "first_unloaded = ch.unload\n",
    "puts first_unloaded.object_id"
   ]
  },
  {
   "cell_type": "markdown",
   "metadata": {},
   "source": [
    "#### Modules, classes & method lookup\n",
    "![illustrated](px/Selection_148.png)"
   ]
  },
  {
   "cell_type": "code",
   "execution_count": 107,
   "metadata": {},
   "outputs": [
    {
     "name": "stdout",
     "output_type": "stream",
     "text": [
      "'report' method in module M\n"
     ]
    }
   ],
   "source": [
    "# method lookup basics (4.2.1)\n",
    "module M\n",
    "    def report\n",
    "        puts \"'report' method in module M\"\n",
    "    end\n",
    "end\n",
    "class C\n",
    "    include M\n",
    "end\n",
    "class D<C\n",
    "end\n",
    "obj = D.new\n",
    "obj.report"
   ]
  },
  {
   "cell_type": "code",
   "execution_count": 108,
   "metadata": {},
   "outputs": [
    {
     "data": {
      "text/plain": [
       "Object"
      ]
     },
     "execution_count": 108,
     "metadata": {},
     "output_type": "execute_result"
    }
   ],
   "source": [
    "C.superclass"
   ]
  },
  {
   "cell_type": "code",
   "execution_count": 109,
   "metadata": {},
   "outputs": [
    {
     "name": "stdout",
     "output_type": "stream",
     "text": [
      "another placeholder\n"
     ]
    }
   ],
   "source": [
    "# defining a method more than once (4.2.2)\n",
    "module InterestBearing\n",
    "    def calc_interest\n",
    "        puts \"placeholder\"\n",
    "    end\n",
    "end\n",
    "class BankAccount\n",
    "    include InterestBearing\n",
    "    def calc_interest\n",
    "        puts \"another placeholder\"\n",
    "    end\n",
    "end\n",
    "\n",
    "account = BankAccount.new\n",
    "account.calc_interest"
   ]
  },
  {
   "cell_type": "code",
   "execution_count": 110,
   "metadata": {},
   "outputs": [
    {
     "name": "stdout",
     "output_type": "stream",
     "text": [
      "done. module N.\n"
     ]
    }
   ],
   "source": [
    "# mixing 2 modules with same-name methods (listing 4.8)\n",
    "module M\n",
    "    def report\n",
    "        puts \"done. module M.\"\n",
    "    end\n",
    "end\n",
    "module N\n",
    "    def report\n",
    "        puts \"done. module N.\"\n",
    "    end\n",
    "end\n",
    "class C\n",
    "    include M\n",
    "    include N\n",
    "end\n",
    "c = C.new; c.report"
   ]
  },
  {
   "cell_type": "code",
   "execution_count": 111,
   "metadata": {},
   "outputs": [
    {
     "name": "stdout",
     "output_type": "stream",
     "text": [
      "done. module N.\n"
     ]
    }
   ],
   "source": [
    "class C\n",
    "    include M\n",
    "    include N\n",
    "    include M\n",
    "end\n",
    "c = C.new; c.report"
   ]
  },
  {
   "cell_type": "code",
   "execution_count": 113,
   "metadata": {},
   "outputs": [
    {
     "name": "stdout",
     "output_type": "stream",
     "text": [
      "howdy from module\n"
     ]
    }
   ],
   "source": [
    "# prepend (4.2.3)\n",
    "# - prepending module to a class = object looks in\n",
    "#   the module first.\n",
    "module MeFirst\n",
    "    def report\n",
    "        puts \"howdy from module\"\n",
    "    end\n",
    "end\n",
    "class Person\n",
    "    prepend MeFirst\n",
    "    def report\n",
    "        puts \"howdy from class\"\n",
    "    end\n",
    "end\n",
    "p = Person.new; p.report"
   ]
  },
  {
   "cell_type": "code",
   "execution_count": 114,
   "metadata": {},
   "outputs": [
    {
     "data": {
      "text/plain": [
       "[MeFirst, Person, Object, PP::ObjectMixin, JSON::Ext::Generator::GeneratorMethods::Object, Kernel, BasicObject]"
      ]
     },
     "execution_count": 114,
     "metadata": {},
     "output_type": "execute_result"
    }
   ],
   "source": [
    "Person.ancestors"
   ]
  },
  {
   "cell_type": "code",
   "execution_count": 117,
   "metadata": {},
   "outputs": [
    {
     "name": "stdout",
     "output_type": "stream",
     "text": [
      "212.0\n",
      "100.0\n"
     ]
    }
   ],
   "source": [
    "# extend (4.2.4)\n",
    "# - didn't need to define class methods. This is done\n",
    "#   via the extend keyword.\n",
    "\n",
    "class Temperature\n",
    "    def Temperature.c2f(c)\n",
    "        c*9.0/5+32\n",
    "    end\n",
    "    def Temperature.f2c(f)\n",
    "        (f-32)*5/9.0\n",
    "    end\n",
    "end\n",
    "module Convertible\n",
    "    def c2f(celsius)\n",
    "        celsius*9.0/5+32\n",
    "    end\n",
    "    def f2c(fahrenheit)\n",
    "        (fahrenheit-32)*5/9.0\n",
    "    end\n",
    "end\n",
    "class Thermometer\n",
    "    extend Convertible\n",
    "end\n",
    "puts Temperature.c2f(100)\n",
    "puts Temperature.f2c(212)"
   ]
  },
  {
   "cell_type": "markdown",
   "metadata": {},
   "source": [
    "Rules of method lookup (4.2.5)\n",
    "![viz](px/Selection_149.png)"
   ]
  },
  {
   "cell_type": "code",
   "execution_count": 127,
   "metadata": {},
   "outputs": [
    {
     "name": "stdout",
     "output_type": "stream",
     "text": [
      "available.\n",
      "sold out.\n"
     ]
    }
   ],
   "source": [
    "# super (4.2.6)\n",
    "class Bicycle\n",
    "    attr_reader :gears, :wheels, :seats\n",
    "    def initialize(gears=1)\n",
    "        @wheels=2\n",
    "        @seats=1\n",
    "        @gears=gears\n",
    "    end\n",
    "    def rent\n",
    "        puts \"sold out.\"\n",
    "    end\n",
    "end\n",
    "class Tandem<Bicycle\n",
    "    def initialize(gears)\n",
    "        super # <-- triggers earlier initialize method\n",
    "        @seats=2\n",
    "    end\n",
    "    def rent\n",
    "        puts \"available.\"\n",
    "    end\n",
    "end\n",
    "t = Tandem.new(12)\n",
    "t.method(:rent).call\n",
    "t.method(:rent).super_method.call"
   ]
  },
  {
   "cell_type": "markdown",
   "metadata": {},
   "source": [
    "#### Method_missing\n",
    "- provided by the __Kernel__ module."
   ]
  },
  {
   "cell_type": "code",
   "execution_count": 129,
   "metadata": {},
   "outputs": [
    {
     "name": "stdout",
     "output_type": "stream",
     "text": [
      "nope. missing method.\n"
     ]
    }
   ],
   "source": [
    "o = Object.new\n",
    "def o.method_missing(m,*args)\n",
    "    puts \"nope. missing method.\"\n",
    "end\n",
    "o.blahblah"
   ]
  },
  {
   "cell_type": "code",
   "execution_count": 134,
   "metadata": {},
   "outputs": [
    {
     "data": {
      "text/plain": [
       "#<Student:0x000055e692f227f8>"
      ]
     },
     "execution_count": 134,
     "metadata": {},
     "output_type": "execute_result"
    }
   ],
   "source": [
    "# combining method_missing & super (4.3.1)\n",
    "# - common use case: intercept unknown message,\n",
    "#   and decide whether to handle it, or to pass it\n",
    "#   to original method_missing via super.\n",
    "\n",
    "class Student\n",
    "    def method_missing(m,*args)\n",
    "        if m.to_s.start_with?(\"grade_for_\")\n",
    "            puts \"done. #{m.to_s.split(\"_\").last.capitalize}.\"\n",
    "        else\n",
    "            super\n",
    "        end\n",
    "    end\n",
    "end\n",
    "s = Student.new"
   ]
  },
  {
   "cell_type": "code",
   "execution_count": 139,
   "metadata": {},
   "outputs": [
    {
     "name": "stderr",
     "output_type": "stream",
     "text": [
      "(pry):1236: warning: already initialized constant Person::PEOPLE\n",
      "(pry):1184: warning: previous definition of PEOPLE was here\n"
     ]
    },
    {
     "data": {
      "text/plain": [
       ":method_missing"
      ]
     },
     "execution_count": 139,
     "metadata": {},
     "output_type": "execute_result"
    }
   ],
   "source": [
    "# \n",
    "class Person\n",
    "    PEOPLE=[]\n",
    "    attr_reader :name, :hobbies, :friends\n",
    "    def initialize(name)\n",
    "        @name, @hobbies, @friends = name, [], []\n",
    "        PEOPLE << self\n",
    "    end\n",
    "    def has_hobby(h)\n",
    "        @hobbies << h\n",
    "    end\n",
    "    def has_friend(f)\n",
    "        @friends << f\n",
    "    end\n",
    "end\n",
    "\n",
    "# method name may/may not start with \"all_with_\".\n",
    "# if not, pass it to super - let BasicObject handle it.\n",
    "\n",
    "# method name (msg) is provided to method_missing\n",
    "# as a symbol. convert to string first.\n",
    "\n",
    "# built-in query method: public_method_defined?\n",
    "\n",
    "def Person.method_missing(m,*args)\n",
    "    method=m.to_s\n",
    "    if method.start_with?(\"all_with_\")\n",
    "        attr = method[9..-1] # substring, 9th-last\n",
    "        if Person.public_method_defined?(attr)\n",
    "            PEOPLE.find_all do |p|\n",
    "                p.send(attr).include?(args[0])\n",
    "            end\n",
    "        else\n",
    "            raise ArgumentError, \"can't find #{attr}\"\n",
    "        end\n",
    "    else\n",
    "        super\n",
    "    end\n",
    "end\n"
   ]
  },
  {
   "cell_type": "code",
   "execution_count": null,
   "metadata": {},
   "outputs": [
    {
     "ename": "NameError",
     "evalue": "uninitialized constant PEOPLE",
     "output_type": "error",
     "traceback": [
      "\u001b[31mNameError\u001b[0m: uninitialized constant PEOPLE",
      "(pry):1263:in `method_missing'",
      "(pry):1282:in `<main>'",
      "/usr/local/lib/ruby/gems/2.7.0/gems/pry-0.13.1/lib/pry/pry_instance.rb:290:in `eval'",
      "/usr/local/lib/ruby/gems/2.7.0/gems/pry-0.13.1/lib/pry/pry_instance.rb:290:in `evaluate_ruby'",
      "/usr/local/lib/ruby/gems/2.7.0/gems/pry-0.13.1/lib/pry/pry_instance.rb:659:in `handle_line'",
      "/usr/local/lib/ruby/gems/2.7.0/gems/pry-0.13.1/lib/pry/pry_instance.rb:261:in `block (2 levels) in eval'",
      "/usr/local/lib/ruby/gems/2.7.0/gems/pry-0.13.1/lib/pry/pry_instance.rb:260:in `catch'",
      "/usr/local/lib/ruby/gems/2.7.0/gems/pry-0.13.1/lib/pry/pry_instance.rb:260:in `block in eval'",
      "/usr/local/lib/ruby/gems/2.7.0/gems/pry-0.13.1/lib/pry/pry_instance.rb:259:in `catch'",
      "/usr/local/lib/ruby/gems/2.7.0/gems/pry-0.13.1/lib/pry/pry_instance.rb:259:in `eval'",
      "/home/bjpcjp/.gem/ruby/2.7.0/gems/iruby-0.4.0/lib/iruby/backend.rb:66:in `eval'",
      "/home/bjpcjp/.gem/ruby/2.7.0/gems/iruby-0.4.0/lib/iruby/backend.rb:12:in `eval'",
      "/home/bjpcjp/.gem/ruby/2.7.0/gems/iruby-0.4.0/lib/iruby/kernel.rb:90:in `execute_request'",
      "/home/bjpcjp/.gem/ruby/2.7.0/gems/iruby-0.4.0/lib/iruby/kernel.rb:49:in `dispatch'",
      "/home/bjpcjp/.gem/ruby/2.7.0/gems/iruby-0.4.0/lib/iruby/kernel.rb:38:in `run'",
      "/home/bjpcjp/.gem/ruby/2.7.0/gems/iruby-0.4.0/lib/iruby/command.rb:110:in `run_kernel'",
      "/home/bjpcjp/.gem/ruby/2.7.0/gems/iruby-0.4.0/lib/iruby/command.rb:40:in `run'",
      "/home/bjpcjp/.gem/ruby/2.7.0/gems/iruby-0.4.0/bin/iruby:5:in `<top (required)>'",
      "/usr/local/bin/iruby:23:in `load'",
      "/usr/local/bin/iruby:23:in `<main>'"
     ]
    }
   ],
   "source": [
    "j = Person.new('john')\n",
    "p = Person.new('paul')\n",
    "g = Person.new('george')\n",
    "r = Person.new('ringo')\n",
    "j.has_friend(p)\n",
    "j.has_friend(g)\n",
    "g.has_friend(p)\n",
    "r.has_hobby('rings')\n",
    "\n",
    "Person.all_with_friends(p).each do |person|\n",
    "    puts \"#{person.name} is friends with #{p.name}\"\n",
    "end"
   ]
  },
  {
   "cell_type": "markdown",
   "metadata": {},
   "source": [
    "#### Class & module design/naming"
   ]
  },
  {
   "cell_type": "code",
   "execution_count": null,
   "metadata": {},
   "outputs": [
    {
     "ename": "TypeError",
     "evalue": "superclass mismatch for class CargoHold",
     "output_type": "error",
     "traceback": [
      "\u001b[31mTypeError\u001b[0m: superclass mismatch for class CargoHold",
      "(pry):1303:in `<main>'",
      "/usr/local/lib/ruby/gems/2.7.0/gems/pry-0.13.1/lib/pry/pry_instance.rb:290:in `eval'",
      "/usr/local/lib/ruby/gems/2.7.0/gems/pry-0.13.1/lib/pry/pry_instance.rb:290:in `evaluate_ruby'",
      "/usr/local/lib/ruby/gems/2.7.0/gems/pry-0.13.1/lib/pry/pry_instance.rb:659:in `handle_line'",
      "/usr/local/lib/ruby/gems/2.7.0/gems/pry-0.13.1/lib/pry/pry_instance.rb:261:in `block (2 levels) in eval'",
      "/usr/local/lib/ruby/gems/2.7.0/gems/pry-0.13.1/lib/pry/pry_instance.rb:260:in `catch'",
      "/usr/local/lib/ruby/gems/2.7.0/gems/pry-0.13.1/lib/pry/pry_instance.rb:260:in `block in eval'",
      "/usr/local/lib/ruby/gems/2.7.0/gems/pry-0.13.1/lib/pry/pry_instance.rb:259:in `catch'",
      "/usr/local/lib/ruby/gems/2.7.0/gems/pry-0.13.1/lib/pry/pry_instance.rb:259:in `eval'",
      "/home/bjpcjp/.gem/ruby/2.7.0/gems/iruby-0.4.0/lib/iruby/backend.rb:66:in `eval'",
      "/home/bjpcjp/.gem/ruby/2.7.0/gems/iruby-0.4.0/lib/iruby/backend.rb:12:in `eval'",
      "/home/bjpcjp/.gem/ruby/2.7.0/gems/iruby-0.4.0/lib/iruby/kernel.rb:90:in `execute_request'",
      "/home/bjpcjp/.gem/ruby/2.7.0/gems/iruby-0.4.0/lib/iruby/kernel.rb:49:in `dispatch'",
      "/home/bjpcjp/.gem/ruby/2.7.0/gems/iruby-0.4.0/lib/iruby/kernel.rb:38:in `run'",
      "/home/bjpcjp/.gem/ruby/2.7.0/gems/iruby-0.4.0/lib/iruby/command.rb:110:in `run_kernel'",
      "/home/bjpcjp/.gem/ruby/2.7.0/gems/iruby-0.4.0/lib/iruby/command.rb:40:in `run'",
      "/home/bjpcjp/.gem/ruby/2.7.0/gems/iruby-0.4.0/bin/iruby:5:in `<top (required)>'",
      "/usr/local/bin/iruby:23:in `load'",
      "/usr/local/bin/iruby:23:in `<main>'"
     ]
    }
   ],
   "source": [
    "# mixins and/or inheritance (4.4.1)\n",
    "class Stack\n",
    "    attr_reader :stack\n",
    "    def initialize\n",
    "        @stack=[]\n",
    "    end\n",
    "    def add(obj)\n",
    "        @stack.push(obj)\n",
    "    end\n",
    "    def take\n",
    "        @stack.pop\n",
    "    end\n",
    "end\n",
    "class Suitcase\n",
    "end\n",
    "\n",
    "# this implementation uses the one inheritance\n",
    "# opportunity available to CargoHold.\n",
    "class CargoHold<Stack\n",
    "    def load_and_report(obj)\n",
    "        puts \"loading #{obj.object_id}\"\n",
    "        add(obj)\n",
    "    end\n",
    "    def unload\n",
    "        take\n",
    "    end\n",
    "end"
   ]
  },
  {
   "cell_type": "code",
   "execution_count": 142,
   "metadata": {},
   "outputs": [
    {
     "data": {
      "text/plain": [
       "#<Tools::Hammer:0x000055e69398f560>"
      ]
     },
     "execution_count": 142,
     "metadata": {},
     "output_type": "execute_result"
    }
   ],
   "source": [
    "# nesting modules & classes (4.4.2)\n",
    "# use double-colon to create instance of Hammer\n",
    "#   inside of Tools.\n",
    "\n",
    "module Tools\n",
    "    class Hammer\n",
    "    end\n",
    "end\n",
    "h = Tools::Hammer.new\n",
    "\n",
    "# sometimes uses to create distinct namespaces for\n",
    "# classes, modules, methods."
   ]
  }
 ],
 "metadata": {
  "kernelspec": {
   "display_name": "Ruby 2.7.1",
   "language": "ruby",
   "name": "ruby"
  },
  "language_info": {
   "file_extension": ".rb",
   "mimetype": "application/x-ruby",
   "name": "ruby",
   "version": "2.7.1"
  }
 },
 "nbformat": 4,
 "nbformat_minor": 4
}
