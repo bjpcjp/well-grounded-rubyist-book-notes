{
 "cells": [
  {
   "cell_type": "markdown",
   "metadata": {},
   "source": [
    "## Bootstrapping (Chap 1)"
   ]
  },
  {
   "cell_type": "markdown",
   "metadata": {},
   "source": [
    "#### Basic literacy"
   ]
  },
  {
   "cell_type": "markdown",
   "metadata": {},
   "source": [
    "#### Installation (1.1.1)\n",
    "- compiling from source: [http://www.ruby-lang.org](http://www.ruby-lang.org)\n",
    "- version managers:\n",
    "    - [RVM](https://rvm.io)\n",
    "    - [rbenv](https://github.com/rbenv/rbenv)\n",
    "    - [chruby](https://github.com/postmodern/chruby)\n",
    "- Windows users: [Ruby installer](https://rubyinstaller.org/)"
   ]
  },
  {
   "cell_type": "markdown",
   "metadata": {},
   "source": [
    "#### identifiers (1.1.3)\n",
    "- variables (local, instance, class, global)\n",
    "- constants\n",
    "- keywords\n",
    "- method names"
   ]
  },
  {
   "cell_type": "markdown",
   "metadata": {},
   "source": [
    "![variables](px/Selection_152.png)"
   ]
  },
  {
   "cell_type": "markdown",
   "metadata": {},
   "source": [
    "#### method calls, messages, ruby objects (1.1.4)\n",
    "\n",
    "```x = \"100\".to_i``` means message \"to_i\" is sent to string \"100\" (the receiver)."
   ]
  },
  {
   "cell_type": "markdown",
   "metadata": {},
   "source": [
    "#### writing & saving a simple program (1.1.5)\n",
    "- (in this case, using Jupyter as a rich substitute for a terminal.)"
   ]
  },
  {
   "cell_type": "markdown",
   "metadata": {},
   "source": [
    "#### feeding a program to ruby (1.1.6)\n",
    "- ```ruby filename.rb``` command line launcher\n",
    "- ```ruby -c filename.rb``` checks for syntax errors\n",
    "- ```ruby -w filename.rb``` uses stricter warning level "
   ]
  },
  {
   "cell_type": "markdown",
   "metadata": {},
   "source": [
    "#### keyboard & file i/o (1.1.7)\n",
    "- ```puts``` = put string (to terminal)\n",
    "- ```gets``` = get string (from keyboard)\n",
    "- ```fh = File.new(\"temp.out\",\"w\")``` = create file handle\n",
    "- ```fh.puts \"hello world\"```"
   ]
  },
  {
   "cell_type": "markdown",
   "metadata": {},
   "source": [
    "#### Installation anatomy\n",
    "![key directories](px/Selection_153.png)"
   ]
  },
  {
   "cell_type": "code",
   "execution_count": 3,
   "metadata": {},
   "outputs": [
    {
     "name": "stdout",
     "output_type": "stream",
     "text": [
      "[[\"ALLOCA\", \"\"], [\"AR\", \"ar\"], [\"ARCHFILE\", \"\"], [\"ARCH_FLAG\", \"\"], [\"ARFLAGS\", \"rcD \"], [\"AS\", \"as\"], [\"ASFLAGS\", \"\"], [\"ASMEXT\", \"S\"], [\"BUILTIN_TRANSSRCS\", \" enc/trans/newline.c\"], [\"CC\", \"gcc\"], [\"CCDLFLAGS\", \"-fPIC\"], [\"CC_VERSION\", \"gcc --version\"], [\"CC_VERSION_MESSAGE\", \"gcc (Ubuntu 7.5.0-3ubuntu1~18.04) 7.5.0\\nCopyright (C) 2017 Free Software Foundation, Inc.\\nThis is free software; see the source for copying conditions.  There is NO\\nwarranty; not even for MERCHANTABILITY or FITNESS FOR A PARTICULAR PURPOSE.\"], [\"CC_WRAPPER\", \"\"], [\"CFLAGS\", \"-O3 -ggdb3 -Wall -Wextra -Wdeprecated-declarations -Wduplicated-cond -Wimplicit-function-declaration -Wimplicit-int -Wmisleading-indentation -Wpointer-arith -Wwrite-strings -Wimplicit-fallthrough=0 -Wmissing-noreturn -Wno-cast-function-type -Wno-constant-logical-operand -Wno-long-long -Wno-missing-field-initializers -Wno-overlength-strings -Wno-packed-bitfield-compat -Wno-parentheses-equality -Wno-self-assign -Wno-tautological-compare -Wno-unused-parameter -Wno-unused-value -Wsuggest-attribute=format -Wsuggest-attribute=noreturn -Wunused-variable\"], [\"CHDIR\", \"cd -P\"], [\"COMMON_HEADERS\", \"\"], [\"COMMON_LIBS\", \"\"], [\"COMMON_MACROS\", \"\"], [\"CONFIGURE\", \"configure\"], [\"COUTFLAG\", \"-o \"], [\"CP\", \"cp\"], [\"CPP\", \"gcc -E\"], [\"CPPFLAGS\", \"  \"], [\"CPPOUTFILE\", \"-o conftest.i\"], [\"CROSS_COMPILING\", \"no\"], [\"CSRCFLAG\", \"\"], [\"CXX\", \"g++\"], [\"CXXFLAGS\", \"-g -O2\"], [\"DEFS\", \"\"], [\"DESTDIR\", \"\"], [\"DLDFLAGS\", \"-Wl,--compress-debug-sections=zlib\"], [\"DLDLIBS\", \" -lc\"], [\"DLDSHARED\", \"gcc -shared\"], [\"DLEXT\", \"so\"], [\"DLEXT2\", \"\"], [\"DLLWRAP\", \"\"], [\"DLNOBJ\", \"dln.o\"], [\"DOT\", \"dot\"], [\"DOXYGEN\", \"\"], [\"ECHO_C\", \"\"], [\"ECHO_N\", \"-n\"], [\"ECHO_T\", \"\"], [\"EGREP\", \"/bin/grep -E\"], [\"ENABLE_DEBUG_ENV\", \"\"], [\"ENABLE_SHARED\", \"no\"], [\"ENCSTATIC\", \"\"], [\"EXECUTABLE_EXTS\", \"\"], [\"EXEEXT\", \"\"], [\"EXPORT_PREFIX\", \"\"], [\"EXTDLDFLAGS\", \"\"], [\"EXTLDFLAGS\", \"\"], [\"EXTOUT\", \".ext\"], [\"EXTSTATIC\", \"\"], [\"GCC\", \"yes\"], [\"GIT\", \"git\"], [\"GNU_LD\", \"yes\"], [\"GREP\", \"/bin/grep\"], [\"HAVE_GIT\", \"yes\"], [\"INSTALL\", \"/usr/bin/install -c\"], [\"INSTALL_DATA\", \"/usr/bin/install -c -m 644\"], [\"INSTALL_PROGRAM\", \"/usr/bin/install -c\"], [\"INSTALL_SCRIPT\", \"/usr/bin/install -c\"], [\"INSTALL_STATIC_LIBRARY\", \"yes\"], [\"LD\", \"ld\"], [\"LDFLAGS\", \"-L. -fstack-protector-strong -rdynamic -Wl,-export-dynamic\"], [\"LDSHARED\", \"gcc -shared\"], [\"LDSHAREDXX\", \"g++ -shared\"], [\"LIBEXT\", \"a\"], [\"LIBPATHENV\", \"LD_LIBRARY_PATH\"], [\"LIBPATHFLAG\", \" -L%1$-s\"], [\"LIBRUBY\", \"libruby-static.a\"], [\"LIBRUBYARG\", \"-Wl,-rpath,/usr/local/lib -L/usr/local/lib -lruby-static -lz -lpthread -lrt -lrt -lgmp -ldl -lcrypt -lm \"], [\"LIBRUBYARG_SHARED\", \"-Wl,-rpath,/usr/local/lib -L/usr/local/lib \"], [\"LIBRUBYARG_STATIC\", \"-Wl,-rpath,/usr/local/lib -L/usr/local/lib -lruby-static -lz -lpthread -lrt -lrt -lgmp -ldl -lcrypt -lm \"], [\"LIBRUBY_A\", \"libruby-static.a\"], [\"LIBRUBY_ALIASES\", \"libruby.so\"], [\"LIBRUBY_RELATIVE\", \"no\"], [\"LIBRUBY_SO\", \"libruby.so.2.7.1\"], [\"LIBRUBY_SONAME\", \"libruby.so.2.7\"], [\"LIBS\", \"-lm \"], [\"LINK_SO\", \"\"], [\"LN_S\", \"ln -s\"], [\"MAINLIBS\", \"-lz -lpthread -lrt -lrt -lgmp -ldl -lcrypt -lm \"], [\"MAJOR\", \"2\"], [\"MAKEDIRS\", \"/bin/mkdir -p\"], [\"MAKEFILES\", \"Makefile GNUmakefile\"], [\"MANTYPE\", \"doc\"], [\"MATHN\", \"yes\"], [\"MINOR\", \"7\"], [\"MJIT_CC\", \"/usr/bin/gcc\"], [\"MJIT_SUPPORT\", \"yes\"], [\"MKDIR_P\", \"/bin/mkdir -p\"], [\"NM\", \"nm\"], [\"NULLCMD\", \":\"], [\"OBJCOPY\", \":\"], [\"OBJDUMP\", \"objdump\"], [\"OBJEXT\", \"o\"], [\"OUTFLAG\", \"-o \"], [\"PACKAGE\", \"ruby\"], [\"PACKAGE_BUGREPORT\", \"\"], [\"PACKAGE_NAME\", \"\"], [\"PACKAGE_STRING\", \"\"], [\"PACKAGE_TARNAME\", \"\"], [\"PACKAGE_URL\", \"\"], [\"PACKAGE_VERSION\", \"\"], [\"PATCHLEVEL\", \"83\"], [\"PATH_SEPARATOR\", \":\"], [\"PKG_CONFIG\", \"pkg-config\"], [\"PLATFORM_DIR\", \"\"], [\"POSTLINK\", \":\"], [\"PRELOADENV\", \"LD_PRELOAD\"], [\"PREP\", \"miniruby\"], [\"RANLIB\", \"ranlib\"], [\"RI_BASE_NAME\", \"ri\"], [\"RM\", \"rm -f\"], [\"RMALL\", \"rm -fr\"], [\"RMDIR\", \"rmdir --ignore-fail-on-non-empty\"], [\"RMDIRS\", \"rmdir --ignore-fail-on-non-empty -p\"], [\"RPATHFLAG\", \" -Wl,-rpath,%1$-s\"], [\"RUBYW_BASE_NAME\", \"rubyw\"], [\"RUBYW_INSTALL_NAME\", \"\"], [\"RUBY_API_VERSION\", \"2.7\"], [\"RUBY_BASE_NAME\", \"ruby\"], [\"RUBY_EXEC_PREFIX\", \"/usr/local\"], [\"RUBY_INSTALL_NAME\", \"ruby\"], [\"RUBY_LIB_VERSION\", \"\"], [\"RUBY_LIB_VERSION_STYLE\", \"3\\t/* full */\"], [\"RUBY_PROGRAM_VERSION\", \"2.7.1\"], [\"RUBY_SEARCH_PATH\", \"\"], [\"RUBY_SO_NAME\", \"ruby\"], [\"RUBY_VERSION_NAME\", \"ruby-2.7.0\"], [\"SET_MAKE\", \"\"], [\"SHELL\", \"/bin/bash\"], [\"SOEXT\", \"so\"], [\"SOLIBS\", \"-lz -lpthread -lrt -lrt -lgmp -ldl -lcrypt -lm \"], [\"STATIC\", \"\"], [\"STRIP\", \"strip -S -x\"], [\"SYMBOL_PREFIX\", \"\"], [\"TEENY\", \"1\"], [\"TEST_RUNNABLE\", \"yes\"], [\"THREAD_MODEL\", \"pthread\"], [\"TRY_LINK\", \"\"], [\"UNICODE_EMOJI_VERSION\", \"12.1\"], [\"UNICODE_VERSION\", \"12.1.0\"], [\"UNIVERSAL_ARCHNAMES\", \"\"], [\"UNIVERSAL_INTS\", \"\"], [\"WERRORFLAG\", \"-Werror\"], [\"WINDRES\", \"\"], [\"arch\", \"x86_64-linux\"], [\"archdir\", \"/usr/local/lib/ruby/2.7.0/x86_64-linux\"], [\"archincludedir\", \"/usr/local/include/x86_64-linux\"], [\"archlibdir\", \"/usr/local/lib/x86_64-linux\"], [\"bindir\", \"/usr/local/bin\"], [\"build\", \"x86_64-pc-linux-gnu\"], [\"build_alias\", \"\"], [\"build_cpu\", \"x86_64\"], [\"build_os\", \"linux-gnu\"], [\"build_vendor\", \"pc\"], [\"cflags\", \"-O3 -ggdb3 -Wall -Wextra -Wdeprecated-declarations -Wduplicated-cond -Wimplicit-function-declaration -Wimplicit-int -Wmisleading-indentation -Wpointer-arith -Wwrite-strings -Wimplicit-fallthrough=0 -Wmissing-noreturn -Wno-cast-function-type -Wno-constant-logical-operand -Wno-long-long -Wno-missing-field-initializers -Wno-overlength-strings -Wno-packed-bitfield-compat -Wno-parentheses-equality -Wno-self-assign -Wno-tautological-compare -Wno-unused-parameter -Wno-unused-value -Wsuggest-attribute=format -Wsuggest-attribute=noreturn -Wunused-variable\"], [\"codesign\", \"\"], [\"configure_args\", \"\"], [\"cppflags\", \"\"], [\"cxxflags\", \"\"], [\"datadir\", \"/usr/local/share\"], [\"datarootdir\", \"/usr/local/share\"], [\"debugflags\", \"-ggdb3\"], [\"docdir\", \"/usr/local/share/doc/ruby\"], [\"dsymutil\", \"\"], [\"dvidir\", \"/usr/local/share/doc/ruby\"], [\"exec\", \"exec\"], [\"exec_prefix\", \"/usr/local\"], [\"host\", \"x86_64-pc-linux-gnu\"], [\"host_alias\", \"\"], [\"host_cpu\", \"x86_64\"], [\"host_os\", \"linux-gnu\"], [\"host_vendor\", \"pc\"], [\"htmldir\", \"/usr/local/share/doc/ruby\"], [\"includedir\", \"/usr/local/include\"], [\"infodir\", \"/usr/local/share/info\"], [\"libdir\", \"/usr/local/lib\"], [\"libdirname\", \"libdir\"], [\"libexecdir\", \"/usr/local/libexec\"], [\"localedir\", \"/usr/local/share/locale\"], [\"localstatedir\", \"/usr/local/var\"], [\"mandir\", \"/usr/local/share/man\"], [\"oldincludedir\", \"/usr/include\"], [\"optflags\", \"-O3\"], [\"pdfdir\", \"/usr/local/share/doc/ruby\"], [\"prefix\", \"/usr/local\"], [\"psdir\", \"/usr/local/share/doc/ruby\"], [\"ridir\", \"/usr/local/share/ri\"], [\"ruby_install_name\", \"ruby\"], [\"ruby_pc\", \"ruby-2.7.pc\"], [\"ruby_version\", \"2.7.0\"], [\"rubyarchdir\", \"/usr/local/lib/ruby/2.7.0/x86_64-linux\"], [\"rubyarchhdrdir\", \"/usr/local/include/ruby-2.7.0/x86_64-linux\"], [\"rubyarchprefix\", \"/usr/local/lib/ruby/x86_64-linux\"], [\"rubyhdrdir\", \"/usr/local/include/ruby-2.7.0\"], [\"rubylibdir\", \"/usr/local/lib/ruby/2.7.0\"], [\"rubylibprefix\", \"/usr/local/lib/ruby\"], [\"rubysitearchprefix\", \"/usr/local/lib/ruby/x86_64-linux\"], [\"rubyw_install_name\", \"\"], [\"runstatedir\", \"/usr/local/var/run\"], [\"sbindir\", \"/usr/local/sbin\"], [\"setup\", \"Setup\"], [\"sharedstatedir\", \"/usr/local/com\"], [\"sitearch\", \"x86_64-linux\"], [\"sitearchdir\", \"/usr/local/lib/ruby/site_ruby/2.7.0/x86_64-linux\"], [\"sitearchhdrdir\", \"/usr/local/include/ruby-2.7.0/site_ruby/x86_64-linux\"], [\"sitearchincludedir\", \"/usr/local/include/x86_64-linux\"], [\"sitearchlibdir\", \"/usr/local/lib/x86_64-linux\"], [\"sitedir\", \"/usr/local/lib/ruby/site_ruby\"], [\"sitehdrdir\", \"/usr/local/include/ruby-2.7.0/site_ruby\"], [\"sitelibdir\", \"/usr/local/lib/ruby/site_ruby/2.7.0\"], [\"strict_warnflags\", \"-std=gnu99\"], [\"sysconfdir\", \"/usr/local/etc\"], [\"target\", \"x86_64-pc-linux-gnu\"], [\"target_alias\", \"\"], [\"target_cpu\", \"x86_64\"], [\"target_os\", \"linux\"], [\"target_vendor\", \"pc\"], [\"topdir\", \"/usr/local/lib/ruby/2.7.0/x86_64-linux\"], [\"try_header\", \"\"], [\"vendorarchdir\", \"/usr/local/lib/ruby/vendor_ruby/2.7.0/x86_64-linux\"], [\"vendorarchhdrdir\", \"/usr/local/include/ruby-2.7.0/vendor_ruby/x86_64-linux\"], [\"vendordir\", \"/usr/local/lib/ruby/vendor_ruby\"], [\"vendorhdrdir\", \"/usr/local/include/ruby-2.7.0/vendor_ruby\"], [\"vendorlibdir\", \"/usr/local/lib/ruby/vendor_ruby/2.7.0\"], [\"warnflags\", \"-Wall -Wextra -Wdeprecated-declarations -Wduplicated-cond -Wimplicit-function-declaration -Wimplicit-int -Wmisleading-indentation -Wpointer-arith -Wwrite-strings -Wimplicit-fallthrough=0 -Wmissing-noreturn -Wno-cast-function-type -Wno-constant-logical-operand -Wno-long-long -Wno-missing-field-initializers -Wno-overlength-strings -Wno-packed-bitfield-compat -Wno-parentheses-equality -Wno-self-assign -Wno-tautological-compare -Wno-unused-parameter -Wno-unused-value -Wsuggest-attribute=format -Wsuggest-attribute=noreturn -Wunused-variable\"]]\n"
     ]
    }
   ],
   "source": [
    "require 'pp'\n",
    "puts (RbConfig::CONFIG.sort)"
   ]
  },
  {
   "cell_type": "code",
   "execution_count": 27,
   "metadata": {},
   "outputs": [
    {
     "name": "stdout",
     "output_type": "stream",
     "text": []
    },
    {
     "name": "stdout",
     "output_type": "stream",
     "text": [
      "\"/usr/local/lib/ruby/2.7.0\"\n",
      "abbrev.rb\n",
      "base64.rb\n",
      "benchmark\n",
      "benchmark.rb\n",
      "bigdecimal\n",
      "bigdecimal.rb\n",
      "bundler\n",
      "bundler.rb\n",
      "cgi\n",
      "cgi.rb\n",
      "coverage.rb\n",
      "csv\n",
      "csv.rb\n",
      "date.rb\n",
      "debug.rb\n",
      "delegate\n",
      "delegate.rb\n",
      "did_you_mean\n",
      "did_you_mean.rb\n",
      "digest\n",
      "digest.rb\n",
      "drb\n",
      "drb.rb\n",
      "English.rb\n",
      "erb.rb\n",
      "expect.rb\n",
      "fiddle\n",
      "fiddle.rb\n",
      "fileutils.rb\n",
      "find.rb\n",
      "forwardable\n",
      "forwardable.rb\n",
      "getoptlong\n",
      "getoptlong.rb\n",
      "io\n",
      "ipaddr.rb\n",
      "irb\n",
      "irb.rb\n",
      "json\n",
      "json.rb\n",
      "kconv.rb\n",
      "logger\n",
      "logger.rb\n",
      "matrix\n",
      "matrix.rb\n",
      "mkmf.rb\n",
      "monitor.rb\n",
      "mutex_m.rb\n",
      "net\n",
      "observer\n",
      "observer.rb\n",
      "open3\n",
      "open3.rb\n",
      "openssl\n",
      "openssl.rb\n",
      "open-uri.rb\n",
      "optionparser.rb\n",
      "optparse\n",
      "optparse.rb\n",
      "ostruct\n",
      "ostruct.rb\n",
      "pathname.rb\n",
      "pp.rb\n",
      "prettyprint.rb\n",
      "prime.rb\n",
      "pstore\n",
      "pstore.rb\n",
      "psych\n",
      "psych.rb\n",
      "racc\n",
      "racc.rb\n",
      "rdoc\n",
      "rdoc.rb\n",
      "readline.rb\n",
      "reline\n",
      "reline.rb\n",
      "resolv.rb\n",
      "resolv-replace.rb\n",
      "rexml\n",
      "rinda\n",
      "ripper\n",
      "ripper.rb\n",
      "rss\n",
      "rss.rb\n",
      "rubygems\n",
      "rubygems.rb\n",
      "securerandom.rb\n",
      "set.rb\n",
      "shellwords.rb\n",
      "singleton\n",
      "singleton.rb\n",
      "socket.rb\n",
      "syslog\n",
      "tempfile.rb\n",
      "timeout\n",
      "timeout.rb\n",
      "time.rb\n",
      "tmpdir.rb\n",
      "tracer\n",
      "tracer.rb\n",
      "tsort.rb\n",
      "unicode_normalize\n",
      "un.rb\n",
      "uri\n",
      "uri.rb\n",
      "weakref.rb\n",
      "webrick\n",
      "webrick.rb\n",
      "x86_64-linux\n",
      "yaml\n",
      "yaml.rb\n",
      "\n"
     ]
    }
   ],
   "source": [
    "# ruby standard library (RbConfig::CONFIG[\"rubylibdir\"]) (1.2.1)\n",
    "# example key files:\n",
    "# - uri.rb (uniform URI handling)\n",
    "# - fileutils.rb (file handling)\n",
    "# - tempfile.rb (auto-creation of temp files)\n",
    "# - benchmark.rb (measures system performance)\n",
    "rubylibdir = RbConfig::CONFIG[\"rubylibdir\"]\n",
    "PP.pp(rubylibdir)\n",
    "\n",
    "puts `ls /usr/local/lib/ruby/2.7.0`"
   ]
  },
  {
   "cell_type": "code",
   "execution_count": 28,
   "metadata": {},
   "outputs": [
    {
     "name": "stdout",
     "output_type": "stream",
     "text": []
    },
    {
     "name": "stdout",
     "output_type": "stream",
     "text": [
      "\"/usr/local/lib/ruby/2.7.0/x86_64-linux\"\n",
      "bigdecimal.so\n",
      "cgi\n",
      "continuation.so\n",
      "coverage.so\n",
      "date_core.so\n",
      "digest\n",
      "digest.so\n",
      "enc\n",
      "etc.so\n",
      "fcntl.so\n",
      "fiber.so\n",
      "fiddle.so\n",
      "gdbm.so\n",
      "io\n",
      "json\n",
      "monitor.so\n",
      "nkf.so\n",
      "objspace.so\n",
      "openssl.so\n",
      "pathname.so\n",
      "psych.so\n",
      "pty.so\n",
      "racc\n",
      "rbconfig\n",
      "rbconfig.rb\n",
      "readline.so\n",
      "ripper.so\n",
      "sdbm.so\n",
      "socket.so\n",
      "stringio.so\n",
      "strscan.so\n",
      "syslog.so\n",
      "zlib.so\n",
      "\n"
     ]
    }
   ],
   "source": [
    "# C extensions (RbConfig::CONFIG[\"archdir\"]) (1.2.2)\n",
    "PP.pp(RbConfig::CONFIG[\"archdir\"])\n",
    "\n",
    "puts `ls /usr/local/lib/ruby/2.7.0/x86_64-linux`"
   ]
  },
  {
   "cell_type": "code",
   "execution_count": 15,
   "metadata": {},
   "outputs": [
    {
     "name": "stdout",
     "output_type": "stream",
     "text": []
    },
    {
     "name": "stdout",
     "output_type": "stream",
     "text": [
      "\"/usr/local/lib/ruby/site_ruby\"\n",
      "\"/usr/local/lib/ruby/vendor_ruby\"\n"
     ]
    }
   ],
   "source": [
    "# extensions & libraries (RbConfig::CONFIG[\"sitedir\"])\n",
    "# 3rd party extensions   (RbConfig::CONFIG[\"vendirdir\"])\n",
    "\n",
    "PP.pp(RbConfig::CONFIG[\"sitedir\"])\n",
    "\n",
    "# site directory contents:\n",
    "# /bundler, bundler.rb\n",
    "# /rubygems, rubygems.rb\n",
    "# /x86_64-linux\n",
    "\n",
    "PP.pp(RbConfig::CONFIG[\"vendordir\"])\n",
    "\n",
    "# currently empty"
   ]
  },
  {
   "cell_type": "code",
   "execution_count": 26,
   "metadata": {},
   "outputs": [
    {
     "name": "stdout",
     "output_type": "stream",
     "text": [
      "available_set.rb\n",
      "basic_specification.rb\n",
      "bundler_version_finder.rb\n",
      "command_manager.rb\n",
      "command.rb\n",
      "commands\n",
      "compatibility.rb\n",
      "config_file.rb\n",
      "core_ext\n",
      "defaults.rb\n",
      "dependency_installer.rb\n",
      "dependency_list.rb\n",
      "dependency.rb\n",
      "deprecate.rb\n",
      "doctor.rb\n",
      "errors.rb\n",
      "exceptions.rb\n",
      "ext\n",
      "ext.rb\n",
      "gemcutter_utilities.rb\n",
      "gem_runner.rb\n",
      "indexer.rb\n",
      "install_default_message.rb\n",
      "installer.rb\n",
      "installer_test_case.rb\n",
      "install_message.rb\n",
      "install_update_options.rb\n",
      "local_remote_options.rb\n",
      "mock_gem_ui.rb\n",
      "name_tuple.rb\n",
      "package\n",
      "package.rb\n",
      "package_task.rb\n",
      "path_support.rb\n",
      "platform.rb\n",
      "psych_additions.rb\n",
      "psych_tree.rb\n",
      "rdoc.rb\n",
      "remote_fetcher.rb\n",
      "request\n",
      "request.rb\n",
      "request_set\n",
      "request_set.rb\n",
      "requirement.rb\n",
      "resolver\n",
      "resolver.rb\n",
      "s3_uri_signer.rb\n",
      "safe_yaml.rb\n",
      "security\n",
      "security_option.rb\n",
      "security.rb\n",
      "server.rb\n",
      "source\n",
      "source_list.rb\n",
      "source_local.rb\n",
      "source.rb\n",
      "source_specific_file.rb\n",
      "spec_fetcher.rb\n",
      "specification_policy.rb\n",
      "specification.rb\n",
      "ssl_certs\n",
      "stub_specification.rb\n",
      "syck_hack.rb\n",
      "test_case.rb\n",
      "test_utilities.rb\n",
      "text.rb\n",
      "uninstaller.rb\n",
      "uri_formatter.rb\n",
      "uri_parser.rb\n",
      "uri_parsing.rb\n",
      "user_interaction.rb\n",
      "util\n",
      "util.rb\n",
      "validator.rb\n",
      "version_option.rb\n",
      "version.rb\n",
      "\n"
     ]
    }
   ],
   "source": [
    "puts ` ls /usr/local/lib/ruby/site_ruby/2.7.0/rubygems`"
   ]
  },
  {
   "cell_type": "markdown",
   "metadata": {},
   "source": [
    "#### Extensions & libraries\n",
    "- key methods: ```require``` and ```load```. \n",
    "- they allow you to load extensions at runtime."
   ]
  },
  {
   "cell_type": "code",
   "execution_count": 16,
   "metadata": {},
   "outputs": [
    {
     "name": "stdout",
     "output_type": "stream",
     "text": []
    },
    {
     "name": "stdout",
     "output_type": "stream",
     "text": [
      "[\"/home/bjpcjp/.gem/ruby/2.7.0/gems/iruby-0.4.0/lib\",\n",
      " \"/home/bjpcjp/.gem/ruby/2.7.0/gems/bond-0.5.1/lib\",\n",
      " \"/home/bjpcjp/.gem/ruby/2.7.0/extensions/x86_64-linux/2.7.0-static/bond-0.5.1\",\n",
      " \"/home/bjpcjp/.gem/ruby/2.7.0/gems/multi_json-1.14.1/lib\",\n",
      " \"/usr/local/lib/ruby/gems/2.7.0/gems/mimemagic-0.3.5/lib\",\n",
      " \"/home/bjpcjp/.gem/ruby/2.7.0/gems/data_uri-0.1.0/lib\",\n",
      " \"/home/bjpcjp/.gem/ruby/2.7.0/gems/iruby-0.4.0/lib\",\n",
      " \"/home/bjpcjp/.gem/ruby/2.7.0/gems/czmq-ffi-gen-0.16.1/lib\",\n",
      " \"/home/bjpcjp/.gem/ruby/2.7.0/gems/cztop-0.14.1/lib\",\n",
      " \"/usr/local/lib/ruby/gems/2.7.0/gems/ffi-1.13.1/lib\",\n",
      " \"/usr/local/lib/ruby/gems/2.7.0/extensions/x86_64-linux/2.7.0-static/ffi-1.13.1\",\n",
      " \"/usr/local/lib/ruby/gems/2.7.0/gems/coderay-1.1.2/lib\",\n",
      " \"/usr/local/lib/ruby/gems/2.7.0/gems/method_source-1.0.0/lib\",\n",
      " \"/usr/local/lib/ruby/gems/2.7.0/gems/pry-0.13.1/lib\",\n",
      " \"/usr/local/lib/ruby/site_ruby/2.7.0\",\n",
      " \"/usr/local/lib/ruby/site_ruby/2.7.0/x86_64-linux\",\n",
      " \"/usr/local/lib/ruby/site_ruby\",\n",
      " \"/usr/local/lib/ruby/vendor_ruby/2.7.0\",\n",
      " \"/usr/local/lib/ruby/vendor_ruby/2.7.0/x86_64-linux\",\n",
      " \"/usr/local/lib/ruby/vendor_ruby\",\n",
      " \"/usr/local/lib/ruby/2.7.0\",\n",
      " \"/usr/local/lib/ruby/2.7.0/x86_64-linux\"]\n"
     ]
    }
   ],
   "source": [
    "# loading a file - default load path (1.3.2)\n",
    "PP.pp($:)"
   ]
  },
  {
   "cell_type": "markdown",
   "metadata": {},
   "source": [
    "#### requiring a file\n",
    "- require, if called more than once, doesn't reload files.\n",
    "- more abstract than \"load\"; you are requiring a 'feature', not a file.\n",
    "- this allows you to treat C extensions the same way as Ruby extensions."
   ]
  },
  {
   "cell_type": "markdown",
   "metadata": {},
   "source": [
    "#### require_relative\n",
    "- loads features by searching directory of the calling file."
   ]
  },
  {
   "cell_type": "markdown",
   "metadata": {},
   "source": [
    "#### Out-of-the-box tools\n",
    "- _ruby_ - interpreter\n",
    "- _irb_ - interactive interpreter\n",
    "- _rdoc_, _ri_ - documentation\n",
    "- _rake_ - task manager\n",
    "- _gem_ - package manager\n",
    "- _erb_ - templating\n",
    "\n",
    "- command line switches:\n",
    "![part1](px/Selection_155.png)\n",
    "![part2](px/Selection_156.png)"
   ]
  },
  {
   "cell_type": "code",
   "execution_count": 24,
   "metadata": {},
   "outputs": [],
   "source": [
    "# irb interactive interpreter (1.4.2) - USING RUBY KERNEL IN JUPYTER INSTEAD"
   ]
  },
  {
   "cell_type": "code",
   "execution_count": 22,
   "metadata": {},
   "outputs": [
    {
     "name": "stdout",
     "output_type": "stream",
     "text": [
      "rake [-f rakefile] {options} targets...\n",
      "\n",
      "Options are ...\n",
      "        --backtrace=[OUT]            Enable full backtrace.  OUT can be stderr (default) or stdout.\n",
      "        --comments                   Show commented tasks only\n",
      "        --job-stats [LEVEL]          Display job statistics. LEVEL=history displays a complete job list\n",
      "        --rules                      Trace the rules resolution.\n",
      "        --suppress-backtrace PATTERN Suppress backtrace lines matching regexp PATTERN. Ignored if --trace is on.\n",
      "    -A, --all                        Show all tasks, even uncommented ones (in combination with -T or -D)\n",
      "    -B, --build-all                  Build all prerequisites, including those which are up-to-date.\n",
      "    -D, --describe [PATTERN]         Describe the tasks (matching optional PATTERN), then exit.\n",
      "    -e, --execute CODE               Execute some Ruby code and exit.\n",
      "    -E, --execute-continue CODE      Execute some Ruby code, then continue with normal task processing.\n",
      "    -f, --rakefile [FILENAME]        Use FILENAME as the rakefile to search for.\n",
      "    -G, --no-system, --nosystem      Use standard project Rakefile search paths, ignore system wide rakefiles.\n",
      "    -g, --system                     Using system wide (global) rakefiles (usually '~/.rake/*.rake').\n",
      "    -I, --libdir LIBDIR              Include LIBDIR in the search path for required modules.\n",
      "    -j, --jobs [NUMBER]              Specifies the maximum number of tasks to execute in parallel. (default is number of CPU cores + 4)\n",
      "    -m, --multitask                  Treat all tasks as multitasks.\n",
      "    -n, --dry-run                    Do a dry run without executing actions.\n",
      "    -N, --no-search, --nosearch      Do not search parent directories for the Rakefile.\n",
      "    -P, --prereqs                    Display the tasks and dependencies, then exit.\n",
      "    -p, --execute-print CODE         Execute some Ruby code, print the result, then exit.\n",
      "    -q, --quiet                      Do not log messages to standard output.\n",
      "    -r, --require MODULE             Require MODULE before executing rakefile.\n",
      "    -R, --rakelibdir RAKELIBDIR,     Auto-import any .rake files in RAKELIBDIR. (default is 'rakelib')\n",
      "        --rakelib\n",
      "    -s, --silent                     Like --quiet, but also suppresses the 'in directory' announcement.\n",
      "    -t, --trace=[OUT]                Turn on invoke/execute tracing, enable full backtrace. OUT can be stderr (default) or stdout.\n",
      "    -T, --tasks [PATTERN]            Display the tasks (matching optional PATTERN) with descriptions, then exit. -AT combination displays all of tasks contained no description.\n",
      "    -v, --verbose                    Log message to standard output.\n",
      "    -V, --version                    Display the program version.\n",
      "    -W, --where [PATTERN]            Describe the tasks (matching optional PATTERN), then exit.\n",
      "    -X, --no-deprecation-warnings    Disable the deprecation warnings.\n",
      "    -h, -H, --help                   Display this help message.\n",
      "\n"
     ]
    }
   ],
   "source": [
    "# rake makefile manager (1.4.3)\n",
    "puts `rake -h`"
   ]
  },
  {
   "cell_type": "code",
   "execution_count": 23,
   "metadata": {},
   "outputs": [
    {
     "name": "stdout",
     "output_type": "stream",
     "text": [
      "RubyGems is a sophisticated package manager for Ruby.  This is a\n",
      "basic help message containing pointers to more information.\n",
      "\n",
      "  Usage:\n",
      "    gem -h/--help\n",
      "    gem -v/--version\n",
      "    gem command [arguments...] [options...]\n",
      "\n",
      "  Examples:\n",
      "    gem install rake\n",
      "    gem list --local\n",
      "    gem build package.gemspec\n",
      "    gem help install\n",
      "\n",
      "  Further help:\n",
      "    gem help commands            list all 'gem' commands\n",
      "    gem help examples            show some examples of usage\n",
      "    gem help gem_dependencies    gem dependencies file guide\n",
      "    gem help platforms           gem platforms guide\n",
      "    gem help <COMMAND>           show help on COMMAND\n",
      "                                   (e.g. 'gem help install')\n",
      "    gem server                   present a web page at\n",
      "                                 http://localhost:8808/\n",
      "                                 with info about installed gems\n",
      "  Further information:\n",
      "    http://guides.rubygems.org\n",
      "\n"
     ]
    }
   ],
   "source": [
    "# gem package manager (1.4.4)\n",
    "puts `gem -h`"
   ]
  }
 ],
 "metadata": {
  "kernelspec": {
   "display_name": "Ruby 2.7.1",
   "language": "ruby",
   "name": "ruby"
  },
  "language_info": {
   "file_extension": ".rb",
   "mimetype": "application/x-ruby",
   "name": "ruby",
   "version": "2.7.1"
  }
 },
 "nbformat": 4,
 "nbformat_minor": 4
}
