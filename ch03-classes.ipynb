{
 "cells": [
  {
   "cell_type": "markdown",
   "metadata": {},
   "source": [
    "## Classes (Chap 3)"
   ]
  },
  {
   "cell_type": "markdown",
   "metadata": {},
   "source": [
    "#### Classes & instances"
   ]
  },
  {
   "cell_type": "code",
   "execution_count": 46,
   "metadata": {},
   "outputs": [
    {
     "name": "stdout",
     "output_type": "stream",
     "text": [
      "no details yet.\n"
     ]
    }
   ],
   "source": [
    "class Ticket\n",
    "    def event\n",
    "        \"no details yet.\"\n",
    "    end\n",
    "end\n",
    "ticket = Ticket.new; puts ticket.event"
   ]
  },
  {
   "cell_type": "code",
   "execution_count": 47,
   "metadata": {},
   "outputs": [],
   "source": [
    "# instance methods (3.1.1)\n",
    "# \"def event\" = method shared by all tickets \n",
    "#             = an \"instance method\".\n",
    "# \"def ticket.price = methods that you define \n",
    "#                     for one specific object\n",
    "#                   = a \"singleton\" method."
   ]
  },
  {
   "cell_type": "code",
   "execution_count": 48,
   "metadata": {},
   "outputs": [
    {
     "name": "stdout",
     "output_type": "stream",
     "text": [
      "2nd def\n"
     ]
    }
   ],
   "source": [
    "# overriding methods (3.1.2)\n",
    "class C\n",
    "    def m\n",
    "        puts \"1st def\"\n",
    "    end\n",
    "    def m\n",
    "        puts \"2nd def\"\n",
    "    end\n",
    "end\n",
    "C.new.m"
   ]
  },
  {
   "cell_type": "code",
   "execution_count": 49,
   "metadata": {},
   "outputs": [
    {
     "name": "stdout",
     "output_type": "stream",
     "text": [
      "x is defined.\n",
      "y is defined.\n"
     ]
    }
   ],
   "source": [
    "# reopening classes (3.1.3)\n",
    "# often used when spreading class definitions\n",
    "#   across multiple files.\n",
    "class C\n",
    "    def x\n",
    "        puts \"x is defined.\"\n",
    "    end\n",
    "end\n",
    "class C\n",
    "    def y\n",
    "        puts \"y is defined.\"\n",
    "    end\n",
    "end\n",
    "C.new.x; C.new.y"
   ]
  },
  {
   "cell_type": "code",
   "execution_count": 51,
   "metadata": {},
   "outputs": [
    {
     "name": "stdout",
     "output_type": "stream",
     "text": [
      "2020-09-05 10:21:34 -0500\n"
     ]
    },
    {
     "data": {
      "text/plain": [
       "\"2020-09-05T10:21:34-05:00\""
      ]
     },
     "execution_count": 51,
     "metadata": {},
     "output_type": "execute_result"
    }
   ],
   "source": [
    "t = Time.new; puts t\n",
    "\n",
    "begin\n",
    "    t.xmlschema\n",
    "rescue\n",
    "    require 'time'; t.xmlschema\n",
    "end"
   ]
  },
  {
   "cell_type": "markdown",
   "metadata": {},
   "source": [
    "#### Instance variables & object state"
   ]
  },
  {
   "cell_type": "code",
   "execution_count": 52,
   "metadata": {},
   "outputs": [
    {
     "name": "stdout",
     "output_type": "stream",
     "text": [
      "dave\n"
     ]
    }
   ],
   "source": [
    "class Person\n",
    "    def set_name(s)\n",
    "        @name = s\n",
    "    end\n",
    "    def get_name\n",
    "        @name\n",
    "    end\n",
    "end\n",
    "joe = Person.new\n",
    "joe.set_name(\"dave\")\n",
    "puts joe.get_name"
   ]
  },
  {
   "cell_type": "code",
   "execution_count": 56,
   "metadata": {},
   "outputs": [
    {
     "name": "stdout",
     "output_type": "stream",
     "text": [
      "new ticket.\n",
      "new ticket.\n"
     ]
    },
    {
     "data": {
      "text/plain": [
       "#<Ticket:0x000055e69386f040 @venue=\"there\", @date=\"2020-10-01\">"
      ]
     },
     "execution_count": 56,
     "metadata": {},
     "output_type": "execute_result"
    }
   ],
   "source": [
    "# initializing an object with state (3.2.1)\n",
    "class Ticket\n",
    "    def initialize(venue,date)\n",
    "        puts \"new ticket.\"\n",
    "        @venue, @date = venue, date\n",
    "    end\n",
    "    def venue \n",
    "        @venue \n",
    "    end\n",
    "    def date  \n",
    "        @date  \n",
    "    end\n",
    "end\n",
    "t1 = Ticket.new('here', \"2020-09-01\")\n",
    "t2 = Ticket.new('there', \"2020-10-01\")"
   ]
  },
  {
   "cell_type": "markdown",
   "metadata": {},
   "source": [
    "#### Setters"
   ]
  },
  {
   "cell_type": "code",
   "execution_count": 59,
   "metadata": {},
   "outputs": [
    {
     "name": "stdout",
     "output_type": "stream",
     "text": [
      "here\n",
      "2020-09-01\n",
      "63.0\n"
     ]
    }
   ],
   "source": [
    "# Equal signs (\"=\") in method names (3.3.1)\n",
    "class Ticket\n",
    "    def initialize(venue,date)\n",
    "        @venue, @date = venue, date\n",
    "    end\n",
    "    def price\n",
    "        @price\n",
    "    end\n",
    "    def price=(amount)\n",
    "        @price = amount\n",
    "    end\n",
    "end\n",
    "t = Ticket.new('here',\"2020-09-01\")\n",
    "t.price=(63.00)\n",
    "\n",
    "puts t.venue, t.date, t.price"
   ]
  },
  {
   "cell_type": "code",
   "execution_count": 60,
   "metadata": {},
   "outputs": [
    {
     "name": "stdout",
     "output_type": "stream",
     "text": [
      "here\n",
      "2020-09-01\n",
      "75.0\n"
     ]
    }
   ],
   "source": [
    "# Syntactic sugar for assignment methods (3.3.2)\n",
    "t.price = 75.00\n",
    "puts t.venue, t.date, t.price"
   ]
  },
  {
   "cell_type": "code",
   "execution_count": 66,
   "metadata": {},
   "outputs": [
    {
     "data": {
      "text/plain": [
       "2050"
      ]
     },
     "execution_count": 66,
     "metadata": {},
     "output_type": "execute_result"
    }
   ],
   "source": [
    "# setter methods, advanced (3.3.3)\n",
    "class TravelAgentSession\n",
    "    def year=(y)\n",
    "        @year = y.to_i\n",
    "        if @year < 100\n",
    "            @year = @year + 2000 # handling 2 digits\n",
    "        end\n",
    "    end\n",
    "    def year\n",
    "        @year\n",
    "    end\n",
    "end\n",
    "tas = TravelAgentSession.new; tas.year = 50\n",
    "tas.year"
   ]
  },
  {
   "cell_type": "markdown",
   "metadata": {},
   "source": [
    "#### Attributes"
   ]
  },
  {
   "cell_type": "code",
   "execution_count": 69,
   "metadata": {},
   "outputs": [
    {
     "data": {
      "text/plain": [
       "\"here\""
      ]
     },
     "execution_count": 69,
     "metadata": {},
     "output_type": "execute_result"
    }
   ],
   "source": [
    "# automatic attribute creation (3.4.1)\n",
    "class Ticket\n",
    "    attr_reader :venue, :date, :price # ok to read\n",
    "    attr_writer :price                # ok to write\n",
    "    attr_accessor :other              # ok to r/w\n",
    "    def initialize(venue,date)\n",
    "        @venue, @date = venue, date\n",
    "    end\n",
    "end\n",
    "t = Ticket.new('here','2020-09-01')\n",
    "t.venue"
   ]
  },
  {
   "cell_type": "markdown",
   "metadata": {},
   "source": [
    "#### Inheritance"
   ]
  },
  {
   "cell_type": "code",
   "execution_count": 72,
   "metadata": {},
   "outputs": [
    {
     "name": "stdout",
     "output_type": "stream",
     "text": [
      "joe publish; joe edit\n"
     ]
    }
   ],
   "source": [
    "# \"<\": Magazine is a subclass of Publication\n",
    "\n",
    "class Publication\n",
    "    attr_accessor :publisher\n",
    "end\n",
    "class Magazine < Publication\n",
    "    attr_accessor :editor\n",
    "end\n",
    "mag = Magazine.new\n",
    "mag.publisher = \"joe publish\"\n",
    "mag.editor    = \"joe edit\"\n",
    "puts \"#{mag.publisher}; #{mag.editor}\""
   ]
  },
  {
   "cell_type": "code",
   "execution_count": null,
   "metadata": {},
   "outputs": [],
   "source": [
    "# single inheritance (3.5.1)\n",
    "# - some languages allow inheritance from >1 classes\n",
    "# - ruby doesn't allow this - use MODULES instead.\n",
    "# - see chapter 4."
   ]
  },
  {
   "cell_type": "code",
   "execution_count": 74,
   "metadata": {},
   "outputs": [
    {
     "name": "stdout",
     "output_type": "stream",
     "text": [
      "C\n",
      "Object\n"
     ]
    }
   ],
   "source": [
    "# object ancestry (3.5.2)\n",
    "class C\n",
    "end\n",
    "class D<C\n",
    "end\n",
    "puts D.superclass; puts D.superclass.superclass"
   ]
  },
  {
   "cell_type": "code",
   "execution_count": 77,
   "metadata": {},
   "outputs": [
    {
     "name": "stdout",
     "output_type": "stream",
     "text": [
      "BasicObject has very few methods.\n"
     ]
    }
   ],
   "source": [
    "# BasicObject (3.5.3)\n",
    "begin\n",
    "    BasicObject.new.methods\n",
    "rescue\n",
    "    puts \"BasicObject has very few methods.\"\n",
    "end"
   ]
  },
  {
   "cell_type": "markdown",
   "metadata": {},
   "source": [
    "#### Classes as objects and message receivers\n",
    "- classes can spawn new object instances.\n",
    "- classes can be created in multiple ways.\n",
    "- Class & Object are both classes, and both objects."
   ]
  },
  {
   "cell_type": "code",
   "execution_count": 78,
   "metadata": {},
   "outputs": [
    {
     "data": {
      "text/plain": [
       "#<#<Class:0x000055e6938aa5f0>:0x000055e6938aa5a0>"
      ]
     },
     "execution_count": 78,
     "metadata": {},
     "output_type": "execute_result"
    }
   ],
   "source": [
    "# creating class objects - 2 methods (3.6.1)\n",
    "class Ticket\n",
    "    # stuff\n",
    "end\n",
    "\n",
    "myClass = Class.new\n",
    "instance_of_myClass = myClass.new"
   ]
  },
  {
   "cell_type": "code",
   "execution_count": 83,
   "metadata": {},
   "outputs": [],
   "source": [
    "# how class objects call methods (3.6.2)\n",
    "# - from their class\n",
    "# - from their superclass\n",
    "# - from their own set of singleton methods"
   ]
  },
  {
   "cell_type": "code",
   "execution_count": 81,
   "metadata": {},
   "outputs": [
    {
     "name": "stdout",
     "output_type": "stream",
     "text": [
      "[\"A\", \"B\", \"C\"]\n",
      "over there\n"
     ]
    }
   ],
   "source": [
    "# singleton methods (3.6.3)\n",
    "def Ticket.most_expensive(*tickets)\n",
    "    tickets.max_by(&:price)\n",
    "end\n",
    "#\n",
    "# &: = ruby shorthand for iterating over tickets array\n",
    "#\n",
    "puts [\"a\",\"b\",\"c\"].map(&:capitalize)\n",
    "\n",
    "t1 = Ticket.new('here','2020-09-01')\n",
    "t2 = Ticket.new('there','2020-08-01')\n",
    "t3 = Ticket.new('over there','2020-07-01')\n",
    "\n",
    "t1.price, t2.price, t3.price = 25.0, 50.0, 75.0\n",
    "\n",
    "puts Ticket.most_expensive(t1,t2,t3).venue"
   ]
  },
  {
   "cell_type": "code",
   "execution_count": 82,
   "metadata": {},
   "outputs": [],
   "source": [
    "# when/why to write a class method (3.6.4)\n",
    "# - when you need a method to execute on a collection\n",
    "#     of tickets."
   ]
  },
  {
   "cell_type": "code",
   "execution_count": 84,
   "metadata": {},
   "outputs": [
    {
     "data": {
      "text/plain": [
       "\"doesn't work on instances.\""
      ]
     },
     "execution_count": 84,
     "metadata": {},
     "output_type": "execute_result"
    }
   ],
   "source": [
    "# class methods vs instance methods (3.6.5)\n",
    "begin\n",
    "    wrong = t1.most_expensive\n",
    "rescue\n",
    "    \"doesn't work on instances.\"\n",
    "end"
   ]
  },
  {
   "cell_type": "markdown",
   "metadata": {},
   "source": [
    "#### Constants\n",
    "- begin with capital letter"
   ]
  },
  {
   "cell_type": "code",
   "execution_count": 88,
   "metadata": {},
   "outputs": [
    {
     "name": "stdout",
     "output_type": "stream",
     "text": [
      "[\"premium\", \"midrange\", \"cheap\"]\n"
     ]
    }
   ],
   "source": [
    "# basics (3.7.1)\n",
    "class Ticket\n",
    "    SEATING = ['premium','midrange','cheap']\n",
    "end\n",
    "\n",
    "# accessing class constants from outside the def\n",
    "puts Ticket::SEATING"
   ]
  },
  {
   "cell_type": "code",
   "execution_count": 89,
   "metadata": {},
   "outputs": [
    {
     "name": "stdout",
     "output_type": "stream",
     "text": [
      "3.141592653589793\n",
      "2.7.1\n",
      "83\n",
      "2020-03-31\n",
      "a0c7c23c9cec0d0ffcba012279cd652d28ad5bf3\n",
      "ruby - Copyright (C) 1993-2020 Yukihiro Matsumoto\n"
     ]
    }
   ],
   "source": [
    "# Ruby predefined constants (examples)\n",
    "puts Math::PI\n",
    "puts RUBY_VERSION\n",
    "puts RUBY_PATCHLEVEL\n",
    "puts RUBY_RELEASE_DATE\n",
    "puts RUBY_REVISION\n",
    "puts RUBY_COPYRIGHT"
   ]
  },
  {
   "cell_type": "code",
   "execution_count": 90,
   "metadata": {},
   "outputs": [
    {
     "name": "stderr",
     "output_type": "stream",
     "text": [
      "(pry):609: warning: already initialized constant A\n",
      "(pry):609: warning: previous definition of A was here\n"
     ]
    },
    {
     "data": {
      "text/plain": [
       "2"
      ]
     },
     "execution_count": 90,
     "metadata": {},
     "output_type": "execute_result"
    }
   ],
   "source": [
    "# reassignment vs modifying (3.7.2)\n",
    "A = 1; A = 2"
   ]
  },
  {
   "cell_type": "code",
   "execution_count": 91,
   "metadata": {},
   "outputs": [
    {
     "name": "stdout",
     "output_type": "stream",
     "text": [
      "[\"premium\", \"midrange\", \"cheap\", \"extra\"]\n"
     ]
    }
   ],
   "source": [
    "Ticket::SEATING << \"extra\"\n",
    "puts Ticket::SEATING"
   ]
  },
  {
   "cell_type": "markdown",
   "metadata": {},
   "source": [
    "#### Nature vs nurture"
   ]
  },
  {
   "cell_type": "code",
   "execution_count": 92,
   "metadata": {},
   "outputs": [
    {
     "name": "stdout",
     "output_type": "stream",
     "text": [
      "true\n",
      "true\n"
     ]
    }
   ],
   "source": [
    "mag = Magazine.new\n",
    "puts mag.is_a?(Magazine)\n",
    "puts mag.is_a?(Publication)"
   ]
  }
 ],
 "metadata": {
  "kernelspec": {
   "display_name": "Ruby 2.7.1",
   "language": "ruby",
   "name": "ruby"
  },
  "language_info": {
   "file_extension": ".rb",
   "mimetype": "application/x-ruby",
   "name": "ruby",
   "version": "2.7.1"
  }
 },
 "nbformat": 4,
 "nbformat_minor": 4
}
